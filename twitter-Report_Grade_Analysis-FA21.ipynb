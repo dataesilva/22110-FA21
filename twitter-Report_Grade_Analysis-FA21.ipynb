{
 "cells": [
  {
   "attachments": {},
   "cell_type": "markdown",
   "metadata": {},
   "source": [
    "## Twitter Report grade analysis\n",
    "Having graded all the submissions for the Twitter Report assignment, I have a few questions.\n",
    "1. How did the class do on this second assignment?\n",
    "2. Are there any concerns about the class performance?\n",
    "3. Is some action needed (like an assignment correction)?\n",
    "4. How does the scores for this assignment compare to the scores on the \"likes\" Report?\n",
    "\n",
    "For this analysis, the assignment scores were downloaded from Canvas. The student information was stripped from the data using Excel. In addition, the scores were randomized in Excel after downloading the data. This means that the normally-alphabetical data now has no association with student names or ID number.\n",
    "\n",
    "### Analysis Plan\n",
    "To analyze the data, the assignment scores will be loaded into the working environment and converted to a two-column DataFrame object. The univariate distribution will be assessed by plotting histograms. Outliers will be assessed and descriptive statistics (mean, median, standard deviation) will be calculated before and after any outliers are removed. In addition, a probability plot will show how well the grades match a normal distribution."
   ]
  },
  {
   "cell_type": "markdown",
   "metadata": {},
   "source": [
    "### Setting up the Environment\n",
    "The following libraries will be used:\n",
    "- scipy.stats\n",
    "- pandas\n",
    "- matplotlib.pyplot"
   ]
  },
  {
   "cell_type": "code",
   "execution_count": 1,
   "metadata": {},
   "outputs": [],
   "source": [
    "from scipy import stats\n",
    "import pandas as pd\n",
    "from matplotlib import pyplot as plt"
   ]
  },
  {
   "cell_type": "markdown",
   "metadata": {},
   "source": [
    "The grade data was exported as a CSV from Canvas. The pandas library provides the `read_csv()` function to load CSV data as a DataFrame."
   ]
  },
  {
   "cell_type": "code",
   "execution_count": 2,
   "metadata": {},
   "outputs": [
    {
     "name": "stdout",
     "output_type": "stream",
     "text": [
      "17\n"
     ]
    },
    {
     "data": {
      "text/html": [
       "<div>\n",
       "<style scoped>\n",
       "    .dataframe tbody tr th:only-of-type {\n",
       "        vertical-align: middle;\n",
       "    }\n",
       "\n",
       "    .dataframe tbody tr th {\n",
       "        vertical-align: top;\n",
       "    }\n",
       "\n",
       "    .dataframe thead th {\n",
       "        text-align: right;\n",
       "    }\n",
       "</style>\n",
       "<table border=\"1\" class=\"dataframe\">\n",
       "  <thead>\n",
       "    <tr style=\"text-align: right;\">\n",
       "      <th></th>\n",
       "      <th>likes</th>\n",
       "      <th>twitter</th>\n",
       "    </tr>\n",
       "  </thead>\n",
       "  <tbody>\n",
       "    <tr>\n",
       "      <th>0</th>\n",
       "      <td>109.5</td>\n",
       "      <td>118.5</td>\n",
       "    </tr>\n",
       "    <tr>\n",
       "      <th>1</th>\n",
       "      <td>150.0</td>\n",
       "      <td>144.0</td>\n",
       "    </tr>\n",
       "    <tr>\n",
       "      <th>2</th>\n",
       "      <td>150.0</td>\n",
       "      <td>132.0</td>\n",
       "    </tr>\n",
       "    <tr>\n",
       "      <th>3</th>\n",
       "      <td>140.0</td>\n",
       "      <td>120.5</td>\n",
       "    </tr>\n",
       "    <tr>\n",
       "      <th>4</th>\n",
       "      <td>127.5</td>\n",
       "      <td>97.0</td>\n",
       "    </tr>\n",
       "  </tbody>\n",
       "</table>\n",
       "</div>"
      ],
      "text/plain": [
       "   likes  twitter\n",
       "0  109.5    118.5\n",
       "1  150.0    144.0\n",
       "2  150.0    132.0\n",
       "3  140.0    120.5\n",
       "4  127.5     97.0"
      ]
     },
     "execution_count": 2,
     "metadata": {},
     "output_type": "execute_result"
    }
   ],
   "source": [
    "filepath = r'C:\\Users\\dsilva2\\EMAT22110_Office\\likes_twitter_grades_anony.csv'\n",
    "grades = pd.read_csv(filepath, header = 0)\n",
    "print(len(grades))\n",
    "grades.head()"
   ]
  },
  {
   "cell_type": "markdown",
   "metadata": {},
   "source": [
    "### Univariate Distribution\n",
    "The distribution of the grades is plotted using pyplot's `hist()` function."
   ]
  },
  {
   "cell_type": "code",
   "execution_count": 3,
   "metadata": {},
   "outputs": [
    {
     "data": {
      "image/png": "[encoded data removed]",
      "text/plain": [
       "<Figure size 864x504 with 2 Axes>"
      ]
     },
     "metadata": {
      "needs_background": "light"
     },
     "output_type": "display_data"
    }
   ],
   "source": [
    "fig1, ax1 = plt.subplots(1, 2, figsize = (12, 7))\n",
    "ax1[0].hist(grades['likes'])\n",
    "ax1[0].set_title('\"likes\" Report Grade Distribution')\n",
    "ax1[1].hist(grades['twitter'])\n",
    "ax1[1].set_title('Twitter Report Grade Distribution')\n",
    "plt.show()"
   ]
  },
  {
   "cell_type": "markdown",
   "metadata": {},
   "source": [
    "The maximum points possible for both assignments was 150 points. These plots show reasonable data ranges and no obvious outliers."
   ]
  },
  {
   "cell_type": "markdown",
   "metadata": {},
   "source": [
    "### Descriptive Statistics\n",
    "From scipy.stats, the `describe()` function provides the mean, standard deviation, minimum and maximum values, and measures of normality.<br> `describe()` returns a DescribeResult object, from which we can call the specific stats of interest."
   ]
  },
  {
   "cell_type": "markdown",
   "metadata": {},
   "source": [
    "#### Description of the full data\n",
    "The number of observations is:"
   ]
  },
  {
   "cell_type": "code",
   "execution_count": 4,
   "metadata": {},
   "outputs": [
    {
     "data": {
      "text/plain": [
       "17"
      ]
     },
     "execution_count": 4,
     "metadata": {},
     "output_type": "execute_result"
    }
   ],
   "source": [
    "stats.describe(grades['twitter']).nobs"
   ]
  },
  {
   "cell_type": "markdown",
   "metadata": {},
   "source": [
    "The mean is:"
   ]
  },
  {
   "cell_type": "code",
   "execution_count": 5,
   "metadata": {},
   "outputs": [
    {
     "data": {
      "text/plain": [
       "134.55882352941177"
      ]
     },
     "execution_count": 5,
     "metadata": {},
     "output_type": "execute_result"
    }
   ],
   "source": [
    "stats.describe(grades['twitter']).mean"
   ]
  },
  {
   "cell_type": "markdown",
   "metadata": {},
   "source": [
    "The variance is:"
   ]
  },
  {
   "cell_type": "code",
   "execution_count": 6,
   "metadata": {},
   "outputs": [
    {
     "data": {
      "text/plain": [
       "189.52757352941174"
      ]
     },
     "execution_count": 6,
     "metadata": {},
     "output_type": "execute_result"
    }
   ],
   "source": [
    "stats.describe(grades['twitter']).variance"
   ]
  },
  {
   "cell_type": "markdown",
   "metadata": {},
   "source": [
    "The minimum and maximum values are:"
   ]
  },
  {
   "cell_type": "code",
   "execution_count": 7,
   "metadata": {},
   "outputs": [
    {
     "data": {
      "text/plain": [
       "(97.0, 150.0)"
      ]
     },
     "execution_count": 7,
     "metadata": {},
     "output_type": "execute_result"
    }
   ],
   "source": [
    "stats.describe(grades['twitter']).minmax"
   ]
  },
  {
   "cell_type": "markdown",
   "metadata": {},
   "source": [
    "The mode is:"
   ]
  },
  {
   "cell_type": "code",
   "execution_count": 8,
   "metadata": {},
   "outputs": [
    {
     "data": {
      "text/plain": [
       "150.0"
      ]
     },
     "execution_count": 8,
     "metadata": {},
     "output_type": "execute_result"
    }
   ],
   "source": [
    "stats.mode(grades['twitter']).mode[0]"
   ]
  },
  {
   "cell_type": "markdown",
   "metadata": {},
   "source": [
    "The quantile ranges are:"
   ]
  },
  {
   "cell_type": "code",
   "execution_count": 9,
   "metadata": {},
   "outputs": [
    {
     "data": {
      "image/png": "[encoded data removed]",
      "text/plain": [
       "<Figure size 432x288 with 1 Axes>"
      ]
     },
     "metadata": {
      "needs_background": "light"
     },
     "output_type": "display_data"
    }
   ],
   "source": [
    "ax2 = plt.subplot()\n",
    "res = stats.probplot(grades['twitter'], plot = plt)\n",
    "plt.show()"
   ]
  },
  {
   "cell_type": "markdown",
   "metadata": {},
   "source": [
    "### Comparisons between \"likes\" Report and Twitter Report\n",
    "We are going to look at the distributions of the two scores to see whether the class, on average, did better or worse on this assignment compared to the first assignment.\n",
    "\n",
    "Theoretically, this assignment requires the use of APIs, which is a more difficult task than was required in the first assignment. However, the class should have a higher level of skill after more weeks working with Python and data. I think the greater level of experience is going to result in higher scores on the Twitter assignment by 5%."
   ]
  },
  {
   "cell_type": "code",
   "execution_count": 10,
   "metadata": {},
   "outputs": [],
   "source": [
    "import numpy as np"
   ]
  },
  {
   "cell_type": "code",
   "execution_count": 11,
   "metadata": {},
   "outputs": [
    {
     "data": {
      "image/png": "[encoded data removed]",
      "text/plain": [
       "<Figure size 576x576 with 1 Axes>"
      ]
     },
     "metadata": {
      "needs_background": "light"
     },
     "output_type": "display_data"
    }
   ],
   "source": [
    "fig2, ax2 = plt.subplots(1, 1, figsize = (8, 8))\n",
    "\n",
    "n_rows = len(grades.index)\n",
    "\n",
    "l_offset = np.random.randn(n_rows) * .002\n",
    "t_offset = np.random.randn(n_rows) * .002\n",
    "l_x = [-.02] * n_rows\n",
    "t_x = [.02] * n_rows\n",
    "l_jitter = l_x + l_offset\n",
    "t_jitter = t_x + t_offset\n",
    "\n",
    "ax2.scatter(l_jitter, grades['likes'], alpha = .5)\n",
    "ax2.scatter(t_jitter, grades['twitter'], alpha = .5)\n",
    "ax2.set_xlim(-.05, .05)\n",
    "\n",
    "ax2.set_xticks([-.02, .02])\n",
    "ax2.set_xticklabels(['Likes Report', \"Twitter Report\"])\n",
    "ax2.set_ylabel(\"Scores\")\n",
    "plt.show()"
   ]
  },
  {
   "cell_type": "markdown",
   "metadata": {},
   "source": [
    "From this visual, it looks like there is little, if any difference between the scores between the two assignment. However, before relying on a t-test, we are going to check to see if the data for each assignment are distributed normally."
   ]
  },
  {
   "cell_type": "code",
   "execution_count": 12,
   "metadata": {},
   "outputs": [
    {
     "data": {
      "text/plain": [
       "ShapiroResult(statistic=0.7940912842750549, pvalue=0.001685368362814188)"
      ]
     },
     "execution_count": 12,
     "metadata": {},
     "output_type": "execute_result"
    }
   ],
   "source": [
    "stats.shapiro(grades['likes'])"
   ]
  },
  {
   "cell_type": "code",
   "execution_count": 13,
   "metadata": {},
   "outputs": [
    {
     "data": {
      "text/plain": [
       "ShapiroResult(statistic=0.8970282077789307, pvalue=0.06059015169739723)"
      ]
     },
     "execution_count": 13,
     "metadata": {},
     "output_type": "execute_result"
    }
   ],
   "source": [
    "stats.shapiro(grades['twitter'])"
   ]
  },
  {
   "cell_type": "markdown",
   "metadata": {},
   "source": [
    "Both of these results show strong evidence that the data are not distributed normally. Meaning a t-test may be inappropriate. Instead of a t-test, we are going to use what is called a \"non-parametric\" test. The Wilcoxon test converts the raw data to rank-order data and then compares the paired value ranks."
   ]
  },
  {
   "cell_type": "code",
   "execution_count": 14,
   "metadata": {},
   "outputs": [
    {
     "data": {
      "text/plain": [
       "WilcoxonResult(statistic=43.0, pvalue=0.3333003029059074)"
      ]
     },
     "execution_count": 14,
     "metadata": {},
     "output_type": "execute_result"
    }
   ],
   "source": [
    "stats.wilcoxon(grades['likes'], grades['twitter'], mode = \"approx\")"
   ]
  },
  {
   "cell_type": "markdown",
   "metadata": {},
   "source": [
    "### Conclusions\n",
    "The visualization of the data and the Wilcox test both support the conclusion that there is no significant difference in scores between the two assignments. This goes against my hypothesis, but I am encouraged that at leas the class didn't do worse. Given that the average grade was 134 points out of 150, which is an 89%, I think this shows that the class, on the whole, is doing well on these assignments.<br> As I generally aim for a B average, this assignment may be too easy. A slightly more difficult assignment may better show which students are really excelling in the material."
   ]
  },
  {
   "cell_type": "markdown",
   "metadata": {},
   "source": [
    "__A final note__: I changed the Twitter Report significantly from last semester from feedback I received from students. The assignment last semester also included elements of natural language processing, which proved difficult for many students. Although I cannot directly compare the scores between semesters as the assignments are so different, this adjustment suggests I met my goal of making it easier for students to succeed on this assignment. "
   ]
  }
 ],
 "metadata": {
  "kernelspec": {
   "display_name": "Python 3 (ipykernel)",
   "language": "python",
   "name": "python3"
  },
  "language_info": {
   "codemirror_mode": {
    "name": "ipython",
    "version": 3
   },
   "file_extension": ".py",
   "mimetype": "text/x-python",
   "name": "python",
   "nbconvert_exporter": "python",
   "pygments_lexer": "ipython3",
   "version": "3.9.6"
  }
 },
 "nbformat": 4,
 "nbformat_minor": 4
}
