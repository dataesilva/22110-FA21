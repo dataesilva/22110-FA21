{
 "cells": [
  {
   "cell_type": "markdown",
   "id": "9df55a95",
   "metadata": {},
   "source": [
    "# Heading\n",
    "This\n",
    "\n",
    "#### Heading 4\n",
    "\n",
    "_italics_\n",
    "\n",
    "***italics***\n",
    "\n",
    "**bold**\n",
    "\n",
    "1. thing\n",
    "2. thing\n",
    "- thing\n",
    "\n",
    "![name](http://ridermagazine.com/wp-content/uploads/2017/05/Nighthawk.jpg)\n",
    "\n",
    "\n",
    " [text](http://ridermagazine.com/wp-content/uploads/2017/05/Nighthawk.jpg)"
   ]
  },
  {
   "cell_type": "code",
   "execution_count": 3,
   "id": "8ff028c7",
   "metadata": {},
   "outputs": [],
   "source": [
    "myVAriable = 3 + 4\n",
    "\n",
    "\n",
    "#Comments"
   ]
  },
  {
   "cell_type": "code",
   "execution_count": 4,
   "id": "f7d2280b",
   "metadata": {},
   "outputs": [
    {
     "data": {
      "text/plain": [
       "7"
      ]
     },
     "execution_count": 4,
     "metadata": {},
     "output_type": "execute_result"
    }
   ],
   "source": [
    "myVAriable"
   ]
  },
  {
   "cell_type": "code",
   "execution_count": 5,
   "id": "6927b031",
   "metadata": {},
   "outputs": [
    {
     "name": "stdout",
     "output_type": "stream",
     "text": [
      "2\n",
      "3\n",
      "4\n",
      "5\n",
      "6\n"
     ]
    }
   ],
   "source": [
    "x = [0,1,2,3,4]\n",
    "\n",
    "for i in x:\n",
    "    z = i + 2\n",
    "    print(z)"
   ]
  },
  {
   "cell_type": "code",
   "execution_count": 13,
   "id": "05939711",
   "metadata": {},
   "outputs": [
    {
     "name": "stdout",
     "output_type": "stream",
     "text": [
      "silly cat\n",
      "silly parrot\n"
     ]
    }
   ],
   "source": [
    "def sillything(x):\n",
    "    return \"silly \" + x\n",
    "\n",
    "print(sillything(\"cat\"))\n",
    "\n",
    "k = sillything(\"parrot\")\n",
    "print(k)"
   ]
  },
  {
   "cell_type": "code",
   "execution_count": 8,
   "id": "3823bd55",
   "metadata": {},
   "outputs": [
    {
     "data": {
      "text/plain": [
       "'silly hi'"
      ]
     },
     "execution_count": 8,
     "metadata": {},
     "output_type": "execute_result"
    }
   ],
   "source": [
    "sillything(\"hi\")"
   ]
  },
  {
   "cell_type": "code",
   "execution_count": 9,
   "id": "c322dcb9",
   "metadata": {},
   "outputs": [],
   "source": [
    "j = sillything(\"dog\")"
   ]
  },
  {
   "cell_type": "code",
   "execution_count": 10,
   "id": "13f1b85d",
   "metadata": {},
   "outputs": [
    {
     "data": {
      "text/plain": [
       "'silly dog'"
      ]
     },
     "execution_count": 10,
     "metadata": {},
     "output_type": "execute_result"
    }
   ],
   "source": [
    "j"
   ]
  },
  {
   "cell_type": "code",
   "execution_count": 14,
   "id": "7b2ea727",
   "metadata": {},
   "outputs": [
    {
     "ename": "TypeError",
     "evalue": "can only concatenate str (not \"int\") to str",
     "output_type": "error",
     "traceback": [
      "\u001b[1;31m---------------------------------------------------------------------------\u001b[0m",
      "\u001b[1;31mTypeError\u001b[0m                                 Traceback (most recent call last)",
      "\u001b[1;32m~\\AppData\\Local\\Temp/ipykernel_10344/2470064127.py\u001b[0m in \u001b[0;36m<module>\u001b[1;34m\u001b[0m\n\u001b[1;32m----> 1\u001b[1;33m \u001b[0msillything\u001b[0m\u001b[1;33m(\u001b[0m\u001b[1;36m4\u001b[0m\u001b[1;33m)\u001b[0m\u001b[1;33m\u001b[0m\u001b[1;33m\u001b[0m\u001b[0m\n\u001b[0m",
      "\u001b[1;32m~\\AppData\\Local\\Temp/ipykernel_10344/2359584228.py\u001b[0m in \u001b[0;36msillything\u001b[1;34m(x)\u001b[0m\n\u001b[0;32m      1\u001b[0m \u001b[1;32mdef\u001b[0m \u001b[0msillything\u001b[0m\u001b[1;33m(\u001b[0m\u001b[0mx\u001b[0m\u001b[1;33m)\u001b[0m\u001b[1;33m:\u001b[0m\u001b[1;33m\u001b[0m\u001b[1;33m\u001b[0m\u001b[0m\n\u001b[1;32m----> 2\u001b[1;33m     \u001b[1;32mreturn\u001b[0m \u001b[1;34m\"silly \"\u001b[0m \u001b[1;33m+\u001b[0m \u001b[0mx\u001b[0m\u001b[1;33m\u001b[0m\u001b[1;33m\u001b[0m\u001b[0m\n\u001b[0m\u001b[0;32m      3\u001b[0m \u001b[1;33m\u001b[0m\u001b[0m\n\u001b[0;32m      4\u001b[0m \u001b[0mprint\u001b[0m\u001b[1;33m(\u001b[0m\u001b[0msillything\u001b[0m\u001b[1;33m(\u001b[0m\u001b[1;34m\"cat\"\u001b[0m\u001b[1;33m)\u001b[0m\u001b[1;33m)\u001b[0m\u001b[1;33m\u001b[0m\u001b[1;33m\u001b[0m\u001b[0m\n\u001b[0;32m      5\u001b[0m \u001b[1;33m\u001b[0m\u001b[0m\n",
      "\u001b[1;31mTypeError\u001b[0m: can only concatenate str (not \"int\") to str"
     ]
    }
   ],
   "source": [
    "sillything(4)"
   ]
  },
  {
   "cell_type": "markdown",
   "id": "7a4fbf0b",
   "metadata": {},
   "source": [
    "# Headers\n",
    "\n",
    "\n",
    "\n",
    "\n",
    "sadf lkjlk asdf thing"
   ]
  },
  {
   "cell_type": "code",
   "execution_count": null,
   "id": "03a4af09",
   "metadata": {},
   "outputs": [],
   "source": []
  }
 ],
 "metadata": {
  "kernelspec": {
   "display_name": "Python 3 (ipykernel)",
   "language": "python",
   "name": "python3"
  },
  "language_info": {
   "codemirror_mode": {
    "name": "ipython",
    "version": 3
   },
   "file_extension": ".py",
   "mimetype": "text/x-python",
   "name": "python",
   "nbconvert_exporter": "python",
   "pygments_lexer": "ipython3",
   "version": "3.9.6"
  }
 },
 "nbformat": 4,
 "nbformat_minor": 5
}
