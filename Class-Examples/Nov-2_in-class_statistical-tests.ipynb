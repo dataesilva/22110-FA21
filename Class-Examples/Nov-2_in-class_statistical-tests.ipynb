{
 "cells": [
  {
   "cell_type": "code",
   "execution_count": 13,
   "id": "26503826",
   "metadata": {},
   "outputs": [],
   "source": [
    "import pandas as pd\n",
    "from matplotlib import pyplot as plt\n",
    "from scipy import stats"
   ]
  },
  {
   "cell_type": "code",
   "execution_count": null,
   "id": "339a5122",
   "metadata": {},
   "outputs": [],
   "source": [
    "ls"
   ]
  },
  {
   "cell_type": "code",
   "execution_count": 4,
   "id": "6a3efc5a",
   "metadata": {},
   "outputs": [],
   "source": [
    "montero_track_data = pd.read_csv('Montero_Track_Data.csv')\n",
    "equal_track_data = pd.read_csv('Equal_Track_Data.csv')\n",
    "montero_audio_features = pd.read_csv('Montero_Audio_Features.csv')\n",
    "equal_audio_features = pd.read_csv('Equal_Audio_Features.csv')"
   ]
  },
  {
   "cell_type": "code",
   "execution_count": 6,
   "id": "67d9fc21",
   "metadata": {},
   "outputs": [
    {
     "data": {
      "text/html": [
       "<div>\n",
       "<style scoped>\n",
       "    .dataframe tbody tr th:only-of-type {\n",
       "        vertical-align: middle;\n",
       "    }\n",
       "\n",
       "    .dataframe tbody tr th {\n",
       "        vertical-align: top;\n",
       "    }\n",
       "\n",
       "    .dataframe thead th {\n",
       "        text-align: right;\n",
       "    }\n",
       "</style>\n",
       "<table border=\"1\" class=\"dataframe\">\n",
       "  <thead>\n",
       "    <tr style=\"text-align: right;\">\n",
       "      <th></th>\n",
       "      <th>Unnamed: 0</th>\n",
       "      <th>album</th>\n",
       "      <th>artists</th>\n",
       "      <th>available_markets</th>\n",
       "      <th>disc_number</th>\n",
       "      <th>duration_ms</th>\n",
       "      <th>explicit</th>\n",
       "      <th>external_ids</th>\n",
       "      <th>external_urls</th>\n",
       "      <th>href</th>\n",
       "      <th>id</th>\n",
       "      <th>is_local</th>\n",
       "      <th>name</th>\n",
       "      <th>popularity</th>\n",
       "      <th>preview_url</th>\n",
       "      <th>track_number</th>\n",
       "      <th>type</th>\n",
       "      <th>uri</th>\n",
       "    </tr>\n",
       "  </thead>\n",
       "  <tbody>\n",
       "    <tr>\n",
       "      <th>0</th>\n",
       "      <td>0</td>\n",
       "      <td>{'album_type': 'album', 'artists': [{'external...</td>\n",
       "      <td>[{'external_urls': {'spotify': 'https://open.s...</td>\n",
       "      <td>['AD', 'AE', 'AG', 'AL', 'AM', 'AO', 'AR', 'AT...</td>\n",
       "      <td>1</td>\n",
       "      <td>137704</td>\n",
       "      <td>True</td>\n",
       "      <td>{'isrc': 'USSM12100531'}</td>\n",
       "      <td>{'spotify': 'https://open.spotify.com/track/1S...</td>\n",
       "      <td>https://api.spotify.com/v1/tracks/1SC5rEoYDGUK...</td>\n",
       "      <td>1SC5rEoYDGUK4NfG82494W</td>\n",
       "      <td>False</td>\n",
       "      <td>MONTERO (Call Me By Your Name)</td>\n",
       "      <td>91</td>\n",
       "      <td>https://p.scdn.co/mp3-preview/a6e05149543aaa36...</td>\n",
       "      <td>1</td>\n",
       "      <td>track</td>\n",
       "      <td>spotify:track:1SC5rEoYDGUK4NfG82494W</td>\n",
       "    </tr>\n",
       "    <tr>\n",
       "      <th>1</th>\n",
       "      <td>1</td>\n",
       "      <td>{'album_type': 'album', 'artists': [{'external...</td>\n",
       "      <td>[{'external_urls': {'spotify': 'https://open.s...</td>\n",
       "      <td>['AD', 'AE', 'AG', 'AL', 'AM', 'AO', 'AR', 'AT...</td>\n",
       "      <td>1</td>\n",
       "      <td>221203</td>\n",
       "      <td>True</td>\n",
       "      <td>{'isrc': 'USSM12105731'}</td>\n",
       "      <td>{'spotify': 'https://open.spotify.com/track/3g...</td>\n",
       "      <td>https://api.spotify.com/v1/tracks/3grVoZ10bm2j...</td>\n",
       "      <td>3grVoZ10bm2jUGpo7BxpuF</td>\n",
       "      <td>False</td>\n",
       "      <td>DEAD RIGHT NOW</td>\n",
       "      <td>79</td>\n",
       "      <td>https://p.scdn.co/mp3-preview/5183150db97cee38...</td>\n",
       "      <td>2</td>\n",
       "      <td>track</td>\n",
       "      <td>spotify:track:3grVoZ10bm2jUGpo7BxpuF</td>\n",
       "    </tr>\n",
       "    <tr>\n",
       "      <th>2</th>\n",
       "      <td>2</td>\n",
       "      <td>{'album_type': 'album', 'artists': [{'external...</td>\n",
       "      <td>[{'external_urls': {'spotify': 'https://open.s...</td>\n",
       "      <td>['AD', 'AE', 'AG', 'AL', 'AM', 'AO', 'AR', 'AT...</td>\n",
       "      <td>1</td>\n",
       "      <td>212352</td>\n",
       "      <td>True</td>\n",
       "      <td>{'isrc': 'USSM12104539'}</td>\n",
       "      <td>{'spotify': 'https://open.spotify.com/track/5Z...</td>\n",
       "      <td>https://api.spotify.com/v1/tracks/5Z9KJZvQzH6P...</td>\n",
       "      <td>5Z9KJZvQzH6PFmb8SNkxuk</td>\n",
       "      <td>False</td>\n",
       "      <td>INDUSTRY BABY (feat. Jack Harlow)</td>\n",
       "      <td>91</td>\n",
       "      <td>https://p.scdn.co/mp3-preview/c1cb40d748692992...</td>\n",
       "      <td>3</td>\n",
       "      <td>track</td>\n",
       "      <td>spotify:track:5Z9KJZvQzH6PFmb8SNkxuk</td>\n",
       "    </tr>\n",
       "    <tr>\n",
       "      <th>3</th>\n",
       "      <td>3</td>\n",
       "      <td>{'album_type': 'album', 'artists': [{'external...</td>\n",
       "      <td>[{'external_urls': {'spotify': 'https://open.s...</td>\n",
       "      <td>['AD', 'AE', 'AG', 'AL', 'AM', 'AO', 'AR', 'AT...</td>\n",
       "      <td>1</td>\n",
       "      <td>143901</td>\n",
       "      <td>True</td>\n",
       "      <td>{'isrc': 'USSM12105732'}</td>\n",
       "      <td>{'spotify': 'https://open.spotify.com/track/0e...</td>\n",
       "      <td>https://api.spotify.com/v1/tracks/0e8nrvls4Qqv...</td>\n",
       "      <td>0e8nrvls4Qqv5Rfa2UhqmO</td>\n",
       "      <td>False</td>\n",
       "      <td>THATS WHAT I WANT</td>\n",
       "      <td>95</td>\n",
       "      <td>https://p.scdn.co/mp3-preview/75aa4d781c96fe99...</td>\n",
       "      <td>4</td>\n",
       "      <td>track</td>\n",
       "      <td>spotify:track:0e8nrvls4Qqv5Rfa2UhqmO</td>\n",
       "    </tr>\n",
       "    <tr>\n",
       "      <th>4</th>\n",
       "      <td>4</td>\n",
       "      <td>{'album_type': 'album', 'artists': [{'external...</td>\n",
       "      <td>[{'external_urls': {'spotify': 'https://open.s...</td>\n",
       "      <td>['AD', 'AE', 'AG', 'AL', 'AM', 'AO', 'AR', 'AT...</td>\n",
       "      <td>1</td>\n",
       "      <td>24005</td>\n",
       "      <td>False</td>\n",
       "      <td>{'isrc': 'USSM12105733'}</td>\n",
       "      <td>{'spotify': 'https://open.spotify.com/track/1B...</td>\n",
       "      <td>https://api.spotify.com/v1/tracks/1BMu5TWvalAG...</td>\n",
       "      <td>1BMu5TWvalAGpi5jlhFEBb</td>\n",
       "      <td>False</td>\n",
       "      <td>THE ART OF REALIZATION</td>\n",
       "      <td>28</td>\n",
       "      <td>https://p.scdn.co/mp3-preview/e86b2ac42600eea6...</td>\n",
       "      <td>5</td>\n",
       "      <td>track</td>\n",
       "      <td>spotify:track:1BMu5TWvalAGpi5jlhFEBb</td>\n",
       "    </tr>\n",
       "  </tbody>\n",
       "</table>\n",
       "</div>"
      ],
      "text/plain": [
       "   Unnamed: 0                                              album  \\\n",
       "0           0  {'album_type': 'album', 'artists': [{'external...   \n",
       "1           1  {'album_type': 'album', 'artists': [{'external...   \n",
       "2           2  {'album_type': 'album', 'artists': [{'external...   \n",
       "3           3  {'album_type': 'album', 'artists': [{'external...   \n",
       "4           4  {'album_type': 'album', 'artists': [{'external...   \n",
       "\n",
       "                                             artists  \\\n",
       "0  [{'external_urls': {'spotify': 'https://open.s...   \n",
       "1  [{'external_urls': {'spotify': 'https://open.s...   \n",
       "2  [{'external_urls': {'spotify': 'https://open.s...   \n",
       "3  [{'external_urls': {'spotify': 'https://open.s...   \n",
       "4  [{'external_urls': {'spotify': 'https://open.s...   \n",
       "\n",
       "                                   available_markets  disc_number  \\\n",
       "0  ['AD', 'AE', 'AG', 'AL', 'AM', 'AO', 'AR', 'AT...            1   \n",
       "1  ['AD', 'AE', 'AG', 'AL', 'AM', 'AO', 'AR', 'AT...            1   \n",
       "2  ['AD', 'AE', 'AG', 'AL', 'AM', 'AO', 'AR', 'AT...            1   \n",
       "3  ['AD', 'AE', 'AG', 'AL', 'AM', 'AO', 'AR', 'AT...            1   \n",
       "4  ['AD', 'AE', 'AG', 'AL', 'AM', 'AO', 'AR', 'AT...            1   \n",
       "\n",
       "   duration_ms  explicit              external_ids  \\\n",
       "0       137704      True  {'isrc': 'USSM12100531'}   \n",
       "1       221203      True  {'isrc': 'USSM12105731'}   \n",
       "2       212352      True  {'isrc': 'USSM12104539'}   \n",
       "3       143901      True  {'isrc': 'USSM12105732'}   \n",
       "4        24005     False  {'isrc': 'USSM12105733'}   \n",
       "\n",
       "                                       external_urls  \\\n",
       "0  {'spotify': 'https://open.spotify.com/track/1S...   \n",
       "1  {'spotify': 'https://open.spotify.com/track/3g...   \n",
       "2  {'spotify': 'https://open.spotify.com/track/5Z...   \n",
       "3  {'spotify': 'https://open.spotify.com/track/0e...   \n",
       "4  {'spotify': 'https://open.spotify.com/track/1B...   \n",
       "\n",
       "                                                href                      id  \\\n",
       "0  https://api.spotify.com/v1/tracks/1SC5rEoYDGUK...  1SC5rEoYDGUK4NfG82494W   \n",
       "1  https://api.spotify.com/v1/tracks/3grVoZ10bm2j...  3grVoZ10bm2jUGpo7BxpuF   \n",
       "2  https://api.spotify.com/v1/tracks/5Z9KJZvQzH6P...  5Z9KJZvQzH6PFmb8SNkxuk   \n",
       "3  https://api.spotify.com/v1/tracks/0e8nrvls4Qqv...  0e8nrvls4Qqv5Rfa2UhqmO   \n",
       "4  https://api.spotify.com/v1/tracks/1BMu5TWvalAG...  1BMu5TWvalAGpi5jlhFEBb   \n",
       "\n",
       "   is_local                               name  popularity  \\\n",
       "0     False     MONTERO (Call Me By Your Name)          91   \n",
       "1     False                     DEAD RIGHT NOW          79   \n",
       "2     False  INDUSTRY BABY (feat. Jack Harlow)          91   \n",
       "3     False                  THATS WHAT I WANT          95   \n",
       "4     False             THE ART OF REALIZATION          28   \n",
       "\n",
       "                                         preview_url  track_number   type  \\\n",
       "0  https://p.scdn.co/mp3-preview/a6e05149543aaa36...             1  track   \n",
       "1  https://p.scdn.co/mp3-preview/5183150db97cee38...             2  track   \n",
       "2  https://p.scdn.co/mp3-preview/c1cb40d748692992...             3  track   \n",
       "3  https://p.scdn.co/mp3-preview/75aa4d781c96fe99...             4  track   \n",
       "4  https://p.scdn.co/mp3-preview/e86b2ac42600eea6...             5  track   \n",
       "\n",
       "                                    uri  \n",
       "0  spotify:track:1SC5rEoYDGUK4NfG82494W  \n",
       "1  spotify:track:3grVoZ10bm2jUGpo7BxpuF  \n",
       "2  spotify:track:5Z9KJZvQzH6PFmb8SNkxuk  \n",
       "3  spotify:track:0e8nrvls4Qqv5Rfa2UhqmO  \n",
       "4  spotify:track:1BMu5TWvalAGpi5jlhFEBb  "
      ]
     },
     "execution_count": 6,
     "metadata": {},
     "output_type": "execute_result"
    }
   ],
   "source": [
    "montero_track_data.head()"
   ]
  },
  {
   "cell_type": "code",
   "execution_count": 15,
   "id": "df8fdc17",
   "metadata": {},
   "outputs": [
    {
     "data": {
      "image/png": "[encoded data removed]",
      "text/plain": [
       "<Figure size 720x720 with 1 Axes>"
      ]
     },
     "metadata": {
      "needs_background": "light"
     },
     "output_type": "display_data"
    }
   ],
   "source": [
    "fig1, ax1 = plt.subplots(1, 1, figsize = (10, 10))\n",
    "ax1.hist(montero_track_data['duration_ms'], bins = 6, color = 'blue', alpha = .5)\n",
    "ax1.hist(equal_track_data['duration_ms'], bins = 4, color = 'red', alpha = .5)\n",
    "plt.show()"
   ]
  },
  {
   "cell_type": "code",
   "execution_count": 10,
   "id": "a5322c43",
   "metadata": {},
   "outputs": [
    {
     "data": {
      "text/plain": [
       "DescribeResult(nobs=15, minmax=(24005, 248407), mean=165178.93333333332, variance=2707009871.92381, skewness=-1.0189694374339917, kurtosis=1.8755931025911625)"
      ]
     },
     "execution_count": 10,
     "metadata": {},
     "output_type": "execute_result"
    }
   ],
   "source": [
    "stats.describe(montero_track_data['duration_ms'])"
   ]
  },
  {
   "cell_type": "code",
   "execution_count": 18,
   "id": "78539a69",
   "metadata": {},
   "outputs": [],
   "source": [
    "montero_track_length_stats = stats.describe(montero_track_data['duration_ms'])"
   ]
  },
  {
   "cell_type": "code",
   "execution_count": 19,
   "id": "e4378915",
   "metadata": {},
   "outputs": [
    {
     "data": {
      "text/plain": [
       "15"
      ]
     },
     "execution_count": 19,
     "metadata": {},
     "output_type": "execute_result"
    }
   ],
   "source": [
    "montero_track_length_stats.nobs"
   ]
  },
  {
   "cell_type": "code",
   "execution_count": 20,
   "id": "fccd5193",
   "metadata": {},
   "outputs": [
    {
     "data": {
      "text/plain": [
       "165178.93333333332"
      ]
     },
     "execution_count": 20,
     "metadata": {},
     "output_type": "execute_result"
    }
   ],
   "source": [
    "montero_track_length_stats.mean"
   ]
  },
  {
   "cell_type": "code",
   "execution_count": 21,
   "id": "24fe3f01",
   "metadata": {},
   "outputs": [
    {
     "data": {
      "text/plain": [
       "2707009871.92381"
      ]
     },
     "execution_count": 21,
     "metadata": {},
     "output_type": "execute_result"
    }
   ],
   "source": [
    "montero_track_length_stats.variance"
   ]
  },
  {
   "cell_type": "code",
   "execution_count": 22,
   "id": "0389e108",
   "metadata": {},
   "outputs": [
    {
     "data": {
      "text/plain": [
       "1.8755931025911625"
      ]
     },
     "execution_count": 22,
     "metadata": {},
     "output_type": "execute_result"
    }
   ],
   "source": [
    "montero_track_length_stats.kurtosis"
   ]
  },
  {
   "cell_type": "code",
   "execution_count": 23,
   "id": "9de461cc",
   "metadata": {},
   "outputs": [
    {
     "data": {
      "text/plain": [
       "-1.0189694374339917"
      ]
     },
     "execution_count": 23,
     "metadata": {},
     "output_type": "execute_result"
    }
   ],
   "source": [
    "montero_track_length_stats.skewness"
   ]
  },
  {
   "cell_type": "code",
   "execution_count": 24,
   "id": "bbb31c71",
   "metadata": {},
   "outputs": [
    {
     "data": {
      "text/plain": [
       "DescribeResult(nobs=14, minmax=(153626, 259333), mean=207911.0, variance=670861595.0769231, skewness=-0.054236373469113655, kurtosis=0.18679719415481877)"
      ]
     },
     "execution_count": 24,
     "metadata": {},
     "output_type": "execute_result"
    }
   ],
   "source": [
    "stats.describe(equal_track_data['duration_ms'])"
   ]
  },
  {
   "cell_type": "code",
   "execution_count": 25,
   "id": "b5075b01",
   "metadata": {},
   "outputs": [],
   "source": [
    "equal_track_length_stats = stats.describe(equal_track_data['duration_ms'])"
   ]
  },
  {
   "cell_type": "code",
   "execution_count": 26,
   "id": "fc716f22",
   "metadata": {},
   "outputs": [
    {
     "data": {
      "text/plain": [
       "42732.06666666668"
      ]
     },
     "execution_count": 26,
     "metadata": {},
     "output_type": "execute_result"
    }
   ],
   "source": [
    "equal_track_length_stats.mean - montero_track_length_stats.mean"
   ]
  },
  {
   "cell_type": "code",
   "execution_count": 27,
   "id": "dcf8faa4",
   "metadata": {},
   "outputs": [
    {
     "data": {
      "text/plain": [
       "Ttest_indResult(statistic=2.767345427154222, pvalue=0.010079713848778624)"
      ]
     },
     "execution_count": 27,
     "metadata": {},
     "output_type": "execute_result"
    }
   ],
   "source": [
    "stats.ttest_ind(equal_track_data['duration_ms'], montero_track_data['duration_ms'])"
   ]
  },
  {
   "cell_type": "code",
   "execution_count": 28,
   "id": "0ffddf76",
   "metadata": {},
   "outputs": [
    {
     "data": {
      "text/html": [
       "<div>\n",
       "<style scoped>\n",
       "    .dataframe tbody tr th:only-of-type {\n",
       "        vertical-align: middle;\n",
       "    }\n",
       "\n",
       "    .dataframe tbody tr th {\n",
       "        vertical-align: top;\n",
       "    }\n",
       "\n",
       "    .dataframe thead th {\n",
       "        text-align: right;\n",
       "    }\n",
       "</style>\n",
       "<table border=\"1\" class=\"dataframe\">\n",
       "  <thead>\n",
       "    <tr style=\"text-align: right;\">\n",
       "      <th></th>\n",
       "      <th>Unnamed: 0</th>\n",
       "      <th>danceability</th>\n",
       "      <th>energy</th>\n",
       "      <th>key</th>\n",
       "      <th>loudness</th>\n",
       "      <th>mode</th>\n",
       "      <th>speechiness</th>\n",
       "      <th>acousticness</th>\n",
       "      <th>instrumentalness</th>\n",
       "      <th>liveness</th>\n",
       "      <th>valence</th>\n",
       "      <th>tempo</th>\n",
       "      <th>type</th>\n",
       "      <th>id</th>\n",
       "      <th>uri</th>\n",
       "      <th>track_href</th>\n",
       "      <th>analysis_url</th>\n",
       "      <th>duration_ms</th>\n",
       "      <th>time_signature</th>\n",
       "    </tr>\n",
       "  </thead>\n",
       "  <tbody>\n",
       "    <tr>\n",
       "      <th>0</th>\n",
       "      <td>0</td>\n",
       "      <td>0.593</td>\n",
       "      <td>0.503</td>\n",
       "      <td>8</td>\n",
       "      <td>-6.725</td>\n",
       "      <td>0</td>\n",
       "      <td>0.2200</td>\n",
       "      <td>0.29300</td>\n",
       "      <td>0.000000</td>\n",
       "      <td>0.4050</td>\n",
       "      <td>0.710</td>\n",
       "      <td>178.781</td>\n",
       "      <td>audio_features</td>\n",
       "      <td>1SC5rEoYDGUK4NfG82494W</td>\n",
       "      <td>spotify:track:1SC5rEoYDGUK4NfG82494W</td>\n",
       "      <td>https://api.spotify.com/v1/tracks/1SC5rEoYDGUK...</td>\n",
       "      <td>https://api.spotify.com/v1/audio-analysis/1SC5...</td>\n",
       "      <td>137704</td>\n",
       "      <td>4</td>\n",
       "    </tr>\n",
       "    <tr>\n",
       "      <th>1</th>\n",
       "      <td>1</td>\n",
       "      <td>0.685</td>\n",
       "      <td>0.717</td>\n",
       "      <td>0</td>\n",
       "      <td>-6.456</td>\n",
       "      <td>0</td>\n",
       "      <td>0.0411</td>\n",
       "      <td>0.10100</td>\n",
       "      <td>0.000019</td>\n",
       "      <td>0.2660</td>\n",
       "      <td>0.549</td>\n",
       "      <td>127.963</td>\n",
       "      <td>audio_features</td>\n",
       "      <td>3grVoZ10bm2jUGpo7BxpuF</td>\n",
       "      <td>spotify:track:3grVoZ10bm2jUGpo7BxpuF</td>\n",
       "      <td>https://api.spotify.com/v1/tracks/3grVoZ10bm2j...</td>\n",
       "      <td>https://api.spotify.com/v1/audio-analysis/3grV...</td>\n",
       "      <td>221203</td>\n",
       "      <td>4</td>\n",
       "    </tr>\n",
       "    <tr>\n",
       "      <th>2</th>\n",
       "      <td>2</td>\n",
       "      <td>0.741</td>\n",
       "      <td>0.691</td>\n",
       "      <td>10</td>\n",
       "      <td>-7.395</td>\n",
       "      <td>0</td>\n",
       "      <td>0.0672</td>\n",
       "      <td>0.02210</td>\n",
       "      <td>0.000000</td>\n",
       "      <td>0.0476</td>\n",
       "      <td>0.892</td>\n",
       "      <td>150.087</td>\n",
       "      <td>audio_features</td>\n",
       "      <td>5Z9KJZvQzH6PFmb8SNkxuk</td>\n",
       "      <td>spotify:track:5Z9KJZvQzH6PFmb8SNkxuk</td>\n",
       "      <td>https://api.spotify.com/v1/tracks/5Z9KJZvQzH6P...</td>\n",
       "      <td>https://api.spotify.com/v1/audio-analysis/5Z9K...</td>\n",
       "      <td>212353</td>\n",
       "      <td>4</td>\n",
       "    </tr>\n",
       "    <tr>\n",
       "      <th>3</th>\n",
       "      <td>3</td>\n",
       "      <td>0.737</td>\n",
       "      <td>0.846</td>\n",
       "      <td>1</td>\n",
       "      <td>-4.510</td>\n",
       "      <td>0</td>\n",
       "      <td>0.2200</td>\n",
       "      <td>0.00614</td>\n",
       "      <td>0.000000</td>\n",
       "      <td>0.0486</td>\n",
       "      <td>0.546</td>\n",
       "      <td>87.981</td>\n",
       "      <td>audio_features</td>\n",
       "      <td>0e8nrvls4Qqv5Rfa2UhqmO</td>\n",
       "      <td>spotify:track:0e8nrvls4Qqv5Rfa2UhqmO</td>\n",
       "      <td>https://api.spotify.com/v1/tracks/0e8nrvls4Qqv...</td>\n",
       "      <td>https://api.spotify.com/v1/audio-analysis/0e8n...</td>\n",
       "      <td>143901</td>\n",
       "      <td>4</td>\n",
       "    </tr>\n",
       "    <tr>\n",
       "      <th>4</th>\n",
       "      <td>4</td>\n",
       "      <td>0.519</td>\n",
       "      <td>0.464</td>\n",
       "      <td>10</td>\n",
       "      <td>-18.957</td>\n",
       "      <td>0</td>\n",
       "      <td>0.5600</td>\n",
       "      <td>0.90500</td>\n",
       "      <td>0.000000</td>\n",
       "      <td>0.4480</td>\n",
       "      <td>0.287</td>\n",
       "      <td>109.744</td>\n",
       "      <td>audio_features</td>\n",
       "      <td>1BMu5TWvalAGpi5jlhFEBb</td>\n",
       "      <td>spotify:track:1BMu5TWvalAGpi5jlhFEBb</td>\n",
       "      <td>https://api.spotify.com/v1/tracks/1BMu5TWvalAG...</td>\n",
       "      <td>https://api.spotify.com/v1/audio-analysis/1BMu...</td>\n",
       "      <td>24006</td>\n",
       "      <td>4</td>\n",
       "    </tr>\n",
       "  </tbody>\n",
       "</table>\n",
       "</div>"
      ],
      "text/plain": [
       "   Unnamed: 0  danceability  energy  key  loudness  mode  speechiness  \\\n",
       "0           0         0.593   0.503    8    -6.725     0       0.2200   \n",
       "1           1         0.685   0.717    0    -6.456     0       0.0411   \n",
       "2           2         0.741   0.691   10    -7.395     0       0.0672   \n",
       "3           3         0.737   0.846    1    -4.510     0       0.2200   \n",
       "4           4         0.519   0.464   10   -18.957     0       0.5600   \n",
       "\n",
       "   acousticness  instrumentalness  liveness  valence    tempo            type  \\\n",
       "0       0.29300          0.000000    0.4050    0.710  178.781  audio_features   \n",
       "1       0.10100          0.000019    0.2660    0.549  127.963  audio_features   \n",
       "2       0.02210          0.000000    0.0476    0.892  150.087  audio_features   \n",
       "3       0.00614          0.000000    0.0486    0.546   87.981  audio_features   \n",
       "4       0.90500          0.000000    0.4480    0.287  109.744  audio_features   \n",
       "\n",
       "                       id                                   uri  \\\n",
       "0  1SC5rEoYDGUK4NfG82494W  spotify:track:1SC5rEoYDGUK4NfG82494W   \n",
       "1  3grVoZ10bm2jUGpo7BxpuF  spotify:track:3grVoZ10bm2jUGpo7BxpuF   \n",
       "2  5Z9KJZvQzH6PFmb8SNkxuk  spotify:track:5Z9KJZvQzH6PFmb8SNkxuk   \n",
       "3  0e8nrvls4Qqv5Rfa2UhqmO  spotify:track:0e8nrvls4Qqv5Rfa2UhqmO   \n",
       "4  1BMu5TWvalAGpi5jlhFEBb  spotify:track:1BMu5TWvalAGpi5jlhFEBb   \n",
       "\n",
       "                                          track_href  \\\n",
       "0  https://api.spotify.com/v1/tracks/1SC5rEoYDGUK...   \n",
       "1  https://api.spotify.com/v1/tracks/3grVoZ10bm2j...   \n",
       "2  https://api.spotify.com/v1/tracks/5Z9KJZvQzH6P...   \n",
       "3  https://api.spotify.com/v1/tracks/0e8nrvls4Qqv...   \n",
       "4  https://api.spotify.com/v1/tracks/1BMu5TWvalAG...   \n",
       "\n",
       "                                        analysis_url  duration_ms  \\\n",
       "0  https://api.spotify.com/v1/audio-analysis/1SC5...       137704   \n",
       "1  https://api.spotify.com/v1/audio-analysis/3grV...       221203   \n",
       "2  https://api.spotify.com/v1/audio-analysis/5Z9K...       212353   \n",
       "3  https://api.spotify.com/v1/audio-analysis/0e8n...       143901   \n",
       "4  https://api.spotify.com/v1/audio-analysis/1BMu...        24006   \n",
       "\n",
       "   time_signature  \n",
       "0               4  \n",
       "1               4  \n",
       "2               4  \n",
       "3               4  \n",
       "4               4  "
      ]
     },
     "execution_count": 28,
     "metadata": {},
     "output_type": "execute_result"
    }
   ],
   "source": [
    "montero_audio_features.head()"
   ]
  },
  {
   "cell_type": "code",
   "execution_count": 29,
   "id": "4a4c5697",
   "metadata": {
    "scrolled": true
   },
   "outputs": [
    {
     "data": {
      "text/html": [
       "<div>\n",
       "<style scoped>\n",
       "    .dataframe tbody tr th:only-of-type {\n",
       "        vertical-align: middle;\n",
       "    }\n",
       "\n",
       "    .dataframe tbody tr th {\n",
       "        vertical-align: top;\n",
       "    }\n",
       "\n",
       "    .dataframe thead th {\n",
       "        text-align: right;\n",
       "    }\n",
       "</style>\n",
       "<table border=\"1\" class=\"dataframe\">\n",
       "  <thead>\n",
       "    <tr style=\"text-align: right;\">\n",
       "      <th></th>\n",
       "      <th>Unnamed: 0</th>\n",
       "      <th>danceability</th>\n",
       "      <th>energy</th>\n",
       "      <th>key</th>\n",
       "      <th>loudness</th>\n",
       "      <th>mode</th>\n",
       "      <th>speechiness</th>\n",
       "      <th>acousticness</th>\n",
       "      <th>instrumentalness</th>\n",
       "      <th>liveness</th>\n",
       "      <th>valence</th>\n",
       "      <th>tempo</th>\n",
       "      <th>type</th>\n",
       "      <th>id</th>\n",
       "      <th>uri</th>\n",
       "      <th>track_href</th>\n",
       "      <th>analysis_url</th>\n",
       "      <th>duration_ms</th>\n",
       "      <th>time_signature</th>\n",
       "    </tr>\n",
       "  </thead>\n",
       "  <tbody>\n",
       "    <tr>\n",
       "      <th>0</th>\n",
       "      <td>0</td>\n",
       "      <td>0.631</td>\n",
       "      <td>0.825</td>\n",
       "      <td>11</td>\n",
       "      <td>-3.971</td>\n",
       "      <td>1</td>\n",
       "      <td>0.0433</td>\n",
       "      <td>0.01670</td>\n",
       "      <td>0.000000</td>\n",
       "      <td>0.1220</td>\n",
       "      <td>0.427</td>\n",
       "      <td>129.942</td>\n",
       "      <td>audio_features</td>\n",
       "      <td>2JiHR4gCDjXwYVRDmwdk95</td>\n",
       "      <td>spotify:track:2JiHR4gCDjXwYVRDmwdk95</td>\n",
       "      <td>https://api.spotify.com/v1/tracks/2JiHR4gCDjXw...</td>\n",
       "      <td>https://api.spotify.com/v1/audio-analysis/2JiH...</td>\n",
       "      <td>195760</td>\n",
       "      <td>3</td>\n",
       "    </tr>\n",
       "    <tr>\n",
       "      <th>1</th>\n",
       "      <td>1</td>\n",
       "      <td>0.788</td>\n",
       "      <td>0.859</td>\n",
       "      <td>2</td>\n",
       "      <td>-2.724</td>\n",
       "      <td>1</td>\n",
       "      <td>0.0856</td>\n",
       "      <td>0.28100</td>\n",
       "      <td>0.000000</td>\n",
       "      <td>0.0424</td>\n",
       "      <td>0.822</td>\n",
       "      <td>141.020</td>\n",
       "      <td>audio_features</td>\n",
       "      <td>50nfwKoDiSYg8zOCREWAm5</td>\n",
       "      <td>spotify:track:50nfwKoDiSYg8zOCREWAm5</td>\n",
       "      <td>https://api.spotify.com/v1/tracks/50nfwKoDiSYg...</td>\n",
       "      <td>https://api.spotify.com/v1/audio-analysis/50nf...</td>\n",
       "      <td>207853</td>\n",
       "      <td>4</td>\n",
       "    </tr>\n",
       "    <tr>\n",
       "      <th>2</th>\n",
       "      <td>2</td>\n",
       "      <td>0.587</td>\n",
       "      <td>0.267</td>\n",
       "      <td>8</td>\n",
       "      <td>-9.206</td>\n",
       "      <td>1</td>\n",
       "      <td>0.0349</td>\n",
       "      <td>0.84000</td>\n",
       "      <td>0.000000</td>\n",
       "      <td>0.1210</td>\n",
       "      <td>0.352</td>\n",
       "      <td>98.845</td>\n",
       "      <td>audio_features</td>\n",
       "      <td>5QYnNhTKsN3kE7OaqILA1U</td>\n",
       "      <td>spotify:track:5QYnNhTKsN3kE7OaqILA1U</td>\n",
       "      <td>https://api.spotify.com/v1/tracks/5QYnNhTKsN3k...</td>\n",
       "      <td>https://api.spotify.com/v1/audio-analysis/5QYn...</td>\n",
       "      <td>185853</td>\n",
       "      <td>4</td>\n",
       "    </tr>\n",
       "    <tr>\n",
       "      <th>3</th>\n",
       "      <td>3</td>\n",
       "      <td>0.807</td>\n",
       "      <td>0.893</td>\n",
       "      <td>11</td>\n",
       "      <td>-3.745</td>\n",
       "      <td>0</td>\n",
       "      <td>0.0347</td>\n",
       "      <td>0.04510</td>\n",
       "      <td>0.000028</td>\n",
       "      <td>0.3660</td>\n",
       "      <td>0.537</td>\n",
       "      <td>126.011</td>\n",
       "      <td>audio_features</td>\n",
       "      <td>3rmo8F54jFF8OgYsqTxm5d</td>\n",
       "      <td>spotify:track:3rmo8F54jFF8OgYsqTxm5d</td>\n",
       "      <td>https://api.spotify.com/v1/tracks/3rmo8F54jFF8...</td>\n",
       "      <td>https://api.spotify.com/v1/audio-analysis/3rmo...</td>\n",
       "      <td>230747</td>\n",
       "      <td>4</td>\n",
       "    </tr>\n",
       "    <tr>\n",
       "      <th>4</th>\n",
       "      <td>4</td>\n",
       "      <td>0.520</td>\n",
       "      <td>0.849</td>\n",
       "      <td>9</td>\n",
       "      <td>-3.794</td>\n",
       "      <td>0</td>\n",
       "      <td>0.1860</td>\n",
       "      <td>0.00253</td>\n",
       "      <td>0.000000</td>\n",
       "      <td>0.1190</td>\n",
       "      <td>0.774</td>\n",
       "      <td>175.908</td>\n",
       "      <td>audio_features</td>\n",
       "      <td>4btFHqumCO31GksfuBLLv3</td>\n",
       "      <td>spotify:track:4btFHqumCO31GksfuBLLv3</td>\n",
       "      <td>https://api.spotify.com/v1/tracks/4btFHqumCO31...</td>\n",
       "      <td>https://api.spotify.com/v1/audio-analysis/4btF...</td>\n",
       "      <td>236907</td>\n",
       "      <td>4</td>\n",
       "    </tr>\n",
       "  </tbody>\n",
       "</table>\n",
       "</div>"
      ],
      "text/plain": [
       "   Unnamed: 0  danceability  energy  key  loudness  mode  speechiness  \\\n",
       "0           0         0.631   0.825   11    -3.971     1       0.0433   \n",
       "1           1         0.788   0.859    2    -2.724     1       0.0856   \n",
       "2           2         0.587   0.267    8    -9.206     1       0.0349   \n",
       "3           3         0.807   0.893   11    -3.745     0       0.0347   \n",
       "4           4         0.520   0.849    9    -3.794     0       0.1860   \n",
       "\n",
       "   acousticness  instrumentalness  liveness  valence    tempo            type  \\\n",
       "0       0.01670          0.000000    0.1220    0.427  129.942  audio_features   \n",
       "1       0.28100          0.000000    0.0424    0.822  141.020  audio_features   \n",
       "2       0.84000          0.000000    0.1210    0.352   98.845  audio_features   \n",
       "3       0.04510          0.000028    0.3660    0.537  126.011  audio_features   \n",
       "4       0.00253          0.000000    0.1190    0.774  175.908  audio_features   \n",
       "\n",
       "                       id                                   uri  \\\n",
       "0  2JiHR4gCDjXwYVRDmwdk95  spotify:track:2JiHR4gCDjXwYVRDmwdk95   \n",
       "1  50nfwKoDiSYg8zOCREWAm5  spotify:track:50nfwKoDiSYg8zOCREWAm5   \n",
       "2  5QYnNhTKsN3kE7OaqILA1U  spotify:track:5QYnNhTKsN3kE7OaqILA1U   \n",
       "3  3rmo8F54jFF8OgYsqTxm5d  spotify:track:3rmo8F54jFF8OgYsqTxm5d   \n",
       "4  4btFHqumCO31GksfuBLLv3  spotify:track:4btFHqumCO31GksfuBLLv3   \n",
       "\n",
       "                                          track_href  \\\n",
       "0  https://api.spotify.com/v1/tracks/2JiHR4gCDjXw...   \n",
       "1  https://api.spotify.com/v1/tracks/50nfwKoDiSYg...   \n",
       "2  https://api.spotify.com/v1/tracks/5QYnNhTKsN3k...   \n",
       "3  https://api.spotify.com/v1/tracks/3rmo8F54jFF8...   \n",
       "4  https://api.spotify.com/v1/tracks/4btFHqumCO31...   \n",
       "\n",
       "                                        analysis_url  duration_ms  \\\n",
       "0  https://api.spotify.com/v1/audio-analysis/2JiH...       195760   \n",
       "1  https://api.spotify.com/v1/audio-analysis/50nf...       207853   \n",
       "2  https://api.spotify.com/v1/audio-analysis/5QYn...       185853   \n",
       "3  https://api.spotify.com/v1/audio-analysis/3rmo...       230747   \n",
       "4  https://api.spotify.com/v1/audio-analysis/4btF...       236907   \n",
       "\n",
       "   time_signature  \n",
       "0               3  \n",
       "1               4  \n",
       "2               4  \n",
       "3               4  \n",
       "4               4  "
      ]
     },
     "execution_count": 29,
     "metadata": {},
     "output_type": "execute_result"
    }
   ],
   "source": [
    "equal_audio_features.head()"
   ]
  },
  {
   "cell_type": "code",
   "execution_count": 39,
   "id": "fadbfeec",
   "metadata": {},
   "outputs": [
    {
     "data": {
      "image/png": "[encoded data removed]",
      "text/plain": [
       "<Figure size 720x720 with 1 Axes>"
      ]
     },
     "metadata": {
      "needs_background": "light"
     },
     "output_type": "display_data"
    }
   ],
   "source": [
    "fig2, ax2 = plt.subplots(1, 1, figsize = (10, 10))\n",
    "ax2.hist(montero_audio_features['energy'], color = 'blue', bins = 5, alpha = .5, label = \"Montero Energy Ratings\")\n",
    "ax2.hist(equal_audio_features['energy'], color = 'red', bins = 6, alpha = .5, label = \"Equal Energy Ratings\")\n",
    "plt.show()"
   ]
  },
  {
   "cell_type": "code",
   "execution_count": 40,
   "id": "0fb74a5d",
   "metadata": {},
   "outputs": [
    {
     "data": {
      "text/plain": [
       "DescribeResult(nobs=14, minmax=(0.211, 0.893), mean=0.6098571428571428, variance=0.055252901098901096, skewness=-0.4668661636576358, kurtosis=-1.1823346921709772)"
      ]
     },
     "execution_count": 40,
     "metadata": {},
     "output_type": "execute_result"
    }
   ],
   "source": [
    "stats.describe(equal_audio_features['energy'])"
   ]
  },
  {
   "cell_type": "code",
   "execution_count": 41,
   "id": "ca5b559f",
   "metadata": {},
   "outputs": [
    {
     "data": {
      "text/plain": [
       "DescribeResult(nobs=15, minmax=(0.438, 0.846), mean=0.6121333333333333, variance=0.016101123809523808, skewness=0.17385510519239894, kurtosis=-1.116564647789739)"
      ]
     },
     "execution_count": 41,
     "metadata": {},
     "output_type": "execute_result"
    }
   ],
   "source": [
    "stats.describe(montero_audio_features['energy'])"
   ]
  },
  {
   "cell_type": "code",
   "execution_count": 42,
   "id": "0fdb4061",
   "metadata": {},
   "outputs": [
    {
     "data": {
      "text/plain": [
       "Ttest_indResult(statistic=-0.032762977347303504, pvalue=0.97410460566871)"
      ]
     },
     "execution_count": 42,
     "metadata": {},
     "output_type": "execute_result"
    }
   ],
   "source": [
    "stats.ttest_ind(equal_audio_features['energy'], montero_audio_features['energy'])"
   ]
  },
  {
   "cell_type": "code",
   "execution_count": 43,
   "id": "6c9a4ea0",
   "metadata": {},
   "outputs": [
    {
     "data": {
      "text/plain": [
       "DescribeResult(nobs=14, minmax=(0, 1), mean=0.7857142857142857, variance=0.1813186813186814, skewness=-1.392621247645581, kurtosis=-0.06060606060606455)"
      ]
     },
     "execution_count": 43,
     "metadata": {},
     "output_type": "execute_result"
    }
   ],
   "source": [
    "stats.describe(equal_audio_features['mode'])"
   ]
  },
  {
   "cell_type": "code",
   "execution_count": 44,
   "id": "a85fd414",
   "metadata": {},
   "outputs": [
    {
     "data": {
      "text/plain": [
       "DescribeResult(nobs=15, minmax=(0, 1), mean=0.26666666666666666, variance=0.20952380952380958, skewness=1.0552897060221726, kurtosis=-0.8863636363636358)"
      ]
     },
     "execution_count": 44,
     "metadata": {},
     "output_type": "execute_result"
    }
   ],
   "source": [
    "stats.describe(montero_audio_features['mode'])"
   ]
  },
  {
   "cell_type": "code",
   "execution_count": 45,
   "id": "9e06d771",
   "metadata": {},
   "outputs": [],
   "source": [
    "equal_audio_features_minor = equal_audio_features[equal_audio_features['mode'] == 1]\n",
    "equal_audio_features_major = equal_audio_features[equal_audio_features['mode'] == 0]"
   ]
  },
  {
   "cell_type": "code",
   "execution_count": 48,
   "id": "e77ceff4",
   "metadata": {},
   "outputs": [
    {
     "data": {
      "image/png": "[encoded data removed]",
      "text/plain": [
       "<Figure size 720x720 with 1 Axes>"
      ]
     },
     "metadata": {
      "needs_background": "light"
     },
     "output_type": "display_data"
    }
   ],
   "source": [
    "fig3, ax3 = plt.subplots(1, 1, figsize = (10, 10))\n",
    "ax3.hist(equal_audio_features_minor['energy'], color = 'blue', bins = 5, alpha = .5)\n",
    "ax3.hist(equal_audio_features_major['energy'], color = 'red', bins = 2, alpha = .5)\n",
    "plt.show()"
   ]
  },
  {
   "cell_type": "code",
   "execution_count": 56,
   "id": "e6625803",
   "metadata": {},
   "outputs": [
    {
     "data": {
      "text/plain": [
       "DescribeResult(nobs=15, minmax=(0.438, 0.846), mean=0.6121333333333333, variance=0.016101123809523808, skewness=0.17385510519239894, kurtosis=-1.116564647789739)"
      ]
     },
     "execution_count": 56,
     "metadata": {},
     "output_type": "execute_result"
    }
   ],
   "source": [
    "stats.describe(montero_audio_features['energy'])"
   ]
  },
  {
   "cell_type": "code",
   "execution_count": 70,
   "id": "d9268846",
   "metadata": {},
   "outputs": [
    {
     "data": {
      "text/plain": [
       "Power_divergenceResult(statistic=0.034482758620689655, pvalue=0.8526836843346426)"
      ]
     },
     "execution_count": 70,
     "metadata": {},
     "output_type": "execute_result"
    }
   ],
   "source": [
    "stats.chisquare([14, 15])"
   ]
  },
  {
   "cell_type": "code",
   "execution_count": 73,
   "id": "4fe5837b",
   "metadata": {},
   "outputs": [],
   "source": [
    "montero_key_counts = montero_audio_features.groupby('key').count()"
   ]
  },
  {
   "cell_type": "code",
   "execution_count": 75,
   "id": "e48ade09",
   "metadata": {},
   "outputs": [
    {
     "data": {
      "text/html": [
       "<div>\n",
       "<style scoped>\n",
       "    .dataframe tbody tr th:only-of-type {\n",
       "        vertical-align: middle;\n",
       "    }\n",
       "\n",
       "    .dataframe tbody tr th {\n",
       "        vertical-align: top;\n",
       "    }\n",
       "\n",
       "    .dataframe thead th {\n",
       "        text-align: right;\n",
       "    }\n",
       "</style>\n",
       "<table border=\"1\" class=\"dataframe\">\n",
       "  <thead>\n",
       "    <tr style=\"text-align: right;\">\n",
       "      <th></th>\n",
       "      <th>Unnamed: 0</th>\n",
       "      <th>danceability</th>\n",
       "      <th>energy</th>\n",
       "      <th>loudness</th>\n",
       "      <th>mode</th>\n",
       "      <th>speechiness</th>\n",
       "      <th>acousticness</th>\n",
       "      <th>instrumentalness</th>\n",
       "      <th>liveness</th>\n",
       "      <th>valence</th>\n",
       "      <th>tempo</th>\n",
       "      <th>type</th>\n",
       "      <th>id</th>\n",
       "      <th>uri</th>\n",
       "      <th>track_href</th>\n",
       "      <th>analysis_url</th>\n",
       "      <th>duration_ms</th>\n",
       "      <th>time_signature</th>\n",
       "    </tr>\n",
       "    <tr>\n",
       "      <th>key</th>\n",
       "      <th></th>\n",
       "      <th></th>\n",
       "      <th></th>\n",
       "      <th></th>\n",
       "      <th></th>\n",
       "      <th></th>\n",
       "      <th></th>\n",
       "      <th></th>\n",
       "      <th></th>\n",
       "      <th></th>\n",
       "      <th></th>\n",
       "      <th></th>\n",
       "      <th></th>\n",
       "      <th></th>\n",
       "      <th></th>\n",
       "      <th></th>\n",
       "      <th></th>\n",
       "      <th></th>\n",
       "    </tr>\n",
       "  </thead>\n",
       "  <tbody>\n",
       "    <tr>\n",
       "      <th>0</th>\n",
       "      <td>3</td>\n",
       "      <td>3</td>\n",
       "      <td>3</td>\n",
       "      <td>3</td>\n",
       "      <td>3</td>\n",
       "      <td>3</td>\n",
       "      <td>3</td>\n",
       "      <td>3</td>\n",
       "      <td>3</td>\n",
       "      <td>3</td>\n",
       "      <td>3</td>\n",
       "      <td>3</td>\n",
       "      <td>3</td>\n",
       "      <td>3</td>\n",
       "      <td>3</td>\n",
       "      <td>3</td>\n",
       "      <td>3</td>\n",
       "      <td>3</td>\n",
       "    </tr>\n",
       "    <tr>\n",
       "      <th>1</th>\n",
       "      <td>1</td>\n",
       "      <td>1</td>\n",
       "      <td>1</td>\n",
       "      <td>1</td>\n",
       "      <td>1</td>\n",
       "      <td>1</td>\n",
       "      <td>1</td>\n",
       "      <td>1</td>\n",
       "      <td>1</td>\n",
       "      <td>1</td>\n",
       "      <td>1</td>\n",
       "      <td>1</td>\n",
       "      <td>1</td>\n",
       "      <td>1</td>\n",
       "      <td>1</td>\n",
       "      <td>1</td>\n",
       "      <td>1</td>\n",
       "      <td>1</td>\n",
       "    </tr>\n",
       "    <tr>\n",
       "      <th>3</th>\n",
       "      <td>2</td>\n",
       "      <td>2</td>\n",
       "      <td>2</td>\n",
       "      <td>2</td>\n",
       "      <td>2</td>\n",
       "      <td>2</td>\n",
       "      <td>2</td>\n",
       "      <td>2</td>\n",
       "      <td>2</td>\n",
       "      <td>2</td>\n",
       "      <td>2</td>\n",
       "      <td>2</td>\n",
       "      <td>2</td>\n",
       "      <td>2</td>\n",
       "      <td>2</td>\n",
       "      <td>2</td>\n",
       "      <td>2</td>\n",
       "      <td>2</td>\n",
       "    </tr>\n",
       "    <tr>\n",
       "      <th>4</th>\n",
       "      <td>1</td>\n",
       "      <td>1</td>\n",
       "      <td>1</td>\n",
       "      <td>1</td>\n",
       "      <td>1</td>\n",
       "      <td>1</td>\n",
       "      <td>1</td>\n",
       "      <td>1</td>\n",
       "      <td>1</td>\n",
       "      <td>1</td>\n",
       "      <td>1</td>\n",
       "      <td>1</td>\n",
       "      <td>1</td>\n",
       "      <td>1</td>\n",
       "      <td>1</td>\n",
       "      <td>1</td>\n",
       "      <td>1</td>\n",
       "      <td>1</td>\n",
       "    </tr>\n",
       "    <tr>\n",
       "      <th>6</th>\n",
       "      <td>2</td>\n",
       "      <td>2</td>\n",
       "      <td>2</td>\n",
       "      <td>2</td>\n",
       "      <td>2</td>\n",
       "      <td>2</td>\n",
       "      <td>2</td>\n",
       "      <td>2</td>\n",
       "      <td>2</td>\n",
       "      <td>2</td>\n",
       "      <td>2</td>\n",
       "      <td>2</td>\n",
       "      <td>2</td>\n",
       "      <td>2</td>\n",
       "      <td>2</td>\n",
       "      <td>2</td>\n",
       "      <td>2</td>\n",
       "      <td>2</td>\n",
       "    </tr>\n",
       "  </tbody>\n",
       "</table>\n",
       "</div>"
      ],
      "text/plain": [
       "     Unnamed: 0  danceability  energy  loudness  mode  speechiness  \\\n",
       "key                                                                  \n",
       "0             3             3       3         3     3            3   \n",
       "1             1             1       1         1     1            1   \n",
       "3             2             2       2         2     2            2   \n",
       "4             1             1       1         1     1            1   \n",
       "6             2             2       2         2     2            2   \n",
       "\n",
       "     acousticness  instrumentalness  liveness  valence  tempo  type  id  uri  \\\n",
       "key                                                                            \n",
       "0               3                 3         3        3      3     3   3    3   \n",
       "1               1                 1         1        1      1     1   1    1   \n",
       "3               2                 2         2        2      2     2   2    2   \n",
       "4               1                 1         1        1      1     1   1    1   \n",
       "6               2                 2         2        2      2     2   2    2   \n",
       "\n",
       "     track_href  analysis_url  duration_ms  time_signature  \n",
       "key                                                         \n",
       "0             3             3            3               3  \n",
       "1             1             1            1               1  \n",
       "3             2             2            2               2  \n",
       "4             1             1            1               1  \n",
       "6             2             2            2               2  "
      ]
     },
     "execution_count": 75,
     "metadata": {},
     "output_type": "execute_result"
    }
   ],
   "source": [
    "montero_key_counts.head()"
   ]
  },
  {
   "cell_type": "code",
   "execution_count": 76,
   "id": "4293a2bf",
   "metadata": {},
   "outputs": [
    {
     "data": {
      "text/plain": [
       "Power_divergenceResult(statistic=2.4000000000000004, pvalue=0.9662310318143443)"
      ]
     },
     "execution_count": 76,
     "metadata": {},
     "output_type": "execute_result"
    }
   ],
   "source": [
    "stats.chisquare(montero_key_counts['danceability'])"
   ]
  },
  {
   "cell_type": "code",
   "execution_count": 77,
   "id": "ffd21c2f",
   "metadata": {},
   "outputs": [],
   "source": [
    "equal_key_counts = equal_audio_features.groupby('key').count()"
   ]
  },
  {
   "cell_type": "code",
   "execution_count": 78,
   "id": "f24b2a4a",
   "metadata": {},
   "outputs": [
    {
     "data": {
      "text/html": [
       "<div>\n",
       "<style scoped>\n",
       "    .dataframe tbody tr th:only-of-type {\n",
       "        vertical-align: middle;\n",
       "    }\n",
       "\n",
       "    .dataframe tbody tr th {\n",
       "        vertical-align: top;\n",
       "    }\n",
       "\n",
       "    .dataframe thead th {\n",
       "        text-align: right;\n",
       "    }\n",
       "</style>\n",
       "<table border=\"1\" class=\"dataframe\">\n",
       "  <thead>\n",
       "    <tr style=\"text-align: right;\">\n",
       "      <th></th>\n",
       "      <th>Unnamed: 0</th>\n",
       "      <th>danceability</th>\n",
       "      <th>energy</th>\n",
       "      <th>loudness</th>\n",
       "      <th>mode</th>\n",
       "      <th>speechiness</th>\n",
       "      <th>acousticness</th>\n",
       "      <th>instrumentalness</th>\n",
       "      <th>liveness</th>\n",
       "      <th>valence</th>\n",
       "      <th>tempo</th>\n",
       "      <th>type</th>\n",
       "      <th>id</th>\n",
       "      <th>uri</th>\n",
       "      <th>track_href</th>\n",
       "      <th>analysis_url</th>\n",
       "      <th>duration_ms</th>\n",
       "      <th>time_signature</th>\n",
       "    </tr>\n",
       "    <tr>\n",
       "      <th>key</th>\n",
       "      <th></th>\n",
       "      <th></th>\n",
       "      <th></th>\n",
       "      <th></th>\n",
       "      <th></th>\n",
       "      <th></th>\n",
       "      <th></th>\n",
       "      <th></th>\n",
       "      <th></th>\n",
       "      <th></th>\n",
       "      <th></th>\n",
       "      <th></th>\n",
       "      <th></th>\n",
       "      <th></th>\n",
       "      <th></th>\n",
       "      <th></th>\n",
       "      <th></th>\n",
       "      <th></th>\n",
       "    </tr>\n",
       "  </thead>\n",
       "  <tbody>\n",
       "    <tr>\n",
       "      <th>0</th>\n",
       "      <td>2</td>\n",
       "      <td>2</td>\n",
       "      <td>2</td>\n",
       "      <td>2</td>\n",
       "      <td>2</td>\n",
       "      <td>2</td>\n",
       "      <td>2</td>\n",
       "      <td>2</td>\n",
       "      <td>2</td>\n",
       "      <td>2</td>\n",
       "      <td>2</td>\n",
       "      <td>2</td>\n",
       "      <td>2</td>\n",
       "      <td>2</td>\n",
       "      <td>2</td>\n",
       "      <td>2</td>\n",
       "      <td>2</td>\n",
       "      <td>2</td>\n",
       "    </tr>\n",
       "    <tr>\n",
       "      <th>1</th>\n",
       "      <td>1</td>\n",
       "      <td>1</td>\n",
       "      <td>1</td>\n",
       "      <td>1</td>\n",
       "      <td>1</td>\n",
       "      <td>1</td>\n",
       "      <td>1</td>\n",
       "      <td>1</td>\n",
       "      <td>1</td>\n",
       "      <td>1</td>\n",
       "      <td>1</td>\n",
       "      <td>1</td>\n",
       "      <td>1</td>\n",
       "      <td>1</td>\n",
       "      <td>1</td>\n",
       "      <td>1</td>\n",
       "      <td>1</td>\n",
       "      <td>1</td>\n",
       "    </tr>\n",
       "    <tr>\n",
       "      <th>2</th>\n",
       "      <td>2</td>\n",
       "      <td>2</td>\n",
       "      <td>2</td>\n",
       "      <td>2</td>\n",
       "      <td>2</td>\n",
       "      <td>2</td>\n",
       "      <td>2</td>\n",
       "      <td>2</td>\n",
       "      <td>2</td>\n",
       "      <td>2</td>\n",
       "      <td>2</td>\n",
       "      <td>2</td>\n",
       "      <td>2</td>\n",
       "      <td>2</td>\n",
       "      <td>2</td>\n",
       "      <td>2</td>\n",
       "      <td>2</td>\n",
       "      <td>2</td>\n",
       "    </tr>\n",
       "    <tr>\n",
       "      <th>4</th>\n",
       "      <td>1</td>\n",
       "      <td>1</td>\n",
       "      <td>1</td>\n",
       "      <td>1</td>\n",
       "      <td>1</td>\n",
       "      <td>1</td>\n",
       "      <td>1</td>\n",
       "      <td>1</td>\n",
       "      <td>1</td>\n",
       "      <td>1</td>\n",
       "      <td>1</td>\n",
       "      <td>1</td>\n",
       "      <td>1</td>\n",
       "      <td>1</td>\n",
       "      <td>1</td>\n",
       "      <td>1</td>\n",
       "      <td>1</td>\n",
       "      <td>1</td>\n",
       "    </tr>\n",
       "    <tr>\n",
       "      <th>5</th>\n",
       "      <td>1</td>\n",
       "      <td>1</td>\n",
       "      <td>1</td>\n",
       "      <td>1</td>\n",
       "      <td>1</td>\n",
       "      <td>1</td>\n",
       "      <td>1</td>\n",
       "      <td>1</td>\n",
       "      <td>1</td>\n",
       "      <td>1</td>\n",
       "      <td>1</td>\n",
       "      <td>1</td>\n",
       "      <td>1</td>\n",
       "      <td>1</td>\n",
       "      <td>1</td>\n",
       "      <td>1</td>\n",
       "      <td>1</td>\n",
       "      <td>1</td>\n",
       "    </tr>\n",
       "  </tbody>\n",
       "</table>\n",
       "</div>"
      ],
      "text/plain": [
       "     Unnamed: 0  danceability  energy  loudness  mode  speechiness  \\\n",
       "key                                                                  \n",
       "0             2             2       2         2     2            2   \n",
       "1             1             1       1         1     1            1   \n",
       "2             2             2       2         2     2            2   \n",
       "4             1             1       1         1     1            1   \n",
       "5             1             1       1         1     1            1   \n",
       "\n",
       "     acousticness  instrumentalness  liveness  valence  tempo  type  id  uri  \\\n",
       "key                                                                            \n",
       "0               2                 2         2        2      2     2   2    2   \n",
       "1               1                 1         1        1      1     1   1    1   \n",
       "2               2                 2         2        2      2     2   2    2   \n",
       "4               1                 1         1        1      1     1   1    1   \n",
       "5               1                 1         1        1      1     1   1    1   \n",
       "\n",
       "     track_href  analysis_url  duration_ms  time_signature  \n",
       "key                                                         \n",
       "0             2             2            2               2  \n",
       "1             1             1            1               1  \n",
       "2             2             2            2               2  \n",
       "4             1             1            1               1  \n",
       "5             1             1            1               1  "
      ]
     },
     "execution_count": 78,
     "metadata": {},
     "output_type": "execute_result"
    }
   ],
   "source": [
    "equal_key_counts.head()"
   ]
  },
  {
   "cell_type": "code",
   "execution_count": 79,
   "id": "8a4614fe",
   "metadata": {},
   "outputs": [
    {
     "data": {
      "text/plain": [
       "Power_divergenceResult(statistic=3.1428571428571432, pvalue=0.8714796965812857)"
      ]
     },
     "execution_count": 79,
     "metadata": {},
     "output_type": "execute_result"
    }
   ],
   "source": [
    "stats.chisquare(equal_key_counts['danceability'])"
   ]
  }
 ],
 "metadata": {
  "kernelspec": {
   "display_name": "Python 3 (ipykernel)",
   "language": "python",
   "name": "python3"
  },
  "language_info": {
   "codemirror_mode": {
    "name": "ipython",
    "version": 3
   },
   "file_extension": ".py",
   "mimetype": "text/x-python",
   "name": "python",
   "nbconvert_exporter": "python",
   "pygments_lexer": "ipython3",
   "version": "3.9.6"
  }
 },
 "nbformat": 4,
 "nbformat_minor": 5
}
