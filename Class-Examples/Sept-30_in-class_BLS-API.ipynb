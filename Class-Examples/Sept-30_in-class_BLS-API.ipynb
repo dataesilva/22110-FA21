{
 "cells": [
  {
   "cell_type": "code",
   "execution_count": 1,
   "id": "d6ac2b15",
   "metadata": {},
   "outputs": [],
   "source": [
    "import requests\n",
    "import json"
   ]
  },
  {
   "cell_type": "code",
   "execution_count": 2,
   "id": "c30a7b4b",
   "metadata": {},
   "outputs": [],
   "source": [
    "header = {'Content-type': 'application/json'}\n",
    "payload = json.dumps({\"seriesid\": ['CUUR0000SA0','SUUR0000SA0'],\"startyear\":\"2011\", \"endyear\":\"2014\"})\n",
    "p = requests.request(\"POST\", 'https://api.bls.gov/publicAPI/v2/timeseries/data/', data = payload, headers = header)"
   ]
  },
  {
   "cell_type": "code",
   "execution_count": 3,
   "id": "4a0b5805",
   "metadata": {},
   "outputs": [
    {
     "data": {
      "text/plain": [
       "<Response [200]>"
      ]
     },
     "execution_count": 3,
     "metadata": {},
     "output_type": "execute_result"
    }
   ],
   "source": [
    "p"
   ]
  },
  {
   "cell_type": "code",
   "execution_count": null,
   "id": "b9758e5f",
   "metadata": {},
   "outputs": [],
   "source": [
    "p.text"
   ]
  },
  {
   "cell_type": "code",
   "execution_count": 6,
   "id": "359e5b5a",
   "metadata": {},
   "outputs": [],
   "source": [
    "bls_data = json.loads(p.text)"
   ]
  },
  {
   "cell_type": "code",
   "execution_count": 8,
   "id": "c52b0923",
   "metadata": {},
   "outputs": [
    {
     "data": {
      "text/plain": [
       "dict_keys(['status', 'responseTime', 'message', 'Results'])"
      ]
     },
     "execution_count": 8,
     "metadata": {},
     "output_type": "execute_result"
    }
   ],
   "source": [
    "bls_data.keys()"
   ]
  },
  {
   "cell_type": "code",
   "execution_count": 15,
   "id": "023a47be",
   "metadata": {},
   "outputs": [],
   "source": [
    "import pandas as pd"
   ]
  },
  {
   "cell_type": "code",
   "execution_count": 16,
   "id": "54b9b32d",
   "metadata": {},
   "outputs": [],
   "source": [
    "bls_df = pd.DataFrame(bls_data['Results']['series'][0]['data'])"
   ]
  },
  {
   "cell_type": "code",
   "execution_count": 19,
   "id": "6171e5f4",
   "metadata": {},
   "outputs": [],
   "source": [
    "bls_df.to_csv('bls_data.csv', header = True, sep = ',')"
   ]
  },
  {
   "cell_type": "code",
   "execution_count": 20,
   "id": "ca282e29",
   "metadata": {},
   "outputs": [],
   "source": [
    "census_data = requests.request(\"GET\", url = 'https://api.census.gov/data/2018/acs/acs5/pums?tabulate=weight(PWGTP)&col+PARTNER&col+SFR&col+DDRS&col+HINS3&row+ADJHSG&row+REFR&row+DECADE&row+ACR&row+MLPJ')"
   ]
  },
  {
   "cell_type": "code",
   "execution_count": 29,
   "id": "070584d9",
   "metadata": {},
   "outputs": [],
   "source": [
    "census_df = pd.DataFrame(census_data)"
   ]
  },
  {
   "cell_type": "code",
   "execution_count": 38,
   "id": "ae3532bd",
   "metadata": {},
   "outputs": [
    {
     "data": {
      "text/plain": [
       "[..., \"DDRS\": \"2\", \"HINS3\": \"1\"},\"ADJHSG\", \"REFR\", \"DECADE\", \"ACR\", \"MLPJ\"]There was an error while running your query.  We\\'ve logged the error and we\\'ll correct it ASAP.  Sorry for the inconvenience.'"
      ]
     },
     "execution_count": 38,
     "metadata": {},
     "output_type": "execute_result"
    }
   ],
   "source": [
    "census_data.text"
   ]
  },
  {
   "cell_type": "code",
   "execution_count": 30,
   "id": "22388e99",
   "metadata": {},
   "outputs": [
    {
     "data": {
      "text/html": [
      
      ],
      "text/plain": [
       "                                                     0\n",
       "0    b'[[{\"PARTNER\": \"0\", \"SFR\": \"2\", \"DDRS\": \"1\", ...\n",
       "1    b' \"3\", \"SFR\": \"2\", \"DDRS\": \"1\", \"HINS3\": \"2\"}...\n",
       "2    b'2\", \"DDRS\": \"1\", \"HINS3\": \"2\"}, {\"PARTNER\": ...\n",
       "3    b'\", \"HINS3\": \"2\"}, {\"PARTNER\": \"-1\", \"SFR\": \"...\n",
       "4    b'2\"}, {\"PARTNER\": \"4\", \"SFR\": \"6\", \"DDRS\": \"1...\n",
       "..                                                 ...\n",
       "109  b'\"PARTNER\": \"2\", \"SFR\": \"0\", \"DDRS\": \"2\", \"HI...\n",
       "110  b', \"SFR\": \"3\", \"DDRS\": \"2\", \"HINS3\": \"1\"}, {\"...\n",
       "111  b' \"DDRS\": \"2\", \"HINS3\": \"1\"}, {\"PARTNER\": \"4\"...\n",
       "112  b'\"HINS3\": \"1\"}, {\"PARTNER\": \"1\", \"SFR\": \"3\", ...\n",
       "113  b\"ror while running your query.  We've logged ...\n",
       "\n",
       "[114 rows x 1 columns]"
      ]
     },
     "execution_count": 30,
     "metadata": {},
     "output_type": "execute_result"
    }
   ],
   "source": [
    "census_df"
   ]
  }
 ],
 "metadata": {
  "kernelspec": {
   "display_name": "Python 3 (ipykernel)",
   "language": "python",
   "name": "python3"
  },
  "language_info": {
   "codemirror_mode": {
    "name": "ipython",
    "version": 3
   },
   "file_extension": ".py",
   "mimetype": "text/x-python",
   "name": "python",
   "nbconvert_exporter": "python",
   "pygments_lexer": "ipython3",
   "version": "3.9.6"
  }
 },
 "nbformat": 4,
 "nbformat_minor": 5
}
