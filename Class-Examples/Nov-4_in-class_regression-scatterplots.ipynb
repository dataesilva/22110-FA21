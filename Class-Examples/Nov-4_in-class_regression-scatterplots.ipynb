{
 "cells": [
  {
   "cell_type": "code",
   "execution_count": 1,
   "id": "8f714097",
   "metadata": {},
   "outputs": [],
   "source": [
    "import pandas as pd\n",
    "from matplotlib import pyplot as plt\n",
    "from scipy import stats"
   ]
  },
  {
   "cell_type": "code",
   "execution_count": 2,
   "id": "13925bba",
   "metadata": {},
   "outputs": [],
   "source": [
    "montero_track_data = pd.read_csv('Montero_Track_Data.csv')\n",
    "equal_track_data = pd.read_csv('Equal_Track_Data.csv')\n",
    "montero_audio_features = pd.read_csv('Montero_Audio_Features.csv')\n",
    "equal_audio_features = pd.read_csv('Equal_Audio_Features.csv')"
   ]
  },
  {
   "cell_type": "code",
   "execution_count": 3,
   "id": "54dd2aea",
   "metadata": {},
   "outputs": [
    {
     "data": {
      "text/html": [
       "<div>\n",
       "<style scoped>\n",
       "    .dataframe tbody tr th:only-of-type {\n",
       "        vertical-align: middle;\n",
       "    }\n",
       "\n",
       "    .dataframe tbody tr th {\n",
       "        vertical-align: top;\n",
       "    }\n",
       "\n",
       "    .dataframe thead th {\n",
       "        text-align: right;\n",
       "    }\n",
       "</style>\n",
       "<table border=\"1\" class=\"dataframe\">\n",
       "  <thead>\n",
       "    <tr style=\"text-align: right;\">\n",
       "      <th></th>\n",
       "      <th>Unnamed: 0</th>\n",
       "      <th>danceability</th>\n",
       "      <th>energy</th>\n",
       "      <th>key</th>\n",
       "      <th>loudness</th>\n",
       "      <th>mode</th>\n",
       "      <th>speechiness</th>\n",
       "      <th>acousticness</th>\n",
       "      <th>instrumentalness</th>\n",
       "      <th>liveness</th>\n",
       "      <th>valence</th>\n",
       "      <th>tempo</th>\n",
       "      <th>type</th>\n",
       "      <th>id</th>\n",
       "      <th>uri</th>\n",
       "      <th>track_href</th>\n",
       "      <th>analysis_url</th>\n",
       "      <th>duration_ms</th>\n",
       "      <th>time_signature</th>\n",
       "    </tr>\n",
       "  </thead>\n",
       "  <tbody>\n",
       "    <tr>\n",
       "      <th>0</th>\n",
       "      <td>0</td>\n",
       "      <td>0.631</td>\n",
       "      <td>0.825</td>\n",
       "      <td>11</td>\n",
       "      <td>-3.971</td>\n",
       "      <td>1</td>\n",
       "      <td>0.0433</td>\n",
       "      <td>0.01670</td>\n",
       "      <td>0.000000</td>\n",
       "      <td>0.1220</td>\n",
       "      <td>0.427</td>\n",
       "      <td>129.942</td>\n",
       "      <td>audio_features</td>\n",
       "      <td>2JiHR4gCDjXwYVRDmwdk95</td>\n",
       "      <td>spotify:track:2JiHR4gCDjXwYVRDmwdk95</td>\n",
       "      <td>https://api.spotify.com/v1/tracks/2JiHR4gCDjXw...</td>\n",
       "      <td>https://api.spotify.com/v1/audio-analysis/2JiH...</td>\n",
       "      <td>195760</td>\n",
       "      <td>3</td>\n",
       "    </tr>\n",
       "    <tr>\n",
       "      <th>1</th>\n",
       "      <td>1</td>\n",
       "      <td>0.788</td>\n",
       "      <td>0.859</td>\n",
       "      <td>2</td>\n",
       "      <td>-2.724</td>\n",
       "      <td>1</td>\n",
       "      <td>0.0856</td>\n",
       "      <td>0.28100</td>\n",
       "      <td>0.000000</td>\n",
       "      <td>0.0424</td>\n",
       "      <td>0.822</td>\n",
       "      <td>141.020</td>\n",
       "      <td>audio_features</td>\n",
       "      <td>50nfwKoDiSYg8zOCREWAm5</td>\n",
       "      <td>spotify:track:50nfwKoDiSYg8zOCREWAm5</td>\n",
       "      <td>https://api.spotify.com/v1/tracks/50nfwKoDiSYg...</td>\n",
       "      <td>https://api.spotify.com/v1/audio-analysis/50nf...</td>\n",
       "      <td>207853</td>\n",
       "      <td>4</td>\n",
       "    </tr>\n",
       "    <tr>\n",
       "      <th>2</th>\n",
       "      <td>2</td>\n",
       "      <td>0.587</td>\n",
       "      <td>0.267</td>\n",
       "      <td>8</td>\n",
       "      <td>-9.206</td>\n",
       "      <td>1</td>\n",
       "      <td>0.0349</td>\n",
       "      <td>0.84000</td>\n",
       "      <td>0.000000</td>\n",
       "      <td>0.1210</td>\n",
       "      <td>0.352</td>\n",
       "      <td>98.845</td>\n",
       "      <td>audio_features</td>\n",
       "      <td>5QYnNhTKsN3kE7OaqILA1U</td>\n",
       "      <td>spotify:track:5QYnNhTKsN3kE7OaqILA1U</td>\n",
       "      <td>https://api.spotify.com/v1/tracks/5QYnNhTKsN3k...</td>\n",
       "      <td>https://api.spotify.com/v1/audio-analysis/5QYn...</td>\n",
       "      <td>185853</td>\n",
       "      <td>4</td>\n",
       "    </tr>\n",
       "    <tr>\n",
       "      <th>3</th>\n",
       "      <td>3</td>\n",
       "      <td>0.807</td>\n",
       "      <td>0.893</td>\n",
       "      <td>11</td>\n",
       "      <td>-3.745</td>\n",
       "      <td>0</td>\n",
       "      <td>0.0347</td>\n",
       "      <td>0.04510</td>\n",
       "      <td>0.000028</td>\n",
       "      <td>0.3660</td>\n",
       "      <td>0.537</td>\n",
       "      <td>126.011</td>\n",
       "      <td>audio_features</td>\n",
       "      <td>3rmo8F54jFF8OgYsqTxm5d</td>\n",
       "      <td>spotify:track:3rmo8F54jFF8OgYsqTxm5d</td>\n",
       "      <td>https://api.spotify.com/v1/tracks/3rmo8F54jFF8...</td>\n",
       "      <td>https://api.spotify.com/v1/audio-analysis/3rmo...</td>\n",
       "      <td>230747</td>\n",
       "      <td>4</td>\n",
       "    </tr>\n",
       "    <tr>\n",
       "      <th>4</th>\n",
       "      <td>4</td>\n",
       "      <td>0.520</td>\n",
       "      <td>0.849</td>\n",
       "      <td>9</td>\n",
       "      <td>-3.794</td>\n",
       "      <td>0</td>\n",
       "      <td>0.1860</td>\n",
       "      <td>0.00253</td>\n",
       "      <td>0.000000</td>\n",
       "      <td>0.1190</td>\n",
       "      <td>0.774</td>\n",
       "      <td>175.908</td>\n",
       "      <td>audio_features</td>\n",
       "      <td>4btFHqumCO31GksfuBLLv3</td>\n",
       "      <td>spotify:track:4btFHqumCO31GksfuBLLv3</td>\n",
       "      <td>https://api.spotify.com/v1/tracks/4btFHqumCO31...</td>\n",
       "      <td>https://api.spotify.com/v1/audio-analysis/4btF...</td>\n",
       "      <td>236907</td>\n",
       "      <td>4</td>\n",
       "    </tr>\n",
       "  </tbody>\n",
       "</table>\n",
       "</div>"
      ],
      "text/plain": [
       "   Unnamed: 0  danceability  energy  key  loudness  mode  speechiness  \\\n",
       "0           0         0.631   0.825   11    -3.971     1       0.0433   \n",
       "1           1         0.788   0.859    2    -2.724     1       0.0856   \n",
       "2           2         0.587   0.267    8    -9.206     1       0.0349   \n",
       "3           3         0.807   0.893   11    -3.745     0       0.0347   \n",
       "4           4         0.520   0.849    9    -3.794     0       0.1860   \n",
       "\n",
       "   acousticness  instrumentalness  liveness  valence    tempo            type  \\\n",
       "0       0.01670          0.000000    0.1220    0.427  129.942  audio_features   \n",
       "1       0.28100          0.000000    0.0424    0.822  141.020  audio_features   \n",
       "2       0.84000          0.000000    0.1210    0.352   98.845  audio_features   \n",
       "3       0.04510          0.000028    0.3660    0.537  126.011  audio_features   \n",
       "4       0.00253          0.000000    0.1190    0.774  175.908  audio_features   \n",
       "\n",
       "                       id                                   uri  \\\n",
       "0  2JiHR4gCDjXwYVRDmwdk95  spotify:track:2JiHR4gCDjXwYVRDmwdk95   \n",
       "1  50nfwKoDiSYg8zOCREWAm5  spotify:track:50nfwKoDiSYg8zOCREWAm5   \n",
       "2  5QYnNhTKsN3kE7OaqILA1U  spotify:track:5QYnNhTKsN3kE7OaqILA1U   \n",
       "3  3rmo8F54jFF8OgYsqTxm5d  spotify:track:3rmo8F54jFF8OgYsqTxm5d   \n",
       "4  4btFHqumCO31GksfuBLLv3  spotify:track:4btFHqumCO31GksfuBLLv3   \n",
       "\n",
       "                                          track_href  \\\n",
       "0  https://api.spotify.com/v1/tracks/2JiHR4gCDjXw...   \n",
       "1  https://api.spotify.com/v1/tracks/50nfwKoDiSYg...   \n",
       "2  https://api.spotify.com/v1/tracks/5QYnNhTKsN3k...   \n",
       "3  https://api.spotify.com/v1/tracks/3rmo8F54jFF8...   \n",
       "4  https://api.spotify.com/v1/tracks/4btFHqumCO31...   \n",
       "\n",
       "                                        analysis_url  duration_ms  \\\n",
       "0  https://api.spotify.com/v1/audio-analysis/2JiH...       195760   \n",
       "1  https://api.spotify.com/v1/audio-analysis/50nf...       207853   \n",
       "2  https://api.spotify.com/v1/audio-analysis/5QYn...       185853   \n",
       "3  https://api.spotify.com/v1/audio-analysis/3rmo...       230747   \n",
       "4  https://api.spotify.com/v1/audio-analysis/4btF...       236907   \n",
       "\n",
       "   time_signature  \n",
       "0               3  \n",
       "1               4  \n",
       "2               4  \n",
       "3               4  \n",
       "4               4  "
      ]
     },
     "execution_count": 3,
     "metadata": {},
     "output_type": "execute_result"
    }
   ],
   "source": [
    "equal_audio_features.head()"
   ]
  },
  {
   "cell_type": "code",
   "execution_count": 8,
   "id": "6e5e9eb3",
   "metadata": {},
   "outputs": [
    {
     "data": {
      "image/png": "[encoded data removed]",
      "text/plain": [
       "<Figure size 720x720 with 1 Axes>"
      ]
     },
     "metadata": {
      "needs_background": "light"
     },
     "output_type": "display_data"
    }
   ],
   "source": [
    "fig1, ax1 = plt.subplots(1, 1, figsize = (10, 10))\n",
    "ax1.scatter(equal_audio_features['danceability'], equal_audio_features['energy'])\n",
    "ax1.set_xlabel(\"Danceability\")\n",
    "ax1.set_ylabel(\"Energy\")\n",
    "ax1.set_title(\"The danceability rating of a song associates with the energy rating of a song\")\n",
    "ax1.set_ylim(0,1)\n",
    "ax1.set_xlim(0,1)\n",
    "plt.show()"
   ]
  },
  {
   "cell_type": "code",
   "execution_count": 9,
   "id": "9ee7faa0",
   "metadata": {},
   "outputs": [
    {
     "data": {
      "text/plain": [
       "(0.2685987813008287, 0.35313358008439677)"
      ]
     },
     "execution_count": 9,
     "metadata": {},
     "output_type": "execute_result"
    }
   ],
   "source": [
    "stats.pearsonr(equal_audio_features['danceability'], equal_audio_features['energy'])"
   ]
  },
  {
   "cell_type": "code",
   "execution_count": 11,
   "id": "99a749db",
   "metadata": {},
   "outputs": [],
   "source": [
    "reg_all = stats.linregress(equal_audio_features['danceability'], equal_audio_features['energy'])"
   ]
  },
  {
   "cell_type": "code",
   "execution_count": 12,
   "id": "4505c23a",
   "metadata": {},
   "outputs": [
    {
     "data": {
      "text/plain": [
       "LinregressResult(slope=0.5102043013067536, intercept=0.28631472949990283, rvalue=0.2685987813008287, pvalue=0.35313358008439644, stderr=0.5281891059577386, intercept_stderr=0.3408178248049743)"
      ]
     },
     "execution_count": 12,
     "metadata": {},
     "output_type": "execute_result"
    }
   ],
   "source": [
    "reg_all"
   ]
  },
  {
   "cell_type": "code",
   "execution_count": 16,
   "id": "f7b4ed1b",
   "metadata": {},
   "outputs": [],
   "source": [
    "equal_names = equal_track_data[['name', 'uri']]\n",
    "equal_audio_features_names = pd.merge(equal_audio_features, equal_names, left_on = \"uri\", right_on = 'uri', how = 'left').drop(\"uri\", axis = 1)"
   ]
  },
  {
   "cell_type": "code",
   "execution_count": 19,
   "id": "8b57f8d4",
   "metadata": {},
   "outputs": [],
   "source": [
    "rm_one = equal_audio_features_names[equal_audio_features_names['name'] != \"Sandman\"]"
   ]
  },
  {
   "cell_type": "code",
   "execution_count": 23,
   "id": "6be3a673",
   "metadata": {},
   "outputs": [
    {
     "data": {
      "text/plain": [
       "LinregressResult(slope=1.0197739168640638, intercept=0.0017462558263923178, rvalue=0.5219312245607796, pvalue=0.06732064677083284, stderr=0.5025010585642001, intercept_stderr=0.31637963692531557)"
      ]
     },
     "execution_count": 23,
     "metadata": {},
     "output_type": "execute_result"
    }
   ],
   "source": [
    "reg_rm_one = stats.linregress(rm_one['danceability'], rm_one['energy'])\n",
    "reg_rm_one"
   ]
  },
  {
   "cell_type": "code",
   "execution_count": 26,
   "id": "3c1822bf",
   "metadata": {
    "scrolled": false
   },
   "outputs": [
    {
     "data": {
      "image/png": "[encoded data removed]",
      "text/plain": [
       "<Figure size 720x720 with 2 Axes>"
      ]
     },
     "metadata": {
      "needs_background": "light"
     },
     "output_type": "display_data"
    }
   ],
   "source": [
    "fig2, ax2 = plt.subplots(1, 2, figsize= (10, 10))\n",
    "ax2[0].scatter(equal_audio_features_names['danceability'], equal_audio_features_names['energy'])\n",
    "ax2[0].plot(equal_audio_features_names['danceability'], reg_all.intercept + reg_all.slope * equal_audio_features_names['danceability'])\n",
    "# for i, label in enumerate(equal_audio_features_names['name']):\n",
    "#     plt.annotate(label, (equal_audio_features_names['danceability'][i]+.002, equal_audio_features_names['energy'][i]+.002))\n",
    "ax2[1].scatter(rm_one['danceability'], rm_one['energy'], color = 'g')\n",
    "ax2[1].plot(rm_one['danceability'], reg_rm_one.intercept + reg_rm_one.slope * rm_one['danceability'], color = 'g')\n",
    "\n",
    "plt.show()"
   ]
  },
  {
   "cell_type": "code",
   "execution_count": 38,
   "id": "a5d01ec4",
   "metadata": {},
   "outputs": [],
   "source": [
    "import numpy as np"
   ]
  },
  {
   "cell_type": "code",
   "execution_count": 42,
   "id": "39bfe2c5",
   "metadata": {},
   "outputs": [
    {
     "data": {
      "text/plain": [
       "array([-0.01068422,  0.04010459,  0.02233076, -0.00901026,  0.00871439,\n",
       "       -0.02038151, -0.0024439 , -0.00857167,  0.01792155, -0.00075023,\n",
       "       -0.01702192,  0.0022534 , -0.02616897,  0.00644523, -0.00974561])"
      ]
     },
     "execution_count": 42,
     "metadata": {},
     "output_type": "execute_result"
    }
   ],
   "source": [
    "m_offset = np.random.randn(len(montero_audio_features.index)) * .02\n",
    "m_offset"
   ]
  },
  {
   "cell_type": "code",
   "execution_count": 46,
   "id": "9c146dbf",
   "metadata": {},
   "outputs": [
    {
     "data": {
      "image/png": "[encoded data removed]",
      "text/plain": [
       "<Figure size 720x720 with 1 Axes>"
      ]
     },
     "metadata": {
      "needs_background": "light"
     },
     "output_type": "display_data"
    }
   ],
   "source": [
    "fig3, ax3 = plt.subplots(1, 1, figsize = (10, 10))\n",
    "\n",
    "m_offset = np.random.randn(len(montero_audio_features.index)) * .002\n",
    "e_offset = np.random.randn(len(equal_audio_features.index)) * .002\n",
    "m_x = [-.02] * len(montero_audio_features.index)\n",
    "e_x = [.02] * len(equal_audio_features.index)\n",
    "m_jitter = m_x + m_offset\n",
    "e_jitter = e_x + e_offset\n",
    "\n",
    "ax3.scatter(m_jitter, montero_audio_features['energy'], alpha = .5)\n",
    "ax3.scatter(e_jitter, equal_audio_features['energy'], alpha = .5)\n",
    "ax3.set_xlim(-.05, .05)\n",
    "\n",
    "ax3.set_xticks([-.02, .02])\n",
    "ax3.set_xticklabels(['Montero', \"Equal\"])\n",
    "ax3.set_ylabel(\"Energy Rating\")\n",
    "plt.show()\n",
    "\n",
    "\n",
    "'''\n",
    "Long Comment\n",
    "Multi-line\n",
    "\n",
    "\n",
    "'''"
   ]
  }
 ],
 "metadata": {
  "kernelspec": {
   "display_name": "Python 3 (ipykernel)",
   "language": "python",
   "name": "python3"
  },
  "language_info": {
   "codemirror_mode": {
    "name": "ipython",
    "version": 3
   },
   "file_extension": ".py",
   "mimetype": "text/x-python",
   "name": "python",
   "nbconvert_exporter": "python",
   "pygments_lexer": "ipython3",
   "version": "3.9.6"
  }
 },
 "nbformat": 4,
 "nbformat_minor": 5
}
