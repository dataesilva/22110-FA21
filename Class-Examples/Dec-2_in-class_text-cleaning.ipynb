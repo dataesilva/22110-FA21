{
 "cells": [
  {
   "cell_type": "code",
   "execution_count": 1,
   "id": "56a1d9e5",
   "metadata": {},
   "outputs": [],
   "source": [
    "import pandas as pd"
   ]
  },
  {
   "cell_type": "code",
   "execution_count": 2,
   "id": "cbab0233",
   "metadata": {},
   "outputs": [
    {
     "name": "stdout",
     "output_type": "stream",
     "text": [
      " Volume in drive C is Windows\n",
      " Volume Serial Number is 88B8-561F\n",
      "\n",
      " Directory of C:\\Users\\dsilva2\\EMAT22110_FA21\n",
      "\n",
      "12/02/2021  03:55 PM    <DIR>          .\n",
      "12/02/2021  03:55 PM    <DIR>          ..\n",
      "12/02/2021  03:55 PM    <DIR>          .ipynb_checkpoints\n",
      "11/04/2021  11:16 AM             1,077 2016news-topic-ranks.csv\n",
      "09/02/2021  03:32 PM             5,319 Aug31_inclass-practice.ipynb\n",
      "09/30/2021  03:41 PM             1,623 bls_data.csv\n",
      "09/14/2021  03:27 PM            20,354 chess_buds_messages.csv\n",
      "11/04/2021  02:44 PM            51,051 chi2-crosstabs.ipynb\n",
      "10/19/2021  12:17 PM            58,901 COVID-Raffle-data-collection.ipynb\n",
      "09/21/2021  03:30 PM           313,653 DataFrame-Methods-and-visuals.ipynb\n",
      "10/28/2021  04:07 PM           118,748 datetime-and-figure-axis.ipynb\n",
      "12/02/2021  03:54 PM                72 Dec-2_in-class_text-cleaning.ipynb\n",
      "12/02/2021  03:03 PM            54,203 Dec-2_prep_text-analysis.ipynb\n",
      "09/20/2021  12:46 PM           134,652 emoji-encodings-from-fb-data.ipynb\n",
      "11/02/2021  02:13 PM             3,954 Equal_Audio_Features.csv\n",
      "11/02/2021  02:13 PM            53,423 Equal_Track_Data.csv\n",
      "09/07/2021  10:16 AM           102,772 Explore_IG-data.ipynb\n",
      "09/07/2021  01:25 PM    <DIR>          facebook-davidsilva100046_full\n",
      "09/07/2021  01:10 PM     1,857,380,869 facebook-davidsilva100046_full.zip\n",
      "09/07/2021  01:26 PM    <DIR>          facebook-davidsilva100046_year\n",
      "09/07/2021  01:09 PM       475,994,340 facebook-davidsilva100046_year.zip\n",
      "09/09/2021  10:59 PM           494,749 fb-2016_Coded-1000_no campaigns.xlsx\n",
      "11/04/2021  12:57 PM            43,923 jitter-scatter-plots.ipynb\n",
      "09/07/2021  01:36 PM            28,441 likes_Report-dev.ipynb\n",
      "11/02/2021  02:13 PM             4,238 Montero_Audio_Features.csv\n",
      "11/02/2021  02:13 PM            58,831 Montero_Track_Data.csv\n",
      "09/23/2021  03:25 PM                90 MONTEROApp_Keys-9-23-21.txt\n",
      "11/02/2021  04:00 PM            76,898 Nov-2_in-class_statistical-tests.ipynb\n",
      "11/02/2021  04:00 PM            53,785 Nov-2_in-class_statistical-tests_collect-data.ipynb\n",
      "11/04/2021  04:05 PM            69,754 Nov-4_in-class_regression-scatterplots.ipynb\n",
      "11/04/2021  03:26 PM           133,420 Nov-4_in-class_statistical-tests-cont.ipynb\n",
      "10/21/2021  03:45 PM            46,125 Oct-12_in-class_Twitter_API.ipynb\n",
      "10/19/2021  03:34 PM           207,106 Oct-19_in-class_web-scraping.ipynb\n",
      "10/21/2021  04:03 PM             4,026 Oct-21_in-class_Indeed_Job-scrape_start.ipynb\n",
      "10/28/2021  03:58 PM            67,121 Oct-26-28_datetime-and-matplotlib.ipynb\n",
      "10/05/2021  04:01 PM             5,105 Oct-5_in-class_Twitter_API.ipynb\n",
      "10/07/2021  03:58 PM            35,311 Oct-7_in-class.ipynb\n",
      "12/02/2021  01:14 PM        18,291,094 Olympics_Postponed_Twitter_Unique.csv\n",
      "10/06/2021  02:12 PM            35,933 Practicing_SQL.ipynb\n",
      "11/10/2021  09:14 AM               836 Return to FB Hypos.txt\n",
      "09/14/2021  04:05 PM           111,315 Sept-14_in-class.ipynb\n",
      "09/28/2021  12:10 PM            68,100 Sept-21_in-class.ipynb\n",
      "09/28/2021  12:55 PM             6,846 Sept-23_in-class_Spotify-API-Demo.ipynb\n",
      "09/28/2021  04:06 PM           145,947 Sept-28_in-class.ipynb\n",
      "09/30/2021  04:27 PM            25,913 Sept-30_in-class_BLS-API.ipynb\n",
      "09/30/2021  03:28 PM            20,755 Sept-30_in-class-Spotify.ipynb\n",
      "09/07/2021  04:05 PM           103,565 Sept-7_in-class.ipynb\n",
      "09/09/2021  04:28 PM           111,077 Sept-9_in-class.ipynb\n",
      "09/23/2021  12:31 PM                90 Spotify-Keys_9-23-21.txt\n",
      "09/28/2021  12:55 PM           145,508 Spotify-pt1.ipynb\n",
      "10/07/2021  02:31 PM    <DIR>          SQL-tutorials\n",
      "09/07/2021  09:51 AM    <DIR>          technogecko_20210830\n",
      "08/30/2021  09:27 AM        29,463,597 technogecko_20210830.zip\n",
      "10/05/2021  01:44 PM            17,126 Twitter_API-example.ipynb\n",
      "10/21/2021  03:37 PM             2,763 twitter_data.csv\n",
      "10/12/2021  01:52 PM               132 Twitter-Keys_10-5-21.txt\n",
      "11/09/2021  05:01 PM             8,570 What-factors-keep-people-returning-to-Facebook.ipynb\n",
      "              50 File(s)  2,384,183,101 bytes\n",
      "               7 Dir(s)  279,861,166,080 bytes free\n"
     ]
    }
   ],
   "source": [
    "ls"
   ]
  },
  {
   "cell_type": "code",
   "execution_count": 3,
   "id": "bdffed7b",
   "metadata": {},
   "outputs": [],
   "source": [
    "oly = pd.read_csv('Olympics_Postponed_Twitter_Unique.csv', encoding = 'utf-8')"
   ]
  },
  {
   "cell_type": "code",
   "execution_count": 4,
   "id": "e755c9b0",
   "metadata": {},
   "outputs": [
    {
     "data": {
      "text/plain": [
       "Index(['Date', 'Title', 'Url', 'Language', 'Author', 'Avatar',\n",
       "       'Category Details', 'Checked', 'City', 'Display URLs', 'Expanded URLs',\n",
       "       'Full Name', 'Full Text', 'Gender', 'Hashtags', 'Impact', 'Impressions',\n",
       "       'Latitude', 'Location Name', 'Longitude', 'Media Filter', 'Media URLs',\n",
       "       'Mentioned Authors', 'Original Url', 'Thread Author',\n",
       "       'Thread Created Date', 'Thread Entry Type', 'Thread Id', 'Thread URL',\n",
       "       'Twitter Author ID', 'Twitter Channel Role', 'Twitter Followers',\n",
       "       'Twitter Following', 'Twitter Reply Count', 'Twitter Reply to',\n",
       "       'Twitter Retweet of', 'Twitter Retweets', 'Twitter Tweets',\n",
       "       'Twitter Verified', 'Updated', 'Reach (new)'],\n",
       "      dtype='object')"
      ]
     },
     "execution_count": 4,
     "metadata": {},
     "output_type": "execute_result"
    }
   ],
   "source": [
    "oly.keys()"
   ]
  },
  {
   "cell_type": "code",
   "execution_count": 5,
   "id": "d73837a7",
   "metadata": {},
   "outputs": [
    {
     "data": {
      "text/html": [
       "<div>\n",
       "<style scoped>\n",
       "    .dataframe tbody tr th:only-of-type {\n",
       "        vertical-align: middle;\n",
       "    }\n",
       "\n",
       "    .dataframe tbody tr th {\n",
       "        vertical-align: top;\n",
       "    }\n",
       "\n",
       "    .dataframe thead th {\n",
       "        text-align: right;\n",
       "    }\n",
       "</style>\n",
       "<table border=\"1\" class=\"dataframe\">\n",
       "  <thead>\n",
       "    <tr style=\"text-align: right;\">\n",
       "      <th></th>\n",
       "      <th>Date</th>\n",
       "      <th>Title</th>\n",
       "      <th>Url</th>\n",
       "      <th>Language</th>\n",
       "      <th>Author</th>\n",
       "      <th>Avatar</th>\n",
       "      <th>Category Details</th>\n",
       "      <th>Checked</th>\n",
       "      <th>City</th>\n",
       "      <th>Display URLs</th>\n",
       "      <th>...</th>\n",
       "      <th>Twitter Followers</th>\n",
       "      <th>Twitter Following</th>\n",
       "      <th>Twitter Reply Count</th>\n",
       "      <th>Twitter Reply to</th>\n",
       "      <th>Twitter Retweet of</th>\n",
       "      <th>Twitter Retweets</th>\n",
       "      <th>Twitter Tweets</th>\n",
       "      <th>Twitter Verified</th>\n",
       "      <th>Updated</th>\n",
       "      <th>Reach (new)</th>\n",
       "    </tr>\n",
       "  </thead>\n",
       "  <tbody>\n",
       "    <tr>\n",
       "      <th>0</th>\n",
       "      <td>2020-03-31 23:58:48.0</td>\n",
       "      <td>@TeamUSA Literally all of the 2012 Olympics fo...</td>\n",
       "      <td>http://twitter.com/arv5518/statuses/1245138508...</td>\n",
       "      <td>en</td>\n",
       "      <td>arv5518</td>\n",
       "      <td>https://audiences.brandwatch.com/api/audiences...</td>\n",
       "      <td>NaN</td>\n",
       "      <td>False</td>\n",
       "      <td>NaN</td>\n",
       "      <td>NaN</td>\n",
       "      <td>...</td>\n",
       "      <td>3</td>\n",
       "      <td>76</td>\n",
       "      <td>0</td>\n",
       "      <td>http://twitter.com/TeamUSA/statuses/1245063460...</td>\n",
       "      <td>NaN</td>\n",
       "      <td>0</td>\n",
       "      <td>345</td>\n",
       "      <td>False</td>\n",
       "      <td>2020-10-05T16:39:32.631+0000</td>\n",
       "      <td>0</td>\n",
       "    </tr>\n",
       "    <tr>\n",
       "      <th>1</th>\n",
       "      <td>2020-03-31 23:57:17.0</td>\n",
       "      <td>@LanderVBALL @reesebatesvb @vbcoch @USAVBeach ...</td>\n",
       "      <td>http://twitter.com/alexptck3/statuses/12451381...</td>\n",
       "      <td>en</td>\n",
       "      <td>alexptck3</td>\n",
       "      <td>https://audiences.brandwatch.com/api/audiences...</td>\n",
       "      <td>NaN</td>\n",
       "      <td>False</td>\n",
       "      <td>NaN</td>\n",
       "      <td>NaN</td>\n",
       "      <td>...</td>\n",
       "      <td>217</td>\n",
       "      <td>293</td>\n",
       "      <td>1</td>\n",
       "      <td>http://twitter.com/LanderVBALL/statuses/124511...</td>\n",
       "      <td>NaN</td>\n",
       "      <td>0</td>\n",
       "      <td>1600</td>\n",
       "      <td>False</td>\n",
       "      <td>2020-10-05T16:39:32.613+0000</td>\n",
       "      <td>9</td>\n",
       "    </tr>\n",
       "    <tr>\n",
       "      <th>2</th>\n",
       "      <td>2020-03-31 23:57:00.0</td>\n",
       "      <td>\"To be blunt, it started women's basketball in...</td>\n",
       "      <td>http://twitter.com/NBCOlympics/statuses/124513...</td>\n",
       "      <td>en</td>\n",
       "      <td>NBCOlympics</td>\n",
       "      <td>https://audiences.brandwatch.com/api/audiences...</td>\n",
       "      <td>NaN</td>\n",
       "      <td>False</td>\n",
       "      <td>NaN</td>\n",
       "      <td>NaN</td>\n",
       "      <td>...</td>\n",
       "      <td>922572</td>\n",
       "      <td>2991</td>\n",
       "      <td>2</td>\n",
       "      <td>NaN</td>\n",
       "      <td>NaN</td>\n",
       "      <td>61</td>\n",
       "      <td>32017</td>\n",
       "      <td>True</td>\n",
       "      <td>2020-10-05T16:39:32.615+0000</td>\n",
       "      <td>67412</td>\n",
       "    </tr>\n",
       "    <tr>\n",
       "      <th>3</th>\n",
       "      <td>2020-03-31 23:56:25.0</td>\n",
       "      <td>@DetroitHandball @TeamHandball @USATH @USARugb...</td>\n",
       "      <td>http://twitter.com/CoachJax11/statuses/1245137...</td>\n",
       "      <td>en</td>\n",
       "      <td>CoachJax11</td>\n",
       "      <td>https://audiences.brandwatch.com/api/audiences...</td>\n",
       "      <td>NaN</td>\n",
       "      <td>False</td>\n",
       "      <td>NaN</td>\n",
       "      <td>NaN</td>\n",
       "      <td>...</td>\n",
       "      <td>158</td>\n",
       "      <td>249</td>\n",
       "      <td>1</td>\n",
       "      <td>http://twitter.com/DetroitHandball/statuses/12...</td>\n",
       "      <td>NaN</td>\n",
       "      <td>0</td>\n",
       "      <td>792</td>\n",
       "      <td>False</td>\n",
       "      <td>2020-10-05T16:39:32.602+0000</td>\n",
       "      <td>0</td>\n",
       "    </tr>\n",
       "    <tr>\n",
       "      <th>4</th>\n",
       "      <td>2020-03-31 23:55:31.0</td>\n",
       "      <td>I beat my own record! The new one is 52!!! @US...</td>\n",
       "      <td>http://twitter.com/reesebatesvb/statuses/12451...</td>\n",
       "      <td>en</td>\n",
       "      <td>reesebatesvb</td>\n",
       "      <td>https://audiences.brandwatch.com/api/audiences...</td>\n",
       "      <td>NaN</td>\n",
       "      <td>False</td>\n",
       "      <td>Kansas City</td>\n",
       "      <td>NaN</td>\n",
       "      <td>...</td>\n",
       "      <td>30</td>\n",
       "      <td>79</td>\n",
       "      <td>0</td>\n",
       "      <td>NaN</td>\n",
       "      <td>NaN</td>\n",
       "      <td>1</td>\n",
       "      <td>24</td>\n",
       "      <td>False</td>\n",
       "      <td>2020-10-05T16:39:32.631+0000</td>\n",
       "      <td>0</td>\n",
       "    </tr>\n",
       "  </tbody>\n",
       "</table>\n",
       "<p>5 rows × 41 columns</p>\n",
       "</div>"
      ],
      "text/plain": [
       "                    Date                                              Title  \\\n",
       "0  2020-03-31 23:58:48.0  @TeamUSA Literally all of the 2012 Olympics fo...   \n",
       "1  2020-03-31 23:57:17.0  @LanderVBALL @reesebatesvb @vbcoch @USAVBeach ...   \n",
       "2  2020-03-31 23:57:00.0  \"To be blunt, it started women's basketball in...   \n",
       "3  2020-03-31 23:56:25.0  @DetroitHandball @TeamHandball @USATH @USARugb...   \n",
       "4  2020-03-31 23:55:31.0  I beat my own record! The new one is 52!!! @US...   \n",
       "\n",
       "                                                 Url Language        Author  \\\n",
       "0  http://twitter.com/arv5518/statuses/1245138508...       en       arv5518   \n",
       "1  http://twitter.com/alexptck3/statuses/12451381...       en     alexptck3   \n",
       "2  http://twitter.com/NBCOlympics/statuses/124513...       en   NBCOlympics   \n",
       "3  http://twitter.com/CoachJax11/statuses/1245137...       en    CoachJax11   \n",
       "4  http://twitter.com/reesebatesvb/statuses/12451...       en  reesebatesvb   \n",
       "\n",
       "                                              Avatar  Category Details  \\\n",
       "0  https://audiences.brandwatch.com/api/audiences...               NaN   \n",
       "1  https://audiences.brandwatch.com/api/audiences...               NaN   \n",
       "2  https://audiences.brandwatch.com/api/audiences...               NaN   \n",
       "3  https://audiences.brandwatch.com/api/audiences...               NaN   \n",
       "4  https://audiences.brandwatch.com/api/audiences...               NaN   \n",
       "\n",
       "   Checked         City  Display URLs  ... Twitter Followers  \\\n",
       "0    False          NaN           NaN  ...                 3   \n",
       "1    False          NaN           NaN  ...               217   \n",
       "2    False          NaN           NaN  ...            922572   \n",
       "3    False          NaN           NaN  ...               158   \n",
       "4    False  Kansas City           NaN  ...                30   \n",
       "\n",
       "  Twitter Following Twitter Reply Count  \\\n",
       "0                76                   0   \n",
       "1               293                   1   \n",
       "2              2991                   2   \n",
       "3               249                   1   \n",
       "4                79                   0   \n",
       "\n",
       "                                    Twitter Reply to Twitter Retweet of  \\\n",
       "0  http://twitter.com/TeamUSA/statuses/1245063460...                NaN   \n",
       "1  http://twitter.com/LanderVBALL/statuses/124511...                NaN   \n",
       "2                                                NaN                NaN   \n",
       "3  http://twitter.com/DetroitHandball/statuses/12...                NaN   \n",
       "4                                                NaN                NaN   \n",
       "\n",
       "   Twitter Retweets  Twitter Tweets  Twitter Verified  \\\n",
       "0                 0             345             False   \n",
       "1                 0            1600             False   \n",
       "2                61           32017              True   \n",
       "3                 0             792             False   \n",
       "4                 1              24             False   \n",
       "\n",
       "                        Updated  Reach (new)  \n",
       "0  2020-10-05T16:39:32.631+0000            0  \n",
       "1  2020-10-05T16:39:32.613+0000            9  \n",
       "2  2020-10-05T16:39:32.615+0000        67412  \n",
       "3  2020-10-05T16:39:32.602+0000            0  \n",
       "4  2020-10-05T16:39:32.631+0000            0  \n",
       "\n",
       "[5 rows x 41 columns]"
      ]
     },
     "execution_count": 5,
     "metadata": {},
     "output_type": "execute_result"
    }
   ],
   "source": [
    "oly.head()"
   ]
  },
  {
   "cell_type": "code",
   "execution_count": 6,
   "id": "fcbc9e0b",
   "metadata": {},
   "outputs": [
    {
     "data": {
      "text/plain": [
       "0        reply\n",
       "1        reply\n",
       "2         post\n",
       "3        reply\n",
       "4         post\n",
       "         ...  \n",
       "19709     post\n",
       "19710    reply\n",
       "19711    reply\n",
       "19712     post\n",
       "19713     post\n",
       "Name: Thread Entry Type, Length: 19714, dtype: category\n",
       "Categories (2, object): ['post', 'reply']"
      ]
     },
     "execution_count": 6,
     "metadata": {},
     "output_type": "execute_result"
    }
   ],
   "source": [
    "oly['Thread Entry Type'].astype('category')"
   ]
  },
  {
   "cell_type": "code",
   "execution_count": 7,
   "id": "806f011a",
   "metadata": {},
   "outputs": [
    {
     "data": {
      "text/plain": [
       "0        en\n",
       "1        en\n",
       "2        en\n",
       "3        en\n",
       "4        en\n",
       "         ..\n",
       "19709    en\n",
       "19710    en\n",
       "19711    en\n",
       "19712    en\n",
       "19713    en\n",
       "Name: Language, Length: 19714, dtype: category\n",
       "Categories (52, object): ['am', 'ar', 'az', 'bn', ..., 'uk', 'ur', 'vi', 'zh']"
      ]
     },
     "execution_count": 7,
     "metadata": {},
     "output_type": "execute_result"
    }
   ],
   "source": [
    "oly['Language'].astype('category')"
   ]
  },
  {
   "cell_type": "code",
   "execution_count": 8,
   "id": "e033b6d4",
   "metadata": {},
   "outputs": [],
   "source": [
    "oly_enposts = oly[(oly['Language'] == 'en') & (oly['Thread Entry Type'] == 'post')]"
   ]
  },
  {
   "cell_type": "code",
   "execution_count": 9,
   "id": "31f6d4fe",
   "metadata": {},
   "outputs": [
    {
     "data": {
      "text/plain": [
       "2        en\n",
       "4        en\n",
       "18       en\n",
       "31       en\n",
       "42       en\n",
       "         ..\n",
       "19704    en\n",
       "19705    en\n",
       "19709    en\n",
       "19712    en\n",
       "19713    en\n",
       "Name: Language, Length: 5757, dtype: category\n",
       "Categories (1, object): ['en']"
      ]
     },
     "execution_count": 9,
     "metadata": {},
     "output_type": "execute_result"
    }
   ],
   "source": [
    "oly_enposts['Language'].astype('category')"
   ]
  },
  {
   "cell_type": "code",
   "execution_count": 10,
   "id": "af3851e3",
   "metadata": {},
   "outputs": [
    {
     "data": {
      "text/plain": [
       "2        post\n",
       "4        post\n",
       "18       post\n",
       "31       post\n",
       "42       post\n",
       "         ... \n",
       "19704    post\n",
       "19705    post\n",
       "19709    post\n",
       "19712    post\n",
       "19713    post\n",
       "Name: Thread Entry Type, Length: 5757, dtype: category\n",
       "Categories (1, object): ['post']"
      ]
     },
     "execution_count": 10,
     "metadata": {},
     "output_type": "execute_result"
    }
   ],
   "source": [
    "oly_enposts['Thread Entry Type'].astype('category')"
   ]
  },
  {
   "cell_type": "code",
   "execution_count": 11,
   "id": "2fe8be7f",
   "metadata": {},
   "outputs": [
    {
     "data": {
      "text/plain": [
       "2     \"To be blunt, it started women's basketball in...\n",
       "4     I beat my own record! The new one is 52!!! @US...\n",
       "18    Just what my swim kid needed! Thanks for the t...\n",
       "31                       We are trying our best! @USAWP\n",
       "42    And we are live @RobStoneONFOX @USMNT #joshwol...\n",
       "Name: Full Text, dtype: object"
      ]
     },
     "execution_count": 11,
     "metadata": {},
     "output_type": "execute_result"
    }
   ],
   "source": [
    "oly_enposts['Full Text'].head()"
   ]
  },
  {
   "cell_type": "code",
   "execution_count": 12,
   "id": "393bff6e",
   "metadata": {},
   "outputs": [
    {
     "data": {
      "text/plain": [
       "'\"To be blunt, it started women\\'s basketball in this country. It gave it the notoriety it deserved.\" -@s10bird We close #WomensHistoryMonth by celebrating the team that started a DYNASTY: The 1996 women of @usabasketball. https://t.co/TI5wWOtjtP'"
      ]
     },
     "execution_count": 12,
     "metadata": {},
     "output_type": "execute_result"
    }
   ],
   "source": [
    "oly_enposts['Full Text'].iloc[0]"
   ]
  },
  {
   "cell_type": "code",
   "execution_count": 13,
   "id": "ef9f1d31",
   "metadata": {},
   "outputs": [
    {
     "data": {
      "text/plain": [
       "\".@iocmedia's decision to postpone @Tokyo2020 may not be taken in isolation. The ripple effect could cause #disruption of the cycle of various other major events like @aelifthosting @birminghamcg22.\""
      ]
     },
     "execution_count": 13,
     "metadata": {},
     "output_type": "execute_result"
    }
   ],
   "source": [
    "oly_enposts['Full Text'].iloc[4500]"
   ]
  },
  {
   "cell_type": "code",
   "execution_count": 15,
   "id": "d16ccd0b",
   "metadata": {},
   "outputs": [
    {
     "data": {
      "text/plain": [
       "\".@iocmedia's decision to postpone @tokyo2020 may not be taken in isolation. the ripple effect could cause #disruption of the cycle of various other major events like @aelifthosting @birminghamcg22.\""
      ]
     },
     "execution_count": 15,
     "metadata": {},
     "output_type": "execute_result"
    }
   ],
   "source": [
    "oly_enposts['Full Text'].iloc[4500].lower()"
   ]
  },
  {
   "cell_type": "code",
   "execution_count": 16,
   "id": "4a476a76",
   "metadata": {},
   "outputs": [],
   "source": [
    "text_lower = [x.lower() for x in oly_enposts['Full Text']]"
   ]
  },
  {
   "cell_type": "code",
   "execution_count": 17,
   "id": "6640ee64",
   "metadata": {},
   "outputs": [
    {
     "data": {
      "text/plain": [
       "\".@iocmedia's decision to postpone @tokyo2020 may not be taken in isolation. the ripple effect could cause #disruption of the cycle of various other major events like @aelifthosting @birminghamcg22.\""
      ]
     },
     "execution_count": 17,
     "metadata": {},
     "output_type": "execute_result"
    }
   ],
   "source": [
    "text_lower[4500]"
   ]
  },
  {
   "cell_type": "code",
   "execution_count": 18,
   "id": "6f762eb4",
   "metadata": {},
   "outputs": [],
   "source": [
    "import nltk\n",
    "from nltk import tokenize as tk\n",
    "# nltk.download('punkt')"
   ]
  },
  {
   "cell_type": "code",
   "execution_count": 23,
   "id": "f58c6cae",
   "metadata": {},
   "outputs": [
    {
     "data": {
      "text/plain": [
       "['.',\n",
       " '@',\n",
       " 'iocmedia',\n",
       " \"'s\",\n",
       " 'decision',\n",
       " 'to',\n",
       " 'postpone',\n",
       " '@',\n",
       " 'tokyo2020',\n",
       " 'may',\n",
       " 'not',\n",
       " 'be',\n",
       " 'taken',\n",
       " 'in',\n",
       " 'isolation',\n",
       " '.',\n",
       " 'the',\n",
       " 'ripple',\n",
       " 'effect',\n",
       " 'could',\n",
       " 'cause',\n",
       " '#',\n",
       " 'disruption',\n",
       " 'of',\n",
       " 'the',\n",
       " 'cycle',\n",
       " 'of',\n",
       " 'various',\n",
       " 'other',\n",
       " 'major',\n",
       " 'events',\n",
       " 'like',\n",
       " '@',\n",
       " 'aelifthosting',\n",
       " '@',\n",
       " 'birminghamcg22',\n",
       " '.']"
      ]
     },
     "execution_count": 23,
     "metadata": {},
     "output_type": "execute_result"
    }
   ],
   "source": [
    "tk.word_tokenize(text_lower[4500])"
   ]
  },
  {
   "cell_type": "code",
   "execution_count": 36,
   "id": "866bc31c",
   "metadata": {},
   "outputs": [],
   "source": [
    "tokens = [tk.word_tokenize(x) for x in text_lower]"
   ]
  },
  {
   "cell_type": "code",
   "execution_count": 40,
   "id": "d809ad72",
   "metadata": {},
   "outputs": [
    {
     "data": {
      "text/plain": [
       "['``',\n",
       " 'to',\n",
       " 'be',\n",
       " 'blunt',\n",
       " ',',\n",
       " 'it',\n",
       " 'started',\n",
       " 'women',\n",
       " \"'s\",\n",
       " 'basketball',\n",
       " 'in',\n",
       " 'this',\n",
       " 'country',\n",
       " '.',\n",
       " 'it',\n",
       " 'gave',\n",
       " 'it',\n",
       " 'the',\n",
       " 'notoriety',\n",
       " 'it',\n",
       " 'deserved',\n",
       " '.',\n",
       " \"''\",\n",
       " '-',\n",
       " '@',\n",
       " 's10bird',\n",
       " 'we',\n",
       " 'close',\n",
       " '#',\n",
       " 'womenshistorymonth',\n",
       " 'by',\n",
       " 'celebrating',\n",
       " 'the',\n",
       " 'team',\n",
       " 'that',\n",
       " 'started',\n",
       " 'a',\n",
       " 'dynasty',\n",
       " ':',\n",
       " 'the',\n",
       " '1996',\n",
       " 'women',\n",
       " 'of',\n",
       " '@',\n",
       " 'usabasketball',\n",
       " '.',\n",
       " 'https',\n",
       " ':',\n",
       " '//t.co/ti5wwotjtp']"
      ]
     },
     "execution_count": 40,
     "metadata": {},
     "output_type": "execute_result"
    }
   ],
   "source": [
    "tokens[0]"
   ]
  },
  {
   "cell_type": "code",
   "execution_count": 24,
   "id": "39c7cad6",
   "metadata": {},
   "outputs": [],
   "source": [
    "from nltk.corpus import stopwords\n",
    "# nltk.download('stopwords')"
   ]
  },
  {
   "cell_type": "code",
   "execution_count": 35,
   "id": "6bcf1ec4",
   "metadata": {},
   "outputs": [
    {
     "data": {
      "text/plain": [
       "['i',\n",
       " 'me',\n",
       " 'my',\n",
       " 'myself',\n",
       " 'we',\n",
       " 'our',\n",
       " 'ours',\n",
       " 'ourselves',\n",
       " 'you',\n",
       " \"you're\",\n",
       " \"you've\",\n",
       " \"you'll\",\n",
       " \"you'd\",\n",
       " 'your',\n",
       " 'yours',\n",
       " 'yourself',\n",
       " 'yourselves',\n",
       " 'he',\n",
       " 'him',\n",
       " 'his',\n",
       " 'himself',\n",
       " 'she',\n",
       " \"she's\",\n",
       " 'her',\n",
       " 'hers',\n",
       " 'herself',\n",
       " 'it',\n",
       " \"it's\",\n",
       " 'its',\n",
       " 'itself',\n",
       " 'they',\n",
       " 'them',\n",
       " 'their',\n",
       " 'theirs',\n",
       " 'themselves',\n",
       " 'what',\n",
       " 'which',\n",
       " 'who',\n",
       " 'whom',\n",
       " 'this',\n",
       " 'that',\n",
       " \"that'll\",\n",
       " 'these',\n",
       " 'those',\n",
       " 'am',\n",
       " 'is',\n",
       " 'are',\n",
       " 'was',\n",
       " 'were',\n",
       " 'be',\n",
       " 'been',\n",
       " 'being',\n",
       " 'have',\n",
       " 'has',\n",
       " 'had',\n",
       " 'having',\n",
       " 'do',\n",
       " 'does',\n",
       " 'did',\n",
       " 'doing',\n",
       " 'a',\n",
       " 'an',\n",
       " 'the',\n",
       " 'and',\n",
       " 'but',\n",
       " 'if',\n",
       " 'or',\n",
       " 'because',\n",
       " 'as',\n",
       " 'until',\n",
       " 'while',\n",
       " 'of',\n",
       " 'at',\n",
       " 'by',\n",
       " 'for',\n",
       " 'with',\n",
       " 'about',\n",
       " 'against',\n",
       " 'between',\n",
       " 'into',\n",
       " 'through',\n",
       " 'during',\n",
       " 'before',\n",
       " 'after',\n",
       " 'above',\n",
       " 'below',\n",
       " 'to',\n",
       " 'from',\n",
       " 'up',\n",
       " 'down',\n",
       " 'in',\n",
       " 'out',\n",
       " 'on',\n",
       " 'off',\n",
       " 'over',\n",
       " 'under',\n",
       " 'again',\n",
       " 'further',\n",
       " 'then',\n",
       " 'once',\n",
       " 'here',\n",
       " 'there',\n",
       " 'when',\n",
       " 'where',\n",
       " 'why',\n",
       " 'how',\n",
       " 'all',\n",
       " 'any',\n",
       " 'both',\n",
       " 'each',\n",
       " 'few',\n",
       " 'more',\n",
       " 'most',\n",
       " 'other',\n",
       " 'some',\n",
       " 'such',\n",
       " 'no',\n",
       " 'nor',\n",
       " 'not',\n",
       " 'only',\n",
       " 'own',\n",
       " 'same',\n",
       " 'so',\n",
       " 'than',\n",
       " 'too',\n",
       " 'very',\n",
       " 's',\n",
       " 't',\n",
       " 'can',\n",
       " 'will',\n",
       " 'just',\n",
       " 'don',\n",
       " \"don't\",\n",
       " 'should',\n",
       " \"should've\",\n",
       " 'now',\n",
       " 'd',\n",
       " 'll',\n",
       " 'm',\n",
       " 'o',\n",
       " 're',\n",
       " 've',\n",
       " 'y',\n",
       " 'ain',\n",
       " 'aren',\n",
       " \"aren't\",\n",
       " 'couldn',\n",
       " \"couldn't\",\n",
       " 'didn',\n",
       " \"didn't\",\n",
       " 'doesn',\n",
       " \"doesn't\",\n",
       " 'hadn',\n",
       " \"hadn't\",\n",
       " 'hasn',\n",
       " \"hasn't\",\n",
       " 'haven',\n",
       " \"haven't\",\n",
       " 'isn',\n",
       " \"isn't\",\n",
       " 'ma',\n",
       " 'mightn',\n",
       " \"mightn't\",\n",
       " 'mustn',\n",
       " \"mustn't\",\n",
       " 'needn',\n",
       " \"needn't\",\n",
       " 'shan',\n",
       " \"shan't\",\n",
       " 'shouldn',\n",
       " \"shouldn't\",\n",
       " 'wasn',\n",
       " \"wasn't\",\n",
       " 'weren',\n",
       " \"weren't\",\n",
       " 'won',\n",
       " \"won't\",\n",
       " 'wouldn',\n",
       " \"wouldn't\"]"
      ]
     },
     "execution_count": 35,
     "metadata": {},
     "output_type": "execute_result"
    }
   ],
   "source": [
    "stopwords.words('english')"
   ]
  },
  {
   "cell_type": "code",
   "execution_count": 41,
   "id": "41d1e73b",
   "metadata": {},
   "outputs": [],
   "source": [
    "filtered = []\n",
    "for i in tokens:\n",
    "    filtered.append([word for word in i if word not in stopwords.words('english')])"
   ]
  },
  {
   "cell_type": "code",
   "execution_count": 45,
   "id": "4114857d",
   "metadata": {},
   "outputs": [
    {
     "data": {
      "text/plain": [
       "['``',\n",
       " 'blunt',\n",
       " ',',\n",
       " 'started',\n",
       " 'women',\n",
       " \"'s\",\n",
       " 'basketball',\n",
       " 'country',\n",
       " '.',\n",
       " 'gave',\n",
       " 'notoriety',\n",
       " 'deserved',\n",
       " '.',\n",
       " \"''\",\n",
       " '-',\n",
       " '@',\n",
       " 's10bird',\n",
       " 'close',\n",
       " '#',\n",
       " 'womenshistorymonth',\n",
       " 'celebrating',\n",
       " 'team',\n",
       " 'started',\n",
       " 'dynasty',\n",
       " ':',\n",
       " '1996',\n",
       " 'women',\n",
       " '@',\n",
       " 'usabasketball',\n",
       " '.',\n",
       " 'https',\n",
       " ':',\n",
       " '//t.co/ti5wwotjtp']"
      ]
     },
     "execution_count": 45,
     "metadata": {},
     "output_type": "execute_result"
    }
   ],
   "source": [
    "filtered[0]"
   ]
  },
  {
   "cell_type": "code",
   "execution_count": 46,
   "id": "d66d5cb7",
   "metadata": {},
   "outputs": [],
   "source": [
    "import string"
   ]
  },
  {
   "cell_type": "code",
   "execution_count": 48,
   "id": "07220e59",
   "metadata": {},
   "outputs": [
    {
     "data": {
      "text/plain": [
       "'!\"#$%&\\'()*+,-./:;<=>?@[\\\\]^_`{|}~'"
      ]
     },
     "execution_count": 48,
     "metadata": {},
     "output_type": "execute_result"
    }
   ],
   "source": [
    "string.punctuation"
   ]
  },
  {
   "cell_type": "code",
   "execution_count": 49,
   "id": "2469a60b",
   "metadata": {},
   "outputs": [],
   "source": [
    "less_punct = []\n",
    "for i in filtered:\n",
    "    less_punct.append([word for word in i if word not in string.punctuation])"
   ]
  },
  {
   "cell_type": "code",
   "execution_count": 50,
   "id": "09c6a96d",
   "metadata": {},
   "outputs": [
    {
     "data": {
      "text/plain": [
       "['``',\n",
       " 'blunt',\n",
       " 'started',\n",
       " 'women',\n",
       " \"'s\",\n",
       " 'basketball',\n",
       " 'country',\n",
       " 'gave',\n",
       " 'notoriety',\n",
       " 'deserved',\n",
       " \"''\",\n",
       " 's10bird',\n",
       " 'close',\n",
       " 'womenshistorymonth',\n",
       " 'celebrating',\n",
       " 'team',\n",
       " 'started',\n",
       " 'dynasty',\n",
       " '1996',\n",
       " 'women',\n",
       " 'usabasketball',\n",
       " 'https',\n",
       " '//t.co/ti5wwotjtp']"
      ]
     },
     "execution_count": 50,
     "metadata": {},
     "output_type": "execute_result"
    }
   ],
   "source": [
    "less_punct[0]"
   ]
  },
  {
   "cell_type": "code",
   "execution_count": 51,
   "id": "0a8ee917",
   "metadata": {},
   "outputs": [],
   "source": [
    "stemmer = nltk.stem.SnowballStemmer(\"english\")"
   ]
  },
  {
   "cell_type": "code",
   "execution_count": 55,
   "id": "ce4d4a44",
   "metadata": {},
   "outputs": [
    {
     "data": {
      "text/plain": [
       "'deserv'"
      ]
     },
     "execution_count": 55,
     "metadata": {},
     "output_type": "execute_result"
    }
   ],
   "source": [
    "stemmer.stem(less_punct[0][9])"
   ]
  },
  {
   "cell_type": "code",
   "execution_count": 56,
   "id": "c1d63c6a",
   "metadata": {},
   "outputs": [],
   "source": [
    "stems = []\n",
    "for i in less_punct:\n",
    "    stems.append([stemmer.stem(word) for word in i])"
   ]
  },
  {
   "cell_type": "code",
   "execution_count": 57,
   "id": "28edc789",
   "metadata": {},
   "outputs": [
    {
     "data": {
      "text/plain": [
       "['``',\n",
       " 'blunt',\n",
       " 'start',\n",
       " 'women',\n",
       " \"'s\",\n",
       " 'basketbal',\n",
       " 'countri',\n",
       " 'gave',\n",
       " 'notorieti',\n",
       " 'deserv',\n",
       " \"''\",\n",
       " 's10bird',\n",
       " 'close',\n",
       " 'womenshistorymonth',\n",
       " 'celebr',\n",
       " 'team',\n",
       " 'start',\n",
       " 'dynasti',\n",
       " '1996',\n",
       " 'women',\n",
       " 'usabasketbal',\n",
       " 'https',\n",
       " '//t.co/ti5wwotjtp']"
      ]
     },
     "execution_count": 57,
     "metadata": {},
     "output_type": "execute_result"
    }
   ],
   "source": [
    "stems[0]"
   ]
  },
  {
   "cell_type": "code",
   "execution_count": 58,
   "id": "a30ac74d",
   "metadata": {},
   "outputs": [],
   "source": [
    "from nltk import FreqDist\n",
    "from collections import Counter"
   ]
  },
  {
   "cell_type": "code",
   "execution_count": 59,
   "id": "7a2f28d6",
   "metadata": {},
   "outputs": [],
   "source": [
    "freqs = [FreqDist(x) for x in stems]"
   ]
  },
  {
   "cell_type": "code",
   "execution_count": 60,
   "id": "f2711006",
   "metadata": {},
   "outputs": [
    {
     "data": {
      "text/plain": [
       "FreqDist({'start': 2, 'women': 2, '``': 1, 'blunt': 1, \"'s\": 1, 'basketbal': 1, 'countri': 1, 'gave': 1, 'notorieti': 1, 'deserv': 1, ...})"
      ]
     },
     "execution_count": 60,
     "metadata": {},
     "output_type": "execute_result"
    }
   ],
   "source": [
    "freqs[0]"
   ]
  },
  {
   "cell_type": "code",
   "execution_count": 62,
   "id": "e9981598",
   "metadata": {},
   "outputs": [],
   "source": [
    "counts = [Counter(x) for x in freqs]"
   ]
  },
  {
   "cell_type": "code",
   "execution_count": 63,
   "id": "c0744432",
   "metadata": {},
   "outputs": [],
   "source": [
    "wordcounts = Counter()\n",
    "for i in counts:\n",
    "    wordcounts += i"
   ]
  },
  {
   "cell_type": "code",
   "execution_count": 69,
   "id": "ef33aea6",
   "metadata": {},
   "outputs": [
    {
     "data": {
      "text/plain": [
       "dict_values([279, 2, 145, 120, 678, 39, 95, 12, 1, 23, 277, 2, 41, 18, 67, 334, 2, 5, 90, 4142, 1, 20, 20, 283, 316, 1, 14, 142, 6, 10, 1, 1, 1, 1, 1, 2, 1, 1, 43, 32, 197, 271, 19, 129, 61, 160, 84, 145, 3, 201, 1, 1, 1080, 123, 195, 20, 20, 102, 29, 12, 17, 8, 137, 22, 31, 9, 2, 658, 86, 44, 38, 2, 1, 48, 2, 1, 1, 1, 1, 23, 1, 78, 3, 1, 1, 1, 1, 1, 1, 1, 1, 1, 2, 3, 1, 1, 1, 10, 10, 236, 77, 10, 12, 10, 10, 10, 33, 10, 1, 1, 1, 1, 1, 5, 1, 1, 1, 1, 1, 1, 1, 1, 1, 1, 4, 1, 10, 1, 36, 7, 19, 24, 105, 1, 1, 1, 56, 4, 2, 2, 20, 4, 2, 47, 116, 11, 1, 23, 1, 1, 29, 74, 1, 1, 1, 1, 1, 1, 1, 340, 1, 142, 46, 5, 12, 48, 10, 9, 48, 235, 11, 3, 22, 14, 239, 1, 8, 2, 2, 1, 18, 2, 32, 13, 1, 1, 1, 1, 1, 99, 1, 1, 201, 182, 2, 26, 17, 1, 4, 32, 58, 10, 80, 1, 68, 12, 12, 40, 10, 1, 1, 284, 2, 8, 207, 31, 2, 2, 10, 196, 4, 13, 195, 1, 1, 1, 1, 21, 102, 2, 1, 27, 124, 11, 5, 1, 115, 170, 47, 1, 1, 1, 1, 1, 1, 66, 2, 1, 26, 2808, 1495, 36, 157, 48, 189, 31, 527, 654, 1, 1, 6, 1, 3, 1, 1, 1, 1, 47, 19, 87, 5, 109, 83, 19, 30, 2, 35, 19, 39, 11, 9, 785, 5, 141, 1, 47, 2, 16, 13, 1, 1, 1, 1, 1, 1, 1, 52, 49, 1, 4, 19, 3, 52, 33, 135, 92, 67, 24, 8, 8, 7, 12, 182, 5, 3, 10, 7, 110, 1, 1, 5, 3, 11, 392, 93, 108, 1, 7, 1, 87, 47, 2777, 9, 16, 362, 2, 1, 90, 1034, 146, 3, 105, 54, 17, 110, 4, 19, 1, 18, 9, 56, 1, 2, 84, 27, 97, 16, 25, 4, 1, 6, 9, 2, 6, 146, 121, 100, 101, 21, 274, 17, 1, 1, 16, 2, 80, 1, 24, 38, 3, 3, 2, 6, 17, 1, 1, 3, 1, 7, 32, 1, 1, 13, 12, 110, 38, 1, 16, 2, 28, 1, 199, 7, 229, 8, 2, 9, 59, 14, 1, 2, 225, 2, 1, 40, 41, 1, 7, 7, 1, 9, 14, 16, 3, 2, 2, 1, 1, 29, 1, 1, 40, 1, 63, 1, 97, 9, 219, 39, 16, 23, 32, 2, 15, 8, 147, 92, 34, 14, 1, 1, 8, 163, 20, 49, 10, 151, 4, 59, 6, 3, 2, 2, 7, 7, 3, 4, 5, 1, 302, 2, 74, 13, 4, 2, 17, 19, 14, 7, 2, 2, 2, 2, 2, 2, 1, 1, 16, 93, 131, 105, 7, 307, 51, 3, 8, 31, 29, 1, 85, 837, 160, 647, 106, 222, 4, 149, 17, 120, 33, 67, 26, 1, 53, 39, 21, 2, 38, 15, 29, 205, 17, 77, 6, 1, 1, 1, 1, 19, 1, 150, 12, 184, 48, 167, 64, 1, 67, 10, 1, 7, 136, 7, 32, 9, 30, 3, 7, 98, 14, 91, 4, 1, 2, 27, 3, 14, 6, 17, 8, 14, 75, 1, 200, 35, 1, 1, 1, 1, 413, 6, 13, 2, 74, 4, 1, 3, 18, 50, 1, 68, 1, 52, 25, 243, 3, 1, 44, 149, 51, 3, 8, 2, 64, 4, 7, 1, 143, 12, 94, 7, 10, 3, 4, 2, 1, 30, 3, 4, 1, 1, 33, 5, 1, 1, 1, 1, 3, 18, 72, 5, 20, 2, 8, 1, 2, 10, 185, 10, 18, 36, 1, 4, 1, 1, 1, 1, 1, 6, 143, 204, 1, 17, 1, 40, 1, 1, 1, 6, 2, 2, 1, 28, 62, 1, 1, 33, 1, 1, 1, 1, 60, 10, 1, 3, 122, 1, 1, 23, 3, 2, 6, 11, 8, 3, 6, 41, 152, 2, 1, 20, 92, 20, 1, 1, 1, 1, 7, 2, 3, 1, 1, 1, 1, 73, 1, 48, 203, 13, 226, 9, 89, 1, 1, 4, 140, 1, 1, 1, 11, 1, 1, 1, 1, 1, 10, 5, 23, 3, 12, 31, 2, 23, 5, 1, 201, 1, 1, 1, 5, 2, 22, 9, 9, 8, 20, 5, 1, 18, 3, 3, 29, 96, 2, 1, 8, 21, 515, 172, 11, 7, 5, 94, 92, 8, 1, 1, 3, 8, 4, 12, 13, 10, 13, 4, 1, 1, 1, 2, 1, 1, 1, 26, 67, 62, 51, 11, 65, 5, 92, 4, 2, 4, 17, 1, 2, 1, 1, 30, 6, 19, 4, 26, 23, 3, 52, 101, 2, 10, 23, 15, 10, 1, 9, 9, 2, 1, 50, 1, 4, 1, 1, 48, 57, 54, 152, 59, 1, 5, 2, 3, 1, 1, 1, 2, 4, 1, 11, 4, 1, 177, 3, 70, 1, 1, 99, 27, 27, 53, 4, 2, 5, 3, 1, 1, 2, 34, 50, 1, 2, 114, 1, 15, 42, 86, 5, 62, 1, 9, 4, 37, 1, 41, 1, 2, 1, 1, 26, 5, 3, 1, 1, 1, 1, 3, 1, 1, 1, 84, 7, 1, 1, 7, 1, 6, 1, 1, 1, 1, 10, 1, 141, 50, 60, 12, 22, 14, 1, 6, 9, 14, 14, 38, 506, 1, 1, 56, 1, 3, 1, 2, 1, 1, 7, 23, 3, 1, 55, 2, 1, 7, 1, 24, 1, 1, 33, 61, 3, 9, 1, 24, 1, 1, 40, 49, 10, 44, 1, 1, 2, 14, 1, 129, 2, 1, 37, 1, 1, 44, 1, 4, 1, 1, 17, 1, 5, 31, 26, 79, 246, 1, 3, 2, 1, 2, 7, 253, 79, 14, 38, 89, 19, 81, 2, 67, 95, 63, 74, 1, 1, 1, 3, 3, 1, 5, 427, 116, 135, 1, 1, 28, 40, 4, 1, 33, 6, 18, 4, 2, 3, 6, 1, 69, 1, 124, 37, 9, 7, 23, 5, 1, 2, 18, 2, 10, 1, 181, 1, 1, 1, 1, 20, 14, 2, 19, 6, 2, 1, 14, 3, 70, 8, 1, 6, 39, 1, 1, 1, 1, 3, 2, 23, 57, 9, 7, 51, 5, 3, 1, 2, 1, 2, 2, 2, 1, 1, 7, 4, 1, 1, 1, 1, 4, 45, 1, 1, 11, 59, 1, 1, 17, 17, 1, 1, 8, 108, 51, 202, 47, 37, 19, 1, 10, 1, 81, 1, 12, 4, 6, 1, 3, 4, 1, 1, 49, 5, 2, 1, 2, 9, 18, 32, 7, 14, 3, 22, 4, 2, 14, 2, 46, 2, 1, 1, 1, 12, 7, 1, 1, 10, 1, 1, 1, 22, 67, 12, 43, 3, 102, 25, 24, 33, 1, 19, 3, 1, 39, 93, 10, 24, 122, 1, 1, 6, 2, 2, 4, 4, 5, 2, 2, 2, 2, 2, 13, 26, 2, 2, 7, 1, 18, 15, 33, 498, 90, 93, 283, 1, 68, 20, 2, 4, 1, 7, 21, 3, 1, 1, 2, 1, 1, 1, 13, 1, 1, 11, 1, 1, 1, 1, 1, 2, 1, 1, 53, 7, 2, 8, 1, 15, 4, 3, 14, 4, 1, 222, 105, 111, 1, 1, 1, 3, 11, 8, 6, 1, 3, 3, 4, 6, 1, 1, 1, 1, 2, 1, 31, 1, 1, 2, 14, 31, 37, 39, 10, 17, 27, 27, 1, 1, 11, 60, 1, 2, 34, 19, 1, 6, 1, 280, 1, 76, 62, 1, 1, 18, 1, 2, 20, 4, 1, 15, 1, 1, 3, 1, 1, 6, 1, 1, 8, 549, 42, 1, 15, 72, 22, 8, 2, 174, 3, 1, 12, 33, 7, 1, 59, 2, 3, 1, 1, 4, 1, 1, 32, 3, 14, 3, 1, 3, 5, 5, 1, 1, 1, 21, 9, 22, 1, 1, 1, 1, 1, 10, 43, 62, 56, 24, 21, 4, 4, 4, 5, 1, 3, 24, 25, 52, 2, 1, 58, 1, 1, 1, 1, 2, 2, 1, 7, 6, 1, 1, 2, 34, 1, 14, 20, 7, 53, 17, 1, 1, 6, 22, 1, 1, 15, 23, 2, 45, 1, 7, 10, 1, 17, 2, 1, 2, 1, 1, 4, 54, 1, 2, 1, 1, 1, 2, 2, 1, 1, 2, 1, 11, 3, 1, 5, 17, 1, 1, 2, 5, 1, 1, 1, 16, 1, 41, 20, 1, 5, 14, 2, 2, 13, 58, 2, 7, 6, 24, 3, 2, 31, 1, 9, 2, 1, 175, 15, 7, 34, 28, 2, 15, 76, 18, 6, 12, 2, 1, 13, 1, 1, 43, 4, 2, 1, 7, 1, 1, 1, 3, 1, 3, 1, 7, 27, 2, 1, 8, 8, 1, 23, 90, 22, 49, 1, 1, 1, 1, 33, 3, 3, 1, 3, 39, 1, 3, 2, 21, 7, 1, 1, 10, 12, 13, 78, 8, 134, 8, 10, 1, 30, 11, 14, 4, 1, 3, 1, 117, 6, 10, 2, 22, 32, 8, 7, 2, 1, 1, 26, 78, 18, 20, 22, 5, 2, 3, 2, 1, 10, 1, 27, 27, 28, 5, 1, 3, 1, 1, 48, 2, 11, 1, 1, 1, 9, 1, 11, 3, 7, 3, 2, 1, 2, 28, 2, 1, 1, 28, 8, 1, 19, 1, 1, 19, 3, 8, 28, 1, 12, 1, 25, 264, 1, 1, 1, 1, 3, 1, 1, 2, 3, 33, 62, 12, 1, 1, 8, 18, 3, 2, 24, 1, 1, 4, 11, 1, 1, 1, 1, 1, 1, 1, 4, 2, 1, 5, 3, 1, 1, 1, 9, 1, 6, 8, 13, 36, 27, 11, 10, 46, 21, 25, 33, 95, 9, 1, 1, 39, 12, 12, 1, 1, 3, 1, 1, 33, 1, 1, 3, 1, 12, 3, 125, 2, 2, 14, 1, 1, 1, 54, 1, 50, 1, 22, 21, 4, 6, 10, 2, 3, 20, 2, 12, 24, 77, 1, 1, 1, 1, 1, 4, 35, 2, 2, 1, 2, 2, 3, 2, 1, 1, 1, 1, 102, 1, 2, 1, 1, 1, 7, 1, 1, 1, 1, 1, 10, 1, 1, 6, 5, 3, 1, 4, 1, 1, 4, 2, 1, 1, 1, 3, 1, 1, 8, 1, 1, 7, 3, 5, 12, 3, 6, 3, 1, 1, 1, 1, 2, 28, 41, 5, 7, 16, 1, 9, 2, 10, 1, 3, 1, 2, 5, 1, 13, 2, 4, 1, 5, 9, 6, 2, 4, 34, 1, 2, 7, 7, 1, 1, 1, 8, 15, 1, 75, 37, 3, 1, 10, 14, 36, 1, 46, 34, 18, 1, 1, 4, 12, 18, 7, 1, 1, 2, 1, 1, 4, 11, 1, 1, 1, 4, 1, 25, 1, 1, 20, 7, 2, 1, 1, 1, 12, 1, 2, 58, 19, 1, 5, 6, 1, 1, 1, 3, 19, 8, 3, 3, 12, 13, 15, 12, 43, 9, 4, 16, 3, 13, 7, 8, 9, 3, 1, 1, 1, 1, 1, 1, 1, 1, 2, 3, 1, 246, 3, 21, 9, 1, 1, 5, 1, 1, 1, 1, 1, 1, 2, 21, 1, 16, 3, 6, 1, 3, 1, 3, 79, 3, 11, 1, 1, 1, 1, 1, 1, 4, 1, 1, 56, 32, 1, 1, 1, 3, 1, 1, 34, 22, 1, 1, 3, 91, 16, 13, 1, 7, 2, 6, 1, 1, 1, 2, 2, 30, 1, 2, 3, 1, 23, 1, 4, 1, 1, 1, 20, 4, 1, 2, 23, 1, 1, 24, 1, 4, 1, 12, 4, 1, 1, 10, 17, 6, 1, 1, 1, 5, 2, 17, 1, 1, 1, 1, 1, 1, 1, 8, 1, 1, 60, 5, 1, 1, 1, 1, 11, 10, 3, 4, 5, 1, 1, 1, 11, 1, 6, 1, 4, 10, 5, 18, 1, 3, 15, 2, 6, 23, 9, 1, 3, 1, 1, 2, 14, 1, 1, 2, 9, 1, 1, 1, 6, 2, 6, 1, 1, 1, 1, 1, 3, 1, 5, 13, 3, 26, 1, 19, 1, 1, 1, 32, 17, 1, 6, 10, 4, 1, 19, 10, 80, 16, 2, 4, 1, 3, 22, 2, 2, 1, 31, 2, 28, 1, 1, 1, 1, 1, 3, 3, 1, 1, 1, 4, 19, 1, 4, 1, 1, 27, 19, 8, 1, 1, 1, 25, 2, 1, 1, 6, 45, 2, 1, 22, 3, 5, 34, 4, 1, 1, 1, 2, 35, 5, 50, 2, 22, 7, 1, 55, 57, 2, 32, 15, 16, 1, 18, 10, 16, 4, 2, 1, 1, 1, 1, 1, 33, 13, 18, 1, 1, 1, 1, 1, 33, 1, 1, 1, 1, 1, 1, 33, 23, 13, 3, 11, 1, 18, 1, 12, 1, 9, 1, 11, 1, 1, 1, 1, 1, 1, 102, 1, 1, 21, 1, 1, 1, 1, 1, 1, 37, 1, 5, 1, 3, 1, 1, 1, 1, 12, 11, 6, 1, 31, 3, 10, 2, 3, 1, 4, 24, 8, 9, 5, 1, 20, 5, 10, 3, 2, 3, 7, 5, 13, 23, 5, 2, 4, 1, 4, 1, 7, 1, 1, 1, 8, 1, 1, 1, 2, 1, 5, 1, 11, 1, 5, 10, 1, 1, 1, 5, 2, 2, 1, 3, 12, 2, 3, 2, 1, 1, 1, 7, 3, 1, 1, 1, 1, 5, 8, 1, 1, 7, 17, 5, 12, 52, 1, 1, 1, 1, 4, 2, 1, 1, 1, 1, 1, 1, 48, 1, 1, 4, 1, 20, 1, 1, 25, 9, 1, 4, 1, 1, 48, 3, 3, 1, 13, 2, 4, 7, 5, 9, 3, 1, 95, 2, 7, 2, 1, 8, 1, 4, 15, 28, 2, 3, 34, 1, 40, 7, 5, 9, 56, 2, 3, 4, 1, 11, 1, 23, 20, 19, 1, 1, 1, 39, 15, 2, 8, 21, 53, 1, 12, 1, 2, 1, 1, 3, 1, 6, 13, 1, 1, 1, 5, 1, 9, 1, 5, 1, 1, 1, 10, 1, 1, 1, 2, 1, 2, 5, 2, 1, 1, 1, 7, 2, 4, 2, 1, 1, 80, 7, 8, 5, 1, 1, 2, 1, 2, 13, 3, 2, 1, 5, 2, 1, 1, 1, 1, 1, 29, 13, 1, 9, 1, 18, 7, 15, 13, 1, 2, 1, 1, 42, 1, 1, 1, 1, 18, 1, 1, 1, 1, 1, 1, 1, 3, 10, 1, 5, 1, 9, 3, 6, 1, 36, 10, 1, 6, 1, 1, 13, 8, 5, 1, 1, 25, 2, 4, 3, 20, 1, 8, 1, 5, 14, 1, 35, 1, 12, 3, 4, 1, 15, 1, 11, 1, 1, 1, 1, 22, 1, 1, 2, 3, 75, 6, 1, 1, 3, 2, 2, 1, 17, 1, 1, 1, 13, 7, 8, 1, 2, 4, 1, 1, 1, 1, 1, 2, 2, 1, 1, 1, 4, 4, 1, 9, 2, 1, 1, 19, 1, 3, 8, 17, 5, 18, 17, 26, 5, 37, 1, 1, 1, 1, 15, 13, 5, 1, 1, 4, 19, 2, 17, 4, 3, 17, 1, 1, 1, 1, 1, 1, 1, 1, 1, 1, 1, 1, 1, 1, 1, 1, 1, 5, 11, 1, 1, 11, 12, 2, 1, 1, 1, 2, 1, 1, 1, 1, 1, 32, 1, 1, 4, 1, 1, 1, 2, 1, 1, 1, 11, 1, 8, 1, 20, 2, 2, 1, 21, 4, 4, 2, 1, 1, 1, 1, 1, 1, 1, 9, 1, 1, 22, 23, 1, 1, 1, 8, 1, 3, 2, 1, 1, 12, 2, 41, 1, 6, 3, 1, 4, 7, 4, 1, 1, 28, 4, 10, 1, 1, 4, 5, 1, 3, 40, 1, 1, 1, 36, 2, 1, 3, 1, 3, 6, 3, 3, 28, 4, 1, 1, 1, 1, 45, 18, 1, 13, 18, 6, 3, 1, 1, 1, 1, 1, 1, 13, 1, 1, 3, 1, 3, 2, 1, 2, 5, 2, 3, 2, 7, 18, 1, 1, 1, 2, 10, 5, 19, 10, 11, 1, 1, 1, 1, 1, 8, 2, 3, 2, 3, 1, 5, 1, 4, 7, 3, 4, 1, 4, 33, 1, 1, 1, 31, 1, 26, 14, 1, 3, 1, 1, 1, 4, 1, 5, 1, 3, 4, 3, 1, 2, 6, 1, 34, 3, 6, 10, 1, 2, 26, 9, 8, 6, 1, 18, 3, 10, 1, 2, 4, 26, 100, 1, 7, 1, 1, 1, 1, 1, 11, 3, 1, 1, 1, 1, 3, 8, 16, 3, 1, 4, 4, 1, 1, 1, 1, 33, 4, 1, 2, 2, 1, 1, 1, 4, 1, 1, 6, 9, 2, 1, 2, 4, 1, 2, 10, 5, 1, 1, 15, 3, 5, 2, 2, 2, 1, 10, 1, 1, 4, 1, 23, 10, 1, 5, 2, 1, 3, 1, 1, 1, 6, 1, 2, 1, 12, 1, 2, 2, 1, 5, 11, 8, 18, 12, 7, 3, 3, 3, 3, 3, 1, 7, 2, 1, 1, 1, 1, 9, 3, 4, 8, 1, 1, 12, 3, 1, 1, 1, 78, 1, 1, 2, 2, 1, 1, 1, 1, 1, 2, 1, 48, 1, 1, 23, 6, 2, 18, 12, 7, 4, 2, 1, 73, 1, 2, 3, 3, 1, 3, 4, 1, 1, 2, 3, 3, 1, 1, 1, 1, 61, 41, 5, 8, 2, 30, 4, 7, 16, 12, 22, 2, 4, 4, 23, 3, 13, 24, 1, 19, 1, 1, 1, 1, 1, 7, 1, 1, 15, 6, 14, 19, 6, 33, 19, 1, 1, 4, 4, 6, 7, 1, 34, 37, 4, 10, 5, 1, 1, 1, 3, 1, 5, 1, 2, 7, 3, 1, 8, 21, 1, 22, 8, 2, 4, 2, 6, 1, 1, 1, 1, 2, 1, 3, 2, 1, 24, 19, 1, 1, 1, 1, 2, 1, 1, 1, 12, 6, 6, 3, 11, 3, 1, 1, 1, 2, 1, 9, 1, 1, 1, 3, 3, 1, 1, 2, 1, 1, 2, 1, 1, 1, 1, 2, 1, 1, 1, 6, 3, 1, 1, 1, 1, 4, 5, 3, 4, 1, 8, 10, 1, 1, 20, 2, 1, 12, 33, 1, 11, 1, 18, 1, 1, 3, 1, 1, 2, 4, 1, 1, 5, 1, 1, 4, 6, 1, 1, 4, 6, 2, 2, 12, 1, 1, 16, 1, 17, 1, 1, 57, 5, 26, 1, 2, 1, 7, 5, 2, 1, 20, 1, 7, 1, 1, 1, 1, 1, 2, 3, 1, 1, 4, 2, 7, 22, 1, 26, 4, 3, 2, 11, 2, 11, 4, 3, 3, 13, 16, 2, 9, 1, 1, 49, 4, 1, 3, 1, 1, 1, 4, 12, 3, 3, 1, 1, 1, 1, 1, 1, 1, 1, 1, 1, 7, 26, 19, 6, 8, 1, 1, 17, 1, 2, 15, 28, 1, 1, 1, 3, 10, 4, 1, 6, 1, 1, 1, 12, 1, 4, 9, 3, 14, 2, 6, 2, 1, 1, 5, 1, 35, 1, 23, 1, 1, 5, 6, 7, 1, 1, 1, 1, 1, 3, 3, 1, 1, 27, 1, 1, 1, 2, 24, 5, 3, 12, 2, 2, 12, 1, 5, 27, 6, 23, 3, 1, 1, 1, 1, 2, 2, 1, 29, 20, 1, 14, 1, 1, 2, 4, 5, 1, 2, 30, 1, 2, 7, 1, 1, 3, 1, 2, 1, 19, 1, 1, 5, 3, 5, 1, 16, 9, 1, 12, 5, 32, 2, 1, 3, 13, 7, 1, 1, 1, 1, 1, 1, 1, 1, 1, 1, 1, 1, 5, 154, 1, 1, 2, 4, 2, 1, 6, 11, 1, 2, 5, 1, 2, 2, 1, 5, 1, 1, 2, 7, 1, 20, 1, 4, 2, 1, 1, 1, 1, 2, 1, 6, 1, 2, 2, 9, 2, 16, 1, 2, 5, 2, 1, 1, 1, 1, 1, 1, 1, 1, 1, 1, 1, 1, 8, 1, 11, 1, 18, 1, 4, 1, 1, 2, 1, 1, 1, 1, 1, 1, 4, 6, 47, 10, 2, 19, 1, 3, 1, 27, 11, 4, 19, 1, 3, 1, 1, 2, 3, 3, 3, 6, 1, 2, 14, 10, 2, 9, 24, 1, 8, 7, 7, 3, 1, 9, 24, 2, 1, 1, 1, 5, 2, 6, 2, 1, 4, 2, 8, 1, 1, 1, 1, 1, 1, 1, 5, 1, 2, 1, 4, 1, 3, 1, 1, 1, 2, 1, 2, 1, 5, 1, 1, 1, 1, 1, 1, 3, 2, 12, 5, 6, 1, 13, 1, 1, 1, 1, 1, 11, 1, 1, 7, 1, 1, 9, 1, 22, 1, 1, 1, 8, 12, 9, 5, 1, 2, 1, 2, 11, 7, 1, 1, 3, 2, 1, 1, 2, 1, 1, 1, 1, 1, 9, 6, 1, 2, 5, 1, 1, 1, 1, 1, 21, 1, 2, 1, 1, 1, 1, 6, 1, 1, 1, 1, 14, 26, 2, 1, 1, 17, 1, 9, 1, 1, 1, 1, 1, 1, 5, 1, 10, 1, 2, 4, 3, 3, 4, 3, 9, 8, 11, 13, 12, 6, 4, 4, 7, 5, 3, 1, 3, 1, 1, 1, 2, 1, 1, 1, 1, 8, 2, 2, 2, 1, 1, 1, 4, 2, 1, 2, 9, 1, 1, 1, 1, 12, 14, 5, 29, 1, 1, 1, 1, 4, 42, 3, 2, 2, 1, 19, 1, 2, 4, 1, 4, 1, 1, 1, 28, 11, 1, 3, 9, 29, 1, 11, 1, 1, 1, 1, 5, 4, 1, 1, 1, 1, 1, 1, 3, 6, 1, 1, 1, 1, 1, 20, 1, 1, 1, 7, 1, 1, 1, 1, 1, 2, 1, 1, 1, 1, 2, 5, 3, 1, 1, 1, 4, 1, 1, 1, 1, 1, 2, 1, 1, 1, 1, 13, 1, 22, 1, 1, 4, 1, 2, 1, 1, 3, 4, 3, 3, 2, 8, 3, 3, 1, 1, 1, 1, 13, 16, 25, 1, 4, 1, 1, 5, 6, 1, 1, 1, 1, 1, 2, 12, 7, 1, 1, 7, 1, 6, 1, 2, 13, 3, 1, 14, 3, 1, 1, 3, 1, 1, 1, 1, 1, 1, 2, 3, 1, 1, 1, 1, 3, 1, 1, 1, 1, 2, 12, 7, 1, 3, 7, 3, 1, 1, 1, 4, 1, 1, 1, 1, 8, 6, 2, 2, 1, 1, 2, 2, 2, 6, 23, 2, 1, 2, 1, 25, 5, 1, 6, 1, 1, 1, 1, 1, 1, 22, 4, 11, 11, 5, 2, 3, 1, 1, 15, 3, 1, 9, 47, 11, 1, 2, 1, 17, 9, 6, 1, 2, 34, 37, 9, 16, 1, 11, 6, 9, 17, 2, 11, 5, 14, 15, 1, 1, 1, 2, 7, 1, 2, 1, 1, 1, 6, 1, 6, 9, 10, 5, 1, 1, 2, 44, 3, 1, 3, 11, 1, 4, 1, 13, 2, 1, 2, 1, 1, 1, 1, 1, 2, 1, 9, 1, 1, 1, 1, 1, 1, 2, 7, 1, 6, 1, 3, 5, 10, 2, 11, 1, 12, 1, 2, 2, 1, 7, 1, 8, 11, 5, 5, 5, 2, 1, 1, 1, 3, 2, 12, 1, 4, 25, 63, 1, 6, 26, 12, 1, 1, 15, 6, 1, 1, 1, 1, 44, 2, 3, 7, 4, 1, 11, 1, 1, 1, 11, 6, 8, 7, 1, 1, 6, 1, 4, 24, 1, 20, 7, 5, 3, 2, 5, 6, 1, 2, 1, 3, 1, 1, 6, 1, 1, 18, 1, 11, 3, 1, 12, 3, 1, 1, 8, 1, 8, 1, 12, 1, 2, 1, 25, 4, 1, 17, 25, 4, 1, 12, 5, 1, 1, 1, 6, 7, 3, 1, 1, 2, 1, 13, 3, 9, 1, 1, 4, 2, 9, 1, 1, 2, 1, 13, 3, 1, 10, 1, 1, 36, 1, 1, 5, 3, 1, 7, 1, 1, 2, 1, 1, 1, 1, 1, 2, 1, 8, 23, 4, 1, 2, 2, 1, 9, 6, 1, 6, 1, 3, 1, 1, 4, 1, 1, 1, 1, 1, 3, 10, 5, 1, 1, 1, 1, 15, 5, 1, 4, 1, 1, 3, 1, 8, 1, 1, 1, 1, 1, 1, 1, 1, 3, 3, 1, 2, 1, 1, 1, 1, 2, 2, 1, 3, 1, 2, 1, 1, 1, 1, 13, 6, 1, 1, 3, 1, 12, 24, 1, 1, 2, 1, 1, 2, 3, 2, 1, 2, 5, 1, 1, 1, 1, 1, 8, 1, 1, 2, 2, 2, 2, 1, 1, 5, 1, 3, 4, 7, 2, 5, 1, 14, 4, 17, 1, 5, 1, 1, 1, 1, 1, 2, 3, 5, 75, 11, 1, 1, 1, 5, 1, 3, 1, 2, 2, 4, 1, 9, 6, 4, 20, 1, 2, 3, 2, 2, 1, 1, 1, 1, 1, 1, 1, 1, 3, 3, 5, 1, 1, 6, 1, 1, 2, 1, 2, 1, 1, 2, 1, 21, 1, 1, 1, 13, 1, 1, 1, 13, 1, 4, 3, 10, 1, 1, 2, 1, 1, 1, 10, 2, 1, 8, 1, 60, 5, 1, 1, 1, 4, 1, 1, 3, 17, 1, 7, 2, 22, 20, 1, 3, 1, 1, 1, 1, 7, 5, 1, 1, 2, 1, 2, 2, 2, 1, 2, 7, 3, 2, 42, 2, 1, 1, 5, 1, 2, 1, 1, 20, 1, 1, 6, 1, 1, 1, 4, 4, 4, 5, 1, 9, 11, 3, 2, 1, 1, 15, 1, 1, 2, 1, 1, 1, 23, 1, 1, 3, 1, 3, 1, 1, 1, 2, 8, 3, 3, 3, 3, 3, 1, 4, 1, 1, 1, 3, 4, 3, 4, 1, 35, 1, 3, 1, 1, 2, 1, 4, 4, 1, 1, 1, 1, 2, 2, 1, 1, 1, 1, 3, 2, 1, 1, 1, 1, 1, 1, 1, 1, 6, 3, 1, 1, 13, 3, 1, 1, 1, 1, 1, 7, 4, 1, 1, 5, 1, 1, 5, 1, 3, 2, 1, 1, 1, 1, 7, 1, 2, 1, 10, 6, 1, 6, 1, 1, 1, 7, 1, 1, 14, 2, 1, 1, 2, 1, 1, 4, 1, 5, 50, 2, 1, 6, 7, 2, 6, 1, 8, 22, 1, 1, 1, 26, 10, 1, 1, 1, 2, 1, 1, 1, 1, 59, 5, 1, 1, 2, 2, 1, 1, 2, 12, 1, 1, 1, 1, 1, 1, 6, 1, 6, 1, 1, 1, 1, 10, 1, 1, 1, 2, 1, 1, 1, 1, 3, 1, 2, 5, 3, 1, 4, 1, 1, 1, 19, 2, 2, 1, 1, 1, 4, 1, 1, 1, 9, 12, 1, 1, 1, 3, 1, 1, 1, 1, 2, 3, 1, 14, 1, 1, 1, 1, 1, 1, 1, 1, 3, 18, 4, 1, 1, 3, 1, 1, 16, 5, 1, 2, 1, 1, 3, 2, 1, 1, 2, 30, 1, 3, 10, 1, 1, 2, 10, 2, 5, 3, 1, 1, 1, 16, 3, 9, 1, 1, 6, 1, 5, 1, 1, 1, 1, 3, 1, 1, 2, 10, 1, 1, 1, 5, 1, 1, 1, 1, 1, 1, 1, 1, 1, 1, 1, 1, 8, 1, 1, 1, 17, 1, 22, 3, 1, 1, 1, 3, 5, 5, 5, 53, 4, 7, 1, 13, 4, 6, 22, 2, 5, 1, 1, 2, 3, 3, 2, 1, 1, 32, 1, 4, 3, 3, 3, 1, 1, 1, 2, 2, 1, 1, 1, 2, 1, 1, 5, 1, 3, 1, 1, 8, 1, 1, 1, 1, 3, 1, 1, 1, 1, 5, 4, 1, 1, 1, 1, 1, 3, 1, 1, 17, 2, 1, 1, 1, 1, 2, 9, 1, 1, 2, 11, 1, 3, 1, 1, 1, 1, 3, 1, 1, 5, 2, 1, 1, 1, 2, 1, 1, 15, 6, 1, 1, 18, 3, 1, 1, 1, 2, 1, 2, 1, 1, 3, 1, 1, 1, 18, 1, 1, 1, 2, 1, 4, 1, 3, 1, 1, 1, 2, 1, 1, 1, 1, 1, 1, 1, 3, 1, 1, 1, 7, 1, 1, 1, 1, 1, 3, 1, 2, 2, 1, 1, 2, 7, 2, 1, 2, 2, 2, 2, 2, 2, 1, 3, 4, 8, 5, 2, 5, 2, 3, 1, 2, 1, 1, 1, 1, 3, 2, 1, 1, 8, 2, 5, 2, 1, 1, 1, 4, 1, 1, 1, 1, 1, 1, 1, 3, 1, 1, 1, 2, 1, 1, 1, 1, 2, 1, 23, 1, 8, 1, 39, 2, 6, 8, 17, 5, 5, 10, 6, 5, 9, 6, 3, 1, 1, 1, 1, 1, 3, 1, 1, 2, 1, 1, 1, 2, 14, 1, 1, 2, 1, 9, 1, 8, 3, 3, 2, 1, 1, 3, 7, 13, 1, 1, 1, 1, 1, 2, 1, 7, 3, 3, 5, 15, 33, 3, 3, 3, 4, 5, 5, 4, 8, 7, 4, 5, 4, 4, 4, 4, 4, 4, 4, 4, 4, 1, 1, 1, 15, 1, 3, 1, 1, 1, 1, 1, 1, 1, 2, 2, 2, 4, 1, 19, 7, 47, 3, 1, 1, 1, 1, 2, 1, 1, 1, 14, 7, 10, 8, 12, 1, 1, 15, 1, 3, 3, 1, 1, 3, 1, 1, 1, 1, 1, 1, 7, 10, 2, 1, 1, 6, 11, 2, 29, 2, 1, 1, 25, 2, 1, 15, 5, 1, 18, 1, 2, 1, 1, 2, 19, 12, 7, 15, 1, 1, 1, 1, 8, 1, 1, 1, 1, 2, 1, 1, 1, 1, 1, 2, 1, 2, 1, 1, 1, 1, 1, 1, 3, 1, 11, 1, 1, 1, 1, 1, 1, 1, 1, 1, 1, 3, 1, 1, 18, 1, 1, 4, 10, 13, 43, 1, 1, 4, 1, 1, 1, 1, 1, 2, 8, 2, 4, 2, 2, 4, 2, 1, 1, 2, 1, 1, 1, 5, 2, 2, 4, 7, 12, 1, 1, 1, 1, 1, 3, 10, 1, 1, 1, 1, 3, 3, 1, 1, 1, 5, 9, 1, 1, 22, 1, 8, 2, 10, 1, 1, 1, 6, 3, 2, 1, 3, 1, 1, 1, 1, 2, 2, 2, 2, 1, 1, 1, 1, 1, 1, 2, 4, 4, 2, 5, 1, 1, 1, 1, 3, 1, 10, 5, 1, 2, 20, 1, 4, 2, 1, 1, 1, 1, 1, 1, 3, 1, 1, 1, 1, 1, 1, 1, 1, 1, 1, 1, 1, 1, 1, 4, 1, 1, 1, 1, 1, 1, 1, 1, 1, 4, 1, 1, 5, 1, 17, 14, 6, 1, 1, 3, 12, 1, 1, 4, 1, 1, 1, 2, 1, 1, 11, 1, 10, 1, 6, 1, 1, 1, 1, 1, 1, 1, 1, 1, 1, 1, 1, 4, 3, 4, 3, 6, 3, 6, 6, 2, 1, 1, 1, 1, 1, 1, 2, 1, 5, 1, 1, 1, 1, 4, 3, 1, 1, 1, 1, 1, 1, 5, 1, 1, 8, 2, 1, 2, 1, 1, 1, 2, 1, 9, 2, 2, 3, 2, 2, 1, 4, 5, 4, 4, 4, 4, 1, 1, 4, 6, 3, 2, 3, 1, 1, 1, 1, 1, 1, 1, 1, 1, 5, 1, 1, 51, 1, 1, 3, 1, 1, 1, 1, 1, 1, 1, 31, 1, 1, 2, 1, 1, 1, 9, 3, 1, 2, 1, 1, 1, 11, 1, 1, 4, 1, 1, 1, 1, 1, 1, 3, 2, 2, 1, 1, 2, 1, 1, 1, 1, 1, 1, 4, 1, 1, 1, 2, 1, 1, 1, 2, 1, 1, 1, 1, 29, 6, 6, 1, 1, 4, 1, 4, 5, 1, 20, 6, 1, 34, 4, 1, 1, 1, 1, 1, 2, 1, 1, 1, 1, 2, 9, 1, 1, 1, 2, 13, 4, 4, 5, 1, 1, 1, 2, 2, 1, 1, 5, 5, 1, 1, 1, 1, 1, 4, 1, 1, 1, 6, 1, 1, 1, 1, 1, 1, 1, 1, 1, 1, 1, 1, 1, 1, 1, 4, 1, 1, 1, 29, 3, 3, 11, 1, 5, 1, 1, 6, 1, 1, 1, 2, 1, 1, 1, 1, 4, 4, 1, 1, 1, 1, 4, 2, 1, 4, 1, 6, 1, 6, 1, 1, 1, 1, 1, 1, 24, 1, 2, 1, 1, 1, 1, 1, 1, 1, 1, 8, 1, 1, 1, 49, 1, 1, 1, 1, 1, 1, 2, 1, 1, 1, 1, 1, 1, 1, 4, 3, 4, 2, 1, 13, 5, 1, 2, 2, 14, 1, 1, 1, 1, 1, 3, 1, 1, 1, 4, 4, 1, 4, 1, 1, 1, 1, 1, 1, 1, 2, 1, 1, 2, 1, 3, 2, 34, 1, 2, 3, 1, 4, 1, 3, 1, 2, 1, 5, 2, 1, 1, 1, 1, 2, 1, 1, 1, 1, 1, 1, 1, 1, 1, 1, 1, 1, 1, 1, 1, 1, 1, 4, 1, 10, 1, 1, 1, 1, 1, 1, 4, 4, 1, 7, 1, 1, 1, 1, 21, 1, 1, 1, 2, 1, 1, 7, 4, 7, 4, 1, 2, 13, 4, 1, 1, 1, 8, 31, 1, 1, 1, 1, 1, 1, 1, 1, 1, 9, 1, 3, 1, 2, 8, 1, 1, 1, 2, 5, 2, 1, 1, 15, 10, 1, 1, 3, 5, 1, 1, 1, 1, 1, 2, 2, 1, 6, 1, 4, 8, 1, 1, 4, 1, 2, 1, 1, 4, 3, 2, 3, 1, 1, 1, 1, 3, 11, 1, 1, 1, 1, 1, 5, 2, 2, 15, 1, 1, 2, 3, 1, 4, 1, 1, 1, 1, 1, 3, 4, 2, 2, 11, 1, 1, 1, 1, 1, 2, 6, 1, 9, 8, 1, 1, 7, 1, 17, 1, 1, 1, 1, 1, 2, 1, 1, 1, 1, 53, 2, 35, 6, 5, 1, 1, 1, 10, 1, 1, 14, 1, 3, 2, 4, 1, 1, 1, 3, 1, 9, 1, 1, 1, 6, 1, 1, 1, 1, 1, 2, 1, 1, 4, 4, 10, 6, 2, 1, 1, 1, 1, 1, 2, 3, 1, 1, 1, 1, 1, 1, 1, 1, 1, 1, 2, 4, 2, 4, 5, 1, 2, 1, 2, 1, 1, 1, 1, 2, 4, 2, 1, 3, 2, 1, 1, 8, 1, 1, 1, 1, 1, 1, 1, 1, 2, 1, 1, 1, 1, 1, 1, 2, 6, 1, 1, 1, 1, 1, 2, 1, 3, 1, 1, 1, 1, 8, 2, 1, 4, 1, 1, 1, 20, 3, 6, 12, 3, 5, 3, 2, 2, 2, 1, 1, 1, 6, 1, 11, 1, 1, 5, 3, 2, 1, 1, 4, 3, 5, 11, 1, 1, 1, 4, 3, 1, 1, 2, 1, 1, 1, 2, 3, 3, 6, 1, 2, 2, 2, 2, 1, 2, 3, 2, 2, 1, 2, 1, 1, 1, 1, 1, 13, 2, 16, 1, 1, 1, 1, 1, 1, 1, 1, 1, 1, 1, 6, 3, 3, 2, 11, 4, 1, 2, 1, 1, 1, 1, 2, 1, 2, 1, 1, 2, 1, 2, 1, 2, 4, 3, 1, 1, 9, 5, 8, 1, 14, 6, 1, 3, 2, 1, 1, 1, 2, 7, 2, 2, 2, 2, 5, 4, 2, 2, 2, 2, 1, 1, 1, 1, 1, 1, 1, 1, 3, 2, 1, 1, 1, 2, 1, 3, 1, 1, 1, 1, 1, 4, 1, 1, 1, 1, 1, 7, 3, 1, 1, 1, 5, 1, 1, 1, 1, 1, 1, 1, 1, 1, 2, 2, 1, 1, 1, 19, 1, 1, 1, 1, 1, 16, 2, 1, 1, 1, 1, 1, 6, 1, 1, 1, 2, 1, 1, 2, 1, 1, 10, 3, 1, 1, 1, 1, 1, 2, 1, 1, 2, 1, 1, 1, 1, 1, 1, 1, 4, 4, 4, 1, 7, 1, 1, 1, 1, 3, 3, 1, 5, 1, 3, 4, 1, 1, 6, 4, 12, 8, 6, 6, 2, 2, 5, 2, 2, 1, 1, 1, 1, 3, 1, 1, 1, 3, 1, 7, 1, 3, 7, 1, 1, 1, 1, 2, 1, 1, 2, 1, 4, 1, 2, 1, 3, 1, 1, 1, 1, 5, 5, 1, 3, 1, 1, 1, 1, 3, 1, 2, 1, 1, 3, 1, 5, 7, 2, 1, 2, 1, 2, 1, 1, 5, 1, 1, 2, 3, 1, 2, 1, 12, 5, 1, 1, 7, 1, 1, 1, 1, 5, 3, 4, 2, 1, 1, 1, 1, 1, 1, 6, 2, 11, 1, 1, 1, 1, 1, 2, 1, 1, 1, 1, 1, 2, 2, 3, 5, 2, 1, 1, 1, 1, 1, 1, 1, 2, 1, 4, 2, 1, 2, 1, 2, 1, 1, 1, 1, 1, 1, 3, 1, 1, 1, 1, 1, 1, 2, 1, 1, 2, 1, 1, 1, 1, 14, 1, 1, 1, 1, 3, 1, 1, 1, 2, 7, 1, 1, 1, 1, 1, 3, 1, 8, 1, 1, 1, 1, 13, 6, 4, 1, 1, 1, 1, 1, 6, 1, 1, 1, 6, 2, 1, 9, 1, 1, 1, 2, 1, 3, 1, 3, 1, 3, 2, 6, 3, 1, 1, 1, 1, 1, 1, 1, 2, 1, 1, 2, 1, 1, 1, 1, 1, 1, 1, 1, 1, 4, 1, 2, 1, 1, 1, 1, 1, 1, 1, 1, 1, 1, 2, 1, 3, 5, 1, 3, 2, 1, 1, 1, 4, 1, 2, 1, 1, 1, 1, 2, 1, 1, 1, 3, 1, 1, 4, 1, 2, 3, 1, 1, 1, 1, 1, 1, 6, 1, 1, 1, 1, 1, 1, 1, 1, 1, 16, 1, 2, 4, 1, 2, 1, 1, 2, 1, 2, 1, 1, 1, 1, 3, 1, 2, 2, 1, 1, 2, 2, 3, 3, 11, 1, 1, 1, 1, 1, 3, 1, 1, 1, 1, 1, 1, 1, 1, 1, 1, 1, 2, 8, 1, 1, 2, 2, 1, 1, 1, 3, 1, 1, 1, 2, 1, 1, 3, 1, 1, 1, 1, 1, 1, 1, 1, 3, 1, 1, 21, 5, 4, 1, 1, 1, 4, 1, 8, 8, 1, 2, 2, 1, 1, 1, 12, 1, 9, 1, 4, 1, 2, 7, 1, 1, 14, 2, 2, 1, 1, 1, 1, 1, 1, 1, 1, 1, 3, 1, 1, 1, 6, 1, 1, 1, 1, 1, 1, 1, 1, 1, 1, 1, 1, 1, 6, 3, 1, 3, 1, 1, 1, 6, 2, 1, 1, 1, 15, 3, 1, 3, 2, 1, 1, 1, 1, 4, 3, 1, 2, 1, 1, 6, 1, 1, 2, 1, 7, 1, 8, 1, 1, 1, 4, 1, 2, 2, 1, 2, 1, 4, 2, 8, 1, 4, 1, 3, 2, 1, 1, 1, 1, 1, 1, 7, 1, 4, 1, 1, 3, 1, 3, 1, 7, 1, 1, 1, 1, 3, 1, 1, 1, 18, 2, 1, 1, 1, 1, 1, 1, 1, 1, 1, 1, 25, 2, 5, 7, 3, 2, 2, 1, 1, 1, 1, 1, 1, 1, 1, 1, 1, 4, 1, 1, 1, 1, 1, 3, 1, 1, 1, 1, 1, 1, 1, 1, 2, 2, 2, 1, 1, 1, 1, 7, 1, 1, 1, 1, 2, 1, 2, 1, 7, 1, 1, 1, 8, 25, 1, 1, 1, 1, 1, 1, 1, 1, 1, 5, 8, 1, 5, 1, 17, 28, 1, 2, 2, 2, 1, 1, 1, 6, 2, 3, 1, 1, 4, 1, 5, 1, 1, 1, 6, 8, 2, 1, 7, 16, 1, 7, 2, 1, 17, 3, 4, 1, 1, 1, 3, 3, 3, 2, 1, 2, 1, 1, 2, 2, 2, 1, 3, 1, 1, 1, 1, 1, 1, 1, 1, 1, 1, 1, 1, 1, 1, 1, 1, 1, 1, 5, 4, 2, 69, 1, 6, 1, 1, 2, 1, 6, 8, 3, 1, 1, 2, 1, 3, 1, 1, 3, 11, 3, 2, 2, 2, 2, 2, 2, 2, 2, 2, 2, 2, 2, 2, 2, 1, 6, 2, 1, 1, 1, 1, 1, 1, 1, 1, 2, 4, 1, 1, 1, 1, 1, 1, 5, 1, 1, 1, 1, 1, 8, 1, 1, 1, 1, 1, 1, 1, 1, 1, 2, 1, 3, 1, 1, 1, 1, 1, 1, 5, 1, 1, 1, 1, 2, 2, 1, 1, 1, 1, 1, 2, 1, 4, 1, 1, 1, 2, 2, 2, 11, 21, 1, 1, 1, 1, 1, 1, 2, 4, 1, 3, 2, 1, 2, 5, 1, 1, 1, 1, 1, 5, 1, 1, 2, 2, 2, 1, 1, 1, 1, 4, 1, 1, 1, 2, 1, 1, 1, 11, 2, 4, 2, 1, 1, 23, 1, 1, 1, 1, 1, 1, 1, 3, 4, 2, 1, 1, 11, 8, 1, 2, 1, 1, 1, 1, 1, 8, 5, 1, 5, 1, 1, 3, 6, 3, 1, 1, 2, 1, 1, 1, 2, 11, 2, 1, 12, 19, 2, 1, 1, 2, 1, 8, 1, 1, 1, 1, 1, 2, 2, 1, 1, 1, 2, 1, 1, 2, 2, 4, 5, 4, 1, 1, 1, 2, 6, 2, 2, 2, 5, 2, 3, 2, 1, 1, 1, 2, 2, 1, 1, 2, 3, 1, 1, 5, 1, 2, 3, 2, 7, 4, 3, 1, 1, 1, 1, 1, 8, 2, 4, 1, 1, 1, 4, 1, 1, 10, 5, 1, 1, 1, 1, 1, 1, 1, 10, 1, 1, 8, 1, 6, 1, 2, 4, 3, 5, 1, 1, 1, 4, 3, 4, 4, 1, 1, 1, 1, 1, 1, 1, 1, 1, 2, 1, 1, 5, 1, 1, 1, 2, 1, 1, 1, 3, 10, 1, 1, 1, 1, 1, 5, 1, 2, 2, 1, 1, 1, 1, 1, 1, 1, 1, 5, 4, 1, 1, 1, 2, 3, 1, 1, 2, 14, 1, 1, 1, 1, 1, 1, 1, 1, 2, 2, 1, 1, 1, 2, 2, 1, 2, 1, 1, 3, 3, 12, 3, 3, 1, 1, 4, 1, 1, 1, 1, 1, 1, 2, 7, 1, 2, 2, 1, 1, 1, 1, 35, 4, 3, 10, 2, 1, 1, 1, 1, 1, 1, 1, 3, 4, 1, 2, 1, 1, 1, 1, 1, 1, 8, 1, 1, 1, 1, 1, 1, 1, 1, 1, 1, 1, 1, 1, 3, 1, 1, 1, 1, 1, 1, 1, 1, 1, 6, 1, 1, 1, 1, 1, 1, 1, 1, 1, 4, 5, 1, 1, 1, 1, 1, 1, 2, 1, 2, 1, 1, 1, 1, 1, 1, 2, 1, 1, 1, 1, 2, 9, 1, 2, 1, 1, 1, 1, 1, 1, 1, 1, 1, 1, 1, 3, 1, 1, 2, 1, 2, 1, 1, 1, 1, 4, 2, 1, 5, 1, 1, 1, 1, 1, 1, 1, 9, 2, 1, 6, 1, 1, 1, 4, 1, 1, 3, 7, 1, 1, 1, 3, 1, 1, 1, 1, 4, 1, 1, 1, 1, 1, 1, 2, 1, 2, 1, 1, 1, 1, 1, 4, 1, 1, 1, 1, 5, 1, 1, 1, 1, 1, 1, 1, 1, 7, 1, 3, 3, 1, 1, 7, 1, 1, 1, 1, 1, 1, 1, 1, 5, 2, 2, 2, 1, 2, 1, 1, 2, 1, 5, 4, 4, 15, 1, 3, 4, 1, 4, 8, 2, 2, 3, 4, 2, 1, 1, 1, 1, 1, 7, 1, 1, 1, 3, 1, 1, 1, 1, 1, 1, 1, 1, 1, 1, 1, 1, 1, 1, 1, 1, 1, 1, 3, 1, 2, 1, 1, 2, 5, 1, 1, 1, 5, 10, 1, 3, 1, 2, 1, 1, 2, 1, 1, 1, 1, 1, 1, 1, 2, 1, 5, 5, 1, 1, 1, 1, 1, 4, 1, 1, 1, 2, 12, 1, 1, 1, 3, 1, 2, 5, 1, 1, 1, 1, 1, 1, 2, 1, 1, 1, 1, 3, 1, 1, 1, 5, 1, 1, 1, 1, 1, 1, 1, 1, 4, 1, 8, 11, 1, 1, 1, 3, 10, 1, 1, 1, 1, 1, 1, 1, 2, 1, 3, 1, 2, 1, 2, 1, 2, 1, 1, 1, 1, 9, 9, 8, 3, 1, 2, 1, 3, 3, 1, 1, 1, 1, 1, 2, 1, 1, 1, 1, 1, 1, 6, 3, 13, 12, 1, 1, 1, 1, 1, 1, 3, 1, 1, 1, 1, 1, 3, 3, 1, 1, 1, 1, 3, 1, 2, 6, 1, 1, 6, 1, 1, 1, 1, 2, 2, 3, 1, 1, 2, 1, 1, 1, 1, 1, 2, 4, 1, 1, 2, 5, 1, 5, 1, 1, 1, 4, 1, 1, 1, 1, 1, 1, 5, 1, 4, 1, 1, 1, 2, 1, 1, 1, 7, 1, 1, 1, 32, 2, 1, 3, 1, 2, 5, 1, 1, 5, 3, 1, 1, 1, 1, 2, 2, 1, 1, 1, 1, 1, 1, 1, 1, 2, 3, 2, 3, 3, 3, 2, 3, 2, 3, 3, 3, 1, 1, 4, 1, 1, 3, 3, 1, 1, 1, 2, 1, 5, 2, 2, 4, 1, 1, 10, 1, 3, 1, 3, 1, 1, 2, 1, 1, 2, 1, 1, 3, 2, 1, 4, 1, 1, 1, 1, 1, 1, 1, 1, 1, 1, 1, 1, 4, 1, 7, 1, 1, 1, 1, 1, 1, 1, 2, 1, 3, 1, 2, 1, 1, 3, 1, 1, 1, 2, 2, 9, 5, 1, 1, 1, 1, 2, 1, 1, 1, 1, 3, 1, 1, 1, 3, 1, 1, 1, 3, 3, 6, 1, 1, 29, 1, 5, 8, 1, 1, 1, 1, 5, 1, 2, 12, 1, 1, 1, 1, 1, 1, 1, 3, 1, 1, 1, 1, 1, 1, 52, 53, 3, 1, 2, 3, 2, 2, 1, 9, 2, 2, 1, 1, 2, 3, 1, 2, 6, 2, 1, 2, 2, 2, 2, 1, 3, 8, 1, 1, 1, 1, 1, 1, 1, 1, 1, 1, 1, 2, 3, 13, 1, 1, 4, 1, 2, 1, 1, 1, 1, 1, 1, 1, 2, 3, 1, 1, 1, 1, 1, 1, 1, 1, 1, 1, 1, 1, 2, 2, 4, 1, 1, 5, 1, 1, 1, 1, 2, 1, 1, 5, 2, 2, 2, 1, 1, 2, 1, 2, 1, 1, 4, 1, 1, 1, 1, 5, 7, 1, 3, 1, 1, 2, 1, 3, 1, 1, 1, 8, 1, 5, 2, 3, 1, 1, 1, 1, 1, 1, 1, 1, 1, 1, 1, 4, 5, 1, 1, 2, 1, 1, 1, 1, 4, 1, 1, 1, 1, 1, 1, 1, 2, 1, 1, 1, 2, 4, 13, 1, 1, 7, 1, 1, 1, 1, 1, 1, 2, 3, 3, 3, 3, 1, 1, 1, 2, 1, 1, 1, 1, 1, 1, 3, 2, 3, 1, 4, 2, 1, 2, 1, 2, 1, 1, 1, 1, 1, 3, 1, 1, 3, 2, 1, 1, 3, 1, 5, 1, 1, 1, 1, 1, 1, 1, 1, 1, 3, 1, 1, 3, 1, 2, 1, 5, 1, 4, 2, 1, 1, 1, 1, 1, 2, 1, 1, 2, 3, 1, 1, 1, 1, 1, 1, 1, 2, 1, 1, 1, 2, 1, 1, 1, 2, 18, 14, 2, 1, 1, 1, 1, 2, 1, 1, 1, 2, 1, 2, 1, 1, 3, 1, 5, 3, 4, 1, 3, 6, 11, 1, 1, 1, 1, 1, 1, 1, 1, 1, 1, 6, 1, 1, 1, 1, 1, 1, 2, 1, 1, 1, 1, 2, 9, 4, 1, 1, 1, 1, 1, 1, 1, 2, 6, 6, 1, 1, 1, 1, 1, 1, 1, 1, 1, 2, 1, 1, 1, 1, 1, 1, 1, 6, 1, 1, 1, 4, 1, 2, 1, 3, 1, 1, 1, 1, 1, 3, 1, 1, 2, 6, 1, 1, 1, 1, 4, 1, 1, 1, 1, 1, 1, 1, 1, 1, 1, 1, 1, 1, 1, 4, 2, 10, 1, 6, 2, 2, 1, 1, 1, 1, 3, 1, 1, 1, 1, 1, 2, 2, 4, 1, 1, 2, 1, 1, 1, 1, 1, 1, 1, 1, 5, 1, 1, 1, 1, 1, 1, 1, 1, 2, 2, 1, 1, 3, 1, 1, 1, 1, 1, 1, 1, 1, 1, 1, 1, 1, 1, 1, 1, 1, 1, 1, 2, 1, 1, 1, 1, 3, 1, 6, 1, 3, 3, 1, 1, 1, 1, 2, 2, 4, 1, 1, 15, 1, 1, 2, 2, 1, 1, 1, 4, 3, 1, 1, 2, 1, 2, 11, 1, 3, 1, 2, 1, 1, 2, 1, 1, 13, 1, 1, 1, 1, 1, 2, 1, 1, 1, 1, 1, 1, 1, 1, 4, 3, 7, 2, 1, 1, 1, 1, 6, 1, 1, 5, 1, 1, 1, 1, 3, 1, 1, 1, 1, 3, 1, 2, 1, 1, 2, 6, 2, 2, 1, 1, 2, 1, 3, 1, 1, 1, 1, 1, 5, 1, 1, 1, 1, 1, 1, 1, 1, 5, 1, 1, 1, 2, 1, 1, 1, 1, 5, 1, 1, 2, 2, 1, 1, 2, 1, 5, 1, 1, 1, 1, 7, 7, 1, 3, 1, 1, 2, 1, 1, 1, 1, 1, 2, 1, 10, 1, 1, 1, 1, 1, 1, 1, 1, 1, 2, 1, 3, 2, 1, 1, 1, 1, 1, 1, 1, 1, 1, 1, 1, 1, 1, 1, 4, 1, 1, 1, 1, 2, 2, 1, 1, 1, 1, 1, 1, 1, 1, 4, 1, 1, 1, 3, 8, 1, 4, 1, 1, 1, 1, 1, 3, 3, 1, 1, 1, 1, 6, 5, 5, 5, 2, 1, 1, 1, 2, 3, 2, 3, 1, 1, 1, 4, 1, 7, 2, 1, 1, 1, 1, 3, 3, 3, 1, 1, 3, 8, 2, 3, 2, 2, 3, 3, 1, 4, 1, 1, 1, 1, 1, 1, 2, 2, 6, 1, 1, 5, 5, 5, 5, 1, 1, 1, 2, 2, 2, 1, 1, 1, 1, 2, 1, 1, 1, 3, 1, 2, 2, 2, 1, 1, 3, 1, 1, 1, 11, 1, 1, 1, 1, 1, 1, 1, 3, 4, 3, 1, 3, 1, 1, 1, 1, 1, 1, 2, 1, 1, 1, 1, 2, 1, 7, 1, 1, 1, 1, 2, 1, 6, 2, 1, 1, 1, 1, 1, 1, 1, 2, 2, 3, 11, 4, 1, 1, 1, 1, 1, 1, 1, 1, 1, 9, 4, 11, 4, 1, 1, 1, 1, 3, 1, 1, 2, 1, 1, 1, 10, 1, 1, 1, 3, 1, 1, 1, 1, 1, 1, 1, 6, 2, 2, 7, 13, 1, 1, 2, 1, 1, 1, 1, 1, 1, 1, 1, 1, 18, 15, 14, 1, 1, 6, 2, 1, 1, 1, 6, 1, 1, 1, 1, 4, 1, 1, 1, 3, 1, 1, 10, 2, 2, 2, 2, 9, 1, 1, 9, 1, 1, 2, 6, 1, 1, 1, 1, 1, 1, 1, 1, 2, 1, 1, 1, 1, 1, 1, 1, 1, 2, 1, 1, 1, 1, 1, 1, 1, 1, 1, 1, 1, 1, 1, 2, 1, 1, 1, 1, 1, 1, 1, 1, 1, 1, 1, 1, 1, 1, 1, 1, 1, 1, 1, 1, 3, 2, 5, 7, 1, 1, 4, 1, 1, 1, 1, 1, 1, 1, 1, 1, 1, 1, 1, 8, 1, 1, 1, 1, 1, 1, 1, 2, 18, 1, 1, 1, 1, 1, 1, 1, 1, 1, 1, 1, 1, 1, 2, 5, 1, 7, 7, 7, 2, 1, 1, 4, 1, 1, 1, 1, 1, 1, 1, 1, 1, 1, 1, 1, 1, 1, 1, 1, 3, 2, 1, 1, 4, 1, 1, 1, 1, 1, 1, 7, 6, 1, 1, 3, 1, 1, 1, 1, 1, 1, 1, 1, 1, 1, 1, 1, 1, 1, 1, 2, 2, 1, 1, 2, 1, 1, 1, 2, 2, 1, 1, 8, 1, 1, 2, 1, 2, 2, 1, 1, 4, 1, 1, 1, 1, 1, 1, 2, 4, 1, 4, 4, 1, 1, 1, 1, 1, 1, 1, 1, 3, 3, 1, 4, 4, 1, 1, 1, 2, 1, 1, 2, 1, 1, 1, 1, 1, 1, 1, 3, 2, 1, 2, 2, 1, 1, 1, 1, 1, 2, 1, 1, 1, 1, 1, 2, 1, 1, 2, 1, 3, 1, 1, 1, 1, 4, 3, 1, 1, 1, 3, 1, 1, 1, 1, 1, 1, 1, 1, 1, 1, 1, 1, 1, 1, 1, 1, 1, 1, 1, 2, 1, 1, 1, 2, 1, 8, 1, 1, 1, 1, 1, 1, 1, 1, 3, 1, 2, 1, 1, 1, 1, 1, 1, 1, 1, 1, 1, 2, 1, 5, 1, 1, 1, 1, 5, 2, 3, 1, 1, 1, 1, 4, 1, 1, 1, 1, 1, 1, 1, 1, 1, 1, 1, 4, 1, 1, 1, 1, 6, 1, 1, 1, 1, 2, 1, 10, 1, 1, 1, 1, 1, 1, 1, 1, 1, 1, 1, 2, 1, 1, 1, 1, 1, 2, 1, 2, 5, 1, 1, 4, 1, 2, 1, 2, 1, 2, 2, 2, 1, 1, 1, 1, 1, 1, 1, 1, 1, 1, 1, 1, 1, 4, 3, 1, 1, 1, 2, 1, 1, 1, 1, 1, 3, 1, 1, 1, 2, 1, 1, 1, 1, 1, 1, 1, 1, 2, 1, 1, 1, 1, 5, 1, 1, 1, 1, 1, 14, 1, 1, 1, 1, 1, 1, 1, 1, 1, 1, 1, 1, 1, 2, 6, 1, 3, 1, 3, 1, 1, 1, 2, 1, 1, 1, 1, 1, 1, 1, 1, 1, 3, 1, 1, 1, 2, 1, 1, 1, 1, 1, 1, 1, 1, 1, 1, 1, 1, 1, 2, 1, 1, 1, 1, 1, 1, 2, 2, 2, 2, 2, 1, 2, 1, 1, 2, 1, 1, 1, 1, 1, 1, 1, 1, 1, 1, 1, 1, 1, 1, 1, 1, 1, 1, 2, 2, 1, 1, 1, 7, 1, 1, 1, 1, 1, 1, 3, 1, 1, 1, 1, 4, 1, 2, 1, 2, 4, 1, 2, 1, 1, 1, 2, 1, 1, 1, 2, 1, 1, 1, 1, 1, 1, 2, 2, 7, 1, 1, 3, 1, 1, 1, 1, 1, 1, 1, 4, 1, 1, 1, 3, 1, 3, 1, 1, 1, 1, 1, 5, 6, 6, 1, 1, 1, 1, 1, 1, 1, 2, 1, 6, 1, 2, 2, 1, 1, 1, 2, 1, 1, 1, 1, 1, 1, 2, 8, 8, 8, 2, 2, 7, 1, 1, 1, 1, 1, 1, 1, 1, 1, 1, 1, 2, 1, 5, 1, 1, 1, 1, 2, 1, 1, 1, 1, 3, 4, 1, 1, 1, 1, 2, 1, 1, 1, 2, 1, 1, 1, 2, 1, 1, 1, 2, 1, 1, 1, 1, 1, 1, 1, 2, 3, 1, 1, 1, 2, 1, 4, 3, 2, 1, 1, 2, 1, 1, 1, 1, 1, 1, 7, 1, 2, 1, 5, 1, 4, 5, 1, 1, 3, 3, 1, 1, 3, 4, 2, 2, 1, 1, 1, 2, 1, 2, 2, 1, 2, 1, 1, 2, 1, 2, 2, 2, 2, 2, 2, 3, 2, 1, 1, 7, 1, 1, 1, 1, 1, 1, 1, 1, 1, 1, 1, 1, 1, 2, 1, 1, 2, 1, 1, 1, 1, 1, 1, 1, 1, 1, 2, 1, 1, 1, 1, 1, 1, 1, 3, 1, 1, 1, 1, 3, 3, 1, 2, 1, 1, 1, 1, 2, 1, 1, 1, 1, 1, 1, 1, 1, 2, 1, 1, 1, 1, 3, 1, 1, 1, 9, 2, 1, 5, 1, 1, 1, 2, 1, 7, 1, 8, 1, 1, 1, 5, 1, 1, 3, 1, 1, 1, 1, 1, 1, 1, 1, 1, 1, 1, 7, 1, 1, 1, 2, 1, 1, 1, 1, 1, 5, 3, 4, 3, 3, 1, 1, 1, 1, 5, 1, 1, 2, 1, 5, 4, 1, 8, 1, 1, 1, 1, 1, 1, 4, 12, 3, 10, 2, 2, 1, 2, 1, 1, 1, 1, 1, 2, 4, 1, 1, 1, 3, 2, 10, 1, 10, 1, 4, 1, 6, 1, 23, 4, 1, 1, 1, 1, 2, 3, 2, 2, 1, 1, 1, 1, 1, 1, 1, 1, 1, 2, 4, 2, 1, 1, 1, 1, 2, 1, 4, 3, 1, 1, 2, 1, 1, 1, 1, 1, 1, 1, 1, 1, 1, 1, 1, 1, 1, 2, 1, 1, 1, 2, 1, 1, 1, 1, 1, 4, 1, 1, 1, 1, 1, 1, 1, 1, 1, 1, 1, 1, 2, 2, 2, 4, 2, 1, 1, 1, 1, 2, 1, 1, 3, 1, 1, 1, 1, 1, 1, 3, 1, 5, 1, 2, 1, 1, 2, 1, 1, 1, 2, 4, 1, 1, 5, 1, 1, 1, 1, 2, 1, 1, 8, 1, 1, 1, 1, 1, 2, 1, 1, 1, 1, 2, 1, 1, 1, 1, 1, 1, 1, 1, 1, 1, 1, 1, 1, 1, 1, 1, 1, 1, 1, 1, 2, 1, 1, 1, 1, 2, 1, 1, 1, 1, 2, 1, 1, 1, 1, 1, 1, 1, 1, 1, 2, 1, 1, 3, 2, 1, 1, 1, 1, 1, 1, 1, 1, 1, 12, 1, 2, 4, 1, 1, 1, 1, 1, 2, 1, 1, 1, 4, 1, 2, 5, 1, 1, 1, 1, 1, 1, 1, 1, 1, 1, 1, 1, 1, 1, 1, 1, 1, 2, 1, 1, 2, 1, 1, 2, 1, 2, 1, 1, 1, 1, 1, 1, 1, 1, 1, 1, 1, 1, 1, 1, 5, 1, 1, 1, 1, 1, 3, 1, 1, 2, 2, 1, 1, 1, 2, 1, 1, 2, 1, 2, 1, 2, 3, 2, 1, 1, 1, 1, 1, 1, 1, 1, 1, 1, 1, 1, 1, 1, 1, 1, 1, 1, 1, 2, 1, 1, 3, 1, 1, 1, 2, 3, 1, 1, 2, 1, 4, 1, 1, 1, 11, 2, 1, 2, 1, 1, 1, 1, 2, 1, 1, 1, 4, 1, 1, 4, 1, 1, 2, 5, 1, 1, 2, 1, 1, 1, 1, 1, 1, 2, 1, 6, 4, 1, 2, 1, 1, 1, 1, 1, 1, 1, 2, 1, 1, 1, 1, 4, 1, 10, 1, 1, 1, 1, 1, 1, 1, 1, 1, 1, 1, 1, 3, 3, 2, 1, 1, 5, 1, 1, 4, 1, 1, 1, 1, 1, 1, 1, 1, 2, 1, 1, 1, 1, 1, 2, 1, 1, 1, 1, 11, 1, 1, 4, 1, 1, 1, 1, 1, 2, 1, 1, 1, 1, 1, 1, 1, 1, 1, 1, 3, 1, 1, 2, 3, 6, 1, 2, 2, 1, 1, 1, 1, 1, 1, 10, 1, 3, 1, 1, 2, 1, 1, 1, 1, 1, 1, 1, 1, 2, 1, 1, 2, 1, 1, 1, 2, 1, 1, 1, 1, 1, 1, 2, 2, 3, 4, 3, 1, 1, 3, 1, 1, 1, 1, 1, 1, 1, 1, 1, 2, 2, 2, 11, 1, 1, 2, 1, 2, 1, 1, 1, 1, 1, 1, 1, 1, 1, 1, 1, 2, 1, 1, 4, 1, 1, 1, 1, 1, 1, 1, 1, 2, 2, 1, 1, 1, 1, 1, 1, 1, 8, 5, 1, 3, 1, 3, 1, 1, 1, 1, 1, 1, 1, 1, 1, 2, 2, 2, 1, 4, 1, 1, 1, 1, 1, 4, 2, 3, 2, 1, 1, 1, 2, 1, 2, 1, 1, 1, 1, 1, 1, 1, 1, 2, 2, 4, 1, 4, 1, 5, 1, 2, 1, 1, 1, 1, 1, 1, 1, 1, 5, 3, 2, 1, 1, 4, 1, 1, 1, 2, 1, 1, 1, 1, 1, 1, 1, 1, 1, 1, 1, 1, 1, 2, 1, 1, 1, 5, 1, 1, 1, 2, 1, 1, 1, 1, 1, 1, 1, 6, 1, 1, 5, 2, 1, 1, 1, 1, 1, 1, 1, 5, 1, 1, 2, 1, 2, 1, 1, 1, 1, 1, 1, 1, 4, 1, 2, 7, 2, 1, 5, 1, 6, 1, 1, 1, 7, 1, 1, 1, 1, 1, 1, 1, 1, 1, 6, 1, 1, 1, 1, 2, 1, 1, 1, 4, 1, 1, 1, 2, 1, 3, 1, 2, 3, 2, 1, 1, 2, 1, 1, 1, 1, 1, 1, 1, 2, 1, 1, 1, 1, 1, 1, 3, 1, 1, 3, 1, 1, 2, 1, 1, 1, 3, 2, 2, 2, 1, 1, 1, 1, 1, 1, 3, 5, 1, 1, 1, 2, 1, 1, 1, 2, 1, 2, 1, 1, 1, 1, 1, 2, 1, 1, 1, 3, 2, 2, 1, 1, 2, 1, 5, 3, 8, 1, 6, 1, 6, 1, 1, 1, 1, 1, 1, 1, 1, 1, 1, 2, 1, 1, 1, 1, 1, 1, 2, 3, 1, 1, 1, 1, 1, 1, 1, 1, 1, 1, 3, 1, 1, 1, 1, 2, 1, 1, 1, 2, 5, 1, 1, 2, 7, 2, 4, 1, 1, 1, 1, 1, 1, 1, 2, 1, 3, 1, 1, 1, 3, 2, 2, 3, 1, 1, 1, 1, 1, 1, 1, 7, 2, 1, 1, 3, 2, 1, 1, 1, 1, 1, 5, 1, 1, 1, 2, 1, 1, 1, 1, 4, 1, 1, 2, 1, 1, 1, 2, 1, 2, 1, 2, 1, 1, 1, 1, 1, 1, 1, 1, 1, 1, 1, 1, 1, 1, 1, 3, 1, 3, 6, 1, 1, 2, 1, 1, 1, 1, 1, 3, 5, 3, 4, 3, 3, 2, 4, 2, 1, 2, 1, 1, 1, 3, 1, 1, 1, 1, 1, 3, 5, 1, 1, 1, 3, 1, 1, 1, 1, 1, 1, 1, 1, 1, 3, 1, 1, 1, 1, 1, 11, 1, 1, 1, 2, 2, 3, 1, 1, 1, 1, 1, 5, 1, 3, 1, 1, 1, 1, 1, 1, 1, 1, 1, 1, 3, 3, 2, 1, 1, 1, 1, 1, 1, 1, 3, 3, 3, 3, 1, 2, 1, 1, 3, 1, 1, 1, 3, 1, 2, 2, 2, 1, 2, 3, 1, 1, 1, 1, 1, 3, 1, 1, 8, 7, 3, 1, 1, 1, 1, 1, 1, 4, 5, 1, 1, 1, 1, 1, 1, 1, 1, 1, 1, 1, 1, 1, 1, 3, 1, 1, 1, 1, 1, 1, 1, 1, 1, 1, 1, 1, 1, 1, 1, 1, 1, 1, 1, 6, 2, 1, 1, 1, 3, 1, 1, 14, 1, 1, 1, 1, 1, 1, 1, 1, 1, 2, 1, 2, 4, 2, 2, 2, 1, 4, 1, 1, 2, 1, 1, 3, 3, 2, 1, 1, 1, 1, 1, 1, 2, 1, 1, 1, 2, 1, 1, 1, 2, 1, 1, 2, 3, 2, 1, 1, 1, 1, 1, 6, 1, 3, 2, 1, 1, 14, 1, 1, 1, 1, 1, 2, 1, 1, 1, 3, 2, 1, 1, 2, 2, 1, 1, 1, 1, 1, 1, 1, 1, 2, 1, 1, 1, 2, 1, 1, 1, 1, 1, 2, 3, 1, 1, 2, 3, 1, 1, 2, 1, 1, 1, 1, 1, 1, 1, 1, 1, 1, 8, 1, 1, 2, 1, 1, 1, 1, 1, 1, 2, 1, 1, 1, 2, 2, 1, 1, 1, 1, 1, 1, 1, 2, 1, 1, 1, 1, 1, 8, 2, 1, 2, 2, 1, 2, 2, 1, 3, 1, 1, 1, 3, 1, 3, 1, 1, 2, 2, 1, 1, 2, 1, 1, 2, 3, 1, 1, 1, 1, 1, 1, 6, 1, 4, 1, 2, 2, 1, 1, 1, 5, 1, 2, 1, 3, 1, 1, 2, 1, 1, 1, 2, 2, 1, 1, 3, 1, 1, 1, 1, 1, 2, 1, 1, 1, 1, 1, 2, 1, 1, 4, 1, 1, 1, 1, 1, 5, 1, 1, 1, 2, 1, 1, 3, 1, 1, 1, 1, 1, 1, 1, 1, 1, 1, 1, 1, 3, 1, 1, 1, 1, 1, 1, 4, 1, 1, 1, 1, 1, 2, 1, 1, 1, 1, 4, 3, 1, 1, 1, 1, 1, 1, 5, 1, 1, 6, 3, 1, 1, 1, 1, 5, 1, 1, 1, 1, 1, 1, 1, 1, 1, 1, 2, 1, 1, 1, 1, 1, 4, 4, 1, 1, 1, 1, 1, 1, 3, 1, 2, 2, 1, 1, 2, 1, 1, 1, 1, 10, 1, 1, 1, 1, 2, 1, 3, 4, 3, 2, 2, 1, 3, 1, 4, 1, 1, 2, 1, 1, 3, 2, 1, 2, 1, 1, 1, 1, 1, 1, 1, 1, 2, 1, 1, 1, 4, 1, 1, 1, 1, 1, 2, 1, 1, 1, 3, 1, 1, 1, 1, 1, 3, 1, 1, 1, 1, 1, 1, 2, 1, 1, 1, 2, 1, 1, 2, 1, 1, 1, 1, 1, 1, 1, 2, 1, 1, 3, 1, 1, 2, 1, 1, 10, 1, 1, 3, 1, 3, 1, 1, 1, 1, 3, 1, 1, 1, 1, 1, 1, 1, 1, 2, 1, 1, 1, 1, 1, 2, 1, 1, 3, 1, 3, 4, 1, 1, 1, 2, 1, 1, 1, 1, 1, 1, 1, 1, 1, 1, 2, 1, 1, 1, 1, 4, 1, 1, 1, 2, 1, 2, 2, 1, 1, 5, 1, 2, 1, 4, 2, 1, 1, 1, 1, 1, 1, 1, 2, 1, 1, 1, 1, 1, 1, 1, 1, 1, 3, 1, 4, 1, 1, 1, 1, 1, 1, 2, 1, 1, 1, 1, 2, 1, 1, 1, 1, 1, 1, 1, 1, 1, 4, 1, 2, 1, 1, 1, 1, 1, 1, 4, 1, 1, 1, 2, 1, 1, 1, 1, 1, 15, 2, 1, 1, 4, 1, 1, 2, 1, 1, 1, 1, 1, 1, 1, 1, 2, 12, 1, 1, 1, 1, 1, 1, 1, 1, 1, 1, 1, 2, 1, 1, 3, 2, 1, 7, 1, 1, 1, 1, 2, 1, 1, 1, 1, 2, 1, 1, 1, 1, 1, 1, 1, 1, 2, 4, 1, 2, 1, 1, 1, 1, 1, 1, 1, 1, 1, 4, 1, 1, 1, 2, 1, 3, 1, 1, 1, 1, 1, 1, 1, 1, 1, 1, 1, 1, 2, 1, 1, 1, 1, 3, 1, 1, 1, 1, 1, 1, 1, 3, 3, 3, 3, 3, 2, 2, 1, 1, 1, 1, 1, 1, 1, 2, 1, 2, 1, 2, 1, 1, 1, 1, 1, 1, 1, 1, 1, 1, 1, 1, 1, 1, 1, 1, 1, 1, 1, 1, 1, 1, 1, 1, 1, 1, 2, 4, 4, 8, 2, 3, 5, 1, 1, 2, 1, 1, 2, 2, 2, 2, 2, 1, 3, 2, 1, 1, 1, 1, 1, 1, 1, 2, 2, 2, 2, 1, 2, 1, 1, 1, 1, 1, 2, 1, 1, 1, 1, 1, 1, 1, 1, 1, 1, 1, 1, 1, 1, 1, 1, 1, 1, 1, 1, 1, 1, 1, 1, 1, 1, 2, 1, 3, 1, 1, 5, 1, 1, 1, 1, 2, 1, 1, 1, 1, 1, 2, 3, 1, 1, 3, 1, 1, 1, 1, 1, 1, 2, 1, 1, 1, 1, 1, 1, 1, 1, 1, 1, 1, 1, 1, 1, 1, 1, 3, 1, 3, 1, 1, 1, 1, 2, 2, 1, 1, 1, 2, 1, 1, 2, 1, 1, 1, 1, 1, 1, 1, 1, 1, 1, 9, 1, 1, 1, 1, 1, 1, 1, 1, 5, 2, 1, 1, 1, 2, 1, 1, 1, 3, 1, 1, 6, 1, 4, 1, 1, 1, 1, 1, 1, 1, 1, 1, 1, 1, 1, 1, 1, 1, 1, 1, 1, 1, 1, 2, 4, 1, 2, 2, 1, 1, 1, 1, 1, 1, 5, 1, 1, 1, 1, 1, 1, 3, 1, 1, 1, 1, 1, 1, 2, 1, 1, 1, 1, 1, 1, 2, 1, 1, 4, 1, 1, 2, 1, 1, 2, 1, 1, 1, 2, 1, 1, 1, 1, 1, 1, 1, 1, 2, 1, 1, 1, 2, 1, 1, 1, 1, 1, 1, 1, 7, 3, 4, 1, 1, 1, 1, 1, 4, 1, 1, 1, 1, 1, 1, 1, 1, 1, 2, 1, 1, 1, 1, 1, 2, 1, 1, 1, 1, 1, 1, 1, 1, 1, 1, 1, 1, 1, 1, 1, 1, 1, 1, 1, 1, 1, 2, 2, 1, 1, 1, 1, 1, 1, 1, 2, 1, 1, 2, 1, 1, 1, 1, 1, 1, 1, 1, 1, 1, 8, 1, 1, 1, 1, 1, 3, 1, 1, 3, 3, 1, 1, 1, 1, 1, 2, 1, 3, 1, 1, 1, 1, 1, 1, 1, 1, 2, 1, 1, 2, 1, 1, 1, 1, 4, 1, 1, 4, 2, 1, 4, 1, 1, 1, 2, 1, 1, 1, 1, 1, 1, 1, 1, 1, 1, 1, 1, 1, 1, 1, 1, 1, 1, 1, 1, 1, 1, 1, 1, 1, 1, 1, 1, 1, 1, 4, 2, 2, 1, 1, 2, 1, 1, 1, 4, 1, 1, 1, 1, 1, 4, 1, 1, 1, 1, 1, 1, 1, 1, 1, 1, 5, 1, 1, 1, 1, 1, 1, 1, 1, 4, 3, 1, 6, 1, 2, 1, 1, 1, 1, 1, 1, 1, 1, 1, 3, 1, 1, 1, 1, 1, 1, 1, 1, 1, 1, 1, 1, 4, 1, 1, 1, 6, 35, 55, 2, 3, 1, 1, 1, 2, 1, 1, 1, 1, 1, 1, 1, 2, 1, 2, 1, 1, 1, 1, 1, 2, 1, 1, 1, 1, 1, 1, 1, 1, 1, 1, 1, 1, 1, 1, 1, 1, 1, 1, 1, 1, 1, 1, 1, 1, 1, 2, 1, 1, 1, 1, 5, 1, 1, 1, 1, 1, 1, 2, 1, 3, 1, 1, 1, 1, 1, 2, 1, 1, 1, 1, 1, 1, 1, 1, 1, 3, 2, 2, 1, 1, 1, 1, 2, 1, 1, 1, 1, 1, 1, 1, 1, 3, 3, 1, 1, 1, 1, 1, 2, 1, 1, 1, 2, 1, 1, 1, 1, 1, 2, 2, 1, 1, 1, 2, 1, 2, 1, 1, 3, 1, 1, 1, 1, 1, 1, 1, 1, 1, 1, 1, 1, 1, 1, 1, 1, 2, 1, 1, 1, 1, 1, 1, 1, 1, 1, 28, 1, 1, 1, 2, 1, 1, 1, 2, 1, 1, 2, 1, 1, 1, 2, 1, 1, 1, 1, 1, 1, 1, 1, 5, 1, 1, 1, 1, 1, 1, 1, 1, 1, 1, 1, 1, 1, 1, 3, 1, 1, 1, 1, 4, 1, 1, 1, 7, 1, 1, 1, 1, 1, 1, 1, 1, 1, 1, 1, 3, 1, 1, 1, 1, 1, 1, 1, 1, 1, 2, 1, 1, 1, 2, 1, 1, 1, 1, 2, 1, 4, 2, 1, 1, 1, 1, 1, 1, 2, 6, 1, 1, 1, 1, 1, 1, 1, 1, 1, 2, 1, 1, 1, 1, 1, 2, 1, 1, 1, 1, 1, 1, 1, 1, 1, 5, 1, 1, 2, 1, 1, 2, 2, 1, 1, 1, 1, 1, 1, 1, 1, 1, 1, 1, 1, 1, 3, 1, 1, 1, 1, 5, 1, 1, 1, 1, 1, 1, 1, 1, 1, 1, 1, 1, 1, 1, 2, 1, 1, 1, 1, 1, 1, 1, 1, 1, 1, 1, 1, 1, 1, 1, 1, 1, 1, 1, 2, 1, 2, 2, 1, 1, 1, 5, 1, 2, 1, 1, 1, 1, 1, 1, 2, 1, 1, 1, 1, 13, 1, 1, 1, 1, 1, 2, 1, 2, 1, 1, 1, 1, 29, 3, 1, 1, 1, 1, 1, 1, 1, 1, 2, 1, 2, 3, 1, 1, 1, 1, 1, 1, 1, 2, 1, 1, 1, 1, 2, 1, 2, 1, 3, 3, 1, 1, 1, 5, 1, 2, 1, 1, 1, 1, 1, 2, 1, 1, 1, 1, 2, 1, 1, 1, 1, 1, 1, 1, 1, 3, 1, 1, 1, 1, 2, 1, 1, 1, 1, 1, 1, 1, 1, 1, 1, 17, 1, 1, 1, 1, 1, 1, 1, 4, 2, 2, 1, 1, 1, 1, 1, 1, 1, 1, 1, 1, 1, 3, 1, 3, 1, 1, 1, 1, 1, 1, 1, 1, 1, 3, 4, 1, 1, 1, 1, 1, 1, 1, 1, 1, 1, 2, 1, 1, 1, 1, 1, 3, 1, 2, 1, 1, 1, 1, 1, 1, 1, 1, 1, 1, 2, 1, 1, 1, 1, 1, 1, 1, 1, 1, 1, 1, 1, 1, 1, 1, 1, 1, 1, 1, 1, 2, 1, 1, 1, 1, 1, 1, 1, 1, 2, 14, 1, 2, 3, 1, 1, 1, 1, 2, 1, 1, 1, 1, 1, 1, 2, 1, 1, 1, 1, 1, 1, 1, 1, 1, 4, 1, 1, 1, 1, 1, 1, 1, 1, 1, 3, 1, 6, 1, 1, 1, 1, 1, 1, 1, 1, 1, 1, 2, 2, 2, 2, 2, 2, 4, 2, 2, 1, 1, 1, 1, 1, 1, 2, 4, 1, 1, 3, 1, 1, 1, 1, 1, 1, 2, 2, 1, 1, 3, 1, 1, 1, 1, 1, 1, 2, 1, 1, 2, 1, 1, 1, 1, 1, 4, 1, 1, 1, 1, 1, 1, 1, 1, 2, 1, 1, 1, 1, 1, 1, 1, 1, 2, 2, 2, 2, 3, 1, 1, 1, 1, 3, 1, 1, 1, 1, 1, 1, 1, 1, 1, 1, 1, 2, 2, 2, 1, 1, 1, 1, 1, 1, 1, 1, 1, 1, 1, 1, 1, 1, 1, 1, 1, 1, 1, 1, 1, 1, 1, 1, 1, 1, 1, 1, 1, 3, 1, 1, 1, 1, 1, 1, 1, 2, 1, 1, 1, 1, 1, 1, 1, 1, 1, 1, 1, 2, 1, 1, 1, 1, 1, 1, 2, 1, 1, 3, 6, 1, 1, 1, 1, 1, 1, 8, 1, 1, 1, 1, 1, 9, 1, 1, 1, 1, 1, 4, 1, 1, 1, 1, 1, 1, 2, 1, 2, 2, 2, 2, 1, 5, 1, 1, 2, 1, 1, 1, 1, 1, 2, 1, 1, 1, 1, 2, 1, 1, 1, 1, 1, 1, 1, 1, 1, 1, 2, 1, 1, 1, 1, 1, 1, 1, 1, 1, 1, 1, 7, 2, 1, 1, 1, 1, 1, 1, 7, 6, 1, 1, 1, 1, 1, 1, 1, 1, 1, 1, 1, 6, 1, 1, 1, 1, 1, 1, 4, 2, 2, 2, 1, 1, 1, 1, 1, 1, 1, 1, 1, 1, 1, 1, 1, 2, 1, 1, 2, 4, 2, 3, 3, 1, 1, 1, 1, 1, 1, 1, 1, 1, 1, 1, 1, 1, 1, 1, 1, 2, 1, 1, 10, 1, 1, 3, 5, 1, 1, 1, 1, 1, 2, 1, 1, 1, 2, 1, 1, 1, 1, 1, 1, 2, 1, 1, 1, 1, 1, 1, 1, 3, 1, 1, 1, 1, 1, 1, 1, 1, 1, 1, 1, 3, 2, 1, 1, 3, 1, 1, 1, 1, 8, 1, 1, 1, 1, 1, 1, 11, 1, 1, 1, 1, 1, 1, 1, 1, 1, 1, 1, 1, 4, 1, 1, 2, 1, 3, 1, 1, 1, 1, 1, 1, 3, 2, 1, 1, 1, 1, 1, 1, 1, 2, 1, 1, 1, 13, 1, 3, 1, 1, 8, 1, 1, 1, 1, 1, 4, 1, 1, 1, 1, 3, 1, 3, 1, 1, 1, 1, 1, 1, 1, 1, 1, 1, 1, 1, 1, 1, 1, 1, 1, 1, 1, 2, 1, 8, 1, 1, 1, 1, 1, 1, 1, 1, 1, 1, 1, 1, 1, 1, 1, 1, 3, 5, 2, 2, 2, 1, 2, 1, 1, 1, 1, 1, 1, 4, 1, 1, 1, 1, 1, 1, 1, 1, 1, 1, 1, 1, 1, 1, 2, 1, 1, 2, 1, 1, 1, 1, 1, 1, 1, 1, 1, 3, 2, 1, 1, 1, 1, 4, 1, 4, 4, 3, 1, 1, 1, 1, 2, 4, 3, 1, 2, 1, 2, 1, 1, 1, 1, 1, 1, 1, 1, 1, 2, 1, 1, 1, 1, 1, 1, 6, 2, 1, 1, 1, 1, 2, 1, 1, 1, 2, 1, 4, 2, 1, 1, 1, 2, 2, 1, 1, 1, 1, 1, 1, 1, 1, 4, 1, 1, 1, 2, 6, 5, 4, 3, 1, 1, 1, 1, 1, 1, 1, 1, 1, 1, 3, 1, 1, 1, 2, 3, 1, 1, 1, 1, 1, 1, 1, 1, 1, 1, 1, 1, 1, 1, 1, 1, 1, 1, 1, 1, 1, 1, 1, 1, 1, 1, 1, 1, 1, 1, 1, 7, 1, 1, 1, 2, 1, 2, 1, 1, 1, 1, 5, 1, 1, 1, 1, 1, 1, 1, 1, 2, 4, 3, 1, 5, 1, 1, 1, 5, 1, 2, 1, 2, 2, 1, 2, 1, 3, 1, 1, 1, 1, 1, 1, 1, 1, 1, 2, 1, 1, 1, 1, 1, 2, 2, 1, 1, 2, 1, 1, 1, 1, 1, 1, 2, 1, 1, 1, 1, 1, 1, 1, 1, 2, 1, 1, 1, 1, 1, 1, 3, 1, 1, 1, 1, 1, 1, 1, 1, 1, 1, 2, 1, 1, 1, 18, 1, 1, 1, 7, 1, 2, 1, 1, 1, 1, 2, 1, 1, 4, 1, 1, 1, 1, 1, 1, 1, 1, 1, 1, 1, 2, 1, 1, 1, 1, 1, 1, 1, 1, 4, 2, 1, 1, 1, 2, 1, 1, 1, 1, 1, 1, 2, 2, 1, 1, 1, 1, 1, 1, 1, 1, 1, 1, 2, 1, 3, 1, 1, 1, 1, 1, 1, 1, 1, 1, 1, 3, 2, 1, 2, 1, 1, 1, 1, 1, 1, 1, 1, 1, 1, 2, 4, 1, 4, 4, 1, 1, 1, 1, 1, 1, 1, 1, 1, 1, 1, 1, 2, 1, 1, 2, 1, 1, 1, 2, 1, 1, 1, 2, 2, 2, 2, 3, 1, 1, 1, 1, 1, 1, 1, 1, 2, 8, 1, 1, 1, 1, 2, 1, 1, 1, 1, 1, 1, 1, 1, 1, 1, 1, 2, 1, 1, 1, 1, 1, 1, 1, 1, 4, 1, 4, 1, 1, 1, 1, 1, 1, 1, 1, 1, 1, 1, 1, 1, 1, 4, 1, 1, 1, 1, 1, 1, 3, 1, 4, 1, 1, 1, 2, 1, 1, 1, 2, 2, 1, 1, 2, 1, 1, 2, 2, 2, 4, 2, 2, 2, 2, 1, 1, 1, 2, 1, 1, 1, 1, 1, 1, 1, 1, 1, 1, 1, 1, 1, 1, 1, 10, 3, 1, 1, 1, 1, 1, 2, 2, 1, 1, 1, 1, 1, 1, 1, 1, 1, 1, 1, 1, 3, 4, 1, 1, 1, 2, 6, 6, 5, 2, 1, 1, 1, 1, 1, 1, 1, 1, 1, 1, 1, 1, 1, 1, 1, 3, 4, 1, 1, 1, 1, 1, 1, 2, 1, 1, 2, 1, 2, 2, 2, 2, 2, 2, 1, 1, 1, 1, 1, 1, 1, 1, 1, 1, 1, 1, 1, 1, 1, 1, 4, 1, 1, 1, 1, 1, 2, 1, 1, 1, 1, 1, 1, 1, 1, 1, 1, 1, 1, 1, 2, 1, 1, 1, 1, 1, 1, 1, 1, 1, 1, 1, 1, 1, 1, 1, 1, 1, 1, 1, 1, 1, 1, 1, 1, 1, 1, 1, 1, 1, 1, 1, 1, 1, 1, 1, 1, 1, 1, 1, 1, 1, 1, 3, 1, 1, 1, 1, 1, 1, 1, 1, 1, 1, 1, 1, 1, 1, 1, 2, 1, 1, 1, 1, 1, 1, 1, 1, 1, 1, 1, 1, 1, 1, 1, 1, 1, 1, 1, 1, 1, 1, 1, 1, 1, 1, 1, 1, 1, 1, 1, 1, 1, 2, 1, 1, 1, 1, 1, 1, 1, 1, 3, 1, 2, 1, 1, 1, 2, 3, 2, 2, 11, 1, 2, 2, 3, 1, 1, 1, 1, 1, 2, 2, 3, 2, 4, 4, 5, 2, 2, 1, 1, 4, 1, 1, 1, 1, 1, 1, 1, 1, 1, 1, 1, 1, 1, 1, 1, 1, 1, 1, 1, 1, 1, 1, 1, 1, 1, 1, 1, 1, 1, 2, 4, 1, 3, 1, 1, 2, 2, 2, 2, 1, 1, 1, 1, 1, 1, 1, 1, 2, 1, 1, 9, 1, 4, 1, 7, 1, 1, 1, 1, 1, 2, 1, 1, 1, 1, 1, 1, 1, 2, 1, 1, 1, 1, 5, 2, 1, 1, 1, 1, 1, 1, 1, 1, 1, 1, 1, 1, 1, 1, 2, 1, 1, 1, 1, 1, 1, 1, 1, 1, 1, 1, 1, 1, 1, 1, 1, 3, 1, 1, 1, 3, 1, 1, 1, 1, 1, 1, 2, 1, 2, 1, 2, 1, 1, 1, 1, 1, 1, 1, 1, 1, 1, 1, 1, 1, 2, 1, 1, 1, 1, 1, 1, 1, 1, 2, 3, 1, 1, 2, 1, 1, 1, 1, 1, 2, 1, 1, 1, 1, 1, 6, 1, 1, 1, 1, 1, 1, 1, 1, 1, 1, 1, 1, 1, 1, 1, 1, 1, 1, 1, 1, 1, 1, 1, 1, 1, 1, 3, 1, 1, 1, 1, 1, 1, 1, 1, 2, 1, 1, 1, 1, 1, 1, 1, 1, 1, 1, 1, 1, 1, 1, 1, 1, 1, 1, 1, 1, 1, 1, 1, 1, 1, 1, 1, 1, 1, 1, 1, 2, 1, 1, 2, 1, 1, 1, 1, 1, 1, 1, 1, 1, 1, 1, 1, 1, 1, 1, 1, 1, 1, 1, 1, 1, 1, 1, 1, 1, 1, 1, 1, 1, 1, 1, 1, 1, 1, 1, 1, 1, 1, 1, 1, 1, 1, 1, 1, 1, 1, 1, 1, 1, 1, 1, 1, 1, 1, 1, 1, 1, 3, 51, 1, 1, 1, 1, 1, 2, 1, 1, 1, 3, 1, 1, 1, 1, 2, 3, 1, 1, 1, 1, 1, 1, 3, 1, 1, 3, 1, 1, 1, 1, 1, 1, 1, 1, 1, 9, 1, 1, 1, 4, 1, 1, 1, 1, 1, 2, 1, 1, 1, 1, 1, 1, 1, 3, 1, 1, 1, 3, 1, 1, 1, 1, 1, 1, 2, 1, 1, 1, 1, 2, 1, 1, 1, 1, 1, 1, 1, 1, 1, 1, 1, 1, 1, 1, 1, 1, 1, 1, 1, 4, 1, 2, 1, 1, 1, 1, 3, 1, 1, 1, 1, 1, 1, 1, 1, 1, 1, 2, 1, 1, 1, 3, 1, 1, 1, 1, 1, 1, 1, 1, 1, 1, 1, 1, 1, 1, 2, 2, 1, 1, 1, 1, 1, 1, 1, 1, 1, 3, 9, 1, 1, 1, 1, 1, 1, 1, 1, 1, 1, 1, 1, 1, 1, 1, 1, 1, 1, 1, 2, 1, 1, 1, 1, 1, 1, 1, 1, 1, 1, 1, 1, 1, 3, 1, 1, 1, 1, 1, 1, 1, 1, 1, 1, 1, 1, 1, 1, 1, 3, 1, 1, 1, 3, 1, 1, 1, 1, 1, 1, 1, 1, 1, 1, 1, 1, 1, 1, 1, 1, 1, 3, 2, 1, 1, 4, 1, 1, 1, 1, 1, 1, 1, 1, 1, 1, 1, 1, 3, 1, 1, 1, 1, 1, 1, 1, 1, 2, 1, 1, 1, 1, 1, 1, 1, 2, 1, 1, 1, 1, 2, 5, 1, 1, 1, 1, 2, 1, 1, 1, 1, 1, 1, 1, 1, 1, 1, 1, 1, 1, 1, 1, 1, 2, 2, 3, 2, 1, 1, 6, 2, 5, 2, 1, 1, 1, 1, 1, 1, 1, 1, 1, 1, 2, 1, 1, 1, 1, 1, 5, 1, 2, 1, 1, 1, 1, 1, 1, 1, 1, 1, 4, 1, 1, 2, 1, 2, 3, 2, 1, 1, 1, 1, 1, 1, 1, 1, 2, 1, 1, 1, 1, 1, 1, 1, 1, 1, 1, 1, 1, 1, 3, 5, 2, 1, 2, 2, 1, 2, 1, 1, 1, 1, 1, 2, 1, 1, 2, 1, 2, 1, 1, 1, 3, 1, 1, 1, 1, 1, 1, 1, 1, 1, 1, 1, 1, 1, 1, 1, 1, 1, 1, 1, 2, 1, 1, 2, 1, 1, 1, 1, 1, 1, 1, 1, 1, 1, 1, 1, 1, 3, 2, 1, 1, 1, 1, 1, 1, 1, 1, 1, 5, 1, 1, 1, 1, 1, 1, 1, 1, 1, 1, 1, 3, 3, 3, 3, 1, 1, 1, 1, 1, 1, 1, 1, 1, 1, 1, 1, 2, 1, 3, 1, 1, 1, 1, 1, 1, 1, 1, 2, 1, 2, 1, 1, 1, 1, 1, 1, 1, 1, 1, 1, 1, 1, 1, 1, 3, 1, 2, 1, 4, 1, 2, 1, 2, 1, 1, 1, 1, 1, 1, 1, 1, 1, 1, 1, 1, 1, 2, 1, 3, 2, 1, 1, 1, 1, 1, 1, 1, 1, 1, 1, 1, 1, 1, 1, 1, 3, 1, 1, 1, 1, 1, 1, 1, 1, 1, 1, 1, 1, 6, 2, 1, 1, 1, 2, 1, 1, 1, 1, 1, 1, 1, 1, 2, 1, 1, 1, 1, 1, 1, 1, 1, 1, 1, 2, 1, 1, 2, 1, 1, 1, 1, 1, 2, 1, 1, 1, 1, 3, 4, 1, 1, 2, 1, 1, 1, 1, 2, 1, 1, 2, 3, 1, 1, 1, 1, 1, 1, 2, 1, 1, 1, 1, 4, 1, 1, 1, 1, 1, 1, 1, 1, 1, 1, 1, 1, 1, 1, 1, 1, 1, 1, 1, 1, 1, 1, 1, 1, 1, 1, 1, 1, 1, 1, 1, 1, 1, 1, 1, 1, 1, 1, 1, 1, 1, 5, 1, 1, 1, 1, 1, 1, 1, 1, 1, 1, 1, 1, 1, 1, 1, 1, 1, 1, 1, 1, 1, 1, 1, 1, 1, 1, 1, 1, 1, 1, 1, 2, 1, 1, 1, 1, 1, 1, 2, 1, 1, 1, 2, 1, 1, 1, 1, 1, 1, 1, 2, 1, 1, 1, 1, 1, 1, 1, 1, 1, 2, 1, 1, 1, 1, 1, 1, 1, 1, 1, 1, 1, 1, 1, 1, 2, 1, 1, 2, 1, 1, 1, 1, 1, 1, 1, 3, 2, 1, 1, 1, 2, 1, 1, 4, 2, 2, 1, 1, 1, 1, 1, 1, 2, 2, 2, 1, 1, 3, 2, 2, 2, 2, 2, 2, 2, 2, 2, 2, 2, 2, 4, 1, 1, 1, 1, 1, 2, 1, 1, 2, 1, 1, 1, 1, 3, 2, 2, 2, 1, 2, 2, 1, 1, 1, 1, 1, 1, 1, 1, 1, 1, 1, 1, 1, 1, 1, 1, 1, 1, 1, 1, 1, 1, 2, 1, 1, 2, 1, 1, 3, 1, 1, 3, 1, 1, 1, 1, 1, 1, 1, 1, 1, 1, 1, 1, 1, 1, 1, 1, 3, 1, 1, 1, 1, 1, 1, 1, 3, 1, 1, 1, 2, 1, 1, 1, 1, 1, 4, 1, 1, 1, 1, 1, 2, 1, 1, 1, 1, 1, 1, 1, 1, 1, 1, 1, 1, 1, 1, 1, 1, 1, 1, 1, 1, 1, 1, 1, 1, 1, 1, 1, 1, 1, 1, 2, 1, 1, 1, 1, 1, 1, 1, 1, 1, 1, 1, 2, 1, 1, 1, 1, 1, 1, 6, 3, 1, 1, 1, 1, 1, 1, 1, 4, 1, 1, 1, 1, 1, 1, 1, 2, 1, 3, 2, 1, 1, 1, 1, 1, 6, 7, 1, 1, 1, 1, 1, 1, 4, 1, 1, 1, 1, 1, 1, 1, 1, 1, 1, 1, 1, 1, 1, 2, 1, 1, 1, 1, 1, 2, 1, 1, 1, 1, 1, 1, 1, 1, 1, 1, 1, 1, 6, 1, 1, 1, 1, 1, 2, 1, 1, 1, 1, 1, 1, 1, 1, 1, 1, 1, 1, 1, 1, 1, 3, 1, 1, 2, 2, 3, 1, 1, 1, 1, 1, 1, 3, 1, 1, 2, 1, 1, 1, 1, 1, 1, 1, 1, 1, 1, 1, 1, 1, 1, 1, 1, 1, 1, 1, 1, 1, 1, 1, 1, 1, 1, 1, 1, 1, 1, 1, 1, 1, 1, 2, 2, 2, 2, 1, 2, 1, 1, 1, 1, 1, 1, 1, 1, 1, 1, 3, 1, 4, 1, 1, 1, 1, 1, 1, 2, 1, 1, 1, 1, 1, 1, 1, 1, 1, 1, 2, 2, 1, 1, 1, 1, 1, 1, 1, 1, 1, 1, 1, 1, 1, 1, 1, 1, 1, 1, 1, 1, 1, 1, 1, 1, 1, 1, 1, 1, 1, 1, 1, 1, 1, 1, 1, 1, 1, 4, 1, 1, 1, 1, 1, 1, 1, 1, 1, 1, 1, 1, 1, 3, 1, 1, 1, 1, 1, 1, 1, 1, 1, 1, 1, 1, 1, 1, 1, 1, 2, 1, 1, 1, 1, 1, 1, 1, 1, 1, 1, 1, 1, 1, 1, 2, 2, 2, 6, 1, 1, 1, 1, 1, 1, 1, 1, 2, 1, 1, 1, 1, 1, 1, 1, 1, 1, 1, 1, 1, 1, 1, 1, 1, 1, 1, 1, 1, 1, 1, 1, 1, 2, 1, 1, 1, 1, 1, 1, 1, 1, 1, 2, 1, 1, 1, 1, 1, 1, 1, 1, 2, 1, 1, 1, 1, 1, 1, 3, 1, 1, 1, 1, 1, 1, 2, 1, 1, 1, 1, 1, 1, 1, 1, 1, 1, 1, 1, 1, 1, 1, 1, 1, 1, 1, 1, 1, 1, 1, 1, 1, 1, 1, 1, 1, 1, 1, 1, 1, 1, 1, 1, 1, 1, 1, 1, 1, 1, 2, 1, 1, 1, 1, 1, 1, 1, 1, 1, 1, 1, 1, 1, 1, 1, 1, 1, 1, 1, 1, 1, 1, 1, 1, 1, 1, 1, 1, 1, 1, 1, 1, 1, 1, 1, 1, 1, 1, 1, 1, 1, 1, 1, 1, 1, 2, 1, 1, 1, 1, 2, 1, 1, 1, 1, 4, 1, 1, 1, 1, 2, 1, 2, 1, 1, 13, 1, 1, 1, 1, 1, 1, 1, 1, 1, 1, 1, 1, 1, 1, 1, 1, 1, 1, 1, 1, 2, 1, 1, 1, 1, 1, 1, 1, 1, 1, 1, 1, 1, 1, 1, 1, 1, 1, 3, 1, 1, 1, 1, 1, 2, 1, 1, 1, 1, 1, 1, 1, 1, 1, 1, 1, 1, 1, 1, 1, 1, 1, 1, 1, 1, 1, 1, 2, 1, 1, 1, 1, 1, 1, 1, 1, 1, 1, 1, 1, 1, 1, 1, 1, 1, 1, 1, 2, 1, 2, 1, 1, 1, 1, 1, 1, 1, 1, 1, 1, 1, 1, 3, 1, 1, 1, 1, 1, 1, 1, 1, 1, 1, 1, 1, 1, 2, 1, 1, 1, 1, 1, 1, 1, 1, 1, 1, 1, 1, 1, 1, 1, 1, 1, 1, 1, 1, 1, 1, 1, 1, 1, 1, 1, 1, 1, 1, 1, 1, 1, 1, 1, 1, 1, 1, 1, 1, 1, 1, 1, 1, 4, 1, 1, 1, 1, 3, 1, 1, 1, 1, 2, 1, 1, 1, 1, 1, 1, 1, 1, 1, 2, 1, 1, 1, 1, 1, 1, 1, 1, 1, 1, 1, 1, 1, 2, 1, 1, 1, 1, 1, 1, 1, 1, 1, 1, 2, 1, 1, 1, 2, 1, 1, 1, 5, 1, 1, 1, 1, 1, 1, 1, 1, 1, 1, 1, 1, 1, 1, 1, 1, 1, 1, 1, 1, 1, 1, 1, 1, 1, 1, 1, 1, 1, 1, 1, 1, 1, 1, 1, 1, 1, 1, 1, 1, 1, 7, 1, 1, 1, 1, 1, 1, 1, 1, 1, 1, 1, 1, 1, 1, 1, 1, 1, 1, 1, 1, 1, 1, 1, 1, 1, 6, 1, 1, 2, 1, 1, 1, 2, 1, 1, 1, 1, 1, 1, 1, 1, 1, 1, 1, 1, 2, 1, 1, 1, 1, 1, 1, 1, 1, 1, 1, 1, 1, 1, 1, 1, 1, 1, 1, 1, 2, 1, 1, 1, 1, 1, 1, 1, 1, 2, 1, 1, 1, 1, 1, 1, 1, 2, 1, 3, 2, 3, 4, 1, 1, 1, 1, 1, 1, 1, 1, 1, 1, 1, 1, 3, 1, 1, 1, 1, 2, 1, 1, 1, 1, 1, 1, 2, 1, 1, 1, 2, 1, 1, 1, 1, 1, 1, 3, 1, 1, 1, 1, 1, 1, 1, 1, 1, 1, 1, 1, 1, 1, 1, 1, 1, 1, 1, 1, 1, 1, 1, 1, 1, 1, 1, 1, 1, 1, 1, 1, 1, 1, 1, 1, 1, 3, 1, 1, 3, 1, 1, 1, 1, 1, 1, 1, 1, 1, 1, 2, 1, 1, 1, 1, 1, 1, 1, 1, 2, 1, 1, 1, 1, 1, 1, 1, 1, 1, 1, 1, 1, 1, 1, 1, 1, 1, 1, 5, 1, 1, 1, 1, 1, 1, 1, 4, 1, 1, 1, 1, 1, 1, 1, 1, 1, 1, 1, 1, 1, 2, 1, 1, 12, 1, 1, 1, 1, 1, 1, 1, 1, 4, 1, 3, 1, 6, 1, 4, 1, 1, 1, 1, 1, 1, 1, 1, 1, 2, 1, 2, 1, 1, 1, 1, 1, 3, 1, 1, 1, 1, 2, 1, 1, 1, 1, 1, 1, 1, 1, 1, 1, 1, 1, 1, 1, 1, 1, 2, 1, 1, 1, 1, 1, 1, 1, 1, 1, 2, 1, 1, 1, 1, 1, 1, 1, 1, 1, 1, 1, 1, 1, 1, 1, 1, 1, 1, 1, 1, 1, 1, 1, 1, 1, 1, 1, 1, 1, 1, 1, 1, 1, 1, 1, 1, 1, 1, 2, 1, 1, 1, 1, 1, 1, 2, 1, 1, 1, 1, 1, 2, 1, 1, 1, 1, 1, 1, 1, 1, 1, 1, 1, 1, 3, 1, 1, 1, 1, 1, 2, 1, 1, 1, 1, 1, 1, 1, 1, 1, 1, 3, 2, 1, 1, 1, 1, 1, 1, 1, 1, 1, 1, 1, 1, 1, 1, 1, 1, 1, 1, 3, 1, 1, 1, 1, 1, 1, 1, 1, 1, 1, 1, 1, 2, 1, 1, 2, 1, 1, 1, 5, 1, 2, 1, 1, 1, 1, 1, 1, 1, 1, 1, 1, 1, 1, 1, 1, 1, 1, 1, 1, 1, 1, 1, 1, 1, 1, 1, 1, 2, 1, 1, 1, 1, 1, 1, 1, 1, 1, 1, 1, 1, 1, 1, 1, 1, 1, 1, 1, 1, 3, 2, 1, 1, 1, 1, 1, 1, 1, 1, 1, 1, 1, 2, 1, 1, 1, 1, 2, 1, 1, 1, 1, 1, 1, 1, 1, 1, 1, 1, 1, 1, 1, 1, 1, 1, 1, 1, 1, 2, 2, 1, 1, 1, 1, 2, 1, 1, 1, 1, 1, 1, 2, 1, 1, 1, 1, 1, 1, 2, 3, 1, 21, 2, 1, 1, 1, 1, 1, 1, 1, 1, 2, 1, 1, 1, 1, 1, 1, 1, 1, 1, 1, 1, 1, 1, 1, 1, 1, 1, 2, 1, 1, 1, 2, 1, 3, 1, 1, 1, 4, 1, 1, 1, 1, 1, 1, 1, 1, 1, 1, 1, 1, 1, 1, 1, 1, 1, 1, 1, 1, 1, 1, 1, 1, 1, 1, 1, 1, 1, 1, 1, 1, 1, 2, 1, 1, 1, 1, 4, 3, 5, 2, 2, 4, 1, 1, 1, 1, 1, 1, 1, 1, 2, 1, 1, 2, 1, 1, 1, 1, 1, 1, 1, 1, 1, 1, 2, 1, 2, 3, 1, 5, 2, 1, 1, 2, 1, 1, 1, 1, 1, 1, 1, 1, 1, 2, 4, 3, 1, 7, 1, 1, 1, 1, 1, 1, 1, 1, 1, 1, 1, 1, 1, 1, 1, 1, 1, 1, 1, 1, 1, 1, 1, 6, 1, 1, 3, 1, 1, 1, 1, 1, 3, 1, 2, 1, 1, 3, 3, 1, 1, 1, 2, 4, 1, 1, 1, 1, 1, 1, 1, 1, 1, 1, 1, 1, 1, 1, 4, 1, 1, 1, 1, 1, 1, 1, 2, 1, 1, 1, 3, 1, 1, 1, 1, 1, 1, 1, 1, 1, 1, 1, 1, 1, 1, 2, 1, 1, 1, 1, 1, 1, 1, 2, 1, 1, 1, 1, 1, 1, 1, 1, 1, 1, 1, 4, 1, 1, 2, 1, 1, 2, 1, 2, 2, 1, 1, 1, 14, 4, 1, 1, 1, 1, 1, 1, 1, 3, 1, 2, 1, 1, 1, 1, 1, 1, 1, 1, 2, 1, 1, 1, 1, 1, 1, 2, 1, 1, 1, 1, 1, 3, 4, 1, 1, 1, 1, 1, 1, 1, 1, 1, 1, 1, 1, 1, 1, 3, 1, 7, 1, 1, 1, 1, 1, 1, 1, 1, 1, 1, 1, 1, 1, 1, 1, 1, 3, 1, 1, 1, 1, 1, 1, 2, 1, 1, 1, 2, 1, 1, 1, 1, 3, 1, 1, 1, 1, 2, 1, 1, 3, 1, 1, 1, 1, 1, 2, 4, 1, 2, 1, 1, 1, 1, 1, 1, 1, 1, 2, 2, 1, 1, 1, 1, 1, 1, 1, 1, 1, 1, 1, 1, 1, 1, 1, 1, 2, 2, 1, 1, 1, 1, 1, 1, 1, 3, 1, 1, 1, 1, 1, 1, 1, 1, 2, 1, 1, 1, 1, 2, 5, 1, 1, 1, 1, 2, 2, 1, 1, 1, 3, 1, 1, 2, 1, 1, 1, 1, 1, 6, 3, 1, 1, 1, 1, 1, 1, 1, 1, 1, 1, 1, 1, 1, 1, 1, 1, 1, 1, 1, 1, 2, 1, 1, 1, 1, 1, 1, 1, 1, 1, 1, 1, 1, 1, 1, 3, 1, 1, 3, 1, 1, 1, 2, 5, 2, 1, 1, 2, 3, 3, 2, 2, 2, 2, 2, 2, 1, 1, 2, 1, 1, 1, 1, 1, 1, 1, 2, 1, 1, 1, 1, 1, 1, 1, 1, 1, 1, 1, 1, 1, 1, 1, 1, 1, 1, 1, 3, 3, 1, 1, 1, 1, 1, 1, 1, 1, 1, 1, 1, 1, 1, 1, 1, 1, 1, 1, 1, 2, 1, 2, 1, 1, 1, 1, 1, 1, 1, 1, 1, 1, 1, 1, 1, 1, 1, 1, 1, 1, 1, 1, 1, 1, 1, 3, 1, 1, 6, 2, 1, 1, 1, 1, 1, 2, 2, 1, 3, 1, 2, 1, 1, 1, 1, 1, 1, 1, 1, 1, 1, 1, 1, 1, 1, 1, 1, 1, 1, 1, 1, 1, 1, 1, 1, 1, 1, 1, 2, 2, 1, 5, 1, 1, 1, 1, 1, 1, 3, 1, 1, 1, 1, 1, 1, 1, 1, 1, 1, 1, 2, 1, 1, 1, 1, 2, 1, 1, 1, 1, 2, 1, 1, 1, 1, 1, 1, 1, 1, 1, 2, 2, 1, 1, 1, 1, 1, 1, 1, 1, 1, 1, 1, 1, 1, 1, 1, 1, 2, 1, 1, 2, 1, 1, 1, 1, 1, 1, 1, 1, 1, 1, 1, 1, 2, 2, 1, 1, 1, 1, 1, 1, 1, 1, 1, 1, 1, 1, 1, 1, 1, 1, 1, 1, 1, 1, 1, 1, 1, 1, 1, 1, 1, 4, 1, 3, 1, 1, 1, 1, 1, 1, 1, 1, 1, 1, 1, 1, 1, 1, 1, 1, 1, 1, 1, 1, 2, 7, 2, 2, 2, 2, 1, 1, 4, 6, 6, 1, 1, 1, 1, 1, 1, 3, 1, 1, 3, 3, 4, 3, 5, 1, 1, 1, 1, 1, 1, 1, 1, 1, 2, 1, 1, 4, 1, 1, 1, 1, 1, 1, 1, 1, 2, 1, 1, 1, 1, 1, 1, 1, 1, 1, 1, 1, 1, 1, 1, 1, 1, 1, 1, 1, 1, 2, 2, 2, 2, 2, 2, 1, 1, 1, 1, 1, 1, 1, 1, 1, 1, 1, 1, 1, 1, 1, 1, 1, 1, 1, 1, 1, 1, 3, 1, 1, 1, 1, 1, 1, 1, 1, 3, 4, 1, 1, 1, 5, 1, 1, 1, 3, 1, 1, 1, 1, 1, 1, 1, 1, 1, 1, 1, 3, 1, 1, 1, 1, 1, 1, 1, 2, 1, 2, 1, 4, 5, 4, 1, 1, 1, 1, 1, 1, 2, 2, 2, 2, 1, 1, 1, 1, 1, 1, 1, 1, 1, 1, 1, 1, 1, 1, 1, 1, 1, 1, 1, 1, 1, 1, 1, 4, 1, 1, 1, 4, 1, 1, 1, 1, 3, 1, 1, 1, 1, 1, 1, 1, 1, 1, 1, 1, 3, 1, 1, 1, 1, 1, 1, 1, 1, 1, 1, 1, 1, 1, 1, 1, 1, 1, 1, 2, 2, 1, 1, 1, 1, 1, 1, 1, 3, 1, 1, 1, 1, 1, 1, 1, 1, 1, 1, 1, 1, 1, 1, 1, 1, 1, 1, 1, 1, 1, 1, 1, 2, 1, 1, 1, 1, 1, 1, 1, 1, 1, 2, 1, 1, 1, 1, 1, 1, 1, 1, 1, 1, 1, 1, 1, 1, 1, 1, 1, 1, 1, 1, 1, 1, 1, 1, 1, 1, 1, 1, 1, 1, 1, 1, 1, 1, 1, 1, 1, 1, 1, 1, 1, 1, 1, 1, 1, 1, 1, 1, 1, 1, 1, 1, 1, 1, 2, 1, 3, 2, 1, 3, 2, 1, 1, 1, 1, 2, 1, 1, 1, 1, 1, 1, 1, 1, 1, 1, 1, 1, 1, 1, 1, 1, 1, 1, 1, 1, 1, 1, 1, 1, 1, 1, 1, 1, 1, 1, 1, 1, 1, 1, 1, 1, 1, 1, 1, 1, 1, 1, 1, 1, 1, 1, 1, 1, 1, 1, 2, 1, 1, 1, 1, 1, 1, 1, 1, 1, 1, 1, 1, 1, 1, 13, 1, 1, 1, 1, 1, 1, 10, 1, 1, 3, 1, 1, 2, 1, 1, 1, 1, 1, 1, 1, 1, 2, 1, 1, 1, 1, 1, 2, 1, 1, 1, 1, 1, 1, 1, 1, 1, 1, 1, 3, 1, 1, 1, 1, 1, 1, 1, 3, 1, 1, 1, 1, 3, 1, 1, 1, 1, 1, 1, 1, 1, 1, 21, 1, 1, 1, 1, 1, 1, 1, 1, 1, 1, 1, 1, 1, 1, 1, 1, 1, 1, 1, 1, 1, 1, 1, 1, 1, 1, 1, 1, 1, 1, 1, 1, 1, 1, 1, 1, 1, 1, 2, 2, 1, 1, 2, 1, 1, 1, 1, 1, 1, 1, 1, 1, 1, 1, 1, 2, 1, 1, 1, 1, 1, 1, 1, 1, 1, 1, 1, 1, 1, 1, 1, 1, 1, 1, 3, 4, 1, 1, 1, 1, 1, 1, 1, 1, 1, 1, 1, 1, 1, 1, 1, 1, 1, 1, 1, 1, 1, 1, 1, 1, 1, 1, 1, 1, 1, 1, 1, 1, 1, 1, 1, 1, 2, 1, 1, 1, 1, 1, 1, 1, 1, 1, 2, 1, 1, 1, 1, 1, 1, 1, 1, 1, 1, 1, 1, 4, 1, 1, 1, 2, 1, 1, 1, 1, 1, 1, 3, 1, 1, 1, 1, 1, 1, 6, 4, 1, 3, 1, 1, 1, 1, 1, 1, 1, 1, 2, 1, 1, 1, 1, 2, 1, 1, 1, 1, 1, 1, 1, 1, 1, 1, 2, 1, 1, 3, 2, 2, 2, 4, 1, 1, 1, 1, 1, 1, 3, 2, 1, 1, 1, 1, 1, 1, 1, 1, 1, 1, 2, 1, 1, 1, 1, 1, 1, 2, 1, 1, 1, 1, 1, 1, 1, 2, 1, 5, 1, 1, 1, 1, 1, 1, 1, 1, 1, 2, 1, 1, 1, 2, 1, 1, 1, 1, 1, 1, 1, 1, 9, 1, 1, 1, 1, 1, 1, 1, 1, 1, 1, 1, 1, 1, 3, 1, 1, 1, 1, 1, 1, 2, 1, 1, 1, 1, 1, 1, 1, 1, 1, 1, 1, 1, 1, 1, 1, 1, 1, 1, 1, 1, 1, 1, 1, 1, 1, 1, 1, 1, 1, 1, 1, 1, 1, 1, 1, 1, 1, 1, 1, 1, 1, 1, 1, 1, 1, 1, 1, 1, 1, 1, 1, 1, 2, 1, 1, 1, 1, 1, 1, 1, 1, 1, 1, 2, 1, 1, 1, 1, 2, 3, 1, 2, 1, 1, 1, 1, 1, 1, 1, 1, 1, 1, 1, 1, 1, 1, 1, 1, 1, 1, 1, 1, 1, 7, 2, 1, 1, 1, 1, 1, 1, 1, 1, 1, 1, 1, 1, 1, 1, 1, 1, 1, 1, 1, 1, 1, 1, 1, 2, 1, 1, 1, 2, 1, 1, 1, 1, 1, 1, 1, 1, 1, 5, 1, 1, 3, 1, 1, 1, 1, 1, 1, 1, 1, 1, 1, 1, 1, 1, 1, 1, 1, 1, 1, 1, 1, 1, 1, 1, 1, 1, 1, 1, 1, 1, 1, 1, 1, 1, 1, 1, 1, 1, 1, 1, 1, 1, 1, 1, 1, 1, 1, 1, 1, 1, 1, 1, 1, 1, 1, 1, 1, 1, 1, 3, 3, 3, 2, 2, 3, 1, 1, 1, 1, 1, 1, 1, 2, 1, 1, 1, 1, 1, 1, 1, 1, 1, 1, 1, 1, 2, 1, 1, 1, 1, 1, 1, 1, 1, 1, 1, 1, 1, 1, 1, 1, 2, 1, 2, 1, 2, 1, 1, 1, 1, 2, 2, 1, 1, 1, 1, 1, 1, 1, 1, 1, 1, 1, 1, 1, 1, 1, 1, 1, 1, 1, 1, 1, 1, 5, 1, 2, 1, 1, 1, 1, 1, 1, 1, 1, 1, 1, 1, 1, 1, 1, 4, 1, 1, 1, 1, 1, 1, 1, 1, 1, 1, 1, 1, 1, 1, 1, 1, 1, 1, 1, 1, 1, 1, 1, 1, 1, 1, 1, 1, 2, 1, 1, 1, 1, 1, 1, 1, 1, 1, 1, 1, 1, 2, 1, 1, 1, 1, 1, 1, 1, 2, 1, 1, 1, 1, 1, 1, 1, 1, 1, 1, 1, 1, 2, 1, 1, 1, 1, 1, 1, 1, 1, 1, 1, 1, 1, 1, 1, 1, 1, 1, 1, 1, 1, 1, 1, 1, 1, 1, 1, 1, 1, 2, 1, 2, 1, 1, 1, 1, 2, 1, 1, 1, 1, 1, 1, 1, 1, 1, 1, 1, 1, 1, 2, 1, 2, 3, 1, 1, 1, 1, 1, 1, 1, 1, 1, 2, 1, 1, 1, 1, 1, 1, 1, 2, 1, 1, 2, 2, 2, 2, 1, 1, 3, 1, 1, 1, 1, 3, 1, 1, 1, 1, 1, 1, 1, 1, 1, 1, 1, 1, 1, 1, 1, 1, 1, 1, 1, 1, 1, 1, 1, 1, 1, 1, 1, 2, 1, 1, 1, 1, 1, 1, 1, 3, 1, 1, 1, 1, 1, 1, 1, 1, 1, 1, 1, 1, 1, 1, 2, 3, 1, 2, 2, 2, 2, 2, 4, 2, 2, 1, 1, 1, 1, 1, 1, 1, 1, 3, 1, 1, 1, 1, 1, 1, 1, 1, 1, 1, 1, 1, 1, 1, 1, 1, 1, 1, 1, 1, 1, 1, 1, 1, 1, 3, 1, 1, 1, 1, 1, 2, 1, 1, 1, 1, 1, 2, 2, 2, 2, 2, 2, 2, 1, 1, 1, 1, 1, 1, 1, 1, 1, 1, 1, 1, 1, 1, 1, 1, 1, 1, 1, 1, 1, 2, 1, 1, 1, 2, 1, 1, 1, 1, 1, 3, 1, 1, 1, 1, 1, 1, 1, 1, 1, 1, 1, 1, 1, 1, 1, 1, 1, 1, 1, 1, 1, 1, 1, 1, 1, 1, 1, 1, 2, 1, 1, 1, 1, 1, 1, 1, 1, 1, 1, 1, 1, 1, 1, 1, 1, 1, 1, 1, 1, 1, 1, 1, 1, 1, 1, 1, 1, 1, 1, 1, 1, 1, 1, 1, 1, 2, 1, 1, 1, 1, 1, 1, 1, 1, 1, 1, 1, 1, 1, 1, 1, 2, 1, 1, 1, 1, 1, 1, 1, 1, 1, 1, 2, 1, 1, 1, 1, 1, 1, 1, 1, 1, 1, 1, 1, 1, 1, 1, 1, 1, 1, 10, 1, 2, 1, 12, 1, 1, 2, 1, 1, 1, 1, 1, 1, 4, 1, 1, 1, 1, 1, 1, 1, 1, 3, 1, 1, 1, 1, 1, 1, 1, 1, 1, 1, 1, 1, 1, 1, 1, 1, 1, 1, 1, 1, 1, 1, 1, 1, 2, 1, 1, 1, 1, 1, 1, 1, 1, 1, 1, 2, 2, 2, 2, 2, 2, 2, 1, 1, 1, 1, 1, 1, 1, 1, 1, 2, 1, 1, 1, 1, 1, 1, 1, 3, 1, 1, 1, 1, 1, 1, 1, 1, 1, 1, 1, 1, 1, 3, 1, 1, 1, 1, 1, 1, 1, 1, 1, 1, 1, 1, 1, 1, 1, 1, 1, 1, 2, 1, 1, 1, 1, 1, 1, 1, 1, 1, 1, 1, 1, 1, 1, 2, 1, 1, 1, 1, 1, 1, 1, 1, 1, 1, 1, 1, 1, 1, 1, 1, 1, 1, 1, 1, 1, 1, 1, 1, 1, 3, 1, 1, 1, 1, 1, 1, 1, 3, 1, 4, 1, 1, 16, 1, 5, 1, 1, 1, 1, 1, 1, 1, 1, 1, 1, 1, 3, 1, 1, 4, 1, 1, 1, 1, 1, 1, 3, 1, 1, 1, 5, 1, 1, 1, 1, 1, 1, 1, 1, 1, 1, 1, 2, 1, 1, 1, 1, 1, 1, 1, 1, 1, 1, 1, 1, 1, 1, 1, 1, 1, 1, 1, 1, 1, 1, 1, 1, 1, 1, 1, 1, 1, 1, 1, 1, 1, 1, 1, 1, 1, 1, 1, 1, 1, 1, 1, 1, 1, 1, 1, 1, 2, 1, 1, 1, 1, 1, 1, 1, 1, 1, 1, 1, 1, 1, 1, 1, 1, 1, 1, 1, 1, 1, 1, 1, 1, 1, 1, 1, 1, 1, 1, 1, 1, 1, 1, 1, 1, 1, 1, 1, 1, 1, 1, 1, 1, 2, 1, 1, 1, 1, 1, 1, 1, 1, 1, 1, 1, 1, 1, 2, 1, 1, 1, 1, 1, 1, 1, 2, 1, 2, 4, 1, 1, 1, 1, 2, 1, 1, 1, 1, 1, 1, 1, 1, 1, 1, 1, 1, 2, 1, 1, 1, 1, 1, 1, 1, 1, 1, 1, 1, 1, 1, 1, 1, 1, 1, 1, 1, 1, 1, 1, 1, 1, 1, 1, 1, 2, 1, 1, 1, 1, 1, 1, 1, 2, 2, 1, 1, 1, 1, 1, 1, 1, 1, 1, 2, 1, 1, 1, 1, 1, 1, 1, 1, 3, 1, 1, 1, 1, 1, 1, 1, 1, 1, 1, 1, 1, 1, 1, 1, 1, 1, 1, 1, 1, 1, 1, 1, 1, 1, 1, 1, 1, 1, 1, 1, 1, 2, 1, 1, 1, 1, 1, 1, 1, 1, 1, 1, 1, 1, 1, 2, 3, 3, 1, 1, 1, 1, 1, 1, 1, 1, 1, 1, 1, 1, 1, 1, 1, 1, 1, 3, 1, 1, 1, 1, 2, 2, 1, 1, 1, 1, 1, 1, 1, 1, 1, 1, 1, 1, 1, 1, 1, 1, 1, 1, 1, 1, 1, 1, 1, 1, 1, 1, 1, 1, 1, 1, 1, 1, 1, 1, 1, 1, 1, 1, 1, 1, 1, 1, 1, 1, 1, 1, 1, 1, 1, 1, 1, 1, 1, 1, 1, 1, 1, 1, 1, 1, 1, 1, 1, 1, 1, 1, 1, 1, 1, 1, 1, 1, 1, 1, 1, 1, 1, 1, 1, 3, 5, 1, 1, 1, 1, 1, 1, 1, 1, 2, 2, 1, 1, 1, 1, 1, 1, 1, 1, 1, 1, 1, 1, 1, 1, 1, 1, 2, 1, 1, 1, 1, 1, 1, 1, 1, 1, 1, 1, 1, 1, 1, 1, 1, 1, 1, 1, 1, 1, 1, 1, 1, 1, 1, 1, 1, 1, 1, 1, 1, 1, 1, 1, 1, 1, 1, 2, 1, 1, 1, 1, 1, 1, 1, 2, 2, 1, 1, 1, 1, 1, 1, 1, 1, 1, 1, 1, 1, 1, 1, 1, 1, 1, 1, 1, 1, 1, 1, 1, 1, 1, 1, 1, 1, 1, 1, 1, 1, 1, 1, 1, 1, 1, 1, 1, 2, 1, 1, 1, 1, 1, 1, 2, 1, 3, 3, 3, 1, 1, 3, 1, 2, 1, 1, 1, 1, 1, 2, 1, 1, 1, 1, 1, 2, 1, 1, 1, 1, 1, 1, 1, 1, 1, 1, 1, 1, 1, 1, 1, 1, 1, 1, 1, 1, 1, 1, 1, 1, 1, 1, 1, 1, 1, 1, 1, 1, 4, 1, 1, 1, 1, 1, 2, 2, 1, 1, 1, 1, 1, 1, 1, 1, 1, 1, 1, 1, 1, 1, 1, 2, 1, 1, 1, 1, 1, 2, 1, 1, 1, 1, 2, 1, 1, 1, 1, 1, 1, 1, 1, 1, 1, 1, 1, 1, 1, 1, 1, 1, 1, 1, 2, 1, 1, 1, 1, 1, 2, 1, 1, 1, 1, 2, 1, 1, 1, 1, 1, 1, 1, 1, 1, 1, 1, 1, 1, 1, 1, 1, 1, 1, 2, 1, 1, 1, 1, 1, 1, 1, 1, 1, 1, 1, 1, 1, 1, 1, 1, 1, 1, 1, 1, 1, 1, 1, 1, 1, 1, 1, 1, 1, 1, 1, 1, 2, 1, 2, 1, 1, 1, 1, 1, 1, 1, 1, 1, 1, 1, 1, 1, 1, 1, 1, 1, 1, 1, 1, 1, 1, 1, 1, 1, 1, 1, 1, 1, 1, 2, 1, 1, 1, 1, 1, 1, 1, 1, 1, 1, 1, 1, 1, 1, 1, 1, 1, 1, 1, 1, 1, 1, 1, 1, 1, 2, 2, 1, 1, 1, 1, 1, 1, 1, 1, 1, 1, 1, 1, 1, 1, 1, 1, 1, 1, 1, 1, 1, 1, 1, 1, 1, 3, 1, 1, 1, 1, 1, 1, 1, 1, 1, 1, 1, 1, 1, 1, 1, 1, 1, 1, 1, 2, 2, 2, 2, 2, 1, 1, 1, 1, 1, 1, 1, 1, 1, 1, 1, 1, 1, 1, 1, 1, 1, 1, 2, 1, 1, 1, 1, 1, 1, 1, 1, 1, 1, 1, 1, 1, 1, 1, 1, 1, 1, 1, 1, 1, 1, 1, 1, 1, 1, 1, 1, 1, 1, 1, 1, 1, 1, 1, 1, 1, 1, 1, 1, 1, 1, 1, 1, 1, 1, 1, 1, 1, 1, 1, 1, 1, 1, 1, 1, 1, 1, 1, 1, 1, 1, 1, 1, 1, 1, 1, 1, 1, 1, 1, 1, 1, 1, 1, 1, 1, 1, 2, 2, 1, 1, 1, 1, 1, 1, 1, 1, 1, 1, 1, 1, 1, 1, 1, 1, 1, 1, 1, 1, 1, 1, 1, 1, 1, 1, 1, 1, 1, 1, 1, 1, 1, 1, 1, 1, 1, 1, 1, 1, 1, 1, 1, 1, 1, 1, 1, 1, 1, 1, 1, 1, 1, 1, 1, 1, 1, 1, 1, 1, 2, 1, 1, 1, 1, 1, 1, 1, 1, 1, 1, 1, 2, 1, 1, 1, 1, 1, 1, 1, 1, 1, 1, 1, 1, 1, 1, 1, 1, 1, 1, 1, 1, 1, 1, 1, 1, 1, 1, 1, 1, 1, 1, 1, 1, 1, 1, 1, 1, 1, 1, 1, 1, 1, 1, 1, 1, 1, 1, 1, 1, 1, 1, 1, 1, 1, 1, 1, 1, 1, 1, 1, 1, 1, 1, 1, 1, 1, 1, 1, 1, 1, 1, 1, 1, 1, 1, 2, 2, 1, 1, 1, 1, 1, 1, 1, 1, 1, 1, 1, 1, 1, 1, 1, 1, 1, 1, 1, 1, 1, 1, 1, 1, 1, 1, 1, 1, 1, 1, 1, 1, 1, 1, 1, 1, 1, 1, 1, 1, 1, 1, 1, 1, 1, 1, 1, 1, 1, 1, 1, 1, 1, 1, 1, 1, 1, 1, 1, 1, 1, 1, 1, 1, 6, 1, 1, 1, 1, 1, 1, 1, 1, 1, 1, 1, 1, 1, 1, 1, 1, 1, 1, 1, 1, 1, 1, 1, 1, 1, 1, 1, 1, 1, 1, 1, 1, 1, 1, 1, 1, 1, 1, 1, 1, 1, 1, 1, 1, 1, 1, 1, 1, 1, 1, 1, 1, 1, 1, 1, 1, 1, 1, 1, 1, 1, 1, 1, 1, 1, 1, 1, 1, 1, 1, 1, 1, 1, 1, 2, 1, 1, 1, 1, 1, 1, 1, 1, 1, 1, 1, 1, 1, 1, 1, 1, 1, 1, 1, 1, 1, 1, 1, 1, 1, 1, 1, 1, 1, 1, 1, 1, 1, 1, 1, 1, 1, 1, 1, 1, 1, 1, 1, 1, 1, 1, 1, 1, 1, 1, 1, 1, 1, 1, 1, 1, 1, 1, 1, 1, 1, 1, 1, 1, 1, 1, 1, 1, 1, 1, 1, 1, 1, 1, 1, 1, 1, 2, 1, 1, 1, 1, 1, 1, 1, 1, 1, 1, 1, 1, 1, 1, 1, 1, 1, 1, 1, 1, 1, 1, 1, 1, 1, 1, 1, 1, 1, 1, 1, 1, 1, 1, 1, 1, 1, 1, 1, 1, 1, 1, 1, 1, 1, 1, 1, 1, 1, 1, 1, 1, 1, 1, 1, 1, 1, 1, 1, 1, 1, 1, 1, 1, 1, 1, 1, 1, 1, 1, 1, 1, 1, 2, 1, 1, 1, 1, 1, 1, 1, 1, 1, 1, 1, 1, 1, 1, 1, 1])"
      ]
     },
     "execution_count": 69,
     "metadata": {},
     "output_type": "execute_result"
    }
   ],
   "source": [
    "wordcounts.values()"
   ]
  },
  {
   "cell_type": "code",
   "execution_count": 64,
   "id": "7e551949",
   "metadata": {},
   "outputs": [],
   "source": [
    "counts_df = pd.DataFrame.from_dict(dict(wordcounts), orient='index').rename(columns = {0: 'counts'}).sort_values('counts', ascending = False)"
   ]
  },
  {
   "cell_type": "code",
   "execution_count": 70,
   "id": "840ff1e1",
   "metadata": {},
   "outputs": [
    {
     "data": {
      "text/html": [
       "<div>\n",
       "<style scoped>\n",
       "    .dataframe tbody tr th:only-of-type {\n",
       "        vertical-align: middle;\n",
       "    }\n",
       "\n",
       "    .dataframe tbody tr th {\n",
       "        vertical-align: top;\n",
       "    }\n",
       "\n",
       "    .dataframe thead th {\n",
       "        text-align: right;\n",
       "    }\n",
       "</style>\n",
       "<table border=\"1\" class=\"dataframe\">\n",
       "  <thead>\n",
       "    <tr style=\"text-align: right;\">\n",
       "      <th></th>\n",
       "      <th>counts</th>\n",
       "    </tr>\n",
       "  </thead>\n",
       "  <tbody>\n",
       "    <tr>\n",
       "      <th>https</th>\n",
       "      <td>4142</td>\n",
       "    </tr>\n",
       "    <tr>\n",
       "      <th>tokyo2020</th>\n",
       "      <td>2808</td>\n",
       "    </tr>\n",
       "    <tr>\n",
       "      <th>olymp</th>\n",
       "      <td>2777</td>\n",
       "    </tr>\n",
       "    <tr>\n",
       "      <th>postpon</th>\n",
       "      <td>1495</td>\n",
       "    </tr>\n",
       "    <tr>\n",
       "      <th>’</th>\n",
       "      <td>1080</td>\n",
       "    </tr>\n",
       "    <tr>\n",
       "      <th>game</th>\n",
       "      <td>1034</td>\n",
       "    </tr>\n",
       "    <tr>\n",
       "      <th>iocmedia</th>\n",
       "      <td>837</td>\n",
       "    </tr>\n",
       "    <tr>\n",
       "      <th>athlet</th>\n",
       "      <td>785</td>\n",
       "    </tr>\n",
       "    <tr>\n",
       "      <th>'s</th>\n",
       "      <td>678</td>\n",
       "    </tr>\n",
       "    <tr>\n",
       "      <th>uswnt</th>\n",
       "      <td>658</td>\n",
       "    </tr>\n",
       "    <tr>\n",
       "      <th>2021</th>\n",
       "      <td>654</td>\n",
       "    </tr>\n",
       "    <tr>\n",
       "      <th>tokyo</th>\n",
       "      <td>647</td>\n",
       "    </tr>\n",
       "    <tr>\n",
       "      <th>ioc</th>\n",
       "      <td>549</td>\n",
       "    </tr>\n",
       "    <tr>\n",
       "      <th>teamusa</th>\n",
       "      <td>527</td>\n",
       "    </tr>\n",
       "    <tr>\n",
       "      <th>year</th>\n",
       "      <td>515</td>\n",
       "    </tr>\n",
       "    <tr>\n",
       "      <th>coronavirus</th>\n",
       "      <td>506</td>\n",
       "    </tr>\n",
       "    <tr>\n",
       "      <th>2020</th>\n",
       "      <td>498</td>\n",
       "    </tr>\n",
       "    <tr>\n",
       "      <th>decis</th>\n",
       "      <td>427</td>\n",
       "    </tr>\n",
       "    <tr>\n",
       "      <th>time</th>\n",
       "      <td>413</td>\n",
       "    </tr>\n",
       "    <tr>\n",
       "      <th>world</th>\n",
       "      <td>392</td>\n",
       "    </tr>\n",
       "  </tbody>\n",
       "</table>\n",
       "</div>"
      ],
      "text/plain": [
       "             counts\n",
       "https          4142\n",
       "tokyo2020      2808\n",
       "olymp          2777\n",
       "postpon        1495\n",
       "’              1080\n",
       "game           1034\n",
       "iocmedia        837\n",
       "athlet          785\n",
       "'s              678\n",
       "uswnt           658\n",
       "2021            654\n",
       "tokyo           647\n",
       "ioc             549\n",
       "teamusa         527\n",
       "year            515\n",
       "coronavirus     506\n",
       "2020            498\n",
       "decis           427\n",
       "time            413\n",
       "world           392"
      ]
     },
     "execution_count": 70,
     "metadata": {},
     "output_type": "execute_result"
    }
   ],
   "source": [
    "counts_df.head(20)"
   ]
  },
  {
   "cell_type": "code",
   "execution_count": 71,
   "id": "01c5e760",
   "metadata": {},
   "outputs": [],
   "source": [
    "from matplotlib import pyplot as plt\n",
    "counts_df_top = counts_df.iloc[0:20]"
   ]
  },
  {
   "cell_type": "code",
   "execution_count": 72,
   "id": "cc8e7421",
   "metadata": {},
   "outputs": [
    {
     "data": {
      "image/png": "[encoded data removed]",
      "text/plain": [
       "<Figure size 1080x720 with 1 Axes>"
      ]
     },
     "metadata": {
      "needs_background": "light"
     },
     "output_type": "display_data"
    }
   ],
   "source": [
    "fig, ax0 = plt.subplots(figsize=(15,10))\n",
    "ax0.bar(counts_df_top.index, counts_df_top['counts'])\n",
    "plt.xticks(rotation=90, fontsize = 'small')\n",
    "plt.show()"
   ]
  }
 ],
 "metadata": {
  "kernelspec": {
   "display_name": "Python 3 (ipykernel)",
   "language": "python",
   "name": "python3"
  },
  "language_info": {
   "codemirror_mode": {
    "name": "ipython",
    "version": 3
   },
   "file_extension": ".py",
   "mimetype": "text/x-python",
   "name": "python",
   "nbconvert_exporter": "python",
   "pygments_lexer": "ipython3",
   "version": "3.9.6"
  }
 },
 "nbformat": 4,
 "nbformat_minor": 5
}
