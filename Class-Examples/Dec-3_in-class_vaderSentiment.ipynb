{
 "cells": [
  {
   "cell_type": "code",
   "execution_count": 1,
   "id": "56a1d9e5",
   "metadata": {},
   "outputs": [],
   "source": [
    "import pandas as pd\n",
    "from vaderSentiment.vaderSentiment import SentimentIntensityAnalyzer"
   ]
  },
  {
   "cell_type": "code",
   "execution_count": 2,
   "id": "cbab0233",
   "metadata": {},
   "outputs": [
    {
     "name": "stdout",
     "output_type": "stream",
     "text": [
      " Volume in drive C is Windows\n",
      " Volume Serial Number is 88B8-561F\n",
      "\n",
      " Directory of C:\\Users\\dsilva2\\EMAT22110_FA21\n",
      "\n",
      "12/07/2021  04:10 PM    <DIR>          .\n",
      "12/07/2021  04:10 PM    <DIR>          ..\n",
      "12/07/2021  03:42 PM    <DIR>          .ipynb_checkpoints\n",
      "11/04/2021  11:16 AM             1,077 2016news-topic-ranks.csv\n",
      "09/02/2021  03:32 PM             5,319 Aug31_inclass-practice.ipynb\n",
      "09/30/2021  03:41 PM             1,623 bls_data.csv\n",
      "09/14/2021  03:27 PM            20,354 chess_buds_messages.csv\n",
      "11/04/2021  02:44 PM            51,051 chi2-crosstabs.ipynb\n",
      "10/19/2021  12:17 PM            58,901 COVID-Raffle-data-collection.ipynb\n",
      "09/21/2021  03:30 PM           313,653 DataFrame-Methods-and-visuals.ipynb\n",
      "10/28/2021  04:07 PM           118,748 datetime-and-figure-axis.ipynb\n",
      "12/02/2021  05:00 PM           119,686 Dec-2_in-class_text-cleaning.ipynb\n",
      "12/02/2021  03:03 PM            54,203 Dec-2_prep_text-analysis.ipynb\n",
      "12/07/2021  04:10 PM            22,016 Dec-3_in-class_vaderSentiment.ipynb\n",
      "09/20/2021  12:46 PM           134,652 emoji-encodings-from-fb-data.ipynb\n",
      "11/02/2021  02:13 PM             3,954 Equal_Audio_Features.csv\n",
      "11/02/2021  02:13 PM            53,423 Equal_Track_Data.csv\n",
      "09/07/2021  10:16 AM           102,772 Explore_IG-data.ipynb\n",
      "09/07/2021  01:25 PM    <DIR>          facebook-davidsilva100046_full\n",
      "09/07/2021  01:10 PM     1,857,380,869 facebook-davidsilva100046_full.zip\n",
      "09/07/2021  01:26 PM    <DIR>          facebook-davidsilva100046_year\n",
      "09/07/2021  01:09 PM       475,994,340 facebook-davidsilva100046_year.zip\n",
      "09/09/2021  10:59 PM           494,749 fb-2016_Coded-1000_no campaigns.xlsx\n",
      "11/04/2021  12:57 PM            43,923 jitter-scatter-plots.ipynb\n",
      "09/07/2021  01:36 PM            28,441 likes_Report-dev.ipynb\n",
      "11/02/2021  02:13 PM             4,238 Montero_Audio_Features.csv\n",
      "11/02/2021  02:13 PM            58,831 Montero_Track_Data.csv\n",
      "09/23/2021  03:25 PM                90 MONTEROApp_Keys-9-23-21.txt\n",
      "11/02/2021  04:00 PM            76,898 Nov-2_in-class_statistical-tests.ipynb\n",
      "11/02/2021  04:00 PM            53,785 Nov-2_in-class_statistical-tests_collect-data.ipynb\n",
      "11/04/2021  04:05 PM            69,754 Nov-4_in-class_regression-scatterplots.ipynb\n",
      "11/04/2021  03:26 PM           133,420 Nov-4_in-class_statistical-tests-cont.ipynb\n",
      "10/21/2021  03:45 PM            46,125 Oct-12_in-class_Twitter_API.ipynb\n",
      "10/19/2021  03:34 PM           207,106 Oct-19_in-class_web-scraping.ipynb\n",
      "10/21/2021  04:03 PM             4,026 Oct-21_in-class_Indeed_Job-scrape_start.ipynb\n",
      "10/28/2021  03:58 PM            67,121 Oct-26-28_datetime-and-matplotlib.ipynb\n",
      "10/05/2021  04:01 PM             5,105 Oct-5_in-class_Twitter_API.ipynb\n",
      "10/07/2021  03:58 PM            35,311 Oct-7_in-class.ipynb\n",
      "12/02/2021  01:14 PM        18,291,094 Olympics_Postponed_Twitter_Unique.csv\n",
      "10/06/2021  02:12 PM            35,933 Practicing_SQL.ipynb\n",
      "11/10/2021  09:14 AM               836 Return to FB Hypos.txt\n",
      "09/14/2021  04:05 PM           111,315 Sept-14_in-class.ipynb\n",
      "09/28/2021  12:10 PM            68,100 Sept-21_in-class.ipynb\n",
      "09/28/2021  12:55 PM             6,846 Sept-23_in-class_Spotify-API-Demo.ipynb\n",
      "09/28/2021  04:06 PM           145,947 Sept-28_in-class.ipynb\n",
      "09/30/2021  04:27 PM            25,913 Sept-30_in-class_BLS-API.ipynb\n",
      "09/30/2021  03:28 PM            20,755 Sept-30_in-class-Spotify.ipynb\n",
      "09/07/2021  04:05 PM           103,565 Sept-7_in-class.ipynb\n",
      "09/09/2021  04:28 PM           111,077 Sept-9_in-class.ipynb\n",
      "09/23/2021  12:31 PM                90 Spotify-Keys_9-23-21.txt\n",
      "09/28/2021  12:55 PM           145,508 Spotify-pt1.ipynb\n",
      "10/07/2021  02:31 PM    <DIR>          SQL-tutorials\n",
      "09/07/2021  09:51 AM    <DIR>          technogecko_20210830\n",
      "08/30/2021  09:27 AM        29,463,597 technogecko_20210830.zip\n",
      "10/05/2021  01:44 PM            17,126 Twitter_API-example.ipynb\n",
      "10/21/2021  03:37 PM             2,763 twitter_data.csv\n",
      "10/12/2021  01:52 PM               132 Twitter-Keys_10-5-21.txt\n",
      "11/09/2021  05:01 PM             8,570 What-factors-keep-people-returning-to-Facebook.ipynb\n",
      "              51 File(s)  2,384,324,731 bytes\n",
      "               7 Dir(s)  277,867,130,880 bytes free\n"
     ]
    }
   ],
   "source": [
    "ls"
   ]
  },
  {
   "cell_type": "code",
   "execution_count": 3,
   "id": "bdffed7b",
   "metadata": {},
   "outputs": [],
   "source": [
    "oly = pd.read_csv('Olympics_Postponed_Twitter_Unique.csv', encoding = 'utf-8')"
   ]
  },
  {
   "cell_type": "code",
   "execution_count": 4,
   "id": "e755c9b0",
   "metadata": {},
   "outputs": [
    {
     "data": {
      "text/plain": [
       "Index(['Date', 'Title', 'Url', 'Language', 'Author', 'Avatar',\n",
       "       'Category Details', 'Checked', 'City', 'Display URLs', 'Expanded URLs',\n",
       "       'Full Name', 'Full Text', 'Gender', 'Hashtags', 'Impact', 'Impressions',\n",
       "       'Latitude', 'Location Name', 'Longitude', 'Media Filter', 'Media URLs',\n",
       "       'Mentioned Authors', 'Original Url', 'Thread Author',\n",
       "       'Thread Created Date', 'Thread Entry Type', 'Thread Id', 'Thread URL',\n",
       "       'Twitter Author ID', 'Twitter Channel Role', 'Twitter Followers',\n",
       "       'Twitter Following', 'Twitter Reply Count', 'Twitter Reply to',\n",
       "       'Twitter Retweet of', 'Twitter Retweets', 'Twitter Tweets',\n",
       "       'Twitter Verified', 'Updated', 'Reach (new)'],\n",
       "      dtype='object')"
      ]
     },
     "execution_count": 4,
     "metadata": {},
     "output_type": "execute_result"
    }
   ],
   "source": [
    "oly.keys()"
   ]
  },
  {
   "cell_type": "code",
   "execution_count": 5,
   "id": "d73837a7",
   "metadata": {},
   "outputs": [
    {
     "data": {
      "text/html": [
       "<div>\n",
       "<style scoped>\n",
       "    .dataframe tbody tr th:only-of-type {\n",
       "        vertical-align: middle;\n",
       "    }\n",
       "\n",
       "    .dataframe tbody tr th {\n",
       "        vertical-align: top;\n",
       "    }\n",
       "\n",
       "    .dataframe thead th {\n",
       "        text-align: right;\n",
       "    }\n",
       "</style>\n",
       "<table border=\"1\" class=\"dataframe\">\n",
       "  <thead>\n",
       "    <tr style=\"text-align: right;\">\n",
       "      <th></th>\n",
       "      <th>Date</th>\n",
       "      <th>Title</th>\n",
       "      <th>Url</th>\n",
       "      <th>Language</th>\n",
       "      <th>Author</th>\n",
       "      <th>Avatar</th>\n",
       "      <th>Category Details</th>\n",
       "      <th>Checked</th>\n",
       "      <th>City</th>\n",
       "      <th>Display URLs</th>\n",
       "      <th>...</th>\n",
       "      <th>Twitter Followers</th>\n",
       "      <th>Twitter Following</th>\n",
       "      <th>Twitter Reply Count</th>\n",
       "      <th>Twitter Reply to</th>\n",
       "      <th>Twitter Retweet of</th>\n",
       "      <th>Twitter Retweets</th>\n",
       "      <th>Twitter Tweets</th>\n",
       "      <th>Twitter Verified</th>\n",
       "      <th>Updated</th>\n",
       "      <th>Reach (new)</th>\n",
       "    </tr>\n",
       "  </thead>\n",
       "  <tbody>\n",
       "    <tr>\n",
       "      <th>0</th>\n",
       "      <td>2020-03-31 23:58:48.0</td>\n",
       "      <td>@TeamUSA Literally all of the 2012 Olympics fo...</td>\n",
       "      <td>http://twitter.com/arv5518/statuses/1245138508...</td>\n",
       "      <td>en</td>\n",
       "      <td>arv5518</td>\n",
       "      <td>https://audiences.brandwatch.com/api/audiences...</td>\n",
       "      <td>NaN</td>\n",
       "      <td>False</td>\n",
       "      <td>NaN</td>\n",
       "      <td>NaN</td>\n",
       "      <td>...</td>\n",
       "      <td>3</td>\n",
       "      <td>76</td>\n",
       "      <td>0</td>\n",
       "      <td>http://twitter.com/TeamUSA/statuses/1245063460...</td>\n",
       "      <td>NaN</td>\n",
       "      <td>0</td>\n",
       "      <td>345</td>\n",
       "      <td>False</td>\n",
       "      <td>2020-10-05T16:39:32.631+0000</td>\n",
       "      <td>0</td>\n",
       "    </tr>\n",
       "    <tr>\n",
       "      <th>1</th>\n",
       "      <td>2020-03-31 23:57:17.0</td>\n",
       "      <td>@LanderVBALL @reesebatesvb @vbcoch @USAVBeach ...</td>\n",
       "      <td>http://twitter.com/alexptck3/statuses/12451381...</td>\n",
       "      <td>en</td>\n",
       "      <td>alexptck3</td>\n",
       "      <td>https://audiences.brandwatch.com/api/audiences...</td>\n",
       "      <td>NaN</td>\n",
       "      <td>False</td>\n",
       "      <td>NaN</td>\n",
       "      <td>NaN</td>\n",
       "      <td>...</td>\n",
       "      <td>217</td>\n",
       "      <td>293</td>\n",
       "      <td>1</td>\n",
       "      <td>http://twitter.com/LanderVBALL/statuses/124511...</td>\n",
       "      <td>NaN</td>\n",
       "      <td>0</td>\n",
       "      <td>1600</td>\n",
       "      <td>False</td>\n",
       "      <td>2020-10-05T16:39:32.613+0000</td>\n",
       "      <td>9</td>\n",
       "    </tr>\n",
       "    <tr>\n",
       "      <th>2</th>\n",
       "      <td>2020-03-31 23:57:00.0</td>\n",
       "      <td>\"To be blunt, it started women's basketball in...</td>\n",
       "      <td>http://twitter.com/NBCOlympics/statuses/124513...</td>\n",
       "      <td>en</td>\n",
       "      <td>NBCOlympics</td>\n",
       "      <td>https://audiences.brandwatch.com/api/audiences...</td>\n",
       "      <td>NaN</td>\n",
       "      <td>False</td>\n",
       "      <td>NaN</td>\n",
       "      <td>NaN</td>\n",
       "      <td>...</td>\n",
       "      <td>922572</td>\n",
       "      <td>2991</td>\n",
       "      <td>2</td>\n",
       "      <td>NaN</td>\n",
       "      <td>NaN</td>\n",
       "      <td>61</td>\n",
       "      <td>32017</td>\n",
       "      <td>True</td>\n",
       "      <td>2020-10-05T16:39:32.615+0000</td>\n",
       "      <td>67412</td>\n",
       "    </tr>\n",
       "    <tr>\n",
       "      <th>3</th>\n",
       "      <td>2020-03-31 23:56:25.0</td>\n",
       "      <td>@DetroitHandball @TeamHandball @USATH @USARugb...</td>\n",
       "      <td>http://twitter.com/CoachJax11/statuses/1245137...</td>\n",
       "      <td>en</td>\n",
       "      <td>CoachJax11</td>\n",
       "      <td>https://audiences.brandwatch.com/api/audiences...</td>\n",
       "      <td>NaN</td>\n",
       "      <td>False</td>\n",
       "      <td>NaN</td>\n",
       "      <td>NaN</td>\n",
       "      <td>...</td>\n",
       "      <td>158</td>\n",
       "      <td>249</td>\n",
       "      <td>1</td>\n",
       "      <td>http://twitter.com/DetroitHandball/statuses/12...</td>\n",
       "      <td>NaN</td>\n",
       "      <td>0</td>\n",
       "      <td>792</td>\n",
       "      <td>False</td>\n",
       "      <td>2020-10-05T16:39:32.602+0000</td>\n",
       "      <td>0</td>\n",
       "    </tr>\n",
       "    <tr>\n",
       "      <th>4</th>\n",
       "      <td>2020-03-31 23:55:31.0</td>\n",
       "      <td>I beat my own record! The new one is 52!!! @US...</td>\n",
       "      <td>http://twitter.com/reesebatesvb/statuses/12451...</td>\n",
       "      <td>en</td>\n",
       "      <td>reesebatesvb</td>\n",
       "      <td>https://audiences.brandwatch.com/api/audiences...</td>\n",
       "      <td>NaN</td>\n",
       "      <td>False</td>\n",
       "      <td>Kansas City</td>\n",
       "      <td>NaN</td>\n",
       "      <td>...</td>\n",
       "      <td>30</td>\n",
       "      <td>79</td>\n",
       "      <td>0</td>\n",
       "      <td>NaN</td>\n",
       "      <td>NaN</td>\n",
       "      <td>1</td>\n",
       "      <td>24</td>\n",
       "      <td>False</td>\n",
       "      <td>2020-10-05T16:39:32.631+0000</td>\n",
       "      <td>0</td>\n",
       "    </tr>\n",
       "  </tbody>\n",
       "</table>\n",
       "<p>5 rows × 41 columns</p>\n",
       "</div>"
      ],
      "text/plain": [
       "                    Date                                              Title  \\\n",
       "0  2020-03-31 23:58:48.0  @TeamUSA Literally all of the 2012 Olympics fo...   \n",
       "1  2020-03-31 23:57:17.0  @LanderVBALL @reesebatesvb @vbcoch @USAVBeach ...   \n",
       "2  2020-03-31 23:57:00.0  \"To be blunt, it started women's basketball in...   \n",
       "3  2020-03-31 23:56:25.0  @DetroitHandball @TeamHandball @USATH @USARugb...   \n",
       "4  2020-03-31 23:55:31.0  I beat my own record! The new one is 52!!! @US...   \n",
       "\n",
       "                                                 Url Language        Author  \\\n",
       "0  http://twitter.com/arv5518/statuses/1245138508...       en       arv5518   \n",
       "1  http://twitter.com/alexptck3/statuses/12451381...       en     alexptck3   \n",
       "2  http://twitter.com/NBCOlympics/statuses/124513...       en   NBCOlympics   \n",
       "3  http://twitter.com/CoachJax11/statuses/1245137...       en    CoachJax11   \n",
       "4  http://twitter.com/reesebatesvb/statuses/12451...       en  reesebatesvb   \n",
       "\n",
       "                                              Avatar  Category Details  \\\n",
       "0  https://audiences.brandwatch.com/api/audiences...               NaN   \n",
       "1  https://audiences.brandwatch.com/api/audiences...               NaN   \n",
       "2  https://audiences.brandwatch.com/api/audiences...               NaN   \n",
       "3  https://audiences.brandwatch.com/api/audiences...               NaN   \n",
       "4  https://audiences.brandwatch.com/api/audiences...               NaN   \n",
       "\n",
       "   Checked         City  Display URLs  ... Twitter Followers  \\\n",
       "0    False          NaN           NaN  ...                 3   \n",
       "1    False          NaN           NaN  ...               217   \n",
       "2    False          NaN           NaN  ...            922572   \n",
       "3    False          NaN           NaN  ...               158   \n",
       "4    False  Kansas City           NaN  ...                30   \n",
       "\n",
       "  Twitter Following Twitter Reply Count  \\\n",
       "0                76                   0   \n",
       "1               293                   1   \n",
       "2              2991                   2   \n",
       "3               249                   1   \n",
       "4                79                   0   \n",
       "\n",
       "                                    Twitter Reply to Twitter Retweet of  \\\n",
       "0  http://twitter.com/TeamUSA/statuses/1245063460...                NaN   \n",
       "1  http://twitter.com/LanderVBALL/statuses/124511...                NaN   \n",
       "2                                                NaN                NaN   \n",
       "3  http://twitter.com/DetroitHandball/statuses/12...                NaN   \n",
       "4                                                NaN                NaN   \n",
       "\n",
       "   Twitter Retweets  Twitter Tweets  Twitter Verified  \\\n",
       "0                 0             345             False   \n",
       "1                 0            1600             False   \n",
       "2                61           32017              True   \n",
       "3                 0             792             False   \n",
       "4                 1              24             False   \n",
       "\n",
       "                        Updated  Reach (new)  \n",
       "0  2020-10-05T16:39:32.631+0000            0  \n",
       "1  2020-10-05T16:39:32.613+0000            9  \n",
       "2  2020-10-05T16:39:32.615+0000        67412  \n",
       "3  2020-10-05T16:39:32.602+0000            0  \n",
       "4  2020-10-05T16:39:32.631+0000            0  \n",
       "\n",
       "[5 rows x 41 columns]"
      ]
     },
     "execution_count": 5,
     "metadata": {},
     "output_type": "execute_result"
    }
   ],
   "source": [
    "oly.head()"
   ]
  },
  {
   "cell_type": "code",
   "execution_count": 6,
   "id": "fcbc9e0b",
   "metadata": {},
   "outputs": [
    {
     "data": {
      "text/plain": [
       "0        reply\n",
       "1        reply\n",
       "2         post\n",
       "3        reply\n",
       "4         post\n",
       "         ...  \n",
       "19709     post\n",
       "19710    reply\n",
       "19711    reply\n",
       "19712     post\n",
       "19713     post\n",
       "Name: Thread Entry Type, Length: 19714, dtype: category\n",
       "Categories (2, object): ['post', 'reply']"
      ]
     },
     "execution_count": 6,
     "metadata": {},
     "output_type": "execute_result"
    }
   ],
   "source": [
    "oly['Thread Entry Type'].astype('category')"
   ]
  },
  {
   "cell_type": "code",
   "execution_count": 7,
   "id": "806f011a",
   "metadata": {},
   "outputs": [
    {
     "data": {
      "text/plain": [
       "0        en\n",
       "1        en\n",
       "2        en\n",
       "3        en\n",
       "4        en\n",
       "         ..\n",
       "19709    en\n",
       "19710    en\n",
       "19711    en\n",
       "19712    en\n",
       "19713    en\n",
       "Name: Language, Length: 19714, dtype: category\n",
       "Categories (52, object): ['am', 'ar', 'az', 'bn', ..., 'uk', 'ur', 'vi', 'zh']"
      ]
     },
     "execution_count": 7,
     "metadata": {},
     "output_type": "execute_result"
    }
   ],
   "source": [
    "oly['Language'].astype('category')"
   ]
  },
  {
   "cell_type": "code",
   "execution_count": 4,
   "id": "e033b6d4",
   "metadata": {},
   "outputs": [],
   "source": [
    "oly_enposts = oly[(oly['Language'] == 'en') & (oly['Thread Entry Type'] == 'post')]"
   ]
  },
  {
   "cell_type": "code",
   "execution_count": 7,
   "id": "2fe8be7f",
   "metadata": {},
   "outputs": [
    {
     "data": {
      "text/plain": [
       "2     \"To be blunt, it started women's basketball in...\n",
       "4     I beat my own record! The new one is 52!!! @US...\n",
       "18    Just what my swim kid needed! Thanks for the t...\n",
       "31                       We are trying our best! @USAWP\n",
       "42    And we are live @RobStoneONFOX @USMNT #joshwol...\n",
       "Name: Full Text, dtype: object"
      ]
     },
     "execution_count": 7,
     "metadata": {},
     "output_type": "execute_result"
    }
   ],
   "source": [
    "oly_enposts['Full Text'].head()"
   ]
  },
  {
   "cell_type": "code",
   "execution_count": 8,
   "id": "393bff6e",
   "metadata": {},
   "outputs": [
    {
     "data": {
      "text/plain": [
       "'\"To be blunt, it started women\\'s basketball in this country. It gave it the notoriety it deserved.\" -@s10bird We close #WomensHistoryMonth by celebrating the team that started a DYNASTY: The 1996 women of @usabasketball. https://t.co/TI5wWOtjtP'"
      ]
     },
     "execution_count": 8,
     "metadata": {},
     "output_type": "execute_result"
    }
   ],
   "source": [
    "oly_enposts['Full Text'].iloc[0]"
   ]
  },
  {
   "cell_type": "code",
   "execution_count": 11,
   "id": "f0bae4f8",
   "metadata": {},
   "outputs": [],
   "source": [
    "analyser = SentimentIntensityAnalyzer()"
   ]
  },
  {
   "cell_type": "code",
   "execution_count": 13,
   "id": "35861715",
   "metadata": {},
   "outputs": [
    {
     "name": "stdout",
     "output_type": "stream",
     "text": [
      "{'neg': 0.0, 'neu': 0.527, 'pos': 0.473, 'compound': 0.6696}\n"
     ]
    }
   ],
   "source": [
    "print(analyser.polarity_scores(oly_enposts['Full Text'].iloc[3]))"
   ]
  },
  {
   "cell_type": "code",
   "execution_count": 14,
   "id": "d6765984",
   "metadata": {},
   "outputs": [
    {
     "data": {
      "text/plain": [
       "'We are trying our best! @USAWP'"
      ]
     },
     "execution_count": 14,
     "metadata": {},
     "output_type": "execute_result"
    }
   ],
   "source": [
    "oly_enposts['Full Text'].iloc[3]"
   ]
  },
  {
   "cell_type": "code",
   "execution_count": 16,
   "id": "68583ed0",
   "metadata": {},
   "outputs": [],
   "source": [
    "a_sent = analyser.polarity_scores(oly_enposts['Full Text'].iloc[3])"
   ]
  },
  {
   "cell_type": "code",
   "execution_count": 17,
   "id": "9b328ad1",
   "metadata": {},
   "outputs": [
    {
     "data": {
      "text/plain": [
       "0.473"
      ]
     },
     "execution_count": 17,
     "metadata": {},
     "output_type": "execute_result"
    }
   ],
   "source": [
    "a_sent['pos']"
   ]
  },
  {
   "cell_type": "code",
   "execution_count": 18,
   "id": "f382d60f",
   "metadata": {},
   "outputs": [],
   "source": [
    "sentiments = [analyser.polarity_scores(x) for x in oly_enposts['Full Text']]"
   ]
  },
  {
   "cell_type": "code",
   "execution_count": 19,
   "id": "32d846c0",
   "metadata": {},
   "outputs": [
    {
     "data": {
      "text/plain": [
       "[{'neg': 0.0, 'neu': 0.902, 'pos': 0.098, 'compound': 0.5719},\n",
       " {'neg': 0.0, 'neu': 1.0, 'pos': 0.0, 'compound': 0.0},\n",
       " {'neg': 0.0, 'neu': 0.758, 'pos': 0.242, 'compound': 0.4926},\n",
       " {'neg': 0.0, 'neu': 0.527, 'pos': 0.473, 'compound': 0.6696},\n",
       " {'neg': 0.0, 'neu': 1.0, 'pos': 0.0, 'compound': 0.0},\n",
       " {'neg': 0.0, 'neu': 0.647, 'pos': 0.353, 'compound': 0.9701},\n",
       " {'neg': 0.0, 'neu': 0.87, 'pos': 0.13, 'compound': 0.6696},\n",
       " {'neg': 0.25, 'neu': 0.75, 'pos': 0.0, 'compound': -0.6523},\n",
       " {'neg': 0.0, 'neu': 1.0, 'pos': 0.0, 'compound': 0.0},\n",
       " {'neg': 0.0, 'neu': 0.921, 'pos': 0.079, 'compound': 0.3595}]"
      ]
     },
     "execution_count": 19,
     "metadata": {},
     "output_type": "execute_result"
    }
   ],
   "source": [
    "sentiments[0:10]"
   ]
  },
  {
   "cell_type": "code",
   "execution_count": 20,
   "id": "9672b39d",
   "metadata": {},
   "outputs": [],
   "source": [
    "sentiments_df = pd.DataFrame(sentiments)"
   ]
  },
  {
   "cell_type": "code",
   "execution_count": 21,
   "id": "863d23b0",
   "metadata": {},
   "outputs": [
    {
     "data": {
      "text/html": [
       "<div>\n",
       "<style scoped>\n",
       "    .dataframe tbody tr th:only-of-type {\n",
       "        vertical-align: middle;\n",
       "    }\n",
       "\n",
       "    .dataframe tbody tr th {\n",
       "        vertical-align: top;\n",
       "    }\n",
       "\n",
       "    .dataframe thead th {\n",
       "        text-align: right;\n",
       "    }\n",
       "</style>\n",
       "<table border=\"1\" class=\"dataframe\">\n",
       "  <thead>\n",
       "    <tr style=\"text-align: right;\">\n",
       "      <th></th>\n",
       "      <th>neg</th>\n",
       "      <th>neu</th>\n",
       "      <th>pos</th>\n",
       "      <th>compound</th>\n",
       "    </tr>\n",
       "  </thead>\n",
       "  <tbody>\n",
       "    <tr>\n",
       "      <th>0</th>\n",
       "      <td>0.0</td>\n",
       "      <td>0.902</td>\n",
       "      <td>0.098</td>\n",
       "      <td>0.5719</td>\n",
       "    </tr>\n",
       "    <tr>\n",
       "      <th>1</th>\n",
       "      <td>0.0</td>\n",
       "      <td>1.000</td>\n",
       "      <td>0.000</td>\n",
       "      <td>0.0000</td>\n",
       "    </tr>\n",
       "    <tr>\n",
       "      <th>2</th>\n",
       "      <td>0.0</td>\n",
       "      <td>0.758</td>\n",
       "      <td>0.242</td>\n",
       "      <td>0.4926</td>\n",
       "    </tr>\n",
       "    <tr>\n",
       "      <th>3</th>\n",
       "      <td>0.0</td>\n",
       "      <td>0.527</td>\n",
       "      <td>0.473</td>\n",
       "      <td>0.6696</td>\n",
       "    </tr>\n",
       "    <tr>\n",
       "      <th>4</th>\n",
       "      <td>0.0</td>\n",
       "      <td>1.000</td>\n",
       "      <td>0.000</td>\n",
       "      <td>0.0000</td>\n",
       "    </tr>\n",
       "  </tbody>\n",
       "</table>\n",
       "</div>"
      ],
      "text/plain": [
       "   neg    neu    pos  compound\n",
       "0  0.0  0.902  0.098    0.5719\n",
       "1  0.0  1.000  0.000    0.0000\n",
       "2  0.0  0.758  0.242    0.4926\n",
       "3  0.0  0.527  0.473    0.6696\n",
       "4  0.0  1.000  0.000    0.0000"
      ]
     },
     "execution_count": 21,
     "metadata": {},
     "output_type": "execute_result"
    }
   ],
   "source": [
    "sentiments_df.head()"
   ]
  },
  {
   "cell_type": "code",
   "execution_count": 22,
   "id": "6de39519",
   "metadata": {},
   "outputs": [
    {
     "data": {
      "text/plain": [
       "count    5757.000000\n",
       "mean        0.104098\n",
       "std         0.119045\n",
       "min         0.000000\n",
       "25%         0.000000\n",
       "50%         0.077000\n",
       "75%         0.174000\n",
       "max         0.864000\n",
       "Name: pos, dtype: float64"
      ]
     },
     "execution_count": 22,
     "metadata": {},
     "output_type": "execute_result"
    }
   ],
   "source": [
    "sentiments_df['pos'].describe()"
   ]
  },
  {
   "cell_type": "code",
   "execution_count": 23,
   "id": "563eedd0",
   "metadata": {},
   "outputs": [
    {
     "data": {
      "text/plain": [
       "count    5757.000000\n",
       "mean        0.048358\n",
       "std         0.078194\n",
       "min         0.000000\n",
       "25%         0.000000\n",
       "50%         0.000000\n",
       "75%         0.079000\n",
       "max         0.762000\n",
       "Name: neg, dtype: float64"
      ]
     },
     "execution_count": 23,
     "metadata": {},
     "output_type": "execute_result"
    }
   ],
   "source": [
    "sentiments_df['neg'].describe()"
   ]
  },
  {
   "cell_type": "code",
   "execution_count": 24,
   "id": "6dd7a89c",
   "metadata": {},
   "outputs": [],
   "source": [
    "from matplotlib import pyplot as plt"
   ]
  },
  {
   "cell_type": "code",
   "execution_count": 25,
   "id": "58f2c1a4",
   "metadata": {},
   "outputs": [
    {
     "data": {
      "image/png": "[encoded data removed]",
      "text/plain": [
       "<Figure size 432x288 with 1 Axes>"
      ]
     },
     "metadata": {
      "needs_background": "light"
     },
     "output_type": "display_data"
    }
   ],
   "source": [
    "fig0, ax0 = plt.subplots()\n",
    "ax0.hist(sentiments_df['pos'])\n",
    "plt.show()"
   ]
  },
  {
   "cell_type": "code",
   "execution_count": 26,
   "id": "e0744d39",
   "metadata": {},
   "outputs": [
    {
     "data": {
      "image/png": "[encoded data removed]",
      "text/plain": [
       "<Figure size 432x288 with 1 Axes>"
      ]
     },
     "metadata": {
      "needs_background": "light"
     },
     "output_type": "display_data"
    }
   ],
   "source": [
    "fig1, ax1 = plt.subplots()\n",
    "ax1.hist(sentiments_df['neg'])\n",
    "plt.show()"
   ]
  },
  {
   "cell_type": "code",
   "execution_count": 27,
   "id": "150ac5fb",
   "metadata": {},
   "outputs": [
    {
     "data": {
      "image/png": "[encoded data removed]",
      "text/plain": [
       "<Figure size 432x288 with 1 Axes>"
      ]
     },
     "metadata": {
      "needs_background": "light"
     },
     "output_type": "display_data"
    }
   ],
   "source": [
    "fig2, ax2 = plt.subplots()\n",
    "ax2.hist(sentiments_df['compound'])\n",
    "plt.show()"
   ]
  },
  {
   "cell_type": "code",
   "execution_count": 28,
   "id": "01d16074",
   "metadata": {},
   "outputs": [
    {
     "data": {
      "image/png": "[encoded data removed]",
      "text/plain": [
       "<Figure size 432x288 with 1 Axes>"
      ]
     },
     "metadata": {
      "needs_background": "light"
     },
     "output_type": "display_data"
    }
   ],
   "source": [
    "fig3, ax3 = plt.subplots()\n",
    "ax3.hist(sentiments_df['neu'])\n",
    "plt.show()"
   ]
  }
 ],
 "metadata": {
  "kernelspec": {
   "display_name": "Python 3 (ipykernel)",
   "language": "python",
   "name": "python3"
  },
  "language_info": {
   "codemirror_mode": {
    "name": "ipython",
    "version": 3
   },
   "file_extension": ".py",
   "mimetype": "text/x-python",
   "name": "python",
   "nbconvert_exporter": "python",
   "pygments_lexer": "ipython3",
   "version": "3.9.6"
  }
 },
 "nbformat": 4,
 "nbformat_minor": 5
}
