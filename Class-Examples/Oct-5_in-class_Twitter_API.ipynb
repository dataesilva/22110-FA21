{
 "cells": [
  {
   "cell_type": "code",
   "execution_count": 1,
   "id": "c5216560",
   "metadata": {},
   "outputs": [],
   "source": [
    "import requests\n",
    "import pandas as pd\n",
    "import urllib\n",
    "import json"
   ]
  },
  {
   "cell_type": "code",
   "execution_count": 2,
   "id": "a083c23a",
   "metadata": {},
   "outputs": [
    {
     "name": "stdout",
     "output_type": "stream",
     "text": [
      " Volume in drive C is Windows\n",
      " Volume Serial Number is 16D9-A643\n",
      "\n",
      " Directory of C:\\Users\\dsilva2\\EMAT22110_Office\n",
      "\n",
      "10/13/2021  08:55 AM    <DIR>          .\n",
      "10/13/2021  08:55 AM    <DIR>          ..\n",
      "10/12/2021  02:24 PM    <DIR>          .ipynb_checkpoints\n",
      "09/21/2021  01:20 PM           313,653 DataFrame-Methods-and-visuals.ipynb\n",
      "09/20/2021  01:46 PM           134,652 emoji-encodings-from-fb-data.ipynb\n",
      "09/07/2021  02:14 PM    <DIR>          facebook-davidsilva100046_full\n",
      "09/07/2021  02:10 PM     1,857,380,869 facebook-davidsilva100046_full.zip\n",
      "09/07/2021  02:14 PM    <DIR>          facebook-davidsilva100046_year\n",
      "09/07/2021  02:09 PM       475,994,340 facebook-davidsilva100046_year.zip\n",
      "09/06/2021  10:05 AM             1,253 image_resize.ipynb\n",
      "09/28/2021  10:52 AM               102 likes_report_grades-anony.csv\n",
      "09/17/2021  11:41 AM            19,805 likes_Report_playing.ipynb\n",
      "09/28/2021  12:08 PM            89,872 likes-Report_Grade_Analysis-FA21.ipynb\n",
      "09/15/2021  10:50 AM             2,672 ls_pwd-commands.ipynb\n",
      "10/12/2021  05:05 PM            35,987 Oct-12_in-class_Twitter_API.ipynb\n",
      "10/05/2021  05:01 PM             5,105 Oct-5_in-class_Twitter_API.ipynb\n",
      "10/06/2021  03:12 PM            35,933 Practicing_SQL.ipynb\n",
      "10/01/2021  12:03 PM             8,292 Sept-30_Public-Data-API-follow-up.ipynb\n",
      "09/28/2021  11:26 AM             3,886 SP21-likes-grade-hist.png\n",
      "09/28/2021  11:27 AM             3,481 SP21-likes-grade-hist2.png\n",
      "09/21/2021  01:36 PM    <DIR>          SQL-tutorials\n",
      "09/15/2021  12:11 PM           946,253 sw-and-davids-rants_message-analysis.ipynb\n",
      "08/30/2021  10:29 AM    <DIR>          technogecko_20210830\n",
      "08/30/2021  10:27 AM        29,463,597 technogecko_20210830.zip\n",
      "10/05/2021  02:44 PM            17,126 Twitter_API-example.ipynb\n",
      "10/05/2021  01:18 PM            26,246 Twitter_Recent-Search-Pagination_Demo.ipynb\n",
      "10/12/2021  02:52 PM               132 Twitter-Keys_10-5-21.txt\n",
      "              20 File(s)  2,364,483,256 bytes\n",
      "               7 Dir(s)  273,196,691,456 bytes free\n"
     ]
    }
   ],
   "source": [
    "ls"
   ]
  },
  {
   "cell_type": "code",
   "execution_count": 3,
   "id": "a52d320e",
   "metadata": {},
   "outputs": [],
   "source": [
    "bearer_token = pd.read_csv('Twitter-Keys_10-5-21.txt', sep = '\\t', header = 0)"
   ]
  },
  {
   "cell_type": "code",
   "execution_count": 4,
   "id": "c3d3973a",
   "metadata": {},
   "outputs": [],
   "source": [
    "# bearer_token = pd.read_csv('Twitter-Keys_10-5-21.txt', sep = '\\t', header = 0).T\n",
    "# bearer_token.columns = bearer_token.iloc[0]\n",
    "# bearer_token = bearer_token[1:]"
   ]
  },
  {
   "cell_type": "code",
   "execution_count": 5,
   "id": "2ace7cd0",
   "metadata": {},
   "outputs": [],
   "source": [
    "# bearer_token['Bearer_Token'].iloc[0]"
   ]
  },
  {
   "cell_type": "code",
   "execution_count": 6,
   "id": "63612c33",
   "metadata": {},
   "outputs": [],
   "source": [
    "header = {'Authorization' : 'Bearer {}'.format(bearer_token['Bearer_Token'].iloc[0])}"
   ]
  },
  {
   "cell_type": "code",
   "execution_count": 7,
   "id": "0e067ab2",
   "metadata": {},
   "outputs": [
    {
     "data": {
      "text/plain": [
       "Index(['Bearer_Token'], dtype='object')"
      ]
     },
     "execution_count": 7,
     "metadata": {},
     "output_type": "execute_result"
    }
   ],
   "source": [
    "bearer_token.keys()"
   ]
  },
  {
   "cell_type": "markdown",
   "id": "6541777d",
   "metadata": {},
   "source": [
    "Know the general structure of a request, we now have the headers and need to build the URL.<br>\n",
    "`response = requests.request(\"GET\", url, headers = header)`"
   ]
  },
  {
   "cell_type": "code",
   "execution_count": 8,
   "id": "3da6ab00",
   "metadata": {},
   "outputs": [],
   "source": [
    "endpoint_url = 'https://api.twitter.com/2/tweets/search/recent'"
   ]
  }
 ],
 "metadata": {
  "kernelspec": {
   "display_name": "Python 3 (ipykernel)",
   "language": "python",
   "name": "python3"
  },
  "language_info": {
   "codemirror_mode": {
    "name": "ipython",
    "version": 3
   },
   "file_extension": ".py",
   "mimetype": "text/x-python",
   "name": "python",
   "nbconvert_exporter": "python",
   "pygments_lexer": "ipython3",
   "version": "3.9.6"
  }
 },
 "nbformat": 4,
 "nbformat_minor": 5
}
