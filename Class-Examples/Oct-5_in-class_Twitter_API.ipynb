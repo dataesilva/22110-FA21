{
 "cells": [
  {
   "cell_type": "code",
   "execution_count": 1,
   "id": "c5216560",
   "metadata": {},
   "outputs": [],
   "source": [
    "import requests\n",
    "import pandas as pd\n",
    "import urllib\n",
    "import json"
   ]
  },
  {
   "cell_type": "code",
   "execution_count": 2,
   "id": "a083c23a",
   "metadata": {},
   "outputs": [
    {
     "name": "stdout",
     "output_type": "stream",
     "text": [
      " Volume in drive C is Windows\n",
      " Volume Serial Number is 88B8-561F\n",
      "\n",
      " Directory of C:\\Users\\dsilva2\\EMAT22110_FA21\n",
      "\n",
      "10/05/2021  04:38 PM    <DIR>          .\n",
      "10/05/2021  04:38 PM    <DIR>          ..\n",
      "10/05/2021  04:38 PM    <DIR>          .ipynb_checkpoints\n",
      "09/02/2021  04:32 PM             5,319 Aug31_inclass-practice.ipynb\n",
      "09/30/2021  04:41 PM             1,623 bls_data.csv\n",
      "09/14/2021  04:27 PM            20,354 chess_buds_messages.csv\n",
      "09/21/2021  04:30 PM           313,653 DataFrame-Methods-and-visuals.ipynb\n",
      "09/07/2021  11:16 AM           102,772 Explore_IG-data.ipynb\n",
      "09/07/2021  02:25 PM    <DIR>          facebook-davidsilva100046_full\n",
      "09/07/2021  02:10 PM     1,857,380,869 facebook-davidsilva100046_full.zip\n",
      "09/07/2021  02:26 PM    <DIR>          facebook-davidsilva100046_year\n",
      "09/07/2021  02:09 PM       475,994,340 facebook-davidsilva100046_year.zip\n",
      "09/07/2021  02:36 PM            28,441 likes_Report-dev.ipynb\n",
      "09/23/2021  04:25 PM                90 MONTEROApp_Keys-9-23-21.txt\n",
      "10/05/2021  04:38 PM                72 Oct-5_in-class_Twitter_API.ipynb\n",
      "09/14/2021  05:05 PM           111,315 Sept-14_in-class.ipynb\n",
      "09/28/2021  01:10 PM            68,100 Sept-21_in-class.ipynb\n",
      "09/28/2021  01:55 PM             6,846 Sept-23_in-class_Spotify-API-Demo.ipynb\n",
      "09/28/2021  05:06 PM           145,947 Sept-28_in-class.ipynb\n",
      "09/30/2021  05:27 PM            25,913 Sept-30_in-class_BLS-API.ipynb\n",
      "09/30/2021  04:28 PM            20,755 Sept-30_in-class-Spotify.ipynb\n",
      "09/07/2021  05:05 PM           103,565 Sept-7_in-class.ipynb\n",
      "09/09/2021  05:28 PM           111,077 Sept-9_in-class.ipynb\n",
      "09/23/2021  01:31 PM                90 Spotify-Keys_9-23-21.txt\n",
      "09/28/2021  01:55 PM           145,508 Spotify-pt1.ipynb\n",
      "09/07/2021  10:51 AM    <DIR>          technogecko_20210830\n",
      "08/30/2021  10:27 AM        29,463,597 technogecko_20210830.zip\n",
      "10/05/2021  02:44 PM            17,126 Twitter_API-example.ipynb\n",
      "10/05/2021  04:38 PM               126 Twitter-Keys_10-5-21.txt\n",
      "              23 File(s)  2,364,067,498 bytes\n",
      "               6 Dir(s)  282,875,015,168 bytes free\n"
     ]
    }
   ],
   "source": [
    "ls"
   ]
  },
  {
   "cell_type": "code",
   "execution_count": 3,
   "id": "a52d320e",
   "metadata": {},
   "outputs": [],
   "source": [
    "bearer_token = pd.read_csv('Twitter-Keys_10-5-21.txt', sep = '\\t', header = 0)"
   ]
  },
  {
   "cell_type": "code",
   "execution_count": null,
   "id": "c3d3973a",
   "metadata": {},
   "outputs": [],
   "source": [
    "# bearer_token = pd.read_csv('Twitter-Keys_10-5-21.txt', sep = '\\t', header = 0).T\n",
    "# bearer_token.columns = bearer_token.iloc[0]\n",
    "# bearer_token = bearer_token[1:]"
   ]
  },
  {
   "cell_type": "code",
   "execution_count": null,
   "id": "2ace7cd0",
   "metadata": {},
   "outputs": [],
   "source": [
    "bearer_token['Bearer_Token'].iloc[0]"
   ]
  },
  {
   "cell_type": "code",
   "execution_count": 13,
   "id": "63612c33",
   "metadata": {},
   "outputs": [],
   "source": [
    "header = {'Authentication' : 'Bearer {}'.format(bearer_token['Bearer_Token'].iloc[0])}"
   ]
  },
  {
   "cell_type": "code",
   "execution_count": 16,
   "id": "0e067ab2",
   "metadata": {},
   "outputs": [
    {
     "data": {
      "text/plain": [
       "Index(['Bearer_Token'], dtype='object')"
      ]
     },
     "execution_count": 16,
     "metadata": {},
     "output_type": "execute_result"
    }
   ],
   "source": [
    "bearer_token.keys()"
   ]
  },
  {
   "cell_type": "code",
   "execution_count": null,
   "id": "152957b2",
   "metadata": {},
   "outputs": [],
   "source": [
    "response = requests.request(\"GET\", url, headers = header)"
   ]
  },
  {
   "cell_type": "code",
   "execution_count": null,
   "id": "3da6ab00",
   "metadata": {},
   "outputs": [],
   "source": [
    "url = 'https://api.twitter.com/2/search/recent'"
   ]
  }
 ],
 "metadata": {
  "kernelspec": {
   "display_name": "Python 3 (ipykernel)",
   "language": "python",
   "name": "python3"
  },
  "language_info": {
   "codemirror_mode": {
    "name": "ipython",
    "version": 3
   },
   "file_extension": ".py",
   "mimetype": "text/x-python",
   "name": "python",
   "nbconvert_exporter": "python",
   "pygments_lexer": "ipython3",
   "version": "3.9.6"
  }
 },
 "nbformat": 4,
 "nbformat_minor": 5
}
