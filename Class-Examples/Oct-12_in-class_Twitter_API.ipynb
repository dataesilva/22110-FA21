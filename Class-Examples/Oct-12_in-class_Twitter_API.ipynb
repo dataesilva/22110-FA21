{
 "cells": [
  {
   "cell_type": "code",
   "execution_count": 1,
   "id": "c5216560",
   "metadata": {},
   "outputs": [],
   "source": [
    "import requests\n",
    "import pandas as pd\n",
    "import urllib\n",
    "import json"
   ]
  },
  {
   "cell_type": "code",
   "execution_count": 2,
   "id": "a083c23a",
   "metadata": {},
   "outputs": [
    {
     "name": "stdout",
     "output_type": "stream",
     "text": [
      " Volume in drive C is Windows\n",
      " Volume Serial Number is 16D9-A643\n",
      "\n",
      " Directory of C:\\Users\\dsilva2\\EMAT22110_Office\n",
      "\n",
      "10/13/2021  09:21 AM    <DIR>          .\n",
      "10/13/2021  09:21 AM    <DIR>          ..\n",
      "10/13/2021  08:59 AM    <DIR>          .ipynb_checkpoints\n",
      "09/21/2021  01:20 PM           313,653 DataFrame-Methods-and-visuals.ipynb\n",
      "09/20/2021  01:46 PM           134,652 emoji-encodings-from-fb-data.ipynb\n",
      "09/07/2021  02:14 PM    <DIR>          facebook-davidsilva100046_full\n",
      "09/07/2021  02:10 PM     1,857,380,869 facebook-davidsilva100046_full.zip\n",
      "09/07/2021  02:14 PM    <DIR>          facebook-davidsilva100046_year\n",
      "09/07/2021  02:09 PM       475,994,340 facebook-davidsilva100046_year.zip\n",
      "09/06/2021  10:05 AM             1,253 image_resize.ipynb\n",
      "09/28/2021  10:52 AM               102 likes_report_grades-anony.csv\n",
      "09/17/2021  11:41 AM            19,805 likes_Report_playing.ipynb\n",
      "09/28/2021  12:08 PM            89,872 likes-Report_Grade_Analysis-FA21.ipynb\n",
      "09/15/2021  10:50 AM             2,672 ls_pwd-commands.ipynb\n",
      "10/13/2021  09:21 AM            38,059 Oct-12_in-class_Twitter_API.ipynb\n",
      "10/13/2021  08:57 AM             5,101 Oct-5_in-class_Twitter_API.ipynb\n",
      "10/06/2021  03:12 PM            35,933 Practicing_SQL.ipynb\n",
      "10/01/2021  12:03 PM             8,292 Sept-30_Public-Data-API-follow-up.ipynb\n",
      "09/28/2021  11:26 AM             3,886 SP21-likes-grade-hist.png\n",
      "09/28/2021  11:27 AM             3,481 SP21-likes-grade-hist2.png\n",
      "09/21/2021  01:36 PM    <DIR>          SQL-tutorials\n",
      "09/15/2021  12:11 PM           946,253 sw-and-davids-rants_message-analysis.ipynb\n",
      "08/30/2021  10:29 AM    <DIR>          technogecko_20210830\n",
      "08/30/2021  10:27 AM        29,463,597 technogecko_20210830.zip\n",
      "10/05/2021  02:44 PM            17,126 Twitter_API-example.ipynb\n",
      "10/05/2021  01:18 PM            26,246 Twitter_Recent-Search-Pagination_Demo.ipynb\n",
      "10/12/2021  02:52 PM               132 Twitter-Keys_10-5-21.txt\n",
      "              20 File(s)  2,364,485,324 bytes\n",
      "               7 Dir(s)  273,148,149,760 bytes free\n"
     ]
    }
   ],
   "source": [
    "ls"
   ]
  },
  {
   "cell_type": "code",
   "execution_count": 3,
   "id": "a52d320e",
   "metadata": {},
   "outputs": [],
   "source": [
    "bearer_token = pd.read_csv('Twitter-Keys_10-5-21.txt', sep = '\\t', header = 0)"
   ]
  },
  {
   "cell_type": "code",
   "execution_count": 4,
   "id": "c3d3973a",
   "metadata": {},
   "outputs": [],
   "source": [
    "# bearer_token = pd.read_csv('Twitter-Keys_10-5-21.txt', sep = '\\t', header = 0).T\n",
    "# bearer_token.columns = bearer_token.iloc[0]\n",
    "# bearer_token = bearer_token[1:]"
   ]
  },
  {
   "cell_type": "code",
   "execution_count": 5,
   "id": "2ace7cd0",
   "metadata": {},
   "outputs": [],
   "source": [
    "# bearer_token['Bearer_Token'].iloc[0]"
   ]
  },
  {
   "cell_type": "markdown",
   "id": "ed641c24",
   "metadata": {},
   "source": [
    "### I had `Authentication` in a previous example when it should be `Authorization`."
   ]
  },
  {
   "cell_type": "code",
   "execution_count": 6,
   "id": "63612c33",
   "metadata": {},
   "outputs": [],
   "source": [
    "header = {'Authorization' : 'Bearer {}'.format(bearer_token['Bearer_Token'].iloc[0])}"
   ]
  },
  {
   "cell_type": "code",
   "execution_count": 7,
   "id": "0e067ab2",
   "metadata": {},
   "outputs": [
    {
     "data": {
      "text/plain": [
       "Index(['Bearer_Token'], dtype='object')"
      ]
     },
     "execution_count": 7,
     "metadata": {},
     "output_type": "execute_result"
    }
   ],
   "source": [
    "bearer_token.keys()"
   ]
  },
  {
   "cell_type": "markdown",
   "id": "f4e34304",
   "metadata": {},
   "source": [
    "`response = requests.request(\"GET\", url, headers = header)`"
   ]
  },
  {
   "cell_type": "code",
   "execution_count": 8,
   "id": "3da6ab00",
   "metadata": {},
   "outputs": [],
   "source": [
    "endpoint_url = 'https://api.twitter.com/2/tweets/search/recent'"
   ]
  },
  {
   "cell_type": "markdown",
   "id": "6eeee012",
   "metadata": {},
   "source": [
    "`#Crew96 lang:en`"
   ]
  },
  {
   "cell_type": "markdown",
   "id": "99cdd0a0",
   "metadata": {},
   "source": [
    "`(#Crew96 OR @ColumbusCrew) lang:en`"
   ]
  },
  {
   "cell_type": "code",
   "execution_count": 9,
   "id": "45da91bf",
   "metadata": {},
   "outputs": [],
   "source": [
    "query = urllib.parse.quote('(#Crew96 OR @ColumbusCrew) lang:en')"
   ]
  },
  {
   "cell_type": "code",
   "execution_count": 10,
   "id": "0ddc79e3",
   "metadata": {},
   "outputs": [
    {
     "data": {
      "text/plain": [
       "'%28%23Crew96%20OR%20%40ColumbusCrew%29%20lang%3Aen'"
      ]
     },
     "execution_count": 10,
     "metadata": {},
     "output_type": "execute_result"
    }
   ],
   "source": [
    "query"
   ]
  },
  {
   "cell_type": "code",
   "execution_count": 11,
   "id": "b40b3acd",
   "metadata": {},
   "outputs": [],
   "source": [
    "simple_api_url = endpoint_url + '?query={}'.format(query)"
   ]
  },
  {
   "cell_type": "code",
   "execution_count": 12,
   "id": "9f2c4eaa",
   "metadata": {},
   "outputs": [
    {
     "data": {
      "text/plain": [
       "'https://api.twitter.com/2/tweets/search/recent?query=%28%23Crew96%20OR%20%40ColumbusCrew%29%20lang%3Aen'"
      ]
     },
     "execution_count": 12,
     "metadata": {},
     "output_type": "execute_result"
    }
   ],
   "source": [
    "simple_api_url"
   ]
  },
  {
   "cell_type": "markdown",
   "id": "0758dac9",
   "metadata": {},
   "source": [
    "If you want to specify parameters other than `query`, you will need to develop a slightly more detailed URL.<br>\n",
    "Here we are setting a few `tweet_fields` to add to the URL.<br>\n",
    "`public_metrics,created_at,author_id,lang`"
   ]
  },
  {
   "cell_type": "code",
   "execution_count": 13,
   "id": "954a9e7c",
   "metadata": {},
   "outputs": [],
   "source": [
    "tweet_fields = 'public_metrics,created_at,author_id,lang'"
   ]
  },
  {
   "cell_type": "code",
   "execution_count": 14,
   "id": "356177e8",
   "metadata": {},
   "outputs": [],
   "source": [
    "slightly_more_complex_api_url = endpoint_url + '?query={}&tweet.fields={}'.format(query, tweet_fields)"
   ]
  },
  {
   "cell_type": "code",
   "execution_count": 15,
   "id": "0864970a",
   "metadata": {},
   "outputs": [
    {
     "data": {
      "text/plain": [
       "'https://api.twitter.com/2/tweets/search/recent?query=%28%23Crew96%20OR%20%40ColumbusCrew%29%20lang%3Aen&tweet.fields=public_metrics,created_at,author_id,lang'"
      ]
     },
     "execution_count": 15,
     "metadata": {},
     "output_type": "execute_result"
    }
   ],
   "source": [
    "slightly_more_complex_api_url"
   ]
  },
  {
   "cell_type": "markdown",
   "id": "0adff9cf",
   "metadata": {},
   "source": [
    "Depending on the response fields you want from Twitter, you may need to specify `expansions`. Not all the data for a user, their geographic location, prior interactions, etc. are stored at the tweet level. Adding one (or several) expansion will let you collect those other response fields. In the developer documentation, the response field definitions specify which fields require which expansion.<br>\n",
    "Here we are just going to grab the `username` field under the `author_id` expansion. The documentation specifies that `username` should be passed to the `user.fields` parameter instead of `tweet.fields` so we will do that also."
   ]
  },
  {
   "cell_type": "code",
   "execution_count": 16,
   "id": "4503f31a",
   "metadata": {},
   "outputs": [],
   "source": [
    "expansions = 'author_id'"
   ]
  },
  {
   "cell_type": "markdown",
   "id": "a1e8c015",
   "metadata": {},
   "source": [
    "Also notice that I have set `max_results=10` which will limit how many tweets I receive for each request. If left unspecified, the default is 10 for the search/recent endpoint. It can be set up to 100."
   ]
  },
  {
   "cell_type": "code",
   "execution_count": 17,
   "id": "94b05869",
   "metadata": {},
   "outputs": [],
   "source": [
    "expansions_api_url = endpoint_url + '?query={}&max_results=10&tweet.fields={}&expansions={}&user.fields={}'.format(query, tweet_fields, expansions, 'username')"
   ]
  },
  {
   "cell_type": "code",
   "execution_count": 18,
   "id": "64887851",
   "metadata": {},
   "outputs": [
    {
     "data": {
      "text/plain": [
       "'https://api.twitter.com/2/tweets/search/recent?query=%28%23Crew96%20OR%20%40ColumbusCrew%29%20lang%3Aen&max_results=10&tweet.fields=public_metrics,created_at,author_id,lang&expansions=author_id&user.fields=username'"
      ]
     },
     "execution_count": 18,
     "metadata": {},
     "output_type": "execute_result"
    }
   ],
   "source": [
    "expansions_api_url"
   ]
  },
  {
   "cell_type": "markdown",
   "id": "75a17a9b",
   "metadata": {},
   "source": [
    "Now we are ready to make our first request."
   ]
  },
  {
   "cell_type": "code",
   "execution_count": 19,
   "id": "04e19933",
   "metadata": {},
   "outputs": [],
   "source": [
    "response_1 = requests.request(\"GET\", expansions_api_url, headers = header)"
   ]
  },
  {
   "cell_type": "code",
   "execution_count": 20,
   "id": "5ab8ab87",
   "metadata": {},
   "outputs": [
    {
     "data": {
      "text/plain": [
       "'{\"data\":[{\"public_metrics\":{\"retweet_count\":0,\"reply_count\":0,\"like_count\":3,\"quote_count\":0},\"text\":\"@USMNT @VW @LowerFieldCbus @ColumbusCrew @tyler_adams14 Lose or draw, fire Gregg as he walks off the pitch.\",\"author_id\":\"1370726106731401220\",\"lang\":\"en\",\"created_at\":\"2021-10-13T13:19:58.000Z\",\"id\":\"1448277333874393099\"},{\"public_metrics\":{\"retweet_count\":0,\"reply_count\":0,\"like_count\":0,\"quote_count\":0},\"text\":\"@USMNT @VW @LowerFieldCbus @ColumbusCrew @tyler_adams14 Come back with your shields, or on them.\",\"author_id\":\"3128076642\",\"lang\":\"en\",\"created_at\":\"2021-10-13T13:19:06.000Z\",\"id\":\"1448277113807642635\"},{\"public_metrics\":{\"retweet_count\":0,\"reply_count\":0,\"like_count\":0,\"quote_count\":0},\"text\":\"@USMNT @VW @LowerFieldCbus @ColumbusCrew @tyler_adams14 Please play a competent lineup. I can confidently say that the Panama was the least entertaining game I’ve ever watched.\",\"author_id\":\"1413634280752881664\",\"lang\":\"en\",\"created_at\":\"2021-10-13T13:17:19.000Z\",\"id\":\"1448276667223486467\"},{\"public_metrics\":{\"retweet_count\":0,\"reply_count\":0,\"like_count\":3,\"quote_count\":0},\"text\":\"@USMNT @VW @LowerFieldCbus @ColumbusCrew @tyler_adams14 Can’t wait to see Greg Berhalter start Zardes, Lletget, Arriola, and Zimmerman. Woohoo\",\"author_id\":\"3376699534\",\"lang\":\"en\",\"created_at\":\"2021-10-13T13:17:09.000Z\",\"id\":\"1448276623489323009\"},{\"public_metrics\":{\"retweet_count\":0,\"reply_count\":0,\"like_count\":1,\"quote_count\":0},\"text\":\"@USMNT @VW @LowerFieldCbus @ColumbusCrew @tyler_adams14 The last time I went to Columbus I left 3 points there. Can you please pick those up for me?\",\"author_id\":\"495314632\",\"lang\":\"en\",\"created_at\":\"2021-10-13T13:15:33.000Z\",\"id\":\"1448276223289868294\"},{\"public_metrics\":{\"retweet_count\":0,\"reply_count\":0,\"like_count\":0,\"quote_count\":0},\"text\":\"@USMNT @VW @LowerFieldCbus @ColumbusCrew @tyler_adams14 Rest arriola, legllet, acosta, and roldan for today and the rest of the wcq\",\"author_id\":\"1392857236217737218\",\"lang\":\"en\",\"created_at\":\"2021-10-13T13:15:10.000Z\",\"id\":\"1448276124732116992\"},{\"public_metrics\":{\"retweet_count\":1,\"reply_count\":0,\"like_count\":0,\"quote_count\":0},\"text\":\"RT @obenatar512: Berhalter said its a \\\\\"dream come true\\\\\" to be back in Columbus to coach the #USMNT. \\\\n\\\\n\\\\\"I am really excited to play in the n…\",\"author_id\":\"62981768\",\"lang\":\"en\",\"created_at\":\"2021-10-13T13:14:43.000Z\",\"id\":\"1448276012480057349\"},{\"public_metrics\":{\"retweet_count\":17,\"reply_count\":0,\"like_count\":0,\"quote_count\":0},\"text\":\"RT @chaiteaaddict: Hey @Nordecke, #crew96 and #usmnt family: Wanted to remind everyone that the North End will NOT be GA during the match t…\",\"author_id\":\"62981768\",\"lang\":\"en\",\"created_at\":\"2021-10-13T13:14:36.000Z\",\"id\":\"1448275980284530689\"},{\"public_metrics\":{\"retweet_count\":0,\"reply_count\":0,\"like_count\":0,\"quote_count\":0},\"text\":\"@USMNT @VW @LowerFieldCbus @ColumbusCrew @tyler_adams14 Is Berhalter actually going to try to win this one?\",\"author_id\":\"36915846\",\"lang\":\"en\",\"created_at\":\"2021-10-13T13:14:32.000Z\",\"id\":\"1448275965898018816\"},{\"public_metrics\":{\"retweet_count\":4,\"reply_count\":0,\"like_count\":0,\"quote_count\":0},\"text\":\"RT @CHRlSBLAlN: Happy #SavedTheCrew Day #Crew96 family! https://t.co/JgCRsgLtFo\",\"author_id\":\"17857799\",\"lang\":\"en\",\"created_at\":\"2021-10-13T13:14:08.000Z\",\"id\":\"1448275863229894657\"}],\"includes\":{\"users\":[{\"id\":\"1370726106731401220\",\"name\":\"Vertical Bentley\",\"username\":\"FB_Bentley\"},{\"id\":\"3128076642\",\"name\":\"James B\",\"username\":\"TheRealJamesFB\"},{\"id\":\"1413634280752881664\",\"name\":\"Tyler\",\"username\":\"SeasonedCurl\"},{\"id\":\"3376699534\",\"name\":\"ライアン\",\"username\":\"LoprettoR\"},{\"id\":\"495314632\",\"name\":\"Mattey Casey\",\"username\":\"ShinKicker13\"},{\"id\":\"1392857236217737218\",\"name\":\"Efrain J R\",\"username\":\"booooof113000\"},{\"id\":\"62981768\",\"name\":\"SaveTheCrew Scott\",\"username\":\"crewfanscott\"},{\"id\":\"36915846\",\"name\":\"Johnny \\\\uD83D\\\\uDC7B Phantom\",\"username\":\"jhfenton\"},{\"id\":\"17857799\",\"name\":\"PaulisDead\",\"username\":\"Pribblization\"}]},\"meta\":{\"newest_id\":\"1448277333874393099\",\"oldest_id\":\"1448275863229894657\",\"result_count\":10,\"next_token\":\"b26v89c19zqg8o3fpds9dr28xsh0sikrwlfde10b18u4d\"}}'"
      ]
     },
     "execution_count": 20,
     "metadata": {},
     "output_type": "execute_result"
    }
   ],
   "source": [
    "response_1.text"
   ]
  },
  {
   "cell_type": "code",
   "execution_count": 21,
   "id": "eaf43133",
   "metadata": {},
   "outputs": [],
   "source": [
    "response_1_dict = json.loads(response_1.text)"
   ]
  },
  {
   "cell_type": "code",
   "execution_count": 22,
   "id": "0143403d",
   "metadata": {},
   "outputs": [
    {
     "data": {
      "text/plain": [
       "dict_keys(['data', 'includes', 'meta'])"
      ]
     },
     "execution_count": 22,
     "metadata": {},
     "output_type": "execute_result"
    }
   ],
   "source": [
    "response_1_dict.keys()"
   ]
  },
  {
   "cell_type": "markdown",
   "id": "79c3a97c",
   "metadata": {},
   "source": [
    "Notice that the dictionary has `data` which is where the `tweet.fields` data is stored. This response also has an `includes` key, which is where the `author_id` and `username` expansions data is located. Finally is `meta` which is where we will find the `next_token` for pagination."
   ]
  },
  {
   "cell_type": "code",
   "execution_count": 23,
   "id": "95e62051",
   "metadata": {},
   "outputs": [],
   "source": [
    "my_df = pd.DataFrame(response_1_dict['data'])"
   ]
  },
  {
   "cell_type": "code",
   "execution_count": 24,
   "id": "ebf55eba",
   "metadata": {},
   "outputs": [
    {
     "data": {
      "text/html": [
       "<div>\n",
       "<style scoped>\n",
       "    .dataframe tbody tr th:only-of-type {\n",
       "        vertical-align: middle;\n",
       "    }\n",
       "\n",
       "    .dataframe tbody tr th {\n",
       "        vertical-align: top;\n",
       "    }\n",
       "\n",
       "    .dataframe thead th {\n",
       "        text-align: right;\n",
       "    }\n",
       "</style>\n",
       "<table border=\"1\" class=\"dataframe\">\n",
       "  <thead>\n",
       "    <tr style=\"text-align: right;\">\n",
       "      <th></th>\n",
       "      <th>public_metrics</th>\n",
       "      <th>text</th>\n",
       "      <th>author_id</th>\n",
       "      <th>lang</th>\n",
       "      <th>created_at</th>\n",
       "      <th>id</th>\n",
       "    </tr>\n",
       "  </thead>\n",
       "  <tbody>\n",
       "    <tr>\n",
       "      <th>0</th>\n",
       "      <td>{'retweet_count': 0, 'reply_count': 0, 'like_c...</td>\n",
       "      <td>@USMNT @VW @LowerFieldCbus @ColumbusCrew @tyle...</td>\n",
       "      <td>1370726106731401220</td>\n",
       "      <td>en</td>\n",
       "      <td>2021-10-13T13:19:58.000Z</td>\n",
       "      <td>1448277333874393099</td>\n",
       "    </tr>\n",
       "    <tr>\n",
       "      <th>1</th>\n",
       "      <td>{'retweet_count': 0, 'reply_count': 0, 'like_c...</td>\n",
       "      <td>@USMNT @VW @LowerFieldCbus @ColumbusCrew @tyle...</td>\n",
       "      <td>3128076642</td>\n",
       "      <td>en</td>\n",
       "      <td>2021-10-13T13:19:06.000Z</td>\n",
       "      <td>1448277113807642635</td>\n",
       "    </tr>\n",
       "    <tr>\n",
       "      <th>2</th>\n",
       "      <td>{'retweet_count': 0, 'reply_count': 0, 'like_c...</td>\n",
       "      <td>@USMNT @VW @LowerFieldCbus @ColumbusCrew @tyle...</td>\n",
       "      <td>1413634280752881664</td>\n",
       "      <td>en</td>\n",
       "      <td>2021-10-13T13:17:19.000Z</td>\n",
       "      <td>1448276667223486467</td>\n",
       "    </tr>\n",
       "    <tr>\n",
       "      <th>3</th>\n",
       "      <td>{'retweet_count': 0, 'reply_count': 0, 'like_c...</td>\n",
       "      <td>@USMNT @VW @LowerFieldCbus @ColumbusCrew @tyle...</td>\n",
       "      <td>3376699534</td>\n",
       "      <td>en</td>\n",
       "      <td>2021-10-13T13:17:09.000Z</td>\n",
       "      <td>1448276623489323009</td>\n",
       "    </tr>\n",
       "    <tr>\n",
       "      <th>4</th>\n",
       "      <td>{'retweet_count': 0, 'reply_count': 0, 'like_c...</td>\n",
       "      <td>@USMNT @VW @LowerFieldCbus @ColumbusCrew @tyle...</td>\n",
       "      <td>495314632</td>\n",
       "      <td>en</td>\n",
       "      <td>2021-10-13T13:15:33.000Z</td>\n",
       "      <td>1448276223289868294</td>\n",
       "    </tr>\n",
       "  </tbody>\n",
       "</table>\n",
       "</div>"
      ],
      "text/plain": [
       "                                      public_metrics  \\\n",
       "0  {'retweet_count': 0, 'reply_count': 0, 'like_c...   \n",
       "1  {'retweet_count': 0, 'reply_count': 0, 'like_c...   \n",
       "2  {'retweet_count': 0, 'reply_count': 0, 'like_c...   \n",
       "3  {'retweet_count': 0, 'reply_count': 0, 'like_c...   \n",
       "4  {'retweet_count': 0, 'reply_count': 0, 'like_c...   \n",
       "\n",
       "                                                text            author_id  \\\n",
       "0  @USMNT @VW @LowerFieldCbus @ColumbusCrew @tyle...  1370726106731401220   \n",
       "1  @USMNT @VW @LowerFieldCbus @ColumbusCrew @tyle...           3128076642   \n",
       "2  @USMNT @VW @LowerFieldCbus @ColumbusCrew @tyle...  1413634280752881664   \n",
       "3  @USMNT @VW @LowerFieldCbus @ColumbusCrew @tyle...           3376699534   \n",
       "4  @USMNT @VW @LowerFieldCbus @ColumbusCrew @tyle...            495314632   \n",
       "\n",
       "  lang                created_at                   id  \n",
       "0   en  2021-10-13T13:19:58.000Z  1448277333874393099  \n",
       "1   en  2021-10-13T13:19:06.000Z  1448277113807642635  \n",
       "2   en  2021-10-13T13:17:19.000Z  1448276667223486467  \n",
       "3   en  2021-10-13T13:17:09.000Z  1448276623489323009  \n",
       "4   en  2021-10-13T13:15:33.000Z  1448276223289868294  "
      ]
     },
     "execution_count": 24,
     "metadata": {},
     "output_type": "execute_result"
    }
   ],
   "source": [
    "my_df.head(5)"
   ]
  },
  {
   "cell_type": "markdown",
   "id": "941b1142",
   "metadata": {},
   "source": [
    "We can save this DataFrame just like any other DataFrame."
   ]
  },
  {
   "cell_type": "code",
   "execution_count": 25,
   "id": "cb6a0554",
   "metadata": {},
   "outputs": [],
   "source": [
    "# my_df.to_csv(\"twitter_data.csv\")"
   ]
  },
  {
   "cell_type": "code",
   "execution_count": 26,
   "id": "18de11a0",
   "metadata": {},
   "outputs": [
    {
     "data": {
      "text/plain": [
       "{'newest_id': '1448277333874393099',\n",
       " 'oldest_id': '1448275863229894657',\n",
       " 'result_count': 10,\n",
       " 'next_token': 'b26v89c19zqg8o3fpds9dr28xsh0sikrwlfde10b18u4d'}"
      ]
     },
     "execution_count": 26,
     "metadata": {},
     "output_type": "execute_result"
    }
   ],
   "source": [
    "response_1_dict['meta']"
   ]
  },
  {
   "cell_type": "markdown",
   "id": "9ed1f6c4",
   "metadata": {},
   "source": [
    "Now we can add the `next_token` to the URL to specify the next page of data."
   ]
  },
  {
   "cell_type": "code",
   "execution_count": 27,
   "id": "58d57185",
   "metadata": {},
   "outputs": [],
   "source": [
    "expansions_api_url_2 = expansions_api_url + '&next_token={}'.format(response_1_dict['meta']['next_token'])"
   ]
  },
  {
   "cell_type": "code",
   "execution_count": 28,
   "id": "e0999f95",
   "metadata": {},
   "outputs": [
    {
     "data": {
      "text/plain": [
       "'https://api.twitter.com/2/tweets/search/recent?query=%28%23Crew96%20OR%20%40ColumbusCrew%29%20lang%3Aen&max_results=10&tweet.fields=public_metrics,created_at,author_id,lang&expansions=author_id&user.fields=username&next_token=b26v89c19zqg8o3fpds9dr28xsh0sikrwlfde10b18u4d'"
      ]
     },
     "execution_count": 28,
     "metadata": {},
     "output_type": "execute_result"
    }
   ],
   "source": [
    "expansions_api_url_2"
   ]
  },
  {
   "cell_type": "code",
   "execution_count": 29,
   "id": "6e56df82",
   "metadata": {},
   "outputs": [],
   "source": [
    "response_2 = requests.request(\"GET\", expansions_api_url_2, headers = header)"
   ]
  },
  {
   "cell_type": "code",
   "execution_count": 30,
   "id": "5eaef08e",
   "metadata": {},
   "outputs": [
    {
     "data": {
      "text/plain": [
       "'{\"data\":[{\"public_metrics\":{\"retweet_count\":0,\"reply_count\":0,\"like_count\":0,\"quote_count\":0},\"text\":\"@USMNT @VW @LowerFieldCbus @ColumbusCrew @tyler_adams14 Hopefully we get a shot on goal tonight \\\\uD83D\\\\uDE00\",\"created_at\":\"2021-10-13T13:13:50.000Z\",\"author_id\":\"1416160979558146050\",\"lang\":\"en\",\"id\":\"1448275791289126919\"},{\"public_metrics\":{\"retweet_count\":20,\"reply_count\":0,\"like_count\":0,\"quote_count\":0},\"text\":\"RT @ColumbusCrew: “It’s almost like a dream come true.”\\\\n\\\\nSpecial bond between Gregg Berhalter &amp; Columbus.\\\\n\\\\n#Crew96 | #USMNT https://t.co/Fq…\",\"created_at\":\"2021-10-13T13:13:27.000Z\",\"author_id\":\"350904219\",\"lang\":\"en\",\"id\":\"1448275692895019018\"},{\"public_metrics\":{\"retweet_count\":0,\"reply_count\":0,\"like_count\":8,\"quote_count\":0},\"text\":\"@USMNT @VW @LowerFieldCbus @ColumbusCrew @tyler_adams14 I hope that chapter isn’t one that is in a horror novel…\",\"created_at\":\"2021-10-13T13:12:43.000Z\",\"author_id\":\"1079235200268275712\",\"lang\":\"en\",\"id\":\"1448275510207950851\"},{\"public_metrics\":{\"retweet_count\":0,\"reply_count\":0,\"like_count\":0,\"quote_count\":0},\"text\":\"Utter embarrassment for @USMNT can’t even sell out @ColumbusCrew stadium for key World Cup qualifier. WTF?!#USAvCRC\",\"created_at\":\"2021-10-13T13:12:38.000Z\",\"author_id\":\"348806525\",\"lang\":\"en\",\"id\":\"1448275486057111558\"},{\"public_metrics\":{\"retweet_count\":0,\"reply_count\":0,\"like_count\":1,\"quote_count\":0},\"text\":\"@USMNT @VW @LowerFieldCbus @ColumbusCrew @tyler_adams14 Ratio+ Anything less than a win is a loss tbh.\",\"created_at\":\"2021-10-13T13:12:29.000Z\",\"author_id\":\"442346124\",\"lang\":\"en\",\"id\":\"1448275448509702145\"},{\"public_metrics\":{\"retweet_count\":0,\"reply_count\":0,\"like_count\":5,\"quote_count\":0},\"text\":\"@USMNT @VW @LowerFieldCbus @ColumbusCrew @tyler_adams14 Ratio + Gregg out\",\"created_at\":\"2021-10-13T13:11:26.000Z\",\"author_id\":\"1439587726962135041\",\"lang\":\"en\",\"id\":\"1448275185501720580\"},{\"public_metrics\":{\"retweet_count\":0,\"reply_count\":0,\"like_count\":0,\"quote_count\":0},\"text\":\"\\\\uD83D\\\\uDCF0 | https://t.co/Z93SeQjkiP | #Crew96 | Boathouse Tailgate?\",\"created_at\":\"2021-10-13T13:07:45.000Z\",\"author_id\":\"800817653157806081\",\"lang\":\"en\",\"id\":\"1448274259990794243\"},{\"public_metrics\":{\"retweet_count\":2,\"reply_count\":0,\"like_count\":0,\"quote_count\":0},\"text\":\"RT @783nate: What an amazing moment! #Crew96 #SavedTheCrewDay @ColumbusCrew\",\"created_at\":\"2021-10-13T12:57:02.000Z\",\"author_id\":\"710323992360517632\",\"lang\":\"en\",\"id\":\"1448271562986201095\"},{\"public_metrics\":{\"retweet_count\":0,\"reply_count\":0,\"like_count\":0,\"quote_count\":0},\"text\":\"Happy Birthday to the Best Prez @tbez10 @ColumbusCrew \\\\uD83D\\\\uDC9B\\\\uD83D\\\\uDDA4 #Crew96 https://t.co/6BQPfpDpKN\",\"created_at\":\"2021-10-13T12:54:05.000Z\",\"author_id\":\"221496920\",\"lang\":\"en\",\"id\":\"1448270820137177089\"},{\"public_metrics\":{\"retweet_count\":0,\"reply_count\":0,\"like_count\":3,\"quote_count\":0},\"text\":\"Morning all...\\\\n\\\\nGiven the #usmnt are playing in Columbus tonight in #Crew96 new home, I\\'d like to remind everyone that that during #SaveTheCrew American Outlaws acted as spineless fucking cowards who stood idly by, not willing to even speak against the attempted theft of the Crew\",\"created_at\":\"2021-10-13T12:44:39.000Z\",\"author_id\":\"322965853\",\"lang\":\"en\",\"id\":\"1448268447092289536\"}],\"includes\":{\"users\":[{\"id\":\"1416160979558146050\",\"name\":\"Hunter Allen \\\\uD83C\\\\uDF83\",\"username\":\"Hunter__Allen\"},{\"id\":\"350904219\",\"name\":\"Brandon O\",\"username\":\"bogden86\"},{\"id\":\"1079235200268275712\",\"name\":\"American Hooligans\\\\uD83C\\\\uDDFA\\\\uD83C\\\\uDDF8⚽️\",\"username\":\"AmericanHoolis\"},{\"id\":\"348806525\",\"name\":\"Mike D\",\"username\":\"SenorVerga\"},{\"id\":\"442346124\",\"name\":\"Braxton Snyder\",\"username\":\"BraxtonDsnyder\"},{\"id\":\"1439587726962135041\",\"name\":\"\\\\uD835\\\\uDDD8\\\\uD835\\\\uDE01\\\\uD835\\\\uDDF5\\\\uD835\\\\uDDEE\\\\uD835\\\\uDDFB ⚡️\",\"username\":\"ggmuethan\"},{\"id\":\"800817653157806081\",\"name\":\"The Massive (reddit)\",\"username\":\"rTheMassive\"},{\"id\":\"710323992360517632\",\"name\":\"David Maki\",\"username\":\"david_the_gr8\"},{\"id\":\"221496920\",\"name\":\"Melissa Byrdy\",\"username\":\"MMByrdy\"},{\"id\":\"322965853\",\"name\":\"⭐⭐ Tayler Neargarder\",\"username\":\"tjneargarder\"}]},\"meta\":{\"newest_id\":\"1448275791289126919\",\"oldest_id\":\"1448268447092289536\",\"result_count\":10,\"next_token\":\"b26v89c19zqg8o3fpds9dr1y9w3z8tl9pum02bfk9wdq5\"}}'"
      ]
     },
     "execution_count": 30,
     "metadata": {},
     "output_type": "execute_result"
    }
   ],
   "source": [
    "response_2.text"
   ]
  },
  {
   "cell_type": "markdown",
   "id": "0b060acf",
   "metadata": {},
   "source": [
    "We can `append` this new data to the `my_df` DataFrame, which will add the new rows to that data. I'm going to save a step and not create a new dictionary for the second response and instead do it all in one line.<br>\n",
    "The `ignore_index` parameter being set to `True` will overwrite the index for the new rows. Otherwise the DataFrame would have indices 0,1,2...,8,9,0,1,2...,8,9."
   ]
  },
  {
   "cell_type": "code",
   "execution_count": 31,
   "id": "5de9790a",
   "metadata": {},
   "outputs": [],
   "source": [
    "my_df = my_df.append(pd.DataFrame(json.loads(response_2.text)['data']), ignore_index= True)"
   ]
  },
  {
   "cell_type": "code",
   "execution_count": 32,
   "id": "5037965b",
   "metadata": {},
   "outputs": [
    {
     "data": {
      "text/html": [
       "<div>\n",
       "<style scoped>\n",
       "    .dataframe tbody tr th:only-of-type {\n",
       "        vertical-align: middle;\n",
       "    }\n",
       "\n",
       "    .dataframe tbody tr th {\n",
       "        vertical-align: top;\n",
       "    }\n",
       "\n",
       "    .dataframe thead th {\n",
       "        text-align: right;\n",
       "    }\n",
       "</style>\n",
       "<table border=\"1\" class=\"dataframe\">\n",
       "  <thead>\n",
       "    <tr style=\"text-align: right;\">\n",
       "      <th></th>\n",
       "      <th>public_metrics</th>\n",
       "      <th>text</th>\n",
       "      <th>author_id</th>\n",
       "      <th>lang</th>\n",
       "      <th>created_at</th>\n",
       "      <th>id</th>\n",
       "    </tr>\n",
       "  </thead>\n",
       "  <tbody>\n",
       "    <tr>\n",
       "      <th>17</th>\n",
       "      <td>{'retweet_count': 2, 'reply_count': 0, 'like_c...</td>\n",
       "      <td>RT @783nate: What an amazing moment! #Crew96 #...</td>\n",
       "      <td>710323992360517632</td>\n",
       "      <td>en</td>\n",
       "      <td>2021-10-13T12:57:02.000Z</td>\n",
       "      <td>1448271562986201095</td>\n",
       "    </tr>\n",
       "    <tr>\n",
       "      <th>18</th>\n",
       "      <td>{'retweet_count': 0, 'reply_count': 0, 'like_c...</td>\n",
       "      <td>Happy Birthday to the Best Prez @tbez10 @Colum...</td>\n",
       "      <td>221496920</td>\n",
       "      <td>en</td>\n",
       "      <td>2021-10-13T12:54:05.000Z</td>\n",
       "      <td>1448270820137177089</td>\n",
       "    </tr>\n",
       "    <tr>\n",
       "      <th>19</th>\n",
       "      <td>{'retweet_count': 0, 'reply_count': 0, 'like_c...</td>\n",
       "      <td>Morning all...\\n\\nGiven the #usmnt are playing...</td>\n",
       "      <td>322965853</td>\n",
       "      <td>en</td>\n",
       "      <td>2021-10-13T12:44:39.000Z</td>\n",
       "      <td>1448268447092289536</td>\n",
       "    </tr>\n",
       "  </tbody>\n",
       "</table>\n",
       "</div>"
      ],
      "text/plain": [
       "                                       public_metrics  \\\n",
       "17  {'retweet_count': 2, 'reply_count': 0, 'like_c...   \n",
       "18  {'retweet_count': 0, 'reply_count': 0, 'like_c...   \n",
       "19  {'retweet_count': 0, 'reply_count': 0, 'like_c...   \n",
       "\n",
       "                                                 text           author_id  \\\n",
       "17  RT @783nate: What an amazing moment! #Crew96 #...  710323992360517632   \n",
       "18  Happy Birthday to the Best Prez @tbez10 @Colum...           221496920   \n",
       "19  Morning all...\\n\\nGiven the #usmnt are playing...           322965853   \n",
       "\n",
       "   lang                created_at                   id  \n",
       "17   en  2021-10-13T12:57:02.000Z  1448271562986201095  \n",
       "18   en  2021-10-13T12:54:05.000Z  1448270820137177089  \n",
       "19   en  2021-10-13T12:44:39.000Z  1448268447092289536  "
      ]
     },
     "execution_count": 32,
     "metadata": {},
     "output_type": "execute_result"
    }
   ],
   "source": [
    "my_df.tail(3)"
   ]
  },
  {
   "cell_type": "markdown",
   "id": "cf093136",
   "metadata": {},
   "source": [
    "Below is the start to a function that will complete the pagination up to a set number of pages. It's not a complete function and there are many ways to code the same process. This is not required for the upcoming assignment."
   ]
  },
  {
   "cell_type": "code",
   "execution_count": 33,
   "id": "5ce8656d",
   "metadata": {},
   "outputs": [],
   "source": [
    "def twitter_api_pagination(num_pages, my_url):\n",
    "    count = 0\n",
    "    next_token = None\n",
    "    base_url = my_url\n",
    "    full_data = pd.DataFrame()\n",
    "    while count < num_pages:\n",
    "        if next_token == None:\n",
    "            first_response = requests.request(\"GET\", base_url, headers = header)\n",
    "            # if raise(Exception)....\n",
    "            response = json.loads(first_response)\n",
    "            full_data = full_data.append(pd.DataFrame(response['data']))\n",
    "        else:\n",
    "            url_new = base_url + '&next_token={}'.format(response['meta']['next_token'])\n",
    "            responses = first_response = requests.request(\"GET\", url_new, headers = header)\n",
    "            # if raise(Exception)....\n",
    "            response = json.loads(first_response)\n",
    "            full_data = full_data.append(pd.DataFrame(response['data']))\n",
    "    count += 1\n",
    "    return full_data"
   ]
  },
  {
   "cell_type": "markdown",
   "id": "ac9c8508",
   "metadata": {},
   "source": [
    "After defining the function, the output can be saved as a variable.<br>\n",
    "This currently does not run correctly!"
   ]
  },
  {
   "cell_type": "code",
   "execution_count": null,
   "id": "d7c29d62",
   "metadata": {},
   "outputs": [],
   "source": [
    "my_new_df = twitter_api_pagination(3, expansions_api_url)"
   ]
  }
 ],
 "metadata": {
  "kernelspec": {
   "display_name": "Python 3 (ipykernel)",
   "language": "python",
   "name": "python3"
  },
  "language_info": {
   "codemirror_mode": {
    "name": "ipython",
    "version": 3
   },
   "file_extension": ".py",
   "mimetype": "text/x-python",
   "name": "python",
   "nbconvert_exporter": "python",
   "pygments_lexer": "ipython3",
   "version": "3.9.6"
  }
 },
 "nbformat": 4,
 "nbformat_minor": 5
}
