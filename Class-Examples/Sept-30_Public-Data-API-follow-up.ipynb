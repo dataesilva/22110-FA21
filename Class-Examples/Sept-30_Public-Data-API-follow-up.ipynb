{
 "cells": [
  {
   "cell_type": "code",
   "execution_count": 1,
   "id": "92c6aa8f",
   "metadata": {},
   "outputs": [],
   "source": [
    "import requests\n",
    "import json\n",
    "import pandas as pd"
   ]
  },
  {
   "cell_type": "markdown",
   "id": "ad7f7baf",
   "metadata": {},
   "source": [
    "### Bureau of Labor Statistics data:"
   ]
  },
  {
   "cell_type": "code",
   "execution_count": 2,
   "id": "3c915de5",
   "metadata": {},
   "outputs": [],
   "source": [
    "bls_headers = {'Content-type' : 'application/json'}\n",
    "bls_payload = json.dumps({\"seriesid\": ['CUUR0000SA0','SUUR0000SA0'],\"startyear\":\"2011\", \"endyear\":\"2014\"})\n",
    "bls_endpoint = 'https://api.bls.gov/publicAPI/v2/timeseries/data/'\n",
    "p = requests.request(\"POST\", url = bls_endpoint, data = bls_payload, headers = bls_headers)"
   ]
  },
  {
   "cell_type": "code",
   "execution_count": 3,
   "id": "06f24e11",
   "metadata": {},
   "outputs": [
    {
     "data": {
      "text/plain": [
       "200"
      ]
     },
     "execution_count": 3,
     "metadata": {},
     "output_type": "execute_result"
    }
   ],
   "source": [
    "p.status_code"
   ]
  },
  {
   "cell_type": "code",
   "execution_count": 4,
   "id": "90cc3cf9",
   "metadata": {},
   "outputs": [
    {
     "data": {
      "text/plain": [
       "'{\"status\":\"REQUEST_SUCCEEDED\",\"responseT'"
      ]
     },
     "execution_count": 4,
     "metadata": {},
     "output_type": "execute_result"
    }
   ],
   "source": [
    "p.text[0:40]"
   ]
  },
  {
   "cell_type": "code",
   "execution_count": 5,
   "id": "1cf3e10e",
   "metadata": {},
   "outputs": [],
   "source": [
    "bls_data = json.loads(p.text)"
   ]
  },
  {
   "cell_type": "code",
   "execution_count": 6,
   "id": "c6feb9f6",
   "metadata": {},
   "outputs": [
    {
     "data": {
      "text/plain": [
       "dict_keys(['status', 'responseTime', 'message', 'Results'])"
      ]
     },
     "execution_count": 6,
     "metadata": {},
     "output_type": "execute_result"
    }
   ],
   "source": [
    "bls_data.keys()"
   ]
  },
  {
   "cell_type": "code",
   "execution_count": null,
   "id": "0a0658ac",
   "metadata": {},
   "outputs": [],
   "source": [
    "bls_data['Results']"
   ]
  },
  {
   "cell_type": "markdown",
   "id": "f75ee1b8",
   "metadata": {},
   "source": [
    "### Census data:"
   ]
  },
  {
   "cell_type": "code",
   "execution_count": 8,
   "id": "459da764",
   "metadata": {},
   "outputs": [],
   "source": [
    "census_response = requests.request(\"GET\", url = 'https://api.census.gov/data/2019/acs/acs1/pumspr?get=PWGTP,WGTP,JWMNP,AGEP,FES,DRIVESP,JWAP,MV')"
   ]
  },
  {
   "cell_type": "code",
   "execution_count": 9,
   "id": "e57a77a9",
   "metadata": {},
   "outputs": [
    {
     "data": {
      "text/plain": [
       "200"
      ]
     },
     "execution_count": 9,
     "metadata": {},
     "output_type": "execute_result"
    }
   ],
   "source": [
    "census_response.status_code"
   ]
  },
  {
   "cell_type": "code",
   "execution_count": 10,
   "id": "914096c1",
   "metadata": {},
   "outputs": [
    {
     "data": {
      "text/plain": [
       "'[[\"PWGTP\",\"WGTP\",\"JWMNP\",\"AGEP\",\"FES\",\"DRIVESP\",\"J'"
      ]
     },
     "execution_count": 10,
     "metadata": {},
     "output_type": "execute_result"
    }
   ],
   "source": [
    "census_response.text[0:50]"
   ]
  },
  {
   "cell_type": "code",
   "execution_count": 11,
   "id": "33f9690c",
   "metadata": {},
   "outputs": [],
   "source": [
    "census_data = json.loads(census_response.text)"
   ]
  },
  {
   "cell_type": "code",
   "execution_count": 12,
   "id": "a6a8c914",
   "metadata": {},
   "outputs": [
    {
     "data": {
      "text/plain": [
       "[['PWGTP', 'WGTP', 'JWMNP', 'AGEP', 'FES', 'DRIVESP', 'JWAP', 'MV'],\n",
       " ['16', '0', '0', '47', '0', '0', '0', '0']]"
      ]
     },
     "execution_count": 12,
     "metadata": {},
     "output_type": "execute_result"
    }
   ],
   "source": [
    "census_data[0:2]"
   ]
  },
  {
   "cell_type": "code",
   "execution_count": 13,
   "id": "f0ff5733",
   "metadata": {},
   "outputs": [],
   "source": [
    "census_df = pd.DataFrame(census_data)"
   ]
  },
  {
   "cell_type": "code",
   "execution_count": 14,
   "id": "31af561e",
   "metadata": {},
   "outputs": [
    {
     "data": {
      "text/html": [
       "<div>\n",
       "<style scoped>\n",
       "    .dataframe tbody tr th:only-of-type {\n",
       "        vertical-align: middle;\n",
       "    }\n",
       "\n",
       "    .dataframe tbody tr th {\n",
       "        vertical-align: top;\n",
       "    }\n",
       "\n",
       "    .dataframe thead th {\n",
       "        text-align: right;\n",
       "    }\n",
       "</style>\n",
       "<table border=\"1\" class=\"dataframe\">\n",
       "  <thead>\n",
       "    <tr style=\"text-align: right;\">\n",
       "      <th></th>\n",
       "      <th>0</th>\n",
       "      <th>1</th>\n",
       "      <th>2</th>\n",
       "      <th>3</th>\n",
       "      <th>4</th>\n",
       "      <th>5</th>\n",
       "      <th>6</th>\n",
       "      <th>7</th>\n",
       "    </tr>\n",
       "  </thead>\n",
       "  <tbody>\n",
       "    <tr>\n",
       "      <th>0</th>\n",
       "      <td>PWGTP</td>\n",
       "      <td>WGTP</td>\n",
       "      <td>JWMNP</td>\n",
       "      <td>AGEP</td>\n",
       "      <td>FES</td>\n",
       "      <td>DRIVESP</td>\n",
       "      <td>JWAP</td>\n",
       "      <td>MV</td>\n",
       "    </tr>\n",
       "    <tr>\n",
       "      <th>1</th>\n",
       "      <td>16</td>\n",
       "      <td>0</td>\n",
       "      <td>0</td>\n",
       "      <td>47</td>\n",
       "      <td>0</td>\n",
       "      <td>0</td>\n",
       "      <td>0</td>\n",
       "      <td>0</td>\n",
       "    </tr>\n",
       "    <tr>\n",
       "      <th>2</th>\n",
       "      <td>22</td>\n",
       "      <td>0</td>\n",
       "      <td>0</td>\n",
       "      <td>96</td>\n",
       "      <td>0</td>\n",
       "      <td>0</td>\n",
       "      <td>0</td>\n",
       "      <td>0</td>\n",
       "    </tr>\n",
       "    <tr>\n",
       "      <th>3</th>\n",
       "      <td>14</td>\n",
       "      <td>0</td>\n",
       "      <td>0</td>\n",
       "      <td>21</td>\n",
       "      <td>0</td>\n",
       "      <td>0</td>\n",
       "      <td>0</td>\n",
       "      <td>0</td>\n",
       "    </tr>\n",
       "    <tr>\n",
       "      <th>4</th>\n",
       "      <td>3</td>\n",
       "      <td>0</td>\n",
       "      <td>0</td>\n",
       "      <td>40</td>\n",
       "      <td>0</td>\n",
       "      <td>0</td>\n",
       "      <td>0</td>\n",
       "      <td>0</td>\n",
       "    </tr>\n",
       "  </tbody>\n",
       "</table>\n",
       "</div>"
      ],
      "text/plain": [
       "       0     1      2     3    4        5     6   7\n",
       "0  PWGTP  WGTP  JWMNP  AGEP  FES  DRIVESP  JWAP  MV\n",
       "1     16     0      0    47    0        0     0   0\n",
       "2     22     0      0    96    0        0     0   0\n",
       "3     14     0      0    21    0        0     0   0\n",
       "4      3     0      0    40    0        0     0   0"
      ]
     },
     "execution_count": 14,
     "metadata": {},
     "output_type": "execute_result"
    }
   ],
   "source": [
    "census_df.head()"
   ]
  },
  {
   "cell_type": "code",
   "execution_count": 15,
   "id": "fca2c0c6",
   "metadata": {},
   "outputs": [],
   "source": [
    "census_df.columns = census_df.iloc[0]"
   ]
  },
  {
   "cell_type": "code",
   "execution_count": 16,
   "id": "f95aba7d",
   "metadata": {},
   "outputs": [
    {
     "data": {
      "text/html": [
       "<div>\n",
       "<style scoped>\n",
       "    .dataframe tbody tr th:only-of-type {\n",
       "        vertical-align: middle;\n",
       "    }\n",
       "\n",
       "    .dataframe tbody tr th {\n",
       "        vertical-align: top;\n",
       "    }\n",
       "\n",
       "    .dataframe thead th {\n",
       "        text-align: right;\n",
       "    }\n",
       "</style>\n",
       "<table border=\"1\" class=\"dataframe\">\n",
       "  <thead>\n",
       "    <tr style=\"text-align: right;\">\n",
       "      <th></th>\n",
       "      <th>PWGTP</th>\n",
       "      <th>WGTP</th>\n",
       "      <th>JWMNP</th>\n",
       "      <th>AGEP</th>\n",
       "      <th>FES</th>\n",
       "      <th>DRIVESP</th>\n",
       "      <th>JWAP</th>\n",
       "      <th>MV</th>\n",
       "    </tr>\n",
       "  </thead>\n",
       "  <tbody>\n",
       "    <tr>\n",
       "      <th>0</th>\n",
       "      <td>PWGTP</td>\n",
       "      <td>WGTP</td>\n",
       "      <td>JWMNP</td>\n",
       "      <td>AGEP</td>\n",
       "      <td>FES</td>\n",
       "      <td>DRIVESP</td>\n",
       "      <td>JWAP</td>\n",
       "      <td>MV</td>\n",
       "    </tr>\n",
       "    <tr>\n",
       "      <th>1</th>\n",
       "      <td>16</td>\n",
       "      <td>0</td>\n",
       "      <td>0</td>\n",
       "      <td>47</td>\n",
       "      <td>0</td>\n",
       "      <td>0</td>\n",
       "      <td>0</td>\n",
       "      <td>0</td>\n",
       "    </tr>\n",
       "    <tr>\n",
       "      <th>2</th>\n",
       "      <td>22</td>\n",
       "      <td>0</td>\n",
       "      <td>0</td>\n",
       "      <td>96</td>\n",
       "      <td>0</td>\n",
       "      <td>0</td>\n",
       "      <td>0</td>\n",
       "      <td>0</td>\n",
       "    </tr>\n",
       "    <tr>\n",
       "      <th>3</th>\n",
       "      <td>14</td>\n",
       "      <td>0</td>\n",
       "      <td>0</td>\n",
       "      <td>21</td>\n",
       "      <td>0</td>\n",
       "      <td>0</td>\n",
       "      <td>0</td>\n",
       "      <td>0</td>\n",
       "    </tr>\n",
       "    <tr>\n",
       "      <th>4</th>\n",
       "      <td>3</td>\n",
       "      <td>0</td>\n",
       "      <td>0</td>\n",
       "      <td>40</td>\n",
       "      <td>0</td>\n",
       "      <td>0</td>\n",
       "      <td>0</td>\n",
       "      <td>0</td>\n",
       "    </tr>\n",
       "  </tbody>\n",
       "</table>\n",
       "</div>"
      ],
      "text/plain": [
       "0  PWGTP  WGTP  JWMNP  AGEP  FES  DRIVESP  JWAP  MV\n",
       "0  PWGTP  WGTP  JWMNP  AGEP  FES  DRIVESP  JWAP  MV\n",
       "1     16     0      0    47    0        0     0   0\n",
       "2     22     0      0    96    0        0     0   0\n",
       "3     14     0      0    21    0        0     0   0\n",
       "4      3     0      0    40    0        0     0   0"
      ]
     },
     "execution_count": 16,
     "metadata": {},
     "output_type": "execute_result"
    }
   ],
   "source": [
    "census_df.head()"
   ]
  },
  {
   "cell_type": "code",
   "execution_count": 17,
   "id": "b91d6374",
   "metadata": {},
   "outputs": [],
   "source": [
    "census_df = census_df[1:]"
   ]
  },
  {
   "cell_type": "code",
   "execution_count": 18,
   "id": "37146816",
   "metadata": {},
   "outputs": [
    {
     "data": {
      "text/html": [
       "<div>\n",
       "<style scoped>\n",
       "    .dataframe tbody tr th:only-of-type {\n",
       "        vertical-align: middle;\n",
       "    }\n",
       "\n",
       "    .dataframe tbody tr th {\n",
       "        vertical-align: top;\n",
       "    }\n",
       "\n",
       "    .dataframe thead th {\n",
       "        text-align: right;\n",
       "    }\n",
       "</style>\n",
       "<table border=\"1\" class=\"dataframe\">\n",
       "  <thead>\n",
       "    <tr style=\"text-align: right;\">\n",
       "      <th></th>\n",
       "      <th>PWGTP</th>\n",
       "      <th>WGTP</th>\n",
       "      <th>JWMNP</th>\n",
       "      <th>AGEP</th>\n",
       "      <th>FES</th>\n",
       "      <th>DRIVESP</th>\n",
       "      <th>JWAP</th>\n",
       "      <th>MV</th>\n",
       "    </tr>\n",
       "  </thead>\n",
       "  <tbody>\n",
       "    <tr>\n",
       "      <th>1</th>\n",
       "      <td>16</td>\n",
       "      <td>0</td>\n",
       "      <td>0</td>\n",
       "      <td>47</td>\n",
       "      <td>0</td>\n",
       "      <td>0</td>\n",
       "      <td>0</td>\n",
       "      <td>0</td>\n",
       "    </tr>\n",
       "    <tr>\n",
       "      <th>2</th>\n",
       "      <td>22</td>\n",
       "      <td>0</td>\n",
       "      <td>0</td>\n",
       "      <td>96</td>\n",
       "      <td>0</td>\n",
       "      <td>0</td>\n",
       "      <td>0</td>\n",
       "      <td>0</td>\n",
       "    </tr>\n",
       "    <tr>\n",
       "      <th>3</th>\n",
       "      <td>14</td>\n",
       "      <td>0</td>\n",
       "      <td>0</td>\n",
       "      <td>21</td>\n",
       "      <td>0</td>\n",
       "      <td>0</td>\n",
       "      <td>0</td>\n",
       "      <td>0</td>\n",
       "    </tr>\n",
       "    <tr>\n",
       "      <th>4</th>\n",
       "      <td>3</td>\n",
       "      <td>0</td>\n",
       "      <td>0</td>\n",
       "      <td>40</td>\n",
       "      <td>0</td>\n",
       "      <td>0</td>\n",
       "      <td>0</td>\n",
       "      <td>0</td>\n",
       "    </tr>\n",
       "    <tr>\n",
       "      <th>5</th>\n",
       "      <td>41</td>\n",
       "      <td>0</td>\n",
       "      <td>0</td>\n",
       "      <td>96</td>\n",
       "      <td>0</td>\n",
       "      <td>0</td>\n",
       "      <td>0</td>\n",
       "      <td>0</td>\n",
       "    </tr>\n",
       "  </tbody>\n",
       "</table>\n",
       "</div>"
      ],
      "text/plain": [
       "0 PWGTP WGTP JWMNP AGEP FES DRIVESP JWAP MV\n",
       "1    16    0     0   47   0       0    0  0\n",
       "2    22    0     0   96   0       0    0  0\n",
       "3    14    0     0   21   0       0    0  0\n",
       "4     3    0     0   40   0       0    0  0\n",
       "5    41    0     0   96   0       0    0  0"
      ]
     },
     "execution_count": 18,
     "metadata": {},
     "output_type": "execute_result"
    }
   ],
   "source": [
    "census_df.head()"
   ]
  }
 ],
 "metadata": {
  "kernelspec": {
   "display_name": "Python 3 (ipykernel)",
   "language": "python",
   "name": "python3"
  },
  "language_info": {
   "codemirror_mode": {
    "name": "ipython",
    "version": 3
   },
   "file_extension": ".py",
   "mimetype": "text/x-python",
   "name": "python",
   "nbconvert_exporter": "python",
   "pygments_lexer": "ipython3",
   "version": "3.9.6"
  }
 },
 "nbformat": 4,
 "nbformat_minor": 5
}
