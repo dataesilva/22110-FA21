{
 "cells": [
  {
   "cell_type": "code",
   "execution_count": 1,
   "id": "8693338a",
   "metadata": {},
   "outputs": [],
   "source": [
    "from datetime import datetime"
   ]
  },
  {
   "cell_type": "code",
   "execution_count": 2,
   "id": "f6d0ac24",
   "metadata": {},
   "outputs": [],
   "source": [
    "import json\n",
    "import pandas as pd"
   ]
  },
  {
   "cell_type": "code",
   "execution_count": 3,
   "id": "c83d1964",
   "metadata": {},
   "outputs": [],
   "source": [
    "with open(r\"C:\\Users\\dsilva2\\EMAT22110_FA21\\facebook-davidsilva100046_full\\posts\\your_posts_1.json\") as p:\n",
    "    posts = json.load(p)"
   ]
  },
  {
   "cell_type": "code",
   "execution_count": 4,
   "id": "d44a4cf9",
   "metadata": {},
   "outputs": [
    {
     "ename": "AttributeError",
     "evalue": "'list' object has no attribute 'keys'",
     "output_type": "error",
     "traceback": [
      "\u001b[1;31m---------------------------------------------------------------------------\u001b[0m",
      "\u001b[1;31mAttributeError\u001b[0m                            Traceback (most recent call last)",
      "\u001b[1;32m~\\AppData\\Local\\Temp/ipykernel_35440/273329988.py\u001b[0m in \u001b[0;36m<module>\u001b[1;34m\u001b[0m\n\u001b[1;32m----> 1\u001b[1;33m \u001b[0mposts\u001b[0m\u001b[1;33m.\u001b[0m\u001b[0mkeys\u001b[0m\u001b[1;33m(\u001b[0m\u001b[1;33m)\u001b[0m\u001b[1;33m\u001b[0m\u001b[1;33m\u001b[0m\u001b[0m\n\u001b[0m",
      "\u001b[1;31mAttributeError\u001b[0m: 'list' object has no attribute 'keys'"
     ]
    }
   ],
   "source": [
    "posts.keys()"
   ]
  },
  {
   "cell_type": "code",
   "execution_count": 5,
   "id": "5c381a03",
   "metadata": {},
   "outputs": [
    {
     "data": {
      "text/plain": [
       "list"
      ]
     },
     "execution_count": 5,
     "metadata": {},
     "output_type": "execute_result"
    }
   ],
   "source": [
    "type(posts)"
   ]
  },
  {
   "cell_type": "code",
   "execution_count": 6,
   "id": "e0d80d42",
   "metadata": {},
   "outputs": [
    {
     "data": {
      "text/plain": [
       "[{'timestamp': 1211508036,\n",
       "  'data': [{'post': 'is el presidente follow me'}],\n",
       "  'title': 'David Silva updated his status.'},\n",
       " {'timestamp': 1212037617,\n",
       "  'data': [{'post': 'is your leader... do as he says'}],\n",
       "  'title': 'David Silva updated his status.'},\n",
       " {'timestamp': 1212127875,\n",
       "  'data': [{'post': 'just got back from climbing! it was awesome!!'}],\n",
       "  'title': 'David Silva updated his status.'},\n",
       " {'timestamp': 1212206744,\n",
       "  'data': [{'post': 'has to work tomorow :('}],\n",
       "  'title': 'David Silva updated his status.'},\n",
       " {'timestamp': 1213050248,\n",
       "  'data': [{'post': 'is going to MEXICO in 3 days!'}],\n",
       "  'title': 'David Silva updated his status.'}]"
      ]
     },
     "execution_count": 6,
     "metadata": {},
     "output_type": "execute_result"
    }
   ],
   "source": [
    "posts[0:5]"
   ]
  },
  {
   "cell_type": "code",
   "execution_count": 7,
   "id": "8e3c4520",
   "metadata": {},
   "outputs": [
    {
     "data": {
      "text/plain": [
       "dict_keys(['timestamp', 'data', 'title'])"
      ]
     },
     "execution_count": 7,
     "metadata": {},
     "output_type": "execute_result"
    }
   ],
   "source": [
    "posts[0].keys()"
   ]
  },
  {
   "cell_type": "code",
   "execution_count": null,
   "id": "ecdada12",
   "metadata": {},
   "outputs": [],
   "source": [
    "posts_df = "
   ]
  },
  {
   "cell_type": "code",
   "execution_count": 8,
   "id": "2e3bc07a",
   "metadata": {},
   "outputs": [],
   "source": [
    "with open(r\"C:\\Users\\dsilva2\\EMAT22110_FA21\\technogecko_20210830\\content\\posts_1.json\") as ig:\n",
    "    ig_posts = json.load(ig)"
   ]
  },
  {
   "cell_type": "code",
   "execution_count": 9,
   "id": "3820a067",
   "metadata": {},
   "outputs": [
    {
     "ename": "AttributeError",
     "evalue": "'list' object has no attribute 'keys'",
     "output_type": "error",
     "traceback": [
      "\u001b[1;31m---------------------------------------------------------------------------\u001b[0m",
      "\u001b[1;31mAttributeError\u001b[0m                            Traceback (most recent call last)",
      "\u001b[1;32m~\\AppData\\Local\\Temp/ipykernel_35440/2875627383.py\u001b[0m in \u001b[0;36m<module>\u001b[1;34m\u001b[0m\n\u001b[1;32m----> 1\u001b[1;33m \u001b[0mig_posts\u001b[0m\u001b[1;33m.\u001b[0m\u001b[0mkeys\u001b[0m\u001b[1;33m(\u001b[0m\u001b[1;33m)\u001b[0m\u001b[1;33m\u001b[0m\u001b[1;33m\u001b[0m\u001b[0m\n\u001b[0m",
      "\u001b[1;31mAttributeError\u001b[0m: 'list' object has no attribute 'keys'"
     ]
    }
   ],
   "source": [
    "ig_posts.keys()"
   ]
  },
  {
   "cell_type": "code",
   "execution_count": 10,
   "id": "b7c5246e",
   "metadata": {},
   "outputs": [
    {
     "data": {
      "text/plain": [
       "[{'media': [{'uri': 'media/posts/201811/43915374_2141521442566840_1991143337297954676_n_17994076003005750.jpg',\n",
       "    'creation_timestamp': 1541137894,\n",
       "    'media_metadata': {'photo_metadata': {'exif_data': [{'latitude': 46.7326,\n",
       "        'longitude': -117.172}]}},\n",
       "    'title': 'What are you looking at? #goodsit #kaiadog'}]},\n",
       " {'media': [{'uri': 'media/posts/201807/36556928_197013067627333_1177012903883046912_n_17942018140119351.jpg',\n",
       "    'creation_timestamp': 1530495575,\n",
       "    'media_metadata': {'photo_metadata': {'exif_data': [{'latitude': 46.8592,\n",
       "        'longitude': -116.394}]}},\n",
       "    'title': 'Kaia can outrun Monday.\\n\\nFinally got to spend a day camping to celebrate our anniversary. It was wonderful, relaxing, and best of all we wore out the pup.'}]},\n",
       " {'media': [{'uri': 'media/posts/201805/32691673_2107638672827122_8543642468116070400_n_17859718045247019.jpg',\n",
       "    'creation_timestamp': 1527488513,\n",
       "    'title': ''},\n",
       "   {'uri': 'media/posts/201805/33198212_210888626372317_73699143423361024_n_17950194778031956.jpg',\n",
       "    'creation_timestamp': 1527488515,\n",
       "    'title': ''},\n",
       "   {'uri': 'media/posts/201805/33842217_757741357891192_2622733212505341952_n_17919815269183126.jpg',\n",
       "    'creation_timestamp': 1527488519,\n",
       "    'title': ''},\n",
       "   {'uri': 'media/posts/201805/33546010_999342130229329_8599207804349186048_n_17929211449087030.jpg',\n",
       "    'creation_timestamp': 1527488528,\n",
       "    'title': ''},\n",
       "   {'uri': 'media/posts/201805/33136084_977424825772920_3245918110863065088_n_17947819462035459.jpg',\n",
       "    'creation_timestamp': 1527488531,\n",
       "    'title': ''}],\n",
       "  'title': 'Prague is other-worldly in itâ\\x80\\x99s beauty. I have no context for comparison, but this has to be the most striking city in the world.',\n",
       "  'creation_timestamp': 1527489003},\n",
       " {'media': [{'uri': 'media/posts/201710/22344761_1953086208239247_4849888886098231296_n_17896153990066796.jpg',\n",
       "    'creation_timestamp': 1507475551,\n",
       "    'title': ''},\n",
       "   {'uri': 'media/posts/201710/22277990_120631521942306_9092689474961276928_n_17902107334015357.jpg',\n",
       "    'creation_timestamp': 1507475525,\n",
       "    'title': ''}],\n",
       "  'title': 'Weâ\\x80\\x99re just exploring. Thanks @orangekoala2 for the photos.',\n",
       "  'creation_timestamp': 1507475578},\n",
       " {'media': [{'uri': 'media/posts/201706/19122260_290065541464267_1277418647874174976_n_17883573478062693.jpg',\n",
       "    'creation_timestamp': 1497638886,\n",
       "    'title': ''},\n",
       "   {'uri': 'media/posts/201706/19121069_232109340628520_6711744732034236416_n_17884502407035346.jpg',\n",
       "    'creation_timestamp': 1497638890,\n",
       "    'title': ''}],\n",
       "  'title': 'From #coranadobeach with @aroseroar16 and @jbrickcity by @jackie.cc Thanks for the fun in San Diego and the photos!',\n",
       "  'creation_timestamp': 1497639133}]"
      ]
     },
     "execution_count": 10,
     "metadata": {},
     "output_type": "execute_result"
    }
   ],
   "source": [
    "ig_posts[0:5]"
   ]
  },
  {
   "cell_type": "code",
   "execution_count": 11,
   "id": "4f3014a3",
   "metadata": {},
   "outputs": [
    {
     "data": {
      "text/plain": [
       "dict_keys(['media'])"
      ]
     },
     "execution_count": 11,
     "metadata": {},
     "output_type": "execute_result"
    }
   ],
   "source": [
    "ig_posts[0].keys()"
   ]
  },
  {
   "cell_type": "code",
   "execution_count": 13,
   "id": "b15ae0d5",
   "metadata": {},
   "outputs": [
    {
     "data": {
      "text/plain": [
       "[{'uri': 'media/posts/201811/43915374_2141521442566840_1991143337297954676_n_17994076003005750.jpg',\n",
       "  'creation_timestamp': 1541137894,\n",
       "  'media_metadata': {'photo_metadata': {'exif_data': [{'latitude': 46.7326,\n",
       "      'longitude': -117.172}]}},\n",
       "  'title': 'What are you looking at? #goodsit #kaiadog'}]"
      ]
     },
     "execution_count": 13,
     "metadata": {},
     "output_type": "execute_result"
    }
   ],
   "source": [
    "ig_posts[0]['media']"
   ]
  },
  {
   "cell_type": "code",
   "execution_count": 14,
   "id": "8510d14e",
   "metadata": {},
   "outputs": [],
   "source": [
    "posts_df = pd.DataFrame(posts)"
   ]
  },
  {
   "cell_type": "code",
   "execution_count": 15,
   "id": "94d64c49",
   "metadata": {},
   "outputs": [
    {
     "data": {
      "text/html": [
       "<div>\n",
       "<style scoped>\n",
       "    .dataframe tbody tr th:only-of-type {\n",
       "        vertical-align: middle;\n",
       "    }\n",
       "\n",
       "    .dataframe tbody tr th {\n",
       "        vertical-align: top;\n",
       "    }\n",
       "\n",
       "    .dataframe thead th {\n",
       "        text-align: right;\n",
       "    }\n",
       "</style>\n",
       "<table border=\"1\" class=\"dataframe\">\n",
       "  <thead>\n",
       "    <tr style=\"text-align: right;\">\n",
       "      <th></th>\n",
       "      <th>timestamp</th>\n",
       "      <th>data</th>\n",
       "      <th>title</th>\n",
       "      <th>attachments</th>\n",
       "      <th>tags</th>\n",
       "    </tr>\n",
       "  </thead>\n",
       "  <tbody>\n",
       "    <tr>\n",
       "      <th>0</th>\n",
       "      <td>1211508036</td>\n",
       "      <td>[{'post': 'is el presidente follow me'}]</td>\n",
       "      <td>David Silva updated his status.</td>\n",
       "      <td>NaN</td>\n",
       "      <td>NaN</td>\n",
       "    </tr>\n",
       "    <tr>\n",
       "      <th>1</th>\n",
       "      <td>1212037617</td>\n",
       "      <td>[{'post': 'is your leader... do as he says'}]</td>\n",
       "      <td>David Silva updated his status.</td>\n",
       "      <td>NaN</td>\n",
       "      <td>NaN</td>\n",
       "    </tr>\n",
       "    <tr>\n",
       "      <th>2</th>\n",
       "      <td>1212127875</td>\n",
       "      <td>[{'post': 'just got back from climbing! it was...</td>\n",
       "      <td>David Silva updated his status.</td>\n",
       "      <td>NaN</td>\n",
       "      <td>NaN</td>\n",
       "    </tr>\n",
       "    <tr>\n",
       "      <th>3</th>\n",
       "      <td>1212206744</td>\n",
       "      <td>[{'post': 'has to work tomorow :('}]</td>\n",
       "      <td>David Silva updated his status.</td>\n",
       "      <td>NaN</td>\n",
       "      <td>NaN</td>\n",
       "    </tr>\n",
       "    <tr>\n",
       "      <th>4</th>\n",
       "      <td>1213050248</td>\n",
       "      <td>[{'post': 'is going to MEXICO in 3 days!'}]</td>\n",
       "      <td>David Silva updated his status.</td>\n",
       "      <td>NaN</td>\n",
       "      <td>NaN</td>\n",
       "    </tr>\n",
       "  </tbody>\n",
       "</table>\n",
       "</div>"
      ],
      "text/plain": [
       "    timestamp                                               data  \\\n",
       "0  1211508036           [{'post': 'is el presidente follow me'}]   \n",
       "1  1212037617      [{'post': 'is your leader... do as he says'}]   \n",
       "2  1212127875  [{'post': 'just got back from climbing! it was...   \n",
       "3  1212206744               [{'post': 'has to work tomorow :('}]   \n",
       "4  1213050248        [{'post': 'is going to MEXICO in 3 days!'}]   \n",
       "\n",
       "                             title attachments tags  \n",
       "0  David Silva updated his status.         NaN  NaN  \n",
       "1  David Silva updated his status.         NaN  NaN  \n",
       "2  David Silva updated his status.         NaN  NaN  \n",
       "3  David Silva updated his status.         NaN  NaN  \n",
       "4  David Silva updated his status.         NaN  NaN  "
      ]
     },
     "execution_count": 15,
     "metadata": {},
     "output_type": "execute_result"
    }
   ],
   "source": [
    "posts_df.head()"
   ]
  },
  {
   "cell_type": "code",
   "execution_count": 16,
   "id": "c96329f4",
   "metadata": {},
   "outputs": [
    {
     "data": {
      "text/plain": [
       "398"
      ]
     },
     "execution_count": 16,
     "metadata": {},
     "output_type": "execute_result"
    }
   ],
   "source": [
    "len(posts_df.index)"
   ]
  },
  {
   "cell_type": "code",
   "execution_count": 38,
   "id": "7ee481ad",
   "metadata": {},
   "outputs": [
    {
     "data": {
      "text/plain": [
       "{'uri': 'media/posts/201811/43915374_2141521442566840_1991143337297954676_n_17994076003005750.jpg',\n",
       " 'creation_timestamp': 1541137894,\n",
       " 'media_metadata': {'photo_metadata': {'exif_data': [{'latitude': 46.7326,\n",
       "     'longitude': -117.172}]}},\n",
       " 'title': 'What are you looking at? #goodsit #kaiadog'}"
      ]
     },
     "execution_count": 38,
     "metadata": {},
     "output_type": "execute_result"
    }
   ],
   "source": [
    "ig_posts[0]['media'][0]"
   ]
  },
  {
   "cell_type": "code",
   "execution_count": 27,
   "id": "c6d3030a",
   "metadata": {},
   "outputs": [],
   "source": [
    "ig_posts_data = [x['media'][0] for x in ig_posts]"
   ]
  },
  {
   "cell_type": "code",
   "execution_count": 29,
   "id": "c1118211",
   "metadata": {},
   "outputs": [],
   "source": [
    "ig_posts_df = pd.DataFrame(ig_posts_data)"
   ]
  },
  {
   "cell_type": "code",
   "execution_count": 30,
   "id": "1f773556",
   "metadata": {},
   "outputs": [
    {
     "data": {
      "text/html": [
       "<div>\n",
       "<style scoped>\n",
       "    .dataframe tbody tr th:only-of-type {\n",
       "        vertical-align: middle;\n",
       "    }\n",
       "\n",
       "    .dataframe tbody tr th {\n",
       "        vertical-align: top;\n",
       "    }\n",
       "\n",
       "    .dataframe thead th {\n",
       "        text-align: right;\n",
       "    }\n",
       "</style>\n",
       "<table border=\"1\" class=\"dataframe\">\n",
       "  <thead>\n",
       "    <tr style=\"text-align: right;\">\n",
       "      <th></th>\n",
       "      <th>uri</th>\n",
       "      <th>creation_timestamp</th>\n",
       "      <th>media_metadata</th>\n",
       "      <th>title</th>\n",
       "    </tr>\n",
       "  </thead>\n",
       "  <tbody>\n",
       "    <tr>\n",
       "      <th>0</th>\n",
       "      <td>media/posts/201811/43915374_2141521442566840_1...</td>\n",
       "      <td>1541137894</td>\n",
       "      <td>{'photo_metadata': {'exif_data': [{'latitude':...</td>\n",
       "      <td>What are you looking at? #goodsit #kaiadog</td>\n",
       "    </tr>\n",
       "    <tr>\n",
       "      <th>1</th>\n",
       "      <td>media/posts/201807/36556928_197013067627333_11...</td>\n",
       "      <td>1530495575</td>\n",
       "      <td>{'photo_metadata': {'exif_data': [{'latitude':...</td>\n",
       "      <td>Kaia can outrun Monday.\\n\\nFinally got to spen...</td>\n",
       "    </tr>\n",
       "    <tr>\n",
       "      <th>2</th>\n",
       "      <td>media/posts/201805/32691673_2107638672827122_8...</td>\n",
       "      <td>1527488513</td>\n",
       "      <td>NaN</td>\n",
       "      <td></td>\n",
       "    </tr>\n",
       "    <tr>\n",
       "      <th>3</th>\n",
       "      <td>media/posts/201710/22344761_1953086208239247_4...</td>\n",
       "      <td>1507475551</td>\n",
       "      <td>NaN</td>\n",
       "      <td></td>\n",
       "    </tr>\n",
       "    <tr>\n",
       "      <th>4</th>\n",
       "      <td>media/posts/201706/19122260_290065541464267_12...</td>\n",
       "      <td>1497638886</td>\n",
       "      <td>NaN</td>\n",
       "      <td></td>\n",
       "    </tr>\n",
       "  </tbody>\n",
       "</table>\n",
       "</div>"
      ],
      "text/plain": [
       "                                                 uri  creation_timestamp  \\\n",
       "0  media/posts/201811/43915374_2141521442566840_1...          1541137894   \n",
       "1  media/posts/201807/36556928_197013067627333_11...          1530495575   \n",
       "2  media/posts/201805/32691673_2107638672827122_8...          1527488513   \n",
       "3  media/posts/201710/22344761_1953086208239247_4...          1507475551   \n",
       "4  media/posts/201706/19122260_290065541464267_12...          1497638886   \n",
       "\n",
       "                                      media_metadata  \\\n",
       "0  {'photo_metadata': {'exif_data': [{'latitude':...   \n",
       "1  {'photo_metadata': {'exif_data': [{'latitude':...   \n",
       "2                                                NaN   \n",
       "3                                                NaN   \n",
       "4                                                NaN   \n",
       "\n",
       "                                               title  \n",
       "0         What are you looking at? #goodsit #kaiadog  \n",
       "1  Kaia can outrun Monday.\\n\\nFinally got to spen...  \n",
       "2                                                     \n",
       "3                                                     \n",
       "4                                                     "
      ]
     },
     "execution_count": 30,
     "metadata": {},
     "output_type": "execute_result"
    }
   ],
   "source": [
    "ig_posts_df.head()"
   ]
  },
  {
   "cell_type": "code",
   "execution_count": 39,
   "id": "c380e15a",
   "metadata": {},
   "outputs": [
    {
     "data": {
      "text/plain": [
       "61"
      ]
     },
     "execution_count": 39,
     "metadata": {},
     "output_type": "execute_result"
    }
   ],
   "source": [
    "len(ig_posts_df.index)"
   ]
  },
  {
   "cell_type": "code",
   "execution_count": 42,
   "id": "b896c285",
   "metadata": {},
   "outputs": [],
   "source": [
    "a_day = datetime.utcfromtimestamp(posts_df['timestamp'][0])"
   ]
  },
  {
   "cell_type": "code",
   "execution_count": 43,
   "id": "21ef3120",
   "metadata": {},
   "outputs": [
    {
     "data": {
      "text/plain": [
       "2008"
      ]
     },
     "execution_count": 43,
     "metadata": {},
     "output_type": "execute_result"
    }
   ],
   "source": [
    "a_day.year"
   ]
  },
  {
   "cell_type": "code",
   "execution_count": 44,
   "id": "7393c730",
   "metadata": {},
   "outputs": [
    {
     "data": {
      "text/plain": [
       "5"
      ]
     },
     "execution_count": 44,
     "metadata": {},
     "output_type": "execute_result"
    }
   ],
   "source": [
    "a_day.month"
   ]
  },
  {
   "cell_type": "code",
   "execution_count": 46,
   "id": "00ba5011",
   "metadata": {},
   "outputs": [
    {
     "data": {
      "text/plain": [
       "36"
      ]
     },
     "execution_count": 46,
     "metadata": {},
     "output_type": "execute_result"
    }
   ],
   "source": [
    "a_day.second"
   ]
  },
  {
   "cell_type": "code",
   "execution_count": 47,
   "id": "956bdc38",
   "metadata": {},
   "outputs": [
    {
     "data": {
      "text/plain": [
       "2"
      ]
     },
     "execution_count": 47,
     "metadata": {},
     "output_type": "execute_result"
    }
   ],
   "source": [
    "a_day.hour"
   ]
  },
  {
   "cell_type": "code",
   "execution_count": 48,
   "id": "a607f238",
   "metadata": {},
   "outputs": [
    {
     "data": {
      "text/plain": [
       "0"
      ]
     },
     "execution_count": 48,
     "metadata": {},
     "output_type": "execute_result"
    }
   ],
   "source": [
    "a_day.minute"
   ]
  },
  {
   "cell_type": "code",
   "execution_count": 49,
   "id": "24f3d211",
   "metadata": {},
   "outputs": [],
   "source": [
    "another_day = datetime.utcfromtimestamp(posts_df['timestamp'][80])"
   ]
  },
  {
   "cell_type": "code",
   "execution_count": 53,
   "id": "3a30b5b7",
   "metadata": {},
   "outputs": [],
   "source": [
    "an_ig_day = datetime.utcfromtimestamp(ig_posts_df['creation_timestamp'][0])"
   ]
  },
  {
   "cell_type": "code",
   "execution_count": 55,
   "id": "97c237fd",
   "metadata": {},
   "outputs": [
    {
     "data": {
      "text/plain": [
       "datetime.datetime(2018, 11, 2, 5, 51, 34)"
      ]
     },
     "execution_count": 55,
     "metadata": {},
     "output_type": "execute_result"
    }
   ],
   "source": [
    "an_ig_day"
   ]
  },
  {
   "cell_type": "code",
   "execution_count": 50,
   "id": "badb5ec3",
   "metadata": {},
   "outputs": [
    {
     "data": {
      "text/plain": [
       "datetime.timedelta(days=277, seconds=2134)"
      ]
     },
     "execution_count": 50,
     "metadata": {},
     "output_type": "execute_result"
    }
   ],
   "source": [
    "another_day - a_day"
   ]
  },
  {
   "cell_type": "code",
   "execution_count": 113,
   "id": "670a2a26",
   "metadata": {},
   "outputs": [
    {
     "data": {
      "text/plain": [
       "False"
      ]
     },
     "execution_count": 113,
     "metadata": {},
     "output_type": "execute_result"
    }
   ],
   "source": [
    "another_day < a_day"
   ]
  },
  {
   "cell_type": "markdown",
   "id": "6976ad08",
   "metadata": {},
   "source": [
    "From here on we spent time as a class working through out how solve the issue of NaNs showing up in some people's creation_timestamp column."
   ]
  },
  {
   "cell_type": "code",
   "execution_count": 59,
   "id": "8e8356f3",
   "metadata": {},
   "outputs": [],
   "source": [
    "import numpy"
   ]
  },
  {
   "cell_type": "code",
   "execution_count": 68,
   "id": "dbf76f85",
   "metadata": {},
   "outputs": [
    {
     "data": {
      "text/plain": [
       "True"
      ]
     },
     "execution_count": 68,
     "metadata": {},
     "output_type": "execute_result"
    }
   ],
   "source": [
    "type(posts_df['timestamp'][80]) == numpy.int64"
   ]
  },
  {
   "cell_type": "code",
   "execution_count": 72,
   "id": "ea930eac",
   "metadata": {},
   "outputs": [],
   "source": [
    "posts_df['datetimes'] = [datetime.utcfromtimestamp(x) for x in posts_df['timestamp']]"
   ]
  },
  {
   "cell_type": "code",
   "execution_count": 86,
   "id": "7ee6dca4",
   "metadata": {},
   "outputs": [],
   "source": [
    "posts_df['datetimes'] = [datetime.utcfromtimestamp(x) if type(x) == int else datetime.utcfromtimestamp(0) for x in posts_df['timestamp']]"
   ]
  },
  {
   "cell_type": "code",
   "execution_count": 81,
   "id": "67066b9e",
   "metadata": {},
   "outputs": [
    {
     "name": "stdout",
     "output_type": "stream",
     "text": [
      "<class 'int'>\n",
      "<class 'int'>\n",
      "<class 'int'>\n",
      "<class 'int'>\n",
      "<class 'int'>\n",
      "<class 'int'>\n",
      "<class 'int'>\n",
      "<class 'int'>\n",
      "<class 'int'>\n",
      "<class 'int'>\n"
     ]
    }
   ],
   "source": [
    "dt = []\n",
    "for x in posts_df['timestamp'][0:10]:\n",
    "    print(type(x))\n",
    "    #if type(x) == numpy.int64:\n",
    "    #    dt.append(datetime.utcfromtimestamp(x))\n",
    "    #else:\n",
    "    #    dt.append(0)"
   ]
  },
  {
   "cell_type": "code",
   "execution_count": 79,
   "id": "cbe36964",
   "metadata": {},
   "outputs": [
    {
     "data": {
      "text/plain": [
       "[0,\n",
       " 0,\n",
       " 0,\n",
       " 0,\n",
       " 0,\n",
       " 0,\n",
       " 0,\n",
       " 0,\n",
       " 0,\n",
       " 0,\n",
       " 0,\n",
       " 0,\n",
       " 0,\n",
       " 0,\n",
       " 0,\n",
       " 0,\n",
       " 0,\n",
       " 0,\n",
       " 0,\n",
       " 0,\n",
       " 0,\n",
       " 0,\n",
       " 0,\n",
       " 0,\n",
       " 0,\n",
       " 0,\n",
       " 0,\n",
       " 0,\n",
       " 0,\n",
       " 0,\n",
       " 0,\n",
       " 0,\n",
       " 0,\n",
       " 0,\n",
       " 0,\n",
       " 0,\n",
       " 0,\n",
       " 0,\n",
       " 0,\n",
       " 0,\n",
       " 0,\n",
       " 0,\n",
       " 0,\n",
       " 0,\n",
       " 0,\n",
       " 0,\n",
       " 0,\n",
       " 0,\n",
       " 0,\n",
       " 0,\n",
       " 0,\n",
       " 0,\n",
       " 0,\n",
       " 0,\n",
       " 0,\n",
       " 0,\n",
       " 0,\n",
       " 0,\n",
       " 0,\n",
       " 0,\n",
       " 0,\n",
       " 0,\n",
       " 0,\n",
       " 0,\n",
       " 0,\n",
       " 0,\n",
       " 0,\n",
       " 0,\n",
       " 0,\n",
       " 0,\n",
       " 0,\n",
       " 0,\n",
       " 0,\n",
       " 0,\n",
       " 0,\n",
       " 0,\n",
       " 0,\n",
       " 0,\n",
       " 0,\n",
       " 0,\n",
       " 0,\n",
       " 0,\n",
       " 0,\n",
       " 0,\n",
       " 0,\n",
       " 0,\n",
       " 0,\n",
       " 0,\n",
       " 0,\n",
       " 0,\n",
       " 0,\n",
       " 0,\n",
       " 0,\n",
       " 0,\n",
       " 0,\n",
       " 0,\n",
       " 0,\n",
       " 0,\n",
       " 0,\n",
       " 0,\n",
       " 0,\n",
       " 0,\n",
       " 0,\n",
       " 0,\n",
       " 0,\n",
       " 0,\n",
       " 0,\n",
       " 0,\n",
       " 0,\n",
       " 0,\n",
       " 0,\n",
       " 0,\n",
       " 0,\n",
       " 0,\n",
       " 0,\n",
       " 0,\n",
       " 0,\n",
       " 0,\n",
       " 0,\n",
       " 0,\n",
       " 0,\n",
       " 0,\n",
       " 0,\n",
       " 0,\n",
       " 0,\n",
       " 0,\n",
       " 0,\n",
       " 0,\n",
       " 0,\n",
       " 0,\n",
       " 0,\n",
       " 0,\n",
       " 0,\n",
       " 0,\n",
       " 0,\n",
       " 0,\n",
       " 0,\n",
       " 0,\n",
       " 0,\n",
       " 0,\n",
       " 0,\n",
       " 0,\n",
       " 0,\n",
       " 0,\n",
       " 0,\n",
       " 0,\n",
       " 0,\n",
       " 0,\n",
       " 0,\n",
       " 0,\n",
       " 0,\n",
       " 0,\n",
       " 0,\n",
       " 0,\n",
       " 0,\n",
       " 0,\n",
       " 0,\n",
       " 0,\n",
       " 0,\n",
       " 0,\n",
       " 0,\n",
       " 0,\n",
       " 0,\n",
       " 0,\n",
       " 0,\n",
       " 0,\n",
       " 0,\n",
       " 0,\n",
       " 0,\n",
       " 0,\n",
       " 0,\n",
       " 0,\n",
       " 0,\n",
       " 0,\n",
       " 0,\n",
       " 0,\n",
       " 0,\n",
       " 0,\n",
       " 0,\n",
       " 0,\n",
       " 0,\n",
       " 0,\n",
       " 0,\n",
       " 0,\n",
       " 0,\n",
       " 0,\n",
       " 0,\n",
       " 0,\n",
       " 0,\n",
       " 0,\n",
       " 0,\n",
       " 0,\n",
       " 0,\n",
       " 0,\n",
       " 0,\n",
       " 0,\n",
       " 0,\n",
       " 0,\n",
       " 0,\n",
       " 0,\n",
       " 0,\n",
       " 0,\n",
       " 0,\n",
       " 0,\n",
       " 0,\n",
       " 0,\n",
       " 0,\n",
       " 0,\n",
       " 0,\n",
       " 0,\n",
       " 0,\n",
       " 0,\n",
       " 0,\n",
       " 0,\n",
       " 0,\n",
       " 0,\n",
       " 0,\n",
       " 0,\n",
       " 0,\n",
       " 0,\n",
       " 0,\n",
       " 0,\n",
       " 0,\n",
       " 0,\n",
       " 0,\n",
       " 0,\n",
       " 0,\n",
       " 0,\n",
       " 0,\n",
       " 0,\n",
       " 0,\n",
       " 0,\n",
       " 0,\n",
       " 0,\n",
       " 0,\n",
       " 0,\n",
       " 0,\n",
       " 0,\n",
       " 0,\n",
       " 0,\n",
       " 0,\n",
       " 0,\n",
       " 0,\n",
       " 0,\n",
       " 0,\n",
       " 0,\n",
       " 0,\n",
       " 0,\n",
       " 0,\n",
       " 0,\n",
       " 0,\n",
       " 0,\n",
       " 0,\n",
       " 0,\n",
       " 0,\n",
       " 0,\n",
       " 0,\n",
       " 0,\n",
       " 0,\n",
       " 0,\n",
       " 0,\n",
       " 0,\n",
       " 0,\n",
       " 0,\n",
       " 0,\n",
       " 0,\n",
       " 0,\n",
       " 0,\n",
       " 0,\n",
       " 0,\n",
       " 0,\n",
       " 0,\n",
       " 0,\n",
       " 0,\n",
       " 0,\n",
       " 0,\n",
       " 0,\n",
       " 0,\n",
       " 0,\n",
       " 0,\n",
       " 0,\n",
       " 0,\n",
       " 0,\n",
       " 0,\n",
       " 0,\n",
       " 0,\n",
       " 0,\n",
       " 0,\n",
       " 0,\n",
       " 0,\n",
       " 0,\n",
       " 0,\n",
       " 0,\n",
       " 0,\n",
       " 0,\n",
       " 0,\n",
       " 0,\n",
       " 0,\n",
       " 0,\n",
       " 0,\n",
       " 0,\n",
       " 0,\n",
       " 0,\n",
       " 0,\n",
       " 0,\n",
       " 0,\n",
       " 0,\n",
       " 0,\n",
       " 0,\n",
       " 0,\n",
       " 0,\n",
       " 0,\n",
       " 0,\n",
       " 0,\n",
       " 0,\n",
       " 0,\n",
       " 0,\n",
       " 0,\n",
       " 0,\n",
       " 0,\n",
       " 0,\n",
       " 0,\n",
       " 0,\n",
       " 0,\n",
       " 0,\n",
       " 0,\n",
       " 0,\n",
       " 0,\n",
       " 0,\n",
       " 0,\n",
       " 0,\n",
       " 0,\n",
       " 0,\n",
       " 0,\n",
       " 0,\n",
       " 0,\n",
       " 0,\n",
       " 0,\n",
       " 0,\n",
       " 0,\n",
       " 0,\n",
       " 0,\n",
       " 0,\n",
       " 0,\n",
       " 0,\n",
       " 0,\n",
       " 0,\n",
       " 0,\n",
       " 0,\n",
       " 0,\n",
       " 0,\n",
       " 0,\n",
       " 0,\n",
       " 0,\n",
       " 0,\n",
       " 0,\n",
       " 0,\n",
       " 0,\n",
       " 0,\n",
       " 0,\n",
       " 0,\n",
       " 0,\n",
       " 0,\n",
       " 0,\n",
       " 0,\n",
       " 0,\n",
       " 0,\n",
       " 0,\n",
       " 0,\n",
       " 0,\n",
       " 0,\n",
       " 0,\n",
       " 0,\n",
       " 0,\n",
       " 0,\n",
       " 0,\n",
       " 0,\n",
       " 0,\n",
       " 0,\n",
       " 0,\n",
       " 0,\n",
       " 0,\n",
       " 0,\n",
       " 0,\n",
       " 0,\n",
       " 0,\n",
       " 0,\n",
       " 0,\n",
       " 0,\n",
       " 0,\n",
       " 0,\n",
       " 0,\n",
       " 0,\n",
       " 0,\n",
       " 0,\n",
       " 0,\n",
       " 0,\n",
       " 0]"
      ]
     },
     "execution_count": 79,
     "metadata": {},
     "output_type": "execute_result"
    }
   ],
   "source": [
    "dt"
   ]
  },
  {
   "cell_type": "code",
   "execution_count": 87,
   "id": "5e165ecd",
   "metadata": {},
   "outputs": [
    {
     "data": {
      "text/html": [
       "<div>\n",
       "<style scoped>\n",
       "    .dataframe tbody tr th:only-of-type {\n",
       "        vertical-align: middle;\n",
       "    }\n",
       "\n",
       "    .dataframe tbody tr th {\n",
       "        vertical-align: top;\n",
       "    }\n",
       "\n",
       "    .dataframe thead th {\n",
       "        text-align: right;\n",
       "    }\n",
       "</style>\n",
       "<table border=\"1\" class=\"dataframe\">\n",
       "  <thead>\n",
       "    <tr style=\"text-align: right;\">\n",
       "      <th></th>\n",
       "      <th>timestamp</th>\n",
       "      <th>data</th>\n",
       "      <th>title</th>\n",
       "      <th>attachments</th>\n",
       "      <th>tags</th>\n",
       "      <th>datetimes</th>\n",
       "    </tr>\n",
       "  </thead>\n",
       "  <tbody>\n",
       "    <tr>\n",
       "      <th>0</th>\n",
       "      <td>1211508036</td>\n",
       "      <td>[{'post': 'is el presidente follow me'}]</td>\n",
       "      <td>David Silva updated his status.</td>\n",
       "      <td>NaN</td>\n",
       "      <td>NaN</td>\n",
       "      <td>2008-05-23 02:00:36</td>\n",
       "    </tr>\n",
       "    <tr>\n",
       "      <th>1</th>\n",
       "      <td>1212037617</td>\n",
       "      <td>[{'post': 'is your leader... do as he says'}]</td>\n",
       "      <td>David Silva updated his status.</td>\n",
       "      <td>NaN</td>\n",
       "      <td>NaN</td>\n",
       "      <td>2008-05-29 05:06:57</td>\n",
       "    </tr>\n",
       "    <tr>\n",
       "      <th>2</th>\n",
       "      <td>1212127875</td>\n",
       "      <td>[{'post': 'just got back from climbing! it was...</td>\n",
       "      <td>David Silva updated his status.</td>\n",
       "      <td>NaN</td>\n",
       "      <td>NaN</td>\n",
       "      <td>2008-05-30 06:11:15</td>\n",
       "    </tr>\n",
       "    <tr>\n",
       "      <th>3</th>\n",
       "      <td>1212206744</td>\n",
       "      <td>[{'post': 'has to work tomorow :('}]</td>\n",
       "      <td>David Silva updated his status.</td>\n",
       "      <td>NaN</td>\n",
       "      <td>NaN</td>\n",
       "      <td>2008-05-31 04:05:44</td>\n",
       "    </tr>\n",
       "    <tr>\n",
       "      <th>4</th>\n",
       "      <td>1213050248</td>\n",
       "      <td>[{'post': 'is going to MEXICO in 3 days!'}]</td>\n",
       "      <td>David Silva updated his status.</td>\n",
       "      <td>NaN</td>\n",
       "      <td>NaN</td>\n",
       "      <td>2008-06-09 22:24:08</td>\n",
       "    </tr>\n",
       "  </tbody>\n",
       "</table>\n",
       "</div>"
      ],
      "text/plain": [
       "    timestamp                                               data  \\\n",
       "0  1211508036           [{'post': 'is el presidente follow me'}]   \n",
       "1  1212037617      [{'post': 'is your leader... do as he says'}]   \n",
       "2  1212127875  [{'post': 'just got back from climbing! it was...   \n",
       "3  1212206744               [{'post': 'has to work tomorow :('}]   \n",
       "4  1213050248        [{'post': 'is going to MEXICO in 3 days!'}]   \n",
       "\n",
       "                             title attachments tags           datetimes  \n",
       "0  David Silva updated his status.         NaN  NaN 2008-05-23 02:00:36  \n",
       "1  David Silva updated his status.         NaN  NaN 2008-05-29 05:06:57  \n",
       "2  David Silva updated his status.         NaN  NaN 2008-05-30 06:11:15  \n",
       "3  David Silva updated his status.         NaN  NaN 2008-05-31 04:05:44  \n",
       "4  David Silva updated his status.         NaN  NaN 2008-06-09 22:24:08  "
      ]
     },
     "execution_count": 87,
     "metadata": {},
     "output_type": "execute_result"
    }
   ],
   "source": [
    "posts_df.head()"
   ]
  },
  {
   "cell_type": "code",
   "execution_count": 89,
   "id": "abcdfe96",
   "metadata": {},
   "outputs": [],
   "source": [
    "posts_df = posts_df.sort_values('datetimes', ascending = True)"
   ]
  },
  {
   "cell_type": "code",
   "execution_count": 91,
   "id": "dcbe28b8",
   "metadata": {},
   "outputs": [],
   "source": [
    "posts_df['deltas_since_first_post'] = [x - posts_df['datetimes'].iloc[0] for x in posts_df['datetimes']]"
   ]
  },
  {
   "cell_type": "code",
   "execution_count": 92,
   "id": "8857247a",
   "metadata": {},
   "outputs": [],
   "source": [
    "posts_df['days_since_first_post'] = [x.days for x in posts_df['deltas_since_first_post']]"
   ]
  },
  {
   "cell_type": "code",
   "execution_count": 93,
   "id": "7c0e98b1",
   "metadata": {},
   "outputs": [
    {
     "data": {
      "text/html": [
       "<div>\n",
       "<style scoped>\n",
       "    .dataframe tbody tr th:only-of-type {\n",
       "        vertical-align: middle;\n",
       "    }\n",
       "\n",
       "    .dataframe tbody tr th {\n",
       "        vertical-align: top;\n",
       "    }\n",
       "\n",
       "    .dataframe thead th {\n",
       "        text-align: right;\n",
       "    }\n",
       "</style>\n",
       "<table border=\"1\" class=\"dataframe\">\n",
       "  <thead>\n",
       "    <tr style=\"text-align: right;\">\n",
       "      <th></th>\n",
       "      <th>timestamp</th>\n",
       "      <th>data</th>\n",
       "      <th>title</th>\n",
       "      <th>attachments</th>\n",
       "      <th>tags</th>\n",
       "      <th>datetimes</th>\n",
       "      <th>timedeltas</th>\n",
       "      <th>deltas_since_first_post</th>\n",
       "      <th>days_since_first_post</th>\n",
       "    </tr>\n",
       "  </thead>\n",
       "  <tbody>\n",
       "    <tr>\n",
       "      <th>0</th>\n",
       "      <td>1211508036</td>\n",
       "      <td>[{'post': 'is el presidente follow me'}]</td>\n",
       "      <td>David Silva updated his status.</td>\n",
       "      <td>NaN</td>\n",
       "      <td>NaN</td>\n",
       "      <td>2008-05-23 02:00:36</td>\n",
       "      <td>0 days 00:00:00</td>\n",
       "      <td>0 days 00:00:00</td>\n",
       "      <td>0</td>\n",
       "    </tr>\n",
       "    <tr>\n",
       "      <th>1</th>\n",
       "      <td>1212037617</td>\n",
       "      <td>[{'post': 'is your leader... do as he says'}]</td>\n",
       "      <td>David Silva updated his status.</td>\n",
       "      <td>NaN</td>\n",
       "      <td>NaN</td>\n",
       "      <td>2008-05-29 05:06:57</td>\n",
       "      <td>6 days 03:06:21</td>\n",
       "      <td>6 days 03:06:21</td>\n",
       "      <td>6</td>\n",
       "    </tr>\n",
       "    <tr>\n",
       "      <th>2</th>\n",
       "      <td>1212127875</td>\n",
       "      <td>[{'post': 'just got back from climbing! it was...</td>\n",
       "      <td>David Silva updated his status.</td>\n",
       "      <td>NaN</td>\n",
       "      <td>NaN</td>\n",
       "      <td>2008-05-30 06:11:15</td>\n",
       "      <td>7 days 04:10:39</td>\n",
       "      <td>7 days 04:10:39</td>\n",
       "      <td>7</td>\n",
       "    </tr>\n",
       "    <tr>\n",
       "      <th>3</th>\n",
       "      <td>1212206744</td>\n",
       "      <td>[{'post': 'has to work tomorow :('}]</td>\n",
       "      <td>David Silva updated his status.</td>\n",
       "      <td>NaN</td>\n",
       "      <td>NaN</td>\n",
       "      <td>2008-05-31 04:05:44</td>\n",
       "      <td>8 days 02:05:08</td>\n",
       "      <td>8 days 02:05:08</td>\n",
       "      <td>8</td>\n",
       "    </tr>\n",
       "    <tr>\n",
       "      <th>4</th>\n",
       "      <td>1213050248</td>\n",
       "      <td>[{'post': 'is going to MEXICO in 3 days!'}]</td>\n",
       "      <td>David Silva updated his status.</td>\n",
       "      <td>NaN</td>\n",
       "      <td>NaN</td>\n",
       "      <td>2008-06-09 22:24:08</td>\n",
       "      <td>17 days 20:23:32</td>\n",
       "      <td>17 days 20:23:32</td>\n",
       "      <td>17</td>\n",
       "    </tr>\n",
       "  </tbody>\n",
       "</table>\n",
       "</div>"
      ],
      "text/plain": [
       "    timestamp                                               data  \\\n",
       "0  1211508036           [{'post': 'is el presidente follow me'}]   \n",
       "1  1212037617      [{'post': 'is your leader... do as he says'}]   \n",
       "2  1212127875  [{'post': 'just got back from climbing! it was...   \n",
       "3  1212206744               [{'post': 'has to work tomorow :('}]   \n",
       "4  1213050248        [{'post': 'is going to MEXICO in 3 days!'}]   \n",
       "\n",
       "                             title attachments tags           datetimes  \\\n",
       "0  David Silva updated his status.         NaN  NaN 2008-05-23 02:00:36   \n",
       "1  David Silva updated his status.         NaN  NaN 2008-05-29 05:06:57   \n",
       "2  David Silva updated his status.         NaN  NaN 2008-05-30 06:11:15   \n",
       "3  David Silva updated his status.         NaN  NaN 2008-05-31 04:05:44   \n",
       "4  David Silva updated his status.         NaN  NaN 2008-06-09 22:24:08   \n",
       "\n",
       "        timedeltas deltas_since_first_post  days_since_first_post  \n",
       "0  0 days 00:00:00         0 days 00:00:00                      0  \n",
       "1  6 days 03:06:21         6 days 03:06:21                      6  \n",
       "2  7 days 04:10:39         7 days 04:10:39                      7  \n",
       "3  8 days 02:05:08         8 days 02:05:08                      8  \n",
       "4 17 days 20:23:32        17 days 20:23:32                     17  "
      ]
     },
     "execution_count": 93,
     "metadata": {},
     "output_type": "execute_result"
    }
   ],
   "source": [
    "posts_df.head()"
   ]
  },
  {
   "cell_type": "code",
   "execution_count": 101,
   "id": "6811e3a3",
   "metadata": {},
   "outputs": [],
   "source": [
    "ig_posts_list = ig_posts_df['creation_timestamp']"
   ]
  },
  {
   "cell_type": "code",
   "execution_count": 108,
   "id": "14eb5fcd",
   "metadata": {},
   "outputs": [],
   "source": [
    "ig_posts_list[61] = 'NaN'"
   ]
  },
  {
   "cell_type": "code",
   "execution_count": 109,
   "id": "c7ed73e5",
   "metadata": {},
   "outputs": [
    {
     "data": {
      "text/plain": [
       " 0     1541137894\n",
       " 1     1530495575\n",
       " 2     1527488513\n",
       " 3     1507475551\n",
       " 4     1497638886\n",
       "          ...    \n",
       " 58    1439401096\n",
       " 59    1439047843\n",
       " 60    1439002287\n",
       "-1            NaN\n",
       " 61           NaN\n",
       "Name: creation_timestamp, Length: 63, dtype: object"
      ]
     },
     "execution_count": 109,
     "metadata": {},
     "output_type": "execute_result"
    }
   ],
   "source": [
    "ig_posts_list[:]"
   ]
  },
  {
   "cell_type": "code",
   "execution_count": 111,
   "id": "6fc0be4a",
   "metadata": {},
   "outputs": [],
   "source": [
    "test = [datetime.utcfromtimestamp(x) if type(x) == int else 0 for x in ig_posts_list]"
   ]
  },
  {
   "cell_type": "code",
   "execution_count": 112,
   "id": "407a20cc",
   "metadata": {},
   "outputs": [
    {
     "data": {
      "text/plain": [
       "[datetime.datetime(2018, 11, 2, 5, 51, 34),\n",
       " datetime.datetime(2018, 7, 2, 1, 39, 35),\n",
       " datetime.datetime(2018, 5, 28, 6, 21, 53),\n",
       " datetime.datetime(2017, 10, 8, 15, 12, 31),\n",
       " datetime.datetime(2017, 6, 16, 18, 48, 6),\n",
       " datetime.datetime(2017, 5, 19, 4, 31, 4),\n",
       " datetime.datetime(2017, 4, 8, 23, 19, 39),\n",
       " datetime.datetime(2016, 12, 24, 19, 51, 7),\n",
       " datetime.datetime(2016, 9, 24, 20, 20, 58),\n",
       " datetime.datetime(2016, 9, 17, 1, 27, 18),\n",
       " datetime.datetime(2016, 9, 8, 8, 9, 2),\n",
       " datetime.datetime(2016, 8, 7, 11, 7, 49),\n",
       " datetime.datetime(2016, 7, 20, 2, 28, 59),\n",
       " datetime.datetime(2016, 7, 18, 2, 14, 10),\n",
       " datetime.datetime(2016, 6, 5, 5, 27, 12),\n",
       " datetime.datetime(2016, 6, 1, 20, 54, 15),\n",
       " datetime.datetime(2016, 5, 8, 3, 11, 2),\n",
       " datetime.datetime(2016, 4, 20, 23, 59, 49),\n",
       " datetime.datetime(2016, 4, 18, 1, 15, 19),\n",
       " datetime.datetime(2016, 4, 17, 17, 58, 35),\n",
       " datetime.datetime(2016, 3, 14, 5, 28, 49),\n",
       " datetime.datetime(2016, 3, 13, 5, 9, 44),\n",
       " datetime.datetime(2016, 3, 13, 5, 8, 39),\n",
       " datetime.datetime(2015, 12, 27, 6, 11, 59),\n",
       " datetime.datetime(2015, 9, 24, 16, 4, 17),\n",
       " datetime.datetime(2014, 3, 13, 17, 46, 58),\n",
       " datetime.datetime(2013, 12, 31, 19, 21),\n",
       " datetime.datetime(2013, 12, 27, 7, 18, 53),\n",
       " datetime.datetime(2013, 12, 21, 23, 17, 50),\n",
       " datetime.datetime(2013, 12, 9, 7, 27, 18),\n",
       " datetime.datetime(2013, 10, 19, 21, 5, 19),\n",
       " datetime.datetime(2013, 10, 5, 3, 46, 43),\n",
       " datetime.datetime(2013, 9, 26, 20, 21, 16),\n",
       " datetime.datetime(2013, 8, 28, 15, 37, 23),\n",
       " datetime.datetime(2013, 8, 23, 14, 18, 40),\n",
       " datetime.datetime(2013, 8, 19, 16, 30, 28),\n",
       " datetime.datetime(2013, 8, 19, 4, 3, 12),\n",
       " datetime.datetime(2013, 8, 14, 23, 39, 6),\n",
       " datetime.datetime(2013, 8, 12, 20, 59, 37),\n",
       " datetime.datetime(2013, 8, 11, 22, 35, 17),\n",
       " datetime.datetime(2013, 8, 11, 0, 16, 25),\n",
       " datetime.datetime(2013, 8, 10, 23, 31, 1),\n",
       " datetime.datetime(2013, 6, 24, 23, 57, 11),\n",
       " datetime.datetime(2013, 6, 18, 23, 43),\n",
       " datetime.datetime(2013, 4, 15, 1, 29, 17),\n",
       " datetime.datetime(2013, 4, 14, 15, 7, 43),\n",
       " datetime.datetime(2013, 4, 6, 12, 49, 54),\n",
       " datetime.datetime(2013, 3, 8, 23, 20, 9),\n",
       " datetime.datetime(2013, 3, 3, 4, 59, 46),\n",
       " datetime.datetime(2013, 2, 16, 21, 56, 43),\n",
       " datetime.datetime(2013, 2, 15, 7, 46, 29),\n",
       " datetime.datetime(2013, 2, 9, 18, 53, 53),\n",
       " datetime.datetime(2013, 2, 8, 5, 25, 48),\n",
       " datetime.datetime(2013, 2, 5, 2, 36, 6),\n",
       " datetime.datetime(2013, 2, 4, 17, 50, 30),\n",
       " datetime.datetime(2015, 8, 29, 20, 45, 9),\n",
       " datetime.datetime(2015, 8, 29, 20, 40, 35),\n",
       " datetime.datetime(2015, 8, 12, 18, 27, 25),\n",
       " datetime.datetime(2015, 8, 12, 17, 38, 16),\n",
       " datetime.datetime(2015, 8, 8, 15, 30, 43),\n",
       " datetime.datetime(2015, 8, 8, 2, 51, 27),\n",
       " 0,\n",
       " 0]"
      ]
     },
     "execution_count": 112,
     "metadata": {},
     "output_type": "execute_result"
    }
   ],
   "source": [
    "test"
   ]
  }
 ],
 "metadata": {
  "kernelspec": {
   "display_name": "Python 3 (ipykernel)",
   "language": "python",
   "name": "python3"
  },
  "language_info": {
   "codemirror_mode": {
    "name": "ipython",
    "version": 3
   },
   "file_extension": ".py",
   "mimetype": "text/x-python",
   "name": "python",
   "nbconvert_exporter": "python",
   "pygments_lexer": "ipython3",
   "version": "3.7.9"
  }
 },
 "nbformat": 4,
 "nbformat_minor": 5
}
