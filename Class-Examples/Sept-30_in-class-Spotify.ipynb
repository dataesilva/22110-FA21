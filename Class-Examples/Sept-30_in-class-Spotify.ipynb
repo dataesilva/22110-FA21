{
 "cells": [
  {
   "cell_type": "code",
   "execution_count": 1,
   "id": "4674960e",
   "metadata": {},
   "outputs": [],
   "source": [
    "import base64\n",
    "import six\n",
    "import requests\n",
    "import pandas as pd"
   ]
  },
  {
   "cell_type": "code",
   "execution_count": 2,
   "id": "a8c1fbc1",
   "metadata": {},
   "outputs": [
    {
     "name": "stdout",
     "output_type": "stream",
     "text": [
      " Volume in drive C is Windows\n",
      " Volume Serial Number is 88B8-561F\n",
      "\n",
      " Directory of C:\\Users\\dsilva2\\EMAT22110_FA21\n",
      "\n",
      "09/30/2021  04:11 PM    <DIR>          .\n",
      "09/30/2021  04:11 PM    <DIR>          ..\n",
      "09/30/2021  03:49 PM    <DIR>          .ipynb_checkpoints\n",
      "09/02/2021  04:32 PM             5,319 Aug31_inclass-practice.ipynb\n",
      "09/14/2021  04:27 PM            20,354 chess_buds_messages.csv\n",
      "09/21/2021  04:30 PM           313,653 DataFrame-Methods-and-visuals.ipynb\n",
      "09/07/2021  11:16 AM           102,772 Explore_IG-data.ipynb\n",
      "09/07/2021  02:25 PM    <DIR>          facebook-davidsilva100046_full\n",
      "09/07/2021  02:10 PM     1,857,380,869 facebook-davidsilva100046_full.zip\n",
      "09/07/2021  02:26 PM    <DIR>          facebook-davidsilva100046_year\n",
      "09/07/2021  02:09 PM       475,994,340 facebook-davidsilva100046_year.zip\n",
      "09/07/2021  02:36 PM            28,441 likes_Report-dev.ipynb\n",
      "09/23/2021  04:25 PM                90 MONTEROApp_Keys-9-23-21.txt\n",
      "09/14/2021  05:05 PM           111,315 Sept-14_in-class.ipynb\n",
      "09/28/2021  01:10 PM            68,100 Sept-21_in-class.ipynb\n",
      "09/28/2021  01:55 PM             6,846 Sept-23_in-class_Spotify-API-Demo.ipynb\n",
      "09/28/2021  05:06 PM           145,947 Sept-28_in-class.ipynb\n",
      "09/30/2021  04:11 PM           141,442 Sept-30_in-class-Spotify.ipynb\n",
      "09/07/2021  05:05 PM           103,565 Sept-7_in-class.ipynb\n",
      "09/09/2021  05:28 PM           111,077 Sept-9_in-class.ipynb\n",
      "09/23/2021  01:31 PM                90 Spotify-Keys_9-23-21.txt\n",
      "09/28/2021  01:55 PM           145,508 Spotify-pt1.ipynb\n",
      "09/07/2021  10:51 AM    <DIR>          technogecko_20210830\n",
      "08/30/2021  10:27 AM        29,463,597 technogecko_20210830.zip\n",
      "              18 File(s)  2,364,143,325 bytes\n",
      "               6 Dir(s)  284,632,363,008 bytes free\n"
     ]
    }
   ],
   "source": [
    "ls"
   ]
  },
  {
   "cell_type": "code",
   "execution_count": 3,
   "id": "a13f07a9",
   "metadata": {},
   "outputs": [],
   "source": [
    "tokens = pd.read_csv('MONTEROApp_Keys-9-23-21.txt', sep = \"\\t\", header = None).T\n",
    "tokens.columns = tokens.iloc[0]"
   ]
  },
  {
   "cell_type": "code",
   "execution_count": 4,
   "id": "71d161c7",
   "metadata": {},
   "outputs": [],
   "source": [
    "tokens = tokens[1:]"
   ]
  },
  {
   "cell_type": "code",
   "execution_count": 5,
   "id": "a385651a",
   "metadata": {},
   "outputs": [
    {
     "data": {
      "text/html": [
       "<div>\n",
       "<style scoped>\n",
       "    .dataframe tbody tr th:only-of-type {\n",
       "        vertical-align: middle;\n",
       "    }\n",
       "\n",
       "    .dataframe tbody tr th {\n",
       "        vertical-align: top;\n",
       "    }\n",
       "\n",
       "    .dataframe thead th {\n",
       "        text-align: right;\n",
       "    }\n",
       "</style>\n",
       "<table border=\"1\" class=\"dataframe\">\n",
       "  <thead>\n",
       "    <tr style=\"text-align: right;\">\n",
       "      <th></th>\n",
       "      <th>Client_ID</th>\n",
       "      <th>Client_Secret</th>\n",
       "    </tr>\n",
       "  </thead>\n",
       "  <tbody>\n",
       "    <tr>\n",
       "      <th>1</th>\n",
       "      <td>33d8de...bf2f4</td>\n",
       "      <td>8a60...b10c</td>\n",
       "    </tr>\n",
       "  </tbody>\n",
       "</table>\n",
       "</div>"
      ],
      "text/plain": [
       "0                         Client_ID                     Client_Secret\n",
       "1  33d8dee...bf2f4  8a60b3497...2e2dfb10c"
      ]
     },
     "execution_count": 5,
     "metadata": {},
     "output_type": "execute_result"
    }
   ],
   "source": [
    "tokens"
   ]
  },
  {
   "cell_type": "code",
   "execution_count": 6,
   "id": "ee8b130c",
   "metadata": {},
   "outputs": [
    {
     "data": {
      "text/plain": [
       "'33d8de...41d6bf2f4'"
      ]
     },
     "execution_count": 6,
     "metadata": {},
     "output_type": "execute_result"
    }
   ],
   "source": [
    "tokens['Client_ID'].iloc[0]"
   ]
  },
  {
   "cell_type": "code",
   "execution_count": 7,
   "id": "0ad4945d",
   "metadata": {},
   "outputs": [
    {
     "data": {
      "text/plain": [
       "'8a60b34...e2dfb10c'"
      ]
     },
     "execution_count": 7,
     "metadata": {},
     "output_type": "execute_result"
    }
   ],
   "source": [
    "tokens['Client_Secret'].iloc[0]"
   ]
  },
  {
   "cell_type": "code",
   "execution_count": 8,
   "id": "dc620f85",
   "metadata": {},
   "outputs": [],
   "source": [
    "def start_session_headers(client_id, client_secret):\n",
    "    client_cred = base64.b64encode(str(client_id + \":\" + client_secret).encode('ascii'))\n",
    "    header = {'Authorization': 'Basic %s' % (client_cred.decode('ascii'))}\n",
    "    return header"
   ]
  },
  {
   "cell_type": "code",
   "execution_count": 9,
   "id": "4c69a667",
   "metadata": {},
   "outputs": [],
   "source": [
    "def connect_to_client_cred(url, header):\n",
    "    payload = {'grant_type' : 'client_credentials'}\n",
    "    response = requests.request(\"POST\", url, headers = header, data = payload)\n",
    "    print(response.status_code)\n",
    "    if response.status_code != 200:\n",
    "        raise Exception(response.status_code, response.text)\n",
    "    return response.json()"
   ]
  },
  {
   "cell_type": "code",
   "execution_count": 10,
   "id": "04f0f540",
   "metadata": {},
   "outputs": [],
   "source": [
    "def get_access_token(client_id, client_secret):\n",
    "    url = \"https://accounts.spotify.com/api/token\"\n",
    "    header = start_session_headers(client_id, client_secret)\n",
    "    json_response = connect_to_client_cred(url, header)\n",
    "    return json_response"
   ]
  },
  {
   "cell_type": "code",
   "execution_count": 11,
   "id": "799ed804",
   "metadata": {},
   "outputs": [
    {
     "name": "stdout",
     "output_type": "stream",
     "text": [
      "200\n"
     ]
    }
   ],
   "source": [
    "session_start_data = get_access_token(tokens['Client_ID'].iloc[0], tokens['Client_Secret'].iloc[0])"
   ]
  },
  {
   "cell_type": "markdown",
   "id": "ab413e71",
   "metadata": {},
   "source": [
    "#### Now that we have all the pieces, we can make sensible functions that stitch together the pieces for us\n",
    "For each API call we need a `header` and an `endpoint`. We are going to use three functions to accomplish this. One will be to create a header, one will be to connect to any arbitrary endpoint, and one will be specify the endpoint. "
   ]
  },
  {
   "cell_type": "code",
   "execution_count": 12,
   "id": "4a884b0f",
   "metadata": {},
   "outputs": [],
   "source": [
    "def create_header(session_token):\n",
    "    header = {\"Authorization\" : \"Bearer {}\".format(session_token)}\n",
    "    return header"
   ]
  },
  {
   "cell_type": "code",
   "execution_count": 13,
   "id": "78c0bf21",
   "metadata": {},
   "outputs": [],
   "source": [
    "def connect_to_endpoint(url, header):\n",
    "    response = requests.request(\"GET\", url, headers = header)\n",
    "    print(response.status_code)\n",
    "    if response.status_code != 200:\n",
    "        raise Exception(response.status_code, response.text)\n",
    "    return response.json()"
   ]
  },
  {
   "cell_type": "code",
   "execution_count": 14,
   "id": "a1710254",
   "metadata": {},
   "outputs": [],
   "source": [
    "def album_features(album_id):\n",
    "    url = 'https://api.spotify.com/v1/albums/{}'.format(album_id)\n",
    "    header = create_header(session_start_data['access_token'])\n",
    "    json_response = connect_to_endpoint(url, header)\n",
    "    return json_response"
   ]
  },
  {
   "cell_type": "code",
   "execution_count": 15,
   "id": "84c6b268",
   "metadata": {},
   "outputs": [
    {
     "name": "stdout",
     "output_type": "stream",
     "text": [
      "200\n"
     ]
    }
   ],
   "source": [
    "montero_data_function = album_features('6pOiDiuDQqrmo5DbG0ZubR')"
   ]
  },
  {
   "cell_type": "code",
   "execution_count": 16,
   "id": "4b0aa58b",
   "metadata": {},
   "outputs": [
    {
     "data": {
      "text/plain": [
       "dict_keys(['album_type', 'artists', 'available_markets', 'copyrights', 'external_ids', 'external_urls', 'genres', 'href', 'id', 'images', 'label', 'name', 'popularity', 'release_date', 'release_date_precision', 'total_tracks', 'tracks', 'type', 'uri'])"
      ]
     },
     "execution_count": 16,
     "metadata": {},
     "output_type": "execute_result"
    }
   ],
   "source": [
    "montero_data_function.keys()"
   ]
  },
  {
   "cell_type": "code",
   "execution_count": 17,
   "id": "7d9c3ce1",
   "metadata": {},
   "outputs": [],
   "source": [
    "def track_features(track_id):\n",
    "    url = 'https://api.spotify.com/v1/tracks/{}'.format(track_id)\n",
    "    header = create_header(session_start_data['access_token'])\n",
    "    json_response = connect_to_endpoint(url, header)\n",
    "    return json_response"
   ]
  },
  {
   "cell_type": "code",
   "execution_count": 18,
   "id": "7f5e2a5a",
   "metadata": {},
   "outputs": [
    {
     "name": "stdout",
     "output_type": "stream",
     "text": [
      "200\n"
     ]
    }
   ],
   "source": [
    "insurace_data = track_features('24vHN1HCkhlQ0t29PTmagg')"
   ]
  },
  {
   "cell_type": "code",
   "execution_count": 19,
   "id": "7abed8d9",
   "metadata": {},
   "outputs": [
    {
     "data": {
      "text/plain": [
       "{'album': {'album_type': 'single',\n",
       "  'artists': [{'external_urls': {'spotify': 'https://open.spotify.com/artist/2Zgc1KUqd7A9wmQ7mQHuwY'},\n",
       "    'href': 'https://api.spotify.com/v1/artists/2Zgc1KUqd7A9wmQ7mQHuwY',\n",
       "    'id': '2Zgc1KUqd7A9wmQ7mQHuwY',\n",
       "    'name': 'Ryan Woods',\n",
       "    'type': 'artist',\n",
       "   ...
       " 'disc_number': 1,\n",
       " 'duration_ms': 203526,\n",
       " 'explicit': False,\n",
       " 'external_ids': {'isrc': 'US39N2001213'},\n",
       " 'external_urls': {'spotify': 'https://open.spotify.com/track/24vHN1HCkhlQ0t29PTmagg'},\n",
       " 'href': 'https://api.spotify.com/v1/tracks/24vHN1HCkhlQ0t29PTmagg',\n",
       " 'id': '24vHN1HCkhlQ0t29PTmagg',\n",
       " 'is_local': False,\n",
       " 'name': 'There’s No Insurance For a Broken Heart',\n",
       " 'popularity': 35,\n",
       " 'preview_url': 'https://p.scdn.co/mp3-preview/8d3355f122d70c39177efedbd9e35fb9053b122d?cid=33d8deeef1ab45eab51ced741d6bf2f4',\n",
       " 'track_number': 1,\n",
       " 'type': 'track',\n",
       " 'uri': 'spotify:track:24vHN1HCkhlQ0t29PTmagg'}"
      ]
     },
     "execution_count": 19,
     "metadata": {},
     "output_type": "execute_result"
    }
   ],
   "source": [
    "insurace_data"
   ]
  }
 ],
 "metadata": {
  "kernelspec": {
   "display_name": "Python 3 (ipykernel)",
   "language": "python",
   "name": "python3"
  },
  "language_info": {
   "codemirror_mode": {
    "name": "ipython",
    "version": 3
   },
   "file_extension": ".py",
   "mimetype": "text/x-python",
   "name": "python",
   "nbconvert_exporter": "python",
   "pygments_lexer": "ipython3",
   "version": "3.9.6"
  }
 },
 "nbformat": 4,
 "nbformat_minor": 5
}
