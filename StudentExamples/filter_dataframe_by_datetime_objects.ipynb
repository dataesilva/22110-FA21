{
 "cells": [
  {
   "cell_type": "code",
   "execution_count": 1,
   "id": "0cfb5ab7",
   "metadata": {},
   "outputs": [],
   "source": [
    "from datetime import datetime as dt"
   ]
  },
  {
   "cell_type": "code",
   "execution_count": 2,
   "id": "d98b5f7e",
   "metadata": {},
   "outputs": [],
   "source": [
    "a_time = '2021-12-08 12:30:56.00'"
   ]
  },
  {
   "cell_type": "code",
   "execution_count": 3,
   "id": "34184ca6",
   "metadata": {},
   "outputs": [
    {
     "data": {
      "text/plain": [
       "datetime.datetime(2021, 12, 8, 12, 30, 56)"
      ]
     },
     "execution_count": 3,
     "metadata": {},
     "output_type": "execute_result"
    }
   ],
   "source": [
    "dt.strptime(a_time, '%Y-%m-%d %H:%M:%S.%f')"
   ]
  },
  {
   "cell_type": "code",
   "execution_count": 4,
   "id": "a15bff36",
   "metadata": {},
   "outputs": [],
   "source": [
    "a_diff_time = '2021-12-07 12:30:56'"
   ]
  },
  {
   "cell_type": "code",
   "execution_count": 5,
   "id": "0c1720ff",
   "metadata": {},
   "outputs": [
    {
     "data": {
      "text/plain": [
       "datetime.datetime(2021, 12, 7, 12, 30, 56)"
      ]
     },
     "execution_count": 5,
     "metadata": {},
     "output_type": "execute_result"
    }
   ],
   "source": [
    "dt.strptime(a_diff_time, '%Y-%m-%d %H:%M:%S')"
   ]
  },
  {
   "cell_type": "code",
   "execution_count": 6,
   "id": "8b5f562f",
   "metadata": {},
   "outputs": [],
   "source": [
    "today = dt.strptime(a_time, '%Y-%m-%d %H:%M:%S.%f')\n",
    "yesterday = dt.strptime(a_diff_time, '%Y-%m-%d %H:%M:%S')"
   ]
  },
  {
   "cell_type": "code",
   "execution_count": 7,
   "id": "3d16298d",
   "metadata": {},
   "outputs": [
    {
     "data": {
      "text/plain": [
       "True"
      ]
     },
     "execution_count": 7,
     "metadata": {},
     "output_type": "execute_result"
    }
   ],
   "source": [
    "today > yesterday #datetime objects as boolean expressions"
   ]
  },
  {
   "cell_type": "code",
   "execution_count": 8,
   "id": "e0ac2f25",
   "metadata": {},
   "outputs": [],
   "source": [
    "import pandas as pd"
   ]
  },
  {
   "cell_type": "code",
   "execution_count": 9,
   "id": "4dc9080f",
   "metadata": {},
   "outputs": [],
   "source": [
    "olympics_data = pd.read_csv('Olympics_Postponed_Twitter_Unique.csv', encoding  = 'utf-8')"
   ]
  },
  {
   "cell_type": "code",
   "execution_count": 10,
   "id": "568d3209",
   "metadata": {},
   "outputs": [
    {
     "data": {
      "text/plain": [
       "0    2020-03-31 23:58:48.0\n",
       "1    2020-03-31 23:57:17.0\n",
       "2    2020-03-31 23:57:00.0\n",
       "3    2020-03-31 23:56:25.0\n",
       "4    2020-03-31 23:55:31.0\n",
       "Name: Date, dtype: object"
      ]
     },
     "execution_count": 10,
     "metadata": {},
     "output_type": "execute_result"
    }
   ],
   "source": [
    "olympics_data['Date'].head()"
   ]
  },
  {
   "cell_type": "code",
   "execution_count": 11,
   "id": "1380351e",
   "metadata": {},
   "outputs": [
    {
     "data": {
      "text/plain": [
       "str"
      ]
     },
     "execution_count": 11,
     "metadata": {},
     "output_type": "execute_result"
    }
   ],
   "source": [
    "type(olympics_data['Date'][0])"
   ]
  },
  {
   "cell_type": "code",
   "execution_count": 12,
   "id": "c1b566f7",
   "metadata": {},
   "outputs": [],
   "source": [
    "olympics_data['datetimes'] = [dt.strptime(x, '%Y-%m-%d %H:%M:%S.%f') for x in olympics_data['Date']]"
   ]
  },
  {
   "cell_type": "code",
   "execution_count": 13,
   "id": "aa151ded",
   "metadata": {},
   "outputs": [
    {
     "data": {
      "text/plain": [
       "0   2020-03-31 23:58:48\n",
       "1   2020-03-31 23:57:17\n",
       "2   2020-03-31 23:57:00\n",
       "3   2020-03-31 23:56:25\n",
       "4   2020-03-31 23:55:31\n",
       "Name: datetimes, dtype: datetime64[ns]"
      ]
     },
     "execution_count": 13,
     "metadata": {},
     "output_type": "execute_result"
    }
   ],
   "source": [
    "olympics_data['datetimes'].head()"
   ]
  },
  {
   "cell_type": "code",
   "execution_count": 14,
   "id": "39fd0d6b",
   "metadata": {},
   "outputs": [
    {
     "data": {
      "text/plain": [
       "pandas._libs.tslibs.timestamps.Timestamp"
      ]
     },
     "execution_count": 14,
     "metadata": {},
     "output_type": "execute_result"
    }
   ],
   "source": [
    "type(olympics_data['datetimes'][0])"
   ]
  },
  {
   "cell_type": "code",
   "execution_count": 15,
   "id": "396e5c05",
   "metadata": {},
   "outputs": [],
   "source": [
    "tweets_before_March_25 = olympics_data[olympics_data['datetimes'] < '2020-03-24 23:59:00']"
   ]
  },
  {
   "cell_type": "code",
   "execution_count": 16,
   "id": "6053dd69",
   "metadata": {},
   "outputs": [
    {
     "name": "stdout",
     "output_type": "stream",
     "text": [
      "9023\n"
     ]
    },
    {
     "data": {
      "text/html": [
       "<div>\n",
       "<style scoped>\n",
       "    .dataframe tbody tr th:only-of-type {\n",
       "        vertical-align: middle;\n",
       "    }\n",
       "\n",
       "    .dataframe tbody tr th {\n",
       "        vertical-align: top;\n",
       "    }\n",
       "\n",
       "    .dataframe thead th {\n",
       "        text-align: right;\n",
       "    }\n",
       "</style>\n",
       "<table border=\"1\" class=\"dataframe\">\n",
       "  <thead>\n",
       "    <tr style=\"text-align: right;\">\n",
       "      <th></th>\n",
       "      <th>Date</th>\n",
       "      <th>Title</th>\n",
       "      <th>Url</th>\n",
       "      <th>Language</th>\n",
       "      <th>Author</th>\n",
       "      <th>Avatar</th>\n",
       "      <th>Category Details</th>\n",
       "      <th>Checked</th>\n",
       "      <th>City</th>\n",
       "      <th>Display URLs</th>\n",
       "      <th>...</th>\n",
       "      <th>Twitter Following</th>\n",
       "      <th>Twitter Reply Count</th>\n",
       "      <th>Twitter Reply to</th>\n",
       "      <th>Twitter Retweet of</th>\n",
       "      <th>Twitter Retweets</th>\n",
       "      <th>Twitter Tweets</th>\n",
       "      <th>Twitter Verified</th>\n",
       "      <th>Updated</th>\n",
       "      <th>Reach (new)</th>\n",
       "      <th>datetimes</th>\n",
       "    </tr>\n",
       "  </thead>\n",
       "  <tbody>\n",
       "    <tr>\n",
       "      <th>10691</th>\n",
       "      <td>2020-03-24 23:57:18.0</td>\n",
       "      <td>BREAKING: Athletes who have already qualified ...</td>\n",
       "      <td>http://twitter.com/julianlinden/statuses/12426...</td>\n",
       "      <td>en</td>\n",
       "      <td>julianlinden</td>\n",
       "      <td>https://audiences.brandwatch.com/api/audiences...</td>\n",
       "      <td>NaN</td>\n",
       "      <td>False</td>\n",
       "      <td>Sydney</td>\n",
       "      <td>NaN</td>\n",
       "      <td>...</td>\n",
       "      <td>990</td>\n",
       "      <td>4</td>\n",
       "      <td>NaN</td>\n",
       "      <td>NaN</td>\n",
       "      <td>19</td>\n",
       "      <td>985</td>\n",
       "      <td>True</td>\n",
       "      <td>2020-10-05T16:39:24.782+0000</td>\n",
       "      <td>12983</td>\n",
       "      <td>2020-03-24 23:57:18</td>\n",
       "    </tr>\n",
       "    <tr>\n",
       "      <th>10692</th>\n",
       "      <td>2020-03-24 23:56:51.0</td>\n",
       "      <td>@THEChrisKessell New CEO compensation will be ...</td>\n",
       "      <td>http://twitter.com/tapernoux1/statuses/1242601...</td>\n",
       "      <td>en</td>\n",
       "      <td>tapernoux1</td>\n",
       "      <td>https://audiences.brandwatch.com/api/audiences...</td>\n",
       "      <td>NaN</td>\n",
       "      <td>False</td>\n",
       "      <td>Minneapolis</td>\n",
       "      <td>NaN</td>\n",
       "      <td>...</td>\n",
       "      <td>369</td>\n",
       "      <td>0</td>\n",
       "      <td>http://twitter.com/THEChrisKessell/statuses/12...</td>\n",
       "      <td>NaN</td>\n",
       "      <td>0</td>\n",
       "      <td>686</td>\n",
       "      <td>False</td>\n",
       "      <td>2020-10-05T16:39:24.577+0000</td>\n",
       "      <td>0</td>\n",
       "      <td>2020-03-24 23:56:51</td>\n",
       "    </tr>\n",
       "    <tr>\n",
       "      <th>10693</th>\n",
       "      <td>2020-03-24 23:56:31.0</td>\n",
       "      <td>@Tokyo2020 We’re all broke and jobless anyways...</td>\n",
       "      <td>http://twitter.com/Apsilon/statuses/1242601217...</td>\n",
       "      <td>en</td>\n",
       "      <td>Apsilon</td>\n",
       "      <td>https://audiences.brandwatch.com/api/audiences...</td>\n",
       "      <td>NaN</td>\n",
       "      <td>False</td>\n",
       "      <td>NaN</td>\n",
       "      <td>NaN</td>\n",
       "      <td>...</td>\n",
       "      <td>128</td>\n",
       "      <td>0</td>\n",
       "      <td>http://twitter.com/Tokyo2020/statuses/12424401...</td>\n",
       "      <td>NaN</td>\n",
       "      <td>0</td>\n",
       "      <td>999</td>\n",
       "      <td>False</td>\n",
       "      <td>2020-10-05T16:39:24.743+0000</td>\n",
       "      <td>0</td>\n",
       "      <td>2020-03-24 23:56:31</td>\n",
       "    </tr>\n",
       "    <tr>\n",
       "      <th>10694</th>\n",
       "      <td>2020-03-24 23:56:17.0</td>\n",
       "      <td>@KelseyLeFevour @Tokyo2020 https://t.co/46tMXO...</td>\n",
       "      <td>http://twitter.com/Morrsport/statuses/12426011...</td>\n",
       "      <td>de</td>\n",
       "      <td>Morrsport</td>\n",
       "      <td>https://audiences.brandwatch.com/api/audiences...</td>\n",
       "      <td>NaN</td>\n",
       "      <td>False</td>\n",
       "      <td>NaN</td>\n",
       "      <td>NaN</td>\n",
       "      <td>...</td>\n",
       "      <td>687</td>\n",
       "      <td>0</td>\n",
       "      <td>http://twitter.com/KelseyLeFevour/statuses/124...</td>\n",
       "      <td>NaN</td>\n",
       "      <td>0</td>\n",
       "      <td>5897</td>\n",
       "      <td>False</td>\n",
       "      <td>2020-10-05T16:39:24.737+0000</td>\n",
       "      <td>0</td>\n",
       "      <td>2020-03-24 23:56:17</td>\n",
       "    </tr>\n",
       "    <tr>\n",
       "      <th>10695</th>\n",
       "      <td>2020-03-24 23:56:17.0</td>\n",
       "      <td>@Tokyo2020 このニュースを聞いて、とても悲しいです、しかしこれは最も良い結果でしょう</td>\n",
       "      <td>http://twitter.com/jcl050709/statuses/12426011...</td>\n",
       "      <td>ja</td>\n",
       "      <td>jcl050709</td>\n",
       "      <td>https://audiences.brandwatch.com/api/audiences...</td>\n",
       "      <td>NaN</td>\n",
       "      <td>False</td>\n",
       "      <td>NaN</td>\n",
       "      <td>NaN</td>\n",
       "      <td>...</td>\n",
       "      <td>21</td>\n",
       "      <td>0</td>\n",
       "      <td>http://twitter.com/Tokyo2020/statuses/12424475...</td>\n",
       "      <td>NaN</td>\n",
       "      <td>0</td>\n",
       "      <td>4</td>\n",
       "      <td>False</td>\n",
       "      <td>2020-10-05T16:39:24.731+0000</td>\n",
       "      <td>0</td>\n",
       "      <td>2020-03-24 23:56:17</td>\n",
       "    </tr>\n",
       "  </tbody>\n",
       "</table>\n",
       "<p>5 rows × 42 columns</p>\n",
       "</div>"
      ],
      "text/plain": [
       "                        Date  \\\n",
       "10691  2020-03-24 23:57:18.0   \n",
       "10692  2020-03-24 23:56:51.0   \n",
       "10693  2020-03-24 23:56:31.0   \n",
       "10694  2020-03-24 23:56:17.0   \n",
       "10695  2020-03-24 23:56:17.0   \n",
       "\n",
       "                                                   Title  \\\n",
       "10691  BREAKING: Athletes who have already qualified ...   \n",
       "10692  @THEChrisKessell New CEO compensation will be ...   \n",
       "10693  @Tokyo2020 We’re all broke and jobless anyways...   \n",
       "10694  @KelseyLeFevour @Tokyo2020 https://t.co/46tMXO...   \n",
       "10695    @Tokyo2020 このニュースを聞いて、とても悲しいです、しかしこれは最も良い結果でしょう   \n",
       "\n",
       "                                                     Url Language  \\\n",
       "10691  http://twitter.com/julianlinden/statuses/12426...       en   \n",
       "10692  http://twitter.com/tapernoux1/statuses/1242601...       en   \n",
       "10693  http://twitter.com/Apsilon/statuses/1242601217...       en   \n",
       "10694  http://twitter.com/Morrsport/statuses/12426011...       de   \n",
       "10695  http://twitter.com/jcl050709/statuses/12426011...       ja   \n",
       "\n",
       "             Author                                             Avatar  \\\n",
       "10691  julianlinden  https://audiences.brandwatch.com/api/audiences...   \n",
       "10692    tapernoux1  https://audiences.brandwatch.com/api/audiences...   \n",
       "10693       Apsilon  https://audiences.brandwatch.com/api/audiences...   \n",
       "10694     Morrsport  https://audiences.brandwatch.com/api/audiences...   \n",
       "10695     jcl050709  https://audiences.brandwatch.com/api/audiences...   \n",
       "\n",
       "       Category Details  Checked         City  Display URLs  ...  \\\n",
       "10691               NaN    False       Sydney           NaN  ...   \n",
       "10692               NaN    False  Minneapolis           NaN  ...   \n",
       "10693               NaN    False          NaN           NaN  ...   \n",
       "10694               NaN    False          NaN           NaN  ...   \n",
       "10695               NaN    False          NaN           NaN  ...   \n",
       "\n",
       "      Twitter Following Twitter Reply Count  \\\n",
       "10691               990                   4   \n",
       "10692               369                   0   \n",
       "10693               128                   0   \n",
       "10694               687                   0   \n",
       "10695                21                   0   \n",
       "\n",
       "                                        Twitter Reply to Twitter Retweet of  \\\n",
       "10691                                                NaN                NaN   \n",
       "10692  http://twitter.com/THEChrisKessell/statuses/12...                NaN   \n",
       "10693  http://twitter.com/Tokyo2020/statuses/12424401...                NaN   \n",
       "10694  http://twitter.com/KelseyLeFevour/statuses/124...                NaN   \n",
       "10695  http://twitter.com/Tokyo2020/statuses/12424475...                NaN   \n",
       "\n",
       "      Twitter Retweets  Twitter Tweets  Twitter Verified  \\\n",
       "10691               19             985              True   \n",
       "10692                0             686             False   \n",
       "10693                0             999             False   \n",
       "10694                0            5897             False   \n",
       "10695                0               4             False   \n",
       "\n",
       "                            Updated Reach (new)           datetimes  \n",
       "10691  2020-10-05T16:39:24.782+0000       12983 2020-03-24 23:57:18  \n",
       "10692  2020-10-05T16:39:24.577+0000           0 2020-03-24 23:56:51  \n",
       "10693  2020-10-05T16:39:24.743+0000           0 2020-03-24 23:56:31  \n",
       "10694  2020-10-05T16:39:24.737+0000           0 2020-03-24 23:56:17  \n",
       "10695  2020-10-05T16:39:24.731+0000           0 2020-03-24 23:56:17  \n",
       "\n",
       "[5 rows x 42 columns]"
      ]
     },
     "execution_count": 16,
     "metadata": {},
     "output_type": "execute_result"
    }
   ],
   "source": [
    "print(len(tweets_before_March_25.index))\n",
    "tweets_before_March_25.head()"
   ]
  },
  {
   "cell_type": "code",
   "execution_count": 17,
   "id": "c14cc0ab",
   "metadata": {},
   "outputs": [],
   "source": [
    "tweets_from_March_24 = olympics_data[(olympics_data['datetimes'] > '2020-03-24 00:00:00') & (olympics_data['datetimes'] < '2020-03-24 23:59:00')]"
   ]
  },
  {
   "cell_type": "code",
   "execution_count": 18,
   "id": "2fd084ac",
   "metadata": {},
   "outputs": [
    {
     "name": "stdout",
     "output_type": "stream",
     "text": [
      "3435\n"
     ]
    },
    {
     "data": {
      "text/html": [
       "<div>\n",
       "<style scoped>\n",
       "    .dataframe tbody tr th:only-of-type {\n",
       "        vertical-align: middle;\n",
       "    }\n",
       "\n",
       "    .dataframe tbody tr th {\n",
       "        vertical-align: top;\n",
       "    }\n",
       "\n",
       "    .dataframe thead th {\n",
       "        text-align: right;\n",
       "    }\n",
       "</style>\n",
       "<table border=\"1\" class=\"dataframe\">\n",
       "  <thead>\n",
       "    <tr style=\"text-align: right;\">\n",
       "      <th></th>\n",
       "      <th>Date</th>\n",
       "      <th>Title</th>\n",
       "      <th>Url</th>\n",
       "      <th>Language</th>\n",
       "      <th>Author</th>\n",
       "      <th>Avatar</th>\n",
       "      <th>Category Details</th>\n",
       "      <th>Checked</th>\n",
       "      <th>City</th>\n",
       "      <th>Display URLs</th>\n",
       "      <th>...</th>\n",
       "      <th>Twitter Following</th>\n",
       "      <th>Twitter Reply Count</th>\n",
       "      <th>Twitter Reply to</th>\n",
       "      <th>Twitter Retweet of</th>\n",
       "      <th>Twitter Retweets</th>\n",
       "      <th>Twitter Tweets</th>\n",
       "      <th>Twitter Verified</th>\n",
       "      <th>Updated</th>\n",
       "      <th>Reach (new)</th>\n",
       "      <th>datetimes</th>\n",
       "    </tr>\n",
       "  </thead>\n",
       "  <tbody>\n",
       "    <tr>\n",
       "      <th>10691</th>\n",
       "      <td>2020-03-24 23:57:18.0</td>\n",
       "      <td>BREAKING: Athletes who have already qualified ...</td>\n",
       "      <td>http://twitter.com/julianlinden/statuses/12426...</td>\n",
       "      <td>en</td>\n",
       "      <td>julianlinden</td>\n",
       "      <td>https://audiences.brandwatch.com/api/audiences...</td>\n",
       "      <td>NaN</td>\n",
       "      <td>False</td>\n",
       "      <td>Sydney</td>\n",
       "      <td>NaN</td>\n",
       "      <td>...</td>\n",
       "      <td>990</td>\n",
       "      <td>4</td>\n",
       "      <td>NaN</td>\n",
       "      <td>NaN</td>\n",
       "      <td>19</td>\n",
       "      <td>985</td>\n",
       "      <td>True</td>\n",
       "      <td>2020-10-05T16:39:24.782+0000</td>\n",
       "      <td>12983</td>\n",
       "      <td>2020-03-24 23:57:18</td>\n",
       "    </tr>\n",
       "    <tr>\n",
       "      <th>10692</th>\n",
       "      <td>2020-03-24 23:56:51.0</td>\n",
       "      <td>@THEChrisKessell New CEO compensation will be ...</td>\n",
       "      <td>http://twitter.com/tapernoux1/statuses/1242601...</td>\n",
       "      <td>en</td>\n",
       "      <td>tapernoux1</td>\n",
       "      <td>https://audiences.brandwatch.com/api/audiences...</td>\n",
       "      <td>NaN</td>\n",
       "      <td>False</td>\n",
       "      <td>Minneapolis</td>\n",
       "      <td>NaN</td>\n",
       "      <td>...</td>\n",
       "      <td>369</td>\n",
       "      <td>0</td>\n",
       "      <td>http://twitter.com/THEChrisKessell/statuses/12...</td>\n",
       "      <td>NaN</td>\n",
       "      <td>0</td>\n",
       "      <td>686</td>\n",
       "      <td>False</td>\n",
       "      <td>2020-10-05T16:39:24.577+0000</td>\n",
       "      <td>0</td>\n",
       "      <td>2020-03-24 23:56:51</td>\n",
       "    </tr>\n",
       "    <tr>\n",
       "      <th>10693</th>\n",
       "      <td>2020-03-24 23:56:31.0</td>\n",
       "      <td>@Tokyo2020 We’re all broke and jobless anyways...</td>\n",
       "      <td>http://twitter.com/Apsilon/statuses/1242601217...</td>\n",
       "      <td>en</td>\n",
       "      <td>Apsilon</td>\n",
       "      <td>https://audiences.brandwatch.com/api/audiences...</td>\n",
       "      <td>NaN</td>\n",
       "      <td>False</td>\n",
       "      <td>NaN</td>\n",
       "      <td>NaN</td>\n",
       "      <td>...</td>\n",
       "      <td>128</td>\n",
       "      <td>0</td>\n",
       "      <td>http://twitter.com/Tokyo2020/statuses/12424401...</td>\n",
       "      <td>NaN</td>\n",
       "      <td>0</td>\n",
       "      <td>999</td>\n",
       "      <td>False</td>\n",
       "      <td>2020-10-05T16:39:24.743+0000</td>\n",
       "      <td>0</td>\n",
       "      <td>2020-03-24 23:56:31</td>\n",
       "    </tr>\n",
       "    <tr>\n",
       "      <th>10694</th>\n",
       "      <td>2020-03-24 23:56:17.0</td>\n",
       "      <td>@KelseyLeFevour @Tokyo2020 https://t.co/46tMXO...</td>\n",
       "      <td>http://twitter.com/Morrsport/statuses/12426011...</td>\n",
       "      <td>de</td>\n",
       "      <td>Morrsport</td>\n",
       "      <td>https://audiences.brandwatch.com/api/audiences...</td>\n",
       "      <td>NaN</td>\n",
       "      <td>False</td>\n",
       "      <td>NaN</td>\n",
       "      <td>NaN</td>\n",
       "      <td>...</td>\n",
       "      <td>687</td>\n",
       "      <td>0</td>\n",
       "      <td>http://twitter.com/KelseyLeFevour/statuses/124...</td>\n",
       "      <td>NaN</td>\n",
       "      <td>0</td>\n",
       "      <td>5897</td>\n",
       "      <td>False</td>\n",
       "      <td>2020-10-05T16:39:24.737+0000</td>\n",
       "      <td>0</td>\n",
       "      <td>2020-03-24 23:56:17</td>\n",
       "    </tr>\n",
       "    <tr>\n",
       "      <th>10695</th>\n",
       "      <td>2020-03-24 23:56:17.0</td>\n",
       "      <td>@Tokyo2020 このニュースを聞いて、とても悲しいです、しかしこれは最も良い結果でしょう</td>\n",
       "      <td>http://twitter.com/jcl050709/statuses/12426011...</td>\n",
       "      <td>ja</td>\n",
       "      <td>jcl050709</td>\n",
       "      <td>https://audiences.brandwatch.com/api/audiences...</td>\n",
       "      <td>NaN</td>\n",
       "      <td>False</td>\n",
       "      <td>NaN</td>\n",
       "      <td>NaN</td>\n",
       "      <td>...</td>\n",
       "      <td>21</td>\n",
       "      <td>0</td>\n",
       "      <td>http://twitter.com/Tokyo2020/statuses/12424475...</td>\n",
       "      <td>NaN</td>\n",
       "      <td>0</td>\n",
       "      <td>4</td>\n",
       "      <td>False</td>\n",
       "      <td>2020-10-05T16:39:24.731+0000</td>\n",
       "      <td>0</td>\n",
       "      <td>2020-03-24 23:56:17</td>\n",
       "    </tr>\n",
       "  </tbody>\n",
       "</table>\n",
       "<p>5 rows × 42 columns</p>\n",
       "</div>"
      ],
      "text/plain": [
       "                        Date  \\\n",
       "10691  2020-03-24 23:57:18.0   \n",
       "10692  2020-03-24 23:56:51.0   \n",
       "10693  2020-03-24 23:56:31.0   \n",
       "10694  2020-03-24 23:56:17.0   \n",
       "10695  2020-03-24 23:56:17.0   \n",
       "\n",
       "                                                   Title  \\\n",
       "10691  BREAKING: Athletes who have already qualified ...   \n",
       "10692  @THEChrisKessell New CEO compensation will be ...   \n",
       "10693  @Tokyo2020 We’re all broke and jobless anyways...   \n",
       "10694  @KelseyLeFevour @Tokyo2020 https://t.co/46tMXO...   \n",
       "10695    @Tokyo2020 このニュースを聞いて、とても悲しいです、しかしこれは最も良い結果でしょう   \n",
       "\n",
       "                                                     Url Language  \\\n",
       "10691  http://twitter.com/julianlinden/statuses/12426...       en   \n",
       "10692  http://twitter.com/tapernoux1/statuses/1242601...       en   \n",
       "10693  http://twitter.com/Apsilon/statuses/1242601217...       en   \n",
       "10694  http://twitter.com/Morrsport/statuses/12426011...       de   \n",
       "10695  http://twitter.com/jcl050709/statuses/12426011...       ja   \n",
       "\n",
       "             Author                                             Avatar  \\\n",
       "10691  julianlinden  https://audiences.brandwatch.com/api/audiences...   \n",
       "10692    tapernoux1  https://audiences.brandwatch.com/api/audiences...   \n",
       "10693       Apsilon  https://audiences.brandwatch.com/api/audiences...   \n",
       "10694     Morrsport  https://audiences.brandwatch.com/api/audiences...   \n",
       "10695     jcl050709  https://audiences.brandwatch.com/api/audiences...   \n",
       "\n",
       "       Category Details  Checked         City  Display URLs  ...  \\\n",
       "10691               NaN    False       Sydney           NaN  ...   \n",
       "10692               NaN    False  Minneapolis           NaN  ...   \n",
       "10693               NaN    False          NaN           NaN  ...   \n",
       "10694               NaN    False          NaN           NaN  ...   \n",
       "10695               NaN    False          NaN           NaN  ...   \n",
       "\n",
       "      Twitter Following Twitter Reply Count  \\\n",
       "10691               990                   4   \n",
       "10692               369                   0   \n",
       "10693               128                   0   \n",
       "10694               687                   0   \n",
       "10695                21                   0   \n",
       "\n",
       "                                        Twitter Reply to Twitter Retweet of  \\\n",
       "10691                                                NaN                NaN   \n",
       "10692  http://twitter.com/THEChrisKessell/statuses/12...                NaN   \n",
       "10693  http://twitter.com/Tokyo2020/statuses/12424401...                NaN   \n",
       "10694  http://twitter.com/KelseyLeFevour/statuses/124...                NaN   \n",
       "10695  http://twitter.com/Tokyo2020/statuses/12424475...                NaN   \n",
       "\n",
       "      Twitter Retweets  Twitter Tweets  Twitter Verified  \\\n",
       "10691               19             985              True   \n",
       "10692                0             686             False   \n",
       "10693                0             999             False   \n",
       "10694                0            5897             False   \n",
       "10695                0               4             False   \n",
       "\n",
       "                            Updated Reach (new)           datetimes  \n",
       "10691  2020-10-05T16:39:24.782+0000       12983 2020-03-24 23:57:18  \n",
       "10692  2020-10-05T16:39:24.577+0000           0 2020-03-24 23:56:51  \n",
       "10693  2020-10-05T16:39:24.743+0000           0 2020-03-24 23:56:31  \n",
       "10694  2020-10-05T16:39:24.737+0000           0 2020-03-24 23:56:17  \n",
       "10695  2020-10-05T16:39:24.731+0000           0 2020-03-24 23:56:17  \n",
       "\n",
       "[5 rows x 42 columns]"
      ]
     },
     "execution_count": 18,
     "metadata": {},
     "output_type": "execute_result"
    }
   ],
   "source": [
    "print(len(tweets_from_March_24.index))\n",
    "tweets_from_March_24.head()"
   ]
  }
 ],
 "metadata": {
  "kernelspec": {
   "display_name": "Python 3 (ipykernel)",
   "language": "python",
   "name": "python3"
  },
  "language_info": {
   "codemirror_mode": {
    "name": "ipython",
    "version": 3
   },
   "file_extension": ".py",
   "mimetype": "text/x-python",
   "name": "python",
   "nbconvert_exporter": "python",
   "pygments_lexer": "ipython3",
   "version": "3.9.6"
  }
 },
 "nbformat": 4,
 "nbformat_minor": 5
}
