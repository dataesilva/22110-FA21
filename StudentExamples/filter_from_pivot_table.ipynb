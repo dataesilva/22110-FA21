{
 "cells": [
  {
   "cell_type": "markdown",
   "id": "03c016c2",
   "metadata": {},
   "source": [
    "##### First few cells are just replicating the project started by [Amber, found on her GitHub account](https://github.com/amber-cocch/DataInEMATfall2021/blob/main/Draft%20of%20Final.ipynb)."
   ]
  },
  {
   "cell_type": "code",
   "execution_count": 1,
   "id": "bd738ec3",
   "metadata": {},
   "outputs": [],
   "source": [
    "import pandas as pd\n",
    "from bs4 import BeautifulSoup as bs\n",
    "import requests\n",
    "from matplotlib import pyplot as plt\n",
    "import numpy as np\n",
    "from scipy import stats"
   ]
  },
  {
   "cell_type": "code",
   "execution_count": 2,
   "id": "582b2ce1",
   "metadata": {},
   "outputs": [],
   "source": [
    "page = requests.request(\"GET\", 'https://archiveofourown.org/tags/Voltron:%20Legendary%20Defender/works?commit=Sort+and+Filter&exclude_work_search%5Brating_ids%5D%5B%5D=13&page=1&utf8=%E2%9C%93&work_search%5Bcomplete%5D=&work_search%5Bcrossover%5D=&work_search%5Bdate_from%5D=&work_search%5Bdate_to%5D=&work_search%5Bexcluded_tag_names%5D=&work_search%5Blanguage_id%5D=&work_search%5Bother_tag_names%5D=Fix-It&work_search%5Bquery%5D=&work_search%5Bsort_column%5D=revised_at&work_search%5Bwords_from%5D=&work_search%5Bwords_to%5D=')"
   ]
  },
  {
   "cell_type": "code",
   "execution_count": 3,
   "id": "94768f5d",
   "metadata": {},
   "outputs": [
    {
     "data": {
      "text/plain": [
       "<Response [200]>"
      ]
     },
     "execution_count": 3,
     "metadata": {},
     "output_type": "execute_result"
    }
   ],
   "source": [
    "page"
   ]
  },
  {
   "cell_type": "code",
   "execution_count": 4,
   "id": "02e00426",
   "metadata": {},
   "outputs": [],
   "source": [
    "soup = bs(page.text, \"html.parser\")"
   ]
  },
  {
   "cell_type": "code",
   "execution_count": 5,
   "id": "bc03bea7",
   "metadata": {},
   "outputs": [],
   "source": [
    "tags = soup.find_all('a', class_='tag')"
   ]
  },
  {
   "cell_type": "code",
   "execution_count": 6,
   "id": "ad23942f",
   "metadata": {},
   "outputs": [],
   "source": [
    "tagList = [x.text for x in soup.find_all('a', class_='tag')]"
   ]
  },
  {
   "cell_type": "code",
   "execution_count": 7,
   "id": "c89718fe",
   "metadata": {},
   "outputs": [],
   "source": [
    "def getTags(showName, df, getPages):\n",
    "    pageNum = 1\n",
    "    x = 0\n",
    "    showNameParse = showName.split()\n",
    "    showNameAddSpace = \"\"\n",
    "    for word in showNameParse:\n",
    "        showNameAddSpace = showNameAddSpace + showNameParse[x] + \"%20\"\n",
    "        x += 1\n",
    "    #print(showNameAddSpace)\n",
    "    temp_df = pd.DataFrame()\n",
    "    while pageNum < getPages:\n",
    "        page = requests.request(\"GET\", \"https://archiveofourown.org/tags/\" + showNameAddSpace + \"/works?commit=Sort+and+Filter&exclude_work_search%5Brating_ids%5D%5B%5D=13&page=\" + str(pageNum) + \"&utf8=%E2%9C%93&work_search%5Bcomplete%5D=&work_search%5Bcrossover%5D=&work_search%5Bdate_from%5D=&work_search%5Bdate_to%5D=&work_search%5Bexcluded_tag_names%5D=&work_search%5Blanguage_id%5D=&work_search%5Bother_tag_names%5D=Fix-It&work_search%5Bquery%5D=&work_search%5Bsort_column%5D=revised_at&work_search%5Bwords_from%5D=&work_search%5Bwords_to%5D=\")\n",
    "        soup = bs(page.text, \"html.parser\")\n",
    "        tagList = [x.text for x in soup.find_all('a', class_='tag')]\n",
    "        temp_df = temp_df.append(tagList, ignore_index=True)\n",
    "        pageNum += 1\n",
    "        for x in temp_df:\n",
    "            temp_df[\"Fandom\"] = showName\n",
    "    df = df.append(temp_df, ignore_index=True)\n",
    "    return df"
   ]
  },
  {
   "cell_type": "code",
   "execution_count": 9,
   "id": "10c3bf81",
   "metadata": {},
   "outputs": [],
   "source": [
    "tag_df = pd.DataFrame()\n",
    "final_tagList = getTags(\"Voltron: Legendary Defender\", tag_df, 5)\n",
    "final_tagList = getTags(\"Supernatural\", final_tagList, 5)\n",
    "final_tagList = getTags(\"Star Wars Sequel Trilogy\", final_tagList, 5)"
   ]
  },
  {
   "cell_type": "code",
   "execution_count": 10,
   "id": "06224383",
   "metadata": {},
   "outputs": [
    {
     "data": {
      "text/plain": [
       "0\n",
       "#DeanStudies                                                       1\n",
       "#ReleaseTheRianJohnsonCut                                          1\n",
       "(Very) gradual Finn/Poe                                            1\n",
       "(briefly) - Freeform                                               1\n",
       "(but not in the sexy way)                                          1\n",
       "                                                                  ..\n",
       "yell about your feelings its healthy                               1\n",
       "yes I know it's 2021 but I don't care this ship still slaps        1\n",
       "you can get the google chrome add on to put in your name though    1\n",
       "you're the reader                                                  1\n",
       "zethrid                                                            1\n",
       "Length: 3393, dtype: int64"
      ]
     },
     "execution_count": 10,
     "metadata": {},
     "output_type": "execute_result"
    }
   ],
   "source": [
    "final_tagList.pivot_table(columns=[0], aggfunc ='size')"
   ]
  },
  {
   "cell_type": "code",
   "execution_count": 11,
   "id": "e21c5ddb",
   "metadata": {},
   "outputs": [],
   "source": [
    "pivot_table_results = final_tagList.pivot_table(columns=[0], aggfunc ='size')"
   ]
  },
  {
   "cell_type": "code",
   "execution_count": 19,
   "id": "7cfda000",
   "metadata": {},
   "outputs": [
    {
     "data": {
      "text/plain": [
       "1"
      ]
     },
     "execution_count": 19,
     "metadata": {},
     "output_type": "execute_result"
    }
   ],
   "source": [
    "pivot_table_results[0]"
   ]
  },
  {
   "cell_type": "code",
   "execution_count": 20,
   "id": "c32d89f7",
   "metadata": {},
   "outputs": [
    {
     "data": {
      "text/plain": [
       "0\n",
       "#DeanStudies                                  1\n",
       "#ReleaseTheRianJohnsonCut                     1\n",
       "(Very) gradual Finn/Poe                       1\n",
       "(briefly) - Freeform                          1\n",
       "(but not in the sexy way)                     1\n",
       "(otra vez)                                    1\n",
       "(there is eventual sex though)                1\n",
       "(though not as prevalent as the first fic)    1\n",
       "10 Plagues                                    1\n",
       "15x20 does not exist                          1\n",
       "dtype: int64"
      ]
     },
     "execution_count": 20,
     "metadata": {},
     "output_type": "execute_result"
    }
   ],
   "source": [
    "pivot_table_results[0:10]"
   ]
  },
  {
   "cell_type": "code",
   "execution_count": 21,
   "id": "c6e1505e",
   "metadata": {},
   "outputs": [
    {
     "data": {
      "text/plain": [
       "Index(['#DeanStudies', '#ReleaseTheRianJohnsonCut', '(Very) gradual Finn/Poe',\n",
       "       '(briefly) - Freeform', '(but not in the sexy way)', '(otra vez)',\n",
       "       '(there is eventual sex though)',\n",
       "       '(though not as prevalent as the first fic)', '10 Plagues',\n",
       "       '15x20 does not exist'],\n",
       "      dtype='object', name=0)"
      ]
     },
     "execution_count": 21,
     "metadata": {},
     "output_type": "execute_result"
    }
   ],
   "source": [
    "pivot_table_results.index[0:10]"
   ]
  },
  {
   "cell_type": "code",
   "execution_count": 22,
   "id": "3c05cfb7",
   "metadata": {},
   "outputs": [
    {
     "data": {
      "text/plain": [
       "0\n",
       "#DeanStudies                                                       False\n",
       "#ReleaseTheRianJohnsonCut                                          False\n",
       "(Very) gradual Finn/Poe                                            False\n",
       "(briefly) - Freeform                                               False\n",
       "(but not in the sexy way)                                          False\n",
       "                                                                   ...  \n",
       "yell about your feelings its healthy                               False\n",
       "yes I know it's 2021 but I don't care this ship still slaps        False\n",
       "you can get the google chrome add on to put in your name though    False\n",
       "you're the reader                                                  False\n",
       "zethrid                                                            False\n",
       "Length: 3393, dtype: bool"
      ]
     },
     "execution_count": 22,
     "metadata": {},
     "output_type": "execute_result"
    }
   ],
   "source": [
    "pivot_table_results > 1"
   ]
  },
  {
   "cell_type": "code",
   "execution_count": 23,
   "id": "5330c984",
   "metadata": {},
   "outputs": [
    {
     "data": {
      "text/plain": [
       "0\n",
       "AU                         3\n",
       "Abusive John Winchester    3\n",
       "Action/Adventure           4\n",
       "Acxa (Voltron)             3\n",
       "Acxa/Veronica (Voltron)    2\n",
       "                          ..\n",
       "adashi                     2\n",
       "eventually                 3\n",
       "klance                     6\n",
       "klangst                    3\n",
       "no beta we die like men    3\n",
       "Length: 783, dtype: int64"
      ]
     },
     "execution_count": 23,
     "metadata": {},
     "output_type": "execute_result"
    }
   ],
   "source": [
    "pivot_table_results[pivot_table_results > 1]"
   ]
  }
 ],
 "metadata": {
  "kernelspec": {
   "display_name": "Python 3 (ipykernel)",
   "language": "python",
   "name": "python3"
  },
  "language_info": {
   "codemirror_mode": {
    "name": "ipython",
    "version": 3
   },
   "file_extension": ".py",
   "mimetype": "text/x-python",
   "name": "python",
   "nbconvert_exporter": "python",
   "pygments_lexer": "ipython3",
   "version": "3.9.6"
  }
 },
 "nbformat": 4,
 "nbformat_minor": 5
}
