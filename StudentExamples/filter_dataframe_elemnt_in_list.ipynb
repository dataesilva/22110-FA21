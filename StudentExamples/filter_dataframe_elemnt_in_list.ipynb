{
 "cells": [
  {
   "cell_type": "code",
   "execution_count": 1,
   "id": "d38ea61d",
   "metadata": {},
   "outputs": [],
   "source": [
    "import pandas as pd"
   ]
  },
  {
   "cell_type": "code",
   "execution_count": 2,
   "id": "f8c9104f",
   "metadata": {},
   "outputs": [
    {
     "data": {
      "text/html": [
       "<div>\n",
       "<style scoped>\n",
       "    .dataframe tbody tr th:only-of-type {\n",
       "        vertical-align: middle;\n",
       "    }\n",
       "\n",
       "    .dataframe tbody tr th {\n",
       "        vertical-align: top;\n",
       "    }\n",
       "\n",
       "    .dataframe thead th {\n",
       "        text-align: right;\n",
       "    }\n",
       "</style>\n",
       "<table border=\"1\" class=\"dataframe\">\n",
       "  <thead>\n",
       "    <tr style=\"text-align: right;\">\n",
       "      <th></th>\n",
       "      <th>movies</th>\n",
       "      <th>countries</th>\n",
       "    </tr>\n",
       "  </thead>\n",
       "  <tbody>\n",
       "    <tr>\n",
       "      <th>0</th>\n",
       "      <td>m1</td>\n",
       "      <td>Thailand</td>\n",
       "    </tr>\n",
       "    <tr>\n",
       "      <th>1</th>\n",
       "      <td>m2</td>\n",
       "      <td>Canada</td>\n",
       "    </tr>\n",
       "    <tr>\n",
       "      <th>2</th>\n",
       "      <td>m3</td>\n",
       "      <td>Belgium,Netherlands</td>\n",
       "    </tr>\n",
       "    <tr>\n",
       "      <th>3</th>\n",
       "      <td>m4</td>\n",
       "      <td>Lith,Poland,France,US,Spain</td>\n",
       "    </tr>\n",
       "    <tr>\n",
       "      <th>4</th>\n",
       "      <td>m5</td>\n",
       "      <td>US</td>\n",
       "    </tr>\n",
       "  </tbody>\n",
       "</table>\n",
       "</div>"
      ],
      "text/plain": [
       "  movies                    countries\n",
       "0     m1                     Thailand\n",
       "1     m2                       Canada\n",
       "2     m3          Belgium,Netherlands\n",
       "3     m4  Lith,Poland,France,US,Spain\n",
       "4     m5                           US"
      ]
     },
     "execution_count": 2,
     "metadata": {},
     "output_type": "execute_result"
    }
   ],
   "source": [
    "comma_sep_items = ['Thailand', 'Canada', 'Belgium,Netherlands', 'Lith,Poland,France,US,Spain', 'US']\n",
    "movies = pd.DataFrame({'movies': ['m1', 'm2', 'm3', 'm4', 'm5'], 'countries': comma_sep_items})\n",
    "movies"
   ]
  },
  {
   "cell_type": "code",
   "execution_count": 3,
   "id": "8c087ff5",
   "metadata": {},
   "outputs": [],
   "source": [
    "movies['countries lists'] = [x.split(\",\") for x in movies['countries']]"
   ]
  },
  {
   "cell_type": "code",
   "execution_count": 4,
   "id": "feea90ec",
   "metadata": {},
   "outputs": [
    {
     "data": {
      "text/html": [
       "<div>\n",
       "<style scoped>\n",
       "    .dataframe tbody tr th:only-of-type {\n",
       "        vertical-align: middle;\n",
       "    }\n",
       "\n",
       "    .dataframe tbody tr th {\n",
       "        vertical-align: top;\n",
       "    }\n",
       "\n",
       "    .dataframe thead th {\n",
       "        text-align: right;\n",
       "    }\n",
       "</style>\n",
       "<table border=\"1\" class=\"dataframe\">\n",
       "  <thead>\n",
       "    <tr style=\"text-align: right;\">\n",
       "      <th></th>\n",
       "      <th>movies</th>\n",
       "      <th>countries</th>\n",
       "      <th>countries lists</th>\n",
       "    </tr>\n",
       "  </thead>\n",
       "  <tbody>\n",
       "    <tr>\n",
       "      <th>0</th>\n",
       "      <td>m1</td>\n",
       "      <td>Thailand</td>\n",
       "      <td>[Thailand]</td>\n",
       "    </tr>\n",
       "    <tr>\n",
       "      <th>1</th>\n",
       "      <td>m2</td>\n",
       "      <td>Canada</td>\n",
       "      <td>[Canada]</td>\n",
       "    </tr>\n",
       "    <tr>\n",
       "      <th>2</th>\n",
       "      <td>m3</td>\n",
       "      <td>Belgium,Netherlands</td>\n",
       "      <td>[Belgium, Netherlands]</td>\n",
       "    </tr>\n",
       "    <tr>\n",
       "      <th>3</th>\n",
       "      <td>m4</td>\n",
       "      <td>Lith,Poland,France,US,Spain</td>\n",
       "      <td>[Lith, Poland, France, US, Spain]</td>\n",
       "    </tr>\n",
       "    <tr>\n",
       "      <th>4</th>\n",
       "      <td>m5</td>\n",
       "      <td>US</td>\n",
       "      <td>[US]</td>\n",
       "    </tr>\n",
       "  </tbody>\n",
       "</table>\n",
       "</div>"
      ],
      "text/plain": [
       "  movies                    countries                    countries lists\n",
       "0     m1                     Thailand                         [Thailand]\n",
       "1     m2                       Canada                           [Canada]\n",
       "2     m3          Belgium,Netherlands             [Belgium, Netherlands]\n",
       "3     m4  Lith,Poland,France,US,Spain  [Lith, Poland, France, US, Spain]\n",
       "4     m5                           US                               [US]"
      ]
     },
     "execution_count": 4,
     "metadata": {},
     "output_type": "execute_result"
    }
   ],
   "source": [
    "movies"
   ]
  },
  {
   "cell_type": "code",
   "execution_count": 5,
   "id": "5edbfd1b",
   "metadata": {},
   "outputs": [
    {
     "data": {
      "text/plain": [
       "[['Lith', 'Poland', 'France', 'US', 'Spain'], ['US']]"
      ]
     },
     "execution_count": 5,
     "metadata": {},
     "output_type": "execute_result"
    }
   ],
   "source": [
    "[x for x in movies['countries lists'] if 'US' in x]"
   ]
  },
  {
   "cell_type": "code",
   "execution_count": 6,
   "id": "142fc645",
   "metadata": {},
   "outputs": [],
   "source": [
    "movies['is_available_in_US'] = [True if 'US' in x else False for x in movies['countries lists']]"
   ]
  },
  {
   "cell_type": "code",
   "execution_count": 7,
   "id": "e4fb3d68",
   "metadata": {},
   "outputs": [
    {
     "data": {
      "text/html": [
       "<div>\n",
       "<style scoped>\n",
       "    .dataframe tbody tr th:only-of-type {\n",
       "        vertical-align: middle;\n",
       "    }\n",
       "\n",
       "    .dataframe tbody tr th {\n",
       "        vertical-align: top;\n",
       "    }\n",
       "\n",
       "    .dataframe thead th {\n",
       "        text-align: right;\n",
       "    }\n",
       "</style>\n",
       "<table border=\"1\" class=\"dataframe\">\n",
       "  <thead>\n",
       "    <tr style=\"text-align: right;\">\n",
       "      <th></th>\n",
       "      <th>movies</th>\n",
       "      <th>countries</th>\n",
       "      <th>countries lists</th>\n",
       "      <th>is_available_in_US</th>\n",
       "    </tr>\n",
       "  </thead>\n",
       "  <tbody>\n",
       "    <tr>\n",
       "      <th>0</th>\n",
       "      <td>m1</td>\n",
       "      <td>Thailand</td>\n",
       "      <td>[Thailand]</td>\n",
       "      <td>False</td>\n",
       "    </tr>\n",
       "    <tr>\n",
       "      <th>1</th>\n",
       "      <td>m2</td>\n",
       "      <td>Canada</td>\n",
       "      <td>[Canada]</td>\n",
       "      <td>False</td>\n",
       "    </tr>\n",
       "    <tr>\n",
       "      <th>2</th>\n",
       "      <td>m3</td>\n",
       "      <td>Belgium,Netherlands</td>\n",
       "      <td>[Belgium, Netherlands]</td>\n",
       "      <td>False</td>\n",
       "    </tr>\n",
       "    <tr>\n",
       "      <th>3</th>\n",
       "      <td>m4</td>\n",
       "      <td>Lith,Poland,France,US,Spain</td>\n",
       "      <td>[Lith, Poland, France, US, Spain]</td>\n",
       "      <td>True</td>\n",
       "    </tr>\n",
       "    <tr>\n",
       "      <th>4</th>\n",
       "      <td>m5</td>\n",
       "      <td>US</td>\n",
       "      <td>[US]</td>\n",
       "      <td>True</td>\n",
       "    </tr>\n",
       "  </tbody>\n",
       "</table>\n",
       "</div>"
      ],
      "text/plain": [
       "  movies                    countries                    countries lists  \\\n",
       "0     m1                     Thailand                         [Thailand]   \n",
       "1     m2                       Canada                           [Canada]   \n",
       "2     m3          Belgium,Netherlands             [Belgium, Netherlands]   \n",
       "3     m4  Lith,Poland,France,US,Spain  [Lith, Poland, France, US, Spain]   \n",
       "4     m5                           US                               [US]   \n",
       "\n",
       "   is_available_in_US  \n",
       "0               False  \n",
       "1               False  \n",
       "2               False  \n",
       "3                True  \n",
       "4                True  "
      ]
     },
     "execution_count": 7,
     "metadata": {},
     "output_type": "execute_result"
    }
   ],
   "source": [
    "movies"
   ]
  },
  {
   "cell_type": "code",
   "execution_count": 8,
   "id": "406e112f",
   "metadata": {},
   "outputs": [],
   "source": [
    "movies_in_US = movies[movies['is_available_in_US'] == True]"
   ]
  },
  {
   "cell_type": "code",
   "execution_count": 9,
   "id": "049677ce",
   "metadata": {},
   "outputs": [
    {
     "data": {
      "text/html": [
       "<div>\n",
       "<style scoped>\n",
       "    .dataframe tbody tr th:only-of-type {\n",
       "        vertical-align: middle;\n",
       "    }\n",
       "\n",
       "    .dataframe tbody tr th {\n",
       "        vertical-align: top;\n",
       "    }\n",
       "\n",
       "    .dataframe thead th {\n",
       "        text-align: right;\n",
       "    }\n",
       "</style>\n",
       "<table border=\"1\" class=\"dataframe\">\n",
       "  <thead>\n",
       "    <tr style=\"text-align: right;\">\n",
       "      <th></th>\n",
       "      <th>movies</th>\n",
       "      <th>countries</th>\n",
       "      <th>countries lists</th>\n",
       "      <th>is_available_in_US</th>\n",
       "    </tr>\n",
       "  </thead>\n",
       "  <tbody>\n",
       "    <tr>\n",
       "      <th>3</th>\n",
       "      <td>m4</td>\n",
       "      <td>Lith,Poland,France,US,Spain</td>\n",
       "      <td>[Lith, Poland, France, US, Spain]</td>\n",
       "      <td>True</td>\n",
       "    </tr>\n",
       "    <tr>\n",
       "      <th>4</th>\n",
       "      <td>m5</td>\n",
       "      <td>US</td>\n",
       "      <td>[US]</td>\n",
       "      <td>True</td>\n",
       "    </tr>\n",
       "  </tbody>\n",
       "</table>\n",
       "</div>"
      ],
      "text/plain": [
       "  movies                    countries                    countries lists  \\\n",
       "3     m4  Lith,Poland,France,US,Spain  [Lith, Poland, France, US, Spain]   \n",
       "4     m5                           US                               [US]   \n",
       "\n",
       "   is_available_in_US  \n",
       "3                True  \n",
       "4                True  "
      ]
     },
     "execution_count": 9,
     "metadata": {},
     "output_type": "execute_result"
    }
   ],
   "source": [
    "movies_in_US"
   ]
  }
 ],
 "metadata": {
  "kernelspec": {
   "display_name": "Python 3 (ipykernel)",
   "language": "python",
   "name": "python3"
  },
  "language_info": {
   "codemirror_mode": {
    "name": "ipython",
    "version": 3
   },
   "file_extension": ".py",
   "mimetype": "text/x-python",
   "name": "python",
   "nbconvert_exporter": "python",
   "pygments_lexer": "ipython3",
   "version": "3.9.6"
  }
 },
 "nbformat": 4,
 "nbformat_minor": 5
}
